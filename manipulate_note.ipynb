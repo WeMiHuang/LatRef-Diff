{
 "cells": [
  {
   "cell_type": "code",
   "execution_count": 3,
   "metadata": {},
   "outputs": [],
   "source": [
    "from templates import *\n",
    "from templates_cls import *\n",
    "from experiment_classifier import ClsModel\n",
    "\n",
    "import matplotlib.pyplot as plt\n"
   ]
  },
  {
   "cell_type": "code",
   "execution_count": 2,
   "metadata": {},
   "outputs": [],
   "source": [
    "def show_images(images, cols = 1, titles = None, apply_convert=False):\n",
    "    if apply_convert: images = [convert(img) for img in images]\n",
    "    assert((titles is None)or (len(images) == len(titles)))\n",
    "    n_images = len(images)\n",
    "    if titles is None: titles = ['Image (%d)' % i for i in range(1,n_images + 1)]\n",
    "    fig = plt.figure()\n",
    "    for n, (image, title) in enumerate(zip(images, titles)):\n",
    "        a = fig.add_subplot(cols, int(np.ceil(n_images/float(cols))), n + 1)\n",
    "        if image.ndim == 2:\n",
    "            plt.gray()\n",
    "        plt.imshow(image)\n",
    "        a.set_title(title)\n",
    "    fig.set_size_inches(np.array(fig.get_size_inches()) * n_images*2)\n",
    "    plt.show()\n",
    "    \n"
   ]
  },
  {
   "cell_type": "markdown",
   "metadata": {},
   "source": [
    "<h3> Model configuaration </h3>"
   ]
  },
  {
   "cell_type": "code",
   "execution_count": 4,
   "metadata": {},
   "outputs": [],
   "source": [
    "device = 'cuda:3'\n",
    "img_resolution = 256   # img output's resolution;  we have provided 128 and 256 pretrained models; you may train our model with your own preference, the training script is also provided.\n",
    "T_step = 100  # number of steps for DDPM [0,1000]\n",
    "\n",
    "model_config = ffhq256_autoenc() if img_resolution == 256 else  ffhq128_autoenc()\n",
    "model_config.T_eval = T_step"
   ]
  },
  {
   "cell_type": "markdown",
   "metadata": {},
   "source": [
    "<h3> Model initialization </h3>"
   ]
  },
  {
   "cell_type": "code",
   "execution_count": 5,
   "metadata": {},
   "outputs": [
    {
     "name": "stderr",
     "output_type": "stream",
     "text": [
      "Global seed set to 0\n"
     ]
    },
    {
     "name": "stdout",
     "output_type": "stream",
     "text": [
      "Model params: 160.69 M\n"
     ]
    },
    {
     "data": {
      "text/plain": [
       "BeatGANsAutoencModel(\n",
       "  (time_embed): TimeStyleSeperateEmbed(\n",
       "    (time_embed): Sequential(\n",
       "      (0): Linear(in_features=128, out_features=512, bias=True)\n",
       "      (1): SiLU()\n",
       "      (2): Linear(in_features=512, out_features=512, bias=True)\n",
       "    )\n",
       "    (style): Identity()\n",
       "  )\n",
       "  (input_blocks): ModuleList(\n",
       "    (0): TimestepEmbedSequential(\n",
       "      (0): Conv2d(3, 128, kernel_size=(3, 3), stride=(1, 1), padding=(1, 1))\n",
       "    )\n",
       "    (1): TimestepEmbedSequential(\n",
       "      (0): ResBlock(\n",
       "        (in_layers): Sequential(\n",
       "          (0): GroupNorm32(32, 128, eps=1e-05, affine=True)\n",
       "          (1): SiLU()\n",
       "          (2): Conv2d(128, 128, kernel_size=(3, 3), stride=(1, 1), padding=(1, 1))\n",
       "        )\n",
       "        (h_upd): Identity()\n",
       "        (x_upd): Identity()\n",
       "        (emb_layers): Sequential(\n",
       "          (0): SiLU()\n",
       "          (1): Linear(in_features=512, out_features=256, bias=True)\n",
       "        )\n",
       "        (cond_emb_layers): Sequential(\n",
       "          (0): SiLU()\n",
       "          (1): Linear(in_features=512, out_features=128, bias=True)\n",
       "        )\n",
       "        (out_layers): Sequential(\n",
       "          (0): GroupNorm32(32, 128, eps=1e-05, affine=True)\n",
       "          (1): SiLU()\n",
       "          (2): Dropout(p=0.1, inplace=False)\n",
       "          (3): Conv2d(128, 128, kernel_size=(3, 3), stride=(1, 1), padding=(1, 1))\n",
       "        )\n",
       "        (skip_connection): Identity()\n",
       "      )\n",
       "    )\n",
       "    (2): TimestepEmbedSequential(\n",
       "      (0): ResBlock(\n",
       "        (in_layers): Sequential(\n",
       "          (0): GroupNorm32(32, 128, eps=1e-05, affine=True)\n",
       "          (1): SiLU()\n",
       "          (2): Conv2d(128, 128, kernel_size=(3, 3), stride=(1, 1), padding=(1, 1))\n",
       "        )\n",
       "        (h_upd): Identity()\n",
       "        (x_upd): Identity()\n",
       "        (emb_layers): Sequential(\n",
       "          (0): SiLU()\n",
       "          (1): Linear(in_features=512, out_features=256, bias=True)\n",
       "        )\n",
       "        (cond_emb_layers): Sequential(\n",
       "          (0): SiLU()\n",
       "          (1): Linear(in_features=512, out_features=128, bias=True)\n",
       "        )\n",
       "        (out_layers): Sequential(\n",
       "          (0): GroupNorm32(32, 128, eps=1e-05, affine=True)\n",
       "          (1): SiLU()\n",
       "          (2): Dropout(p=0.1, inplace=False)\n",
       "          (3): Conv2d(128, 128, kernel_size=(3, 3), stride=(1, 1), padding=(1, 1))\n",
       "        )\n",
       "        (skip_connection): Identity()\n",
       "      )\n",
       "    )\n",
       "    (3): TimestepEmbedSequential(\n",
       "      (0): ResBlock(\n",
       "        (in_layers): Sequential(\n",
       "          (0): GroupNorm32(32, 128, eps=1e-05, affine=True)\n",
       "          (1): SiLU()\n",
       "          (2): Conv2d(128, 128, kernel_size=(3, 3), stride=(1, 1), padding=(1, 1))\n",
       "        )\n",
       "        (h_upd): Downsample(\n",
       "          (op): AvgPool2d(kernel_size=2, stride=2, padding=0)\n",
       "        )\n",
       "        (x_upd): Downsample(\n",
       "          (op): AvgPool2d(kernel_size=2, stride=2, padding=0)\n",
       "        )\n",
       "        (emb_layers): Sequential(\n",
       "          (0): SiLU()\n",
       "          (1): Linear(in_features=512, out_features=256, bias=True)\n",
       "        )\n",
       "        (cond_emb_layers): Sequential(\n",
       "          (0): SiLU()\n",
       "          (1): Linear(in_features=512, out_features=128, bias=True)\n",
       "        )\n",
       "        (out_layers): Sequential(\n",
       "          (0): GroupNorm32(32, 128, eps=1e-05, affine=True)\n",
       "          (1): SiLU()\n",
       "          (2): Dropout(p=0.1, inplace=False)\n",
       "          (3): Conv2d(128, 128, kernel_size=(3, 3), stride=(1, 1), padding=(1, 1))\n",
       "        )\n",
       "        (skip_connection): Identity()\n",
       "      )\n",
       "    )\n",
       "    (4): TimestepEmbedSequential(\n",
       "      (0): ResBlock(\n",
       "        (in_layers): Sequential(\n",
       "          (0): GroupNorm32(32, 128, eps=1e-05, affine=True)\n",
       "          (1): SiLU()\n",
       "          (2): Conv2d(128, 128, kernel_size=(3, 3), stride=(1, 1), padding=(1, 1))\n",
       "        )\n",
       "        (h_upd): Identity()\n",
       "        (x_upd): Identity()\n",
       "        (emb_layers): Sequential(\n",
       "          (0): SiLU()\n",
       "          (1): Linear(in_features=512, out_features=256, bias=True)\n",
       "        )\n",
       "        (cond_emb_layers): Sequential(\n",
       "          (0): SiLU()\n",
       "          (1): Linear(in_features=512, out_features=128, bias=True)\n",
       "        )\n",
       "        (out_layers): Sequential(\n",
       "          (0): GroupNorm32(32, 128, eps=1e-05, affine=True)\n",
       "          (1): SiLU()\n",
       "          (2): Dropout(p=0.1, inplace=False)\n",
       "          (3): Conv2d(128, 128, kernel_size=(3, 3), stride=(1, 1), padding=(1, 1))\n",
       "        )\n",
       "        (skip_connection): Identity()\n",
       "      )\n",
       "    )\n",
       "    (5): TimestepEmbedSequential(\n",
       "      (0): ResBlock(\n",
       "        (in_layers): Sequential(\n",
       "          (0): GroupNorm32(32, 128, eps=1e-05, affine=True)\n",
       "          (1): SiLU()\n",
       "          (2): Conv2d(128, 128, kernel_size=(3, 3), stride=(1, 1), padding=(1, 1))\n",
       "        )\n",
       "        (h_upd): Identity()\n",
       "        (x_upd): Identity()\n",
       "        (emb_layers): Sequential(\n",
       "          (0): SiLU()\n",
       "          (1): Linear(in_features=512, out_features=256, bias=True)\n",
       "        )\n",
       "        (cond_emb_layers): Sequential(\n",
       "          (0): SiLU()\n",
       "          (1): Linear(in_features=512, out_features=128, bias=True)\n",
       "        )\n",
       "        (out_layers): Sequential(\n",
       "          (0): GroupNorm32(32, 128, eps=1e-05, affine=True)\n",
       "          (1): SiLU()\n",
       "          (2): Dropout(p=0.1, inplace=False)\n",
       "          (3): Conv2d(128, 128, kernel_size=(3, 3), stride=(1, 1), padding=(1, 1))\n",
       "        )\n",
       "        (skip_connection): Identity()\n",
       "      )\n",
       "    )\n",
       "    (6): TimestepEmbedSequential(\n",
       "      (0): ResBlock(\n",
       "        (in_layers): Sequential(\n",
       "          (0): GroupNorm32(32, 128, eps=1e-05, affine=True)\n",
       "          (1): SiLU()\n",
       "          (2): Conv2d(128, 128, kernel_size=(3, 3), stride=(1, 1), padding=(1, 1))\n",
       "        )\n",
       "        (h_upd): Downsample(\n",
       "          (op): AvgPool2d(kernel_size=2, stride=2, padding=0)\n",
       "        )\n",
       "        (x_upd): Downsample(\n",
       "          (op): AvgPool2d(kernel_size=2, stride=2, padding=0)\n",
       "        )\n",
       "        (emb_layers): Sequential(\n",
       "          (0): SiLU()\n",
       "          (1): Linear(in_features=512, out_features=256, bias=True)\n",
       "        )\n",
       "        (cond_emb_layers): Sequential(\n",
       "          (0): SiLU()\n",
       "          (1): Linear(in_features=512, out_features=128, bias=True)\n",
       "        )\n",
       "        (out_layers): Sequential(\n",
       "          (0): GroupNorm32(32, 128, eps=1e-05, affine=True)\n",
       "          (1): SiLU()\n",
       "          (2): Dropout(p=0.1, inplace=False)\n",
       "          (3): Conv2d(128, 128, kernel_size=(3, 3), stride=(1, 1), padding=(1, 1))\n",
       "        )\n",
       "        (skip_connection): Identity()\n",
       "      )\n",
       "    )\n",
       "    (7): TimestepEmbedSequential(\n",
       "      (0): ResBlock(\n",
       "        (in_layers): Sequential(\n",
       "          (0): GroupNorm32(32, 128, eps=1e-05, affine=True)\n",
       "          (1): SiLU()\n",
       "          (2): Conv2d(128, 256, kernel_size=(3, 3), stride=(1, 1), padding=(1, 1))\n",
       "        )\n",
       "        (h_upd): Identity()\n",
       "        (x_upd): Identity()\n",
       "        (emb_layers): Sequential(\n",
       "          (0): SiLU()\n",
       "          (1): Linear(in_features=512, out_features=512, bias=True)\n",
       "        )\n",
       "        (cond_emb_layers): Sequential(\n",
       "          (0): SiLU()\n",
       "          (1): Linear(in_features=512, out_features=256, bias=True)\n",
       "        )\n",
       "        (out_layers): Sequential(\n",
       "          (0): GroupNorm32(32, 256, eps=1e-05, affine=True)\n",
       "          (1): SiLU()\n",
       "          (2): Dropout(p=0.1, inplace=False)\n",
       "          (3): Conv2d(256, 256, kernel_size=(3, 3), stride=(1, 1), padding=(1, 1))\n",
       "        )\n",
       "        (skip_connection): Conv2d(128, 256, kernel_size=(1, 1), stride=(1, 1))\n",
       "      )\n",
       "    )\n",
       "    (8): TimestepEmbedSequential(\n",
       "      (0): ResBlock(\n",
       "        (in_layers): Sequential(\n",
       "          (0): GroupNorm32(32, 256, eps=1e-05, affine=True)\n",
       "          (1): SiLU()\n",
       "          (2): Conv2d(256, 256, kernel_size=(3, 3), stride=(1, 1), padding=(1, 1))\n",
       "        )\n",
       "        (h_upd): Identity()\n",
       "        (x_upd): Identity()\n",
       "        (emb_layers): Sequential(\n",
       "          (0): SiLU()\n",
       "          (1): Linear(in_features=512, out_features=512, bias=True)\n",
       "        )\n",
       "        (cond_emb_layers): Sequential(\n",
       "          (0): SiLU()\n",
       "          (1): Linear(in_features=512, out_features=256, bias=True)\n",
       "        )\n",
       "        (out_layers): Sequential(\n",
       "          (0): GroupNorm32(32, 256, eps=1e-05, affine=True)\n",
       "          (1): SiLU()\n",
       "          (2): Dropout(p=0.1, inplace=False)\n",
       "          (3): Conv2d(256, 256, kernel_size=(3, 3), stride=(1, 1), padding=(1, 1))\n",
       "        )\n",
       "        (skip_connection): Identity()\n",
       "      )\n",
       "    )\n",
       "    (9): TimestepEmbedSequential(\n",
       "      (0): ResBlock(\n",
       "        (in_layers): Sequential(\n",
       "          (0): GroupNorm32(32, 256, eps=1e-05, affine=True)\n",
       "          (1): SiLU()\n",
       "          (2): Conv2d(256, 256, kernel_size=(3, 3), stride=(1, 1), padding=(1, 1))\n",
       "        )\n",
       "        (h_upd): Downsample(\n",
       "          (op): AvgPool2d(kernel_size=2, stride=2, padding=0)\n",
       "        )\n",
       "        (x_upd): Downsample(\n",
       "          (op): AvgPool2d(kernel_size=2, stride=2, padding=0)\n",
       "        )\n",
       "        (emb_layers): Sequential(\n",
       "          (0): SiLU()\n",
       "          (1): Linear(in_features=512, out_features=512, bias=True)\n",
       "        )\n",
       "        (cond_emb_layers): Sequential(\n",
       "          (0): SiLU()\n",
       "          (1): Linear(in_features=512, out_features=256, bias=True)\n",
       "        )\n",
       "        (out_layers): Sequential(\n",
       "          (0): GroupNorm32(32, 256, eps=1e-05, affine=True)\n",
       "          (1): SiLU()\n",
       "          (2): Dropout(p=0.1, inplace=False)\n",
       "          (3): Conv2d(256, 256, kernel_size=(3, 3), stride=(1, 1), padding=(1, 1))\n",
       "        )\n",
       "        (skip_connection): Identity()\n",
       "      )\n",
       "    )\n",
       "    (10): TimestepEmbedSequential(\n",
       "      (0): ResBlock(\n",
       "        (in_layers): Sequential(\n",
       "          (0): GroupNorm32(32, 256, eps=1e-05, affine=True)\n",
       "          (1): SiLU()\n",
       "          (2): Conv2d(256, 256, kernel_size=(3, 3), stride=(1, 1), padding=(1, 1))\n",
       "        )\n",
       "        (h_upd): Identity()\n",
       "        (x_upd): Identity()\n",
       "        (emb_layers): Sequential(\n",
       "          (0): SiLU()\n",
       "          (1): Linear(in_features=512, out_features=512, bias=True)\n",
       "        )\n",
       "        (cond_emb_layers): Sequential(\n",
       "          (0): SiLU()\n",
       "          (1): Linear(in_features=512, out_features=256, bias=True)\n",
       "        )\n",
       "        (out_layers): Sequential(\n",
       "          (0): GroupNorm32(32, 256, eps=1e-05, affine=True)\n",
       "          (1): SiLU()\n",
       "          (2): Dropout(p=0.1, inplace=False)\n",
       "          (3): Conv2d(256, 256, kernel_size=(3, 3), stride=(1, 1), padding=(1, 1))\n",
       "        )\n",
       "        (skip_connection): Identity()\n",
       "      )\n",
       "    )\n",
       "    (11): TimestepEmbedSequential(\n",
       "      (0): ResBlock(\n",
       "        (in_layers): Sequential(\n",
       "          (0): GroupNorm32(32, 256, eps=1e-05, affine=True)\n",
       "          (1): SiLU()\n",
       "          (2): Conv2d(256, 256, kernel_size=(3, 3), stride=(1, 1), padding=(1, 1))\n",
       "        )\n",
       "        (h_upd): Identity()\n",
       "        (x_upd): Identity()\n",
       "        (emb_layers): Sequential(\n",
       "          (0): SiLU()\n",
       "          (1): Linear(in_features=512, out_features=512, bias=True)\n",
       "        )\n",
       "        (cond_emb_layers): Sequential(\n",
       "          (0): SiLU()\n",
       "          (1): Linear(in_features=512, out_features=256, bias=True)\n",
       "        )\n",
       "        (out_layers): Sequential(\n",
       "          (0): GroupNorm32(32, 256, eps=1e-05, affine=True)\n",
       "          (1): SiLU()\n",
       "          (2): Dropout(p=0.1, inplace=False)\n",
       "          (3): Conv2d(256, 256, kernel_size=(3, 3), stride=(1, 1), padding=(1, 1))\n",
       "        )\n",
       "        (skip_connection): Identity()\n",
       "      )\n",
       "    )\n",
       "    (12): TimestepEmbedSequential(\n",
       "      (0): ResBlock(\n",
       "        (in_layers): Sequential(\n",
       "          (0): GroupNorm32(32, 256, eps=1e-05, affine=True)\n",
       "          (1): SiLU()\n",
       "          (2): Conv2d(256, 256, kernel_size=(3, 3), stride=(1, 1), padding=(1, 1))\n",
       "        )\n",
       "        (h_upd): Downsample(\n",
       "          (op): AvgPool2d(kernel_size=2, stride=2, padding=0)\n",
       "        )\n",
       "        (x_upd): Downsample(\n",
       "          (op): AvgPool2d(kernel_size=2, stride=2, padding=0)\n",
       "        )\n",
       "        (emb_layers): Sequential(\n",
       "          (0): SiLU()\n",
       "          (1): Linear(in_features=512, out_features=512, bias=True)\n",
       "        )\n",
       "        (cond_emb_layers): Sequential(\n",
       "          (0): SiLU()\n",
       "          (1): Linear(in_features=512, out_features=256, bias=True)\n",
       "        )\n",
       "        (out_layers): Sequential(\n",
       "          (0): GroupNorm32(32, 256, eps=1e-05, affine=True)\n",
       "          (1): SiLU()\n",
       "          (2): Dropout(p=0.1, inplace=False)\n",
       "          (3): Conv2d(256, 256, kernel_size=(3, 3), stride=(1, 1), padding=(1, 1))\n",
       "        )\n",
       "        (skip_connection): Identity()\n",
       "      )\n",
       "    )\n",
       "    (13): TimestepEmbedSequential(\n",
       "      (0): ResBlock(\n",
       "        (in_layers): Sequential(\n",
       "          (0): GroupNorm32(32, 256, eps=1e-05, affine=True)\n",
       "          (1): SiLU()\n",
       "          (2): Conv2d(256, 512, kernel_size=(3, 3), stride=(1, 1), padding=(1, 1))\n",
       "        )\n",
       "        (h_upd): Identity()\n",
       "        (x_upd): Identity()\n",
       "        (emb_layers): Sequential(\n",
       "          (0): SiLU()\n",
       "          (1): Linear(in_features=512, out_features=1024, bias=True)\n",
       "        )\n",
       "        (cond_emb_layers): Sequential(\n",
       "          (0): SiLU()\n",
       "          (1): Linear(in_features=512, out_features=512, bias=True)\n",
       "        )\n",
       "        (out_layers): Sequential(\n",
       "          (0): GroupNorm32(32, 512, eps=1e-05, affine=True)\n",
       "          (1): SiLU()\n",
       "          (2): Dropout(p=0.1, inplace=False)\n",
       "          (3): Conv2d(512, 512, kernel_size=(3, 3), stride=(1, 1), padding=(1, 1))\n",
       "        )\n",
       "        (skip_connection): Conv2d(256, 512, kernel_size=(1, 1), stride=(1, 1))\n",
       "      )\n",
       "      (1): AttentionBlock(\n",
       "        (norm): GroupNorm32(32, 512, eps=1e-05, affine=True)\n",
       "        (qkv): Conv1d(512, 1536, kernel_size=(1,), stride=(1,))\n",
       "        (attention): QKVAttentionLegacy()\n",
       "        (proj_out): Conv1d(512, 512, kernel_size=(1,), stride=(1,))\n",
       "      )\n",
       "    )\n",
       "    (14): TimestepEmbedSequential(\n",
       "      (0): ResBlock(\n",
       "        (in_layers): Sequential(\n",
       "          (0): GroupNorm32(32, 512, eps=1e-05, affine=True)\n",
       "          (1): SiLU()\n",
       "          (2): Conv2d(512, 512, kernel_size=(3, 3), stride=(1, 1), padding=(1, 1))\n",
       "        )\n",
       "        (h_upd): Identity()\n",
       "        (x_upd): Identity()\n",
       "        (emb_layers): Sequential(\n",
       "          (0): SiLU()\n",
       "          (1): Linear(in_features=512, out_features=1024, bias=True)\n",
       "        )\n",
       "        (cond_emb_layers): Sequential(\n",
       "          (0): SiLU()\n",
       "          (1): Linear(in_features=512, out_features=512, bias=True)\n",
       "        )\n",
       "        (out_layers): Sequential(\n",
       "          (0): GroupNorm32(32, 512, eps=1e-05, affine=True)\n",
       "          (1): SiLU()\n",
       "          (2): Dropout(p=0.1, inplace=False)\n",
       "          (3): Conv2d(512, 512, kernel_size=(3, 3), stride=(1, 1), padding=(1, 1))\n",
       "        )\n",
       "        (skip_connection): Identity()\n",
       "      )\n",
       "      (1): AttentionBlock(\n",
       "        (norm): GroupNorm32(32, 512, eps=1e-05, affine=True)\n",
       "        (qkv): Conv1d(512, 1536, kernel_size=(1,), stride=(1,))\n",
       "        (attention): QKVAttentionLegacy()\n",
       "        (proj_out): Conv1d(512, 512, kernel_size=(1,), stride=(1,))\n",
       "      )\n",
       "    )\n",
       "    (15): TimestepEmbedSequential(\n",
       "      (0): ResBlock(\n",
       "        (in_layers): Sequential(\n",
       "          (0): GroupNorm32(32, 512, eps=1e-05, affine=True)\n",
       "          (1): SiLU()\n",
       "          (2): Conv2d(512, 512, kernel_size=(3, 3), stride=(1, 1), padding=(1, 1))\n",
       "        )\n",
       "        (h_upd): Downsample(\n",
       "          (op): AvgPool2d(kernel_size=2, stride=2, padding=0)\n",
       "        )\n",
       "        (x_upd): Downsample(\n",
       "          (op): AvgPool2d(kernel_size=2, stride=2, padding=0)\n",
       "        )\n",
       "        (emb_layers): Sequential(\n",
       "          (0): SiLU()\n",
       "          (1): Linear(in_features=512, out_features=1024, bias=True)\n",
       "        )\n",
       "        (cond_emb_layers): Sequential(\n",
       "          (0): SiLU()\n",
       "          (1): Linear(in_features=512, out_features=512, bias=True)\n",
       "        )\n",
       "        (out_layers): Sequential(\n",
       "          (0): GroupNorm32(32, 512, eps=1e-05, affine=True)\n",
       "          (1): SiLU()\n",
       "          (2): Dropout(p=0.1, inplace=False)\n",
       "          (3): Conv2d(512, 512, kernel_size=(3, 3), stride=(1, 1), padding=(1, 1))\n",
       "        )\n",
       "        (skip_connection): Identity()\n",
       "      )\n",
       "    )\n",
       "    (16): TimestepEmbedSequential(\n",
       "      (0): ResBlock(\n",
       "        (in_layers): Sequential(\n",
       "          (0): GroupNorm32(32, 512, eps=1e-05, affine=True)\n",
       "          (1): SiLU()\n",
       "          (2): Conv2d(512, 512, kernel_size=(3, 3), stride=(1, 1), padding=(1, 1))\n",
       "        )\n",
       "        (h_upd): Identity()\n",
       "        (x_upd): Identity()\n",
       "        (emb_layers): Sequential(\n",
       "          (0): SiLU()\n",
       "          (1): Linear(in_features=512, out_features=1024, bias=True)\n",
       "        )\n",
       "        (cond_emb_layers): Sequential(\n",
       "          (0): SiLU()\n",
       "          (1): Linear(in_features=512, out_features=512, bias=True)\n",
       "        )\n",
       "        (out_layers): Sequential(\n",
       "          (0): GroupNorm32(32, 512, eps=1e-05, affine=True)\n",
       "          (1): SiLU()\n",
       "          (2): Dropout(p=0.1, inplace=False)\n",
       "          (3): Conv2d(512, 512, kernel_size=(3, 3), stride=(1, 1), padding=(1, 1))\n",
       "        )\n",
       "        (skip_connection): Identity()\n",
       "      )\n",
       "    )\n",
       "    (17): TimestepEmbedSequential(\n",
       "      (0): ResBlock(\n",
       "        (in_layers): Sequential(\n",
       "          (0): GroupNorm32(32, 512, eps=1e-05, affine=True)\n",
       "          (1): SiLU()\n",
       "          (2): Conv2d(512, 512, kernel_size=(3, 3), stride=(1, 1), padding=(1, 1))\n",
       "        )\n",
       "        (h_upd): Identity()\n",
       "        (x_upd): Identity()\n",
       "        (emb_layers): Sequential(\n",
       "          (0): SiLU()\n",
       "          (1): Linear(in_features=512, out_features=1024, bias=True)\n",
       "        )\n",
       "        (cond_emb_layers): Sequential(\n",
       "          (0): SiLU()\n",
       "          (1): Linear(in_features=512, out_features=512, bias=True)\n",
       "        )\n",
       "        (out_layers): Sequential(\n",
       "          (0): GroupNorm32(32, 512, eps=1e-05, affine=True)\n",
       "          (1): SiLU()\n",
       "          (2): Dropout(p=0.1, inplace=False)\n",
       "          (3): Conv2d(512, 512, kernel_size=(3, 3), stride=(1, 1), padding=(1, 1))\n",
       "        )\n",
       "        (skip_connection): Identity()\n",
       "      )\n",
       "    )\n",
       "  )\n",
       "  (middle_block): TimestepEmbedSequential(\n",
       "    (0): ResBlock(\n",
       "      (in_layers): Sequential(\n",
       "        (0): GroupNorm32(32, 512, eps=1e-05, affine=True)\n",
       "        (1): SiLU()\n",
       "        (2): Conv2d(512, 512, kernel_size=(3, 3), stride=(1, 1), padding=(1, 1))\n",
       "      )\n",
       "      (h_upd): Identity()\n",
       "      (x_upd): Identity()\n",
       "      (emb_layers): Sequential(\n",
       "        (0): SiLU()\n",
       "        (1): Linear(in_features=512, out_features=1024, bias=True)\n",
       "      )\n",
       "      (cond_emb_layers): Sequential(\n",
       "        (0): SiLU()\n",
       "        (1): Linear(in_features=512, out_features=512, bias=True)\n",
       "      )\n",
       "      (out_layers): Sequential(\n",
       "        (0): GroupNorm32(32, 512, eps=1e-05, affine=True)\n",
       "        (1): SiLU()\n",
       "        (2): Dropout(p=0.1, inplace=False)\n",
       "        (3): Conv2d(512, 512, kernel_size=(3, 3), stride=(1, 1), padding=(1, 1))\n",
       "      )\n",
       "      (skip_connection): Identity()\n",
       "    )\n",
       "    (1): AttentionBlock(\n",
       "      (norm): GroupNorm32(32, 512, eps=1e-05, affine=True)\n",
       "      (qkv): Conv1d(512, 1536, kernel_size=(1,), stride=(1,))\n",
       "      (attention): QKVAttentionLegacy()\n",
       "      (proj_out): Conv1d(512, 512, kernel_size=(1,), stride=(1,))\n",
       "    )\n",
       "    (2): ResBlock(\n",
       "      (in_layers): Sequential(\n",
       "        (0): GroupNorm32(32, 512, eps=1e-05, affine=True)\n",
       "        (1): SiLU()\n",
       "        (2): Conv2d(512, 512, kernel_size=(3, 3), stride=(1, 1), padding=(1, 1))\n",
       "      )\n",
       "      (h_upd): Identity()\n",
       "      (x_upd): Identity()\n",
       "      (emb_layers): Sequential(\n",
       "        (0): SiLU()\n",
       "        (1): Linear(in_features=512, out_features=1024, bias=True)\n",
       "      )\n",
       "      (cond_emb_layers): Sequential(\n",
       "        (0): SiLU()\n",
       "        (1): Linear(in_features=512, out_features=512, bias=True)\n",
       "      )\n",
       "      (out_layers): Sequential(\n",
       "        (0): GroupNorm32(32, 512, eps=1e-05, affine=True)\n",
       "        (1): SiLU()\n",
       "        (2): Dropout(p=0.1, inplace=False)\n",
       "        (3): Conv2d(512, 512, kernel_size=(3, 3), stride=(1, 1), padding=(1, 1))\n",
       "      )\n",
       "      (skip_connection): Identity()\n",
       "    )\n",
       "  )\n",
       "  (output_blocks): ModuleList(\n",
       "    (0): TimestepEmbedSequential(\n",
       "      (0): ResBlock(\n",
       "        (in_layers): Sequential(\n",
       "          (0): GroupNorm32(32, 1024, eps=1e-05, affine=True)\n",
       "          (1): SiLU()\n",
       "          (2): Conv2d(1024, 512, kernel_size=(3, 3), stride=(1, 1), padding=(1, 1))\n",
       "        )\n",
       "        (h_upd): Identity()\n",
       "        (x_upd): Identity()\n",
       "        (emb_layers): Sequential(\n",
       "          (0): SiLU()\n",
       "          (1): Linear(in_features=512, out_features=1024, bias=True)\n",
       "        )\n",
       "        (cond_emb_layers): Sequential(\n",
       "          (0): SiLU()\n",
       "          (1): Linear(in_features=512, out_features=512, bias=True)\n",
       "        )\n",
       "        (out_layers): Sequential(\n",
       "          (0): GroupNorm32(32, 512, eps=1e-05, affine=True)\n",
       "          (1): SiLU()\n",
       "          (2): Dropout(p=0.1, inplace=False)\n",
       "          (3): Conv2d(512, 512, kernel_size=(3, 3), stride=(1, 1), padding=(1, 1))\n",
       "        )\n",
       "        (skip_connection): Conv2d(1024, 512, kernel_size=(1, 1), stride=(1, 1))\n",
       "      )\n",
       "    )\n",
       "    (1): TimestepEmbedSequential(\n",
       "      (0): ResBlock(\n",
       "        (in_layers): Sequential(\n",
       "          (0): GroupNorm32(32, 1024, eps=1e-05, affine=True)\n",
       "          (1): SiLU()\n",
       "          (2): Conv2d(1024, 512, kernel_size=(3, 3), stride=(1, 1), padding=(1, 1))\n",
       "        )\n",
       "        (h_upd): Identity()\n",
       "        (x_upd): Identity()\n",
       "        (emb_layers): Sequential(\n",
       "          (0): SiLU()\n",
       "          (1): Linear(in_features=512, out_features=1024, bias=True)\n",
       "        )\n",
       "        (cond_emb_layers): Sequential(\n",
       "          (0): SiLU()\n",
       "          (1): Linear(in_features=512, out_features=512, bias=True)\n",
       "        )\n",
       "        (out_layers): Sequential(\n",
       "          (0): GroupNorm32(32, 512, eps=1e-05, affine=True)\n",
       "          (1): SiLU()\n",
       "          (2): Dropout(p=0.1, inplace=False)\n",
       "          (3): Conv2d(512, 512, kernel_size=(3, 3), stride=(1, 1), padding=(1, 1))\n",
       "        )\n",
       "        (skip_connection): Conv2d(1024, 512, kernel_size=(1, 1), stride=(1, 1))\n",
       "      )\n",
       "    )\n",
       "    (2): TimestepEmbedSequential(\n",
       "      (0): ResBlock(\n",
       "        (in_layers): Sequential(\n",
       "          (0): GroupNorm32(32, 1024, eps=1e-05, affine=True)\n",
       "          (1): SiLU()\n",
       "          (2): Conv2d(1024, 512, kernel_size=(3, 3), stride=(1, 1), padding=(1, 1))\n",
       "        )\n",
       "        (h_upd): Identity()\n",
       "        (x_upd): Identity()\n",
       "        (emb_layers): Sequential(\n",
       "          (0): SiLU()\n",
       "          (1): Linear(in_features=512, out_features=1024, bias=True)\n",
       "        )\n",
       "        (cond_emb_layers): Sequential(\n",
       "          (0): SiLU()\n",
       "          (1): Linear(in_features=512, out_features=512, bias=True)\n",
       "        )\n",
       "        (out_layers): Sequential(\n",
       "          (0): GroupNorm32(32, 512, eps=1e-05, affine=True)\n",
       "          (1): SiLU()\n",
       "          (2): Dropout(p=0.1, inplace=False)\n",
       "          (3): Conv2d(512, 512, kernel_size=(3, 3), stride=(1, 1), padding=(1, 1))\n",
       "        )\n",
       "        (skip_connection): Conv2d(1024, 512, kernel_size=(1, 1), stride=(1, 1))\n",
       "      )\n",
       "      (1): ResBlock(\n",
       "        (in_layers): Sequential(\n",
       "          (0): GroupNorm32(32, 512, eps=1e-05, affine=True)\n",
       "          (1): SiLU()\n",
       "          (2): Conv2d(512, 512, kernel_size=(3, 3), stride=(1, 1), padding=(1, 1))\n",
       "        )\n",
       "        (h_upd): Upsample()\n",
       "        (x_upd): Upsample()\n",
       "        (emb_layers): Sequential(\n",
       "          (0): SiLU()\n",
       "          (1): Linear(in_features=512, out_features=1024, bias=True)\n",
       "        )\n",
       "        (cond_emb_layers): Sequential(\n",
       "          (0): SiLU()\n",
       "          (1): Linear(in_features=512, out_features=512, bias=True)\n",
       "        )\n",
       "        (out_layers): Sequential(\n",
       "          (0): GroupNorm32(32, 512, eps=1e-05, affine=True)\n",
       "          (1): SiLU()\n",
       "          (2): Dropout(p=0.1, inplace=False)\n",
       "          (3): Conv2d(512, 512, kernel_size=(3, 3), stride=(1, 1), padding=(1, 1))\n",
       "        )\n",
       "        (skip_connection): Identity()\n",
       "      )\n",
       "    )\n",
       "    (3): TimestepEmbedSequential(\n",
       "      (0): ResBlock(\n",
       "        (in_layers): Sequential(\n",
       "          (0): GroupNorm32(32, 1024, eps=1e-05, affine=True)\n",
       "          (1): SiLU()\n",
       "          (2): Conv2d(1024, 512, kernel_size=(3, 3), stride=(1, 1), padding=(1, 1))\n",
       "        )\n",
       "        (h_upd): Identity()\n",
       "        (x_upd): Identity()\n",
       "        (emb_layers): Sequential(\n",
       "          (0): SiLU()\n",
       "          (1): Linear(in_features=512, out_features=1024, bias=True)\n",
       "        )\n",
       "        (cond_emb_layers): Sequential(\n",
       "          (0): SiLU()\n",
       "          (1): Linear(in_features=512, out_features=512, bias=True)\n",
       "        )\n",
       "        (out_layers): Sequential(\n",
       "          (0): GroupNorm32(32, 512, eps=1e-05, affine=True)\n",
       "          (1): SiLU()\n",
       "          (2): Dropout(p=0.1, inplace=False)\n",
       "          (3): Conv2d(512, 512, kernel_size=(3, 3), stride=(1, 1), padding=(1, 1))\n",
       "        )\n",
       "        (skip_connection): Conv2d(1024, 512, kernel_size=(1, 1), stride=(1, 1))\n",
       "      )\n",
       "      (1): AttentionBlock(\n",
       "        (norm): GroupNorm32(32, 512, eps=1e-05, affine=True)\n",
       "        (qkv): Conv1d(512, 1536, kernel_size=(1,), stride=(1,))\n",
       "        (attention): QKVAttentionLegacy()\n",
       "        (proj_out): Conv1d(512, 512, kernel_size=(1,), stride=(1,))\n",
       "      )\n",
       "    )\n",
       "    (4): TimestepEmbedSequential(\n",
       "      (0): ResBlock(\n",
       "        (in_layers): Sequential(\n",
       "          (0): GroupNorm32(32, 1024, eps=1e-05, affine=True)\n",
       "          (1): SiLU()\n",
       "          (2): Conv2d(1024, 512, kernel_size=(3, 3), stride=(1, 1), padding=(1, 1))\n",
       "        )\n",
       "        (h_upd): Identity()\n",
       "        (x_upd): Identity()\n",
       "        (emb_layers): Sequential(\n",
       "          (0): SiLU()\n",
       "          (1): Linear(in_features=512, out_features=1024, bias=True)\n",
       "        )\n",
       "        (cond_emb_layers): Sequential(\n",
       "          (0): SiLU()\n",
       "          (1): Linear(in_features=512, out_features=512, bias=True)\n",
       "        )\n",
       "        (out_layers): Sequential(\n",
       "          (0): GroupNorm32(32, 512, eps=1e-05, affine=True)\n",
       "          (1): SiLU()\n",
       "          (2): Dropout(p=0.1, inplace=False)\n",
       "          (3): Conv2d(512, 512, kernel_size=(3, 3), stride=(1, 1), padding=(1, 1))\n",
       "        )\n",
       "        (skip_connection): Conv2d(1024, 512, kernel_size=(1, 1), stride=(1, 1))\n",
       "      )\n",
       "      (1): AttentionBlock(\n",
       "        (norm): GroupNorm32(32, 512, eps=1e-05, affine=True)\n",
       "        (qkv): Conv1d(512, 1536, kernel_size=(1,), stride=(1,))\n",
       "        (attention): QKVAttentionLegacy()\n",
       "        (proj_out): Conv1d(512, 512, kernel_size=(1,), stride=(1,))\n",
       "      )\n",
       "    )\n",
       "    (5): TimestepEmbedSequential(\n",
       "      (0): ResBlock(\n",
       "        (in_layers): Sequential(\n",
       "          (0): GroupNorm32(32, 768, eps=1e-05, affine=True)\n",
       "          (1): SiLU()\n",
       "          (2): Conv2d(768, 512, kernel_size=(3, 3), stride=(1, 1), padding=(1, 1))\n",
       "        )\n",
       "        (h_upd): Identity()\n",
       "        (x_upd): Identity()\n",
       "        (emb_layers): Sequential(\n",
       "          (0): SiLU()\n",
       "          (1): Linear(in_features=512, out_features=1024, bias=True)\n",
       "        )\n",
       "        (cond_emb_layers): Sequential(\n",
       "          (0): SiLU()\n",
       "          (1): Linear(in_features=512, out_features=512, bias=True)\n",
       "        )\n",
       "        (out_layers): Sequential(\n",
       "          (0): GroupNorm32(32, 512, eps=1e-05, affine=True)\n",
       "          (1): SiLU()\n",
       "          (2): Dropout(p=0.1, inplace=False)\n",
       "          (3): Conv2d(512, 512, kernel_size=(3, 3), stride=(1, 1), padding=(1, 1))\n",
       "        )\n",
       "        (skip_connection): Conv2d(768, 512, kernel_size=(1, 1), stride=(1, 1))\n",
       "      )\n",
       "      (1): AttentionBlock(\n",
       "        (norm): GroupNorm32(32, 512, eps=1e-05, affine=True)\n",
       "        (qkv): Conv1d(512, 1536, kernel_size=(1,), stride=(1,))\n",
       "        (attention): QKVAttentionLegacy()\n",
       "        (proj_out): Conv1d(512, 512, kernel_size=(1,), stride=(1,))\n",
       "      )\n",
       "      (2): ResBlock(\n",
       "        (in_layers): Sequential(\n",
       "          (0): GroupNorm32(32, 512, eps=1e-05, affine=True)\n",
       "          (1): SiLU()\n",
       "          (2): Conv2d(512, 512, kernel_size=(3, 3), stride=(1, 1), padding=(1, 1))\n",
       "        )\n",
       "        (h_upd): Upsample()\n",
       "        (x_upd): Upsample()\n",
       "        (emb_layers): Sequential(\n",
       "          (0): SiLU()\n",
       "          (1): Linear(in_features=512, out_features=1024, bias=True)\n",
       "        )\n",
       "        (cond_emb_layers): Sequential(\n",
       "          (0): SiLU()\n",
       "          (1): Linear(in_features=512, out_features=512, bias=True)\n",
       "        )\n",
       "        (out_layers): Sequential(\n",
       "          (0): GroupNorm32(32, 512, eps=1e-05, affine=True)\n",
       "          (1): SiLU()\n",
       "          (2): Dropout(p=0.1, inplace=False)\n",
       "          (3): Conv2d(512, 512, kernel_size=(3, 3), stride=(1, 1), padding=(1, 1))\n",
       "        )\n",
       "        (skip_connection): Identity()\n",
       "      )\n",
       "    )\n",
       "    (6): TimestepEmbedSequential(\n",
       "      (0): ResBlock(\n",
       "        (in_layers): Sequential(\n",
       "          (0): GroupNorm32(32, 768, eps=1e-05, affine=True)\n",
       "          (1): SiLU()\n",
       "          (2): Conv2d(768, 256, kernel_size=(3, 3), stride=(1, 1), padding=(1, 1))\n",
       "        )\n",
       "        (h_upd): Identity()\n",
       "        (x_upd): Identity()\n",
       "        (emb_layers): Sequential(\n",
       "          (0): SiLU()\n",
       "          (1): Linear(in_features=512, out_features=512, bias=True)\n",
       "        )\n",
       "        (cond_emb_layers): Sequential(\n",
       "          (0): SiLU()\n",
       "          (1): Linear(in_features=512, out_features=256, bias=True)\n",
       "        )\n",
       "        (out_layers): Sequential(\n",
       "          (0): GroupNorm32(32, 256, eps=1e-05, affine=True)\n",
       "          (1): SiLU()\n",
       "          (2): Dropout(p=0.1, inplace=False)\n",
       "          (3): Conv2d(256, 256, kernel_size=(3, 3), stride=(1, 1), padding=(1, 1))\n",
       "        )\n",
       "        (skip_connection): Conv2d(768, 256, kernel_size=(1, 1), stride=(1, 1))\n",
       "      )\n",
       "    )\n",
       "    (7): TimestepEmbedSequential(\n",
       "      (0): ResBlock(\n",
       "        (in_layers): Sequential(\n",
       "          (0): GroupNorm32(32, 512, eps=1e-05, affine=True)\n",
       "          (1): SiLU()\n",
       "          (2): Conv2d(512, 256, kernel_size=(3, 3), stride=(1, 1), padding=(1, 1))\n",
       "        )\n",
       "        (h_upd): Identity()\n",
       "        (x_upd): Identity()\n",
       "        (emb_layers): Sequential(\n",
       "          (0): SiLU()\n",
       "          (1): Linear(in_features=512, out_features=512, bias=True)\n",
       "        )\n",
       "        (cond_emb_layers): Sequential(\n",
       "          (0): SiLU()\n",
       "          (1): Linear(in_features=512, out_features=256, bias=True)\n",
       "        )\n",
       "        (out_layers): Sequential(\n",
       "          (0): GroupNorm32(32, 256, eps=1e-05, affine=True)\n",
       "          (1): SiLU()\n",
       "          (2): Dropout(p=0.1, inplace=False)\n",
       "          (3): Conv2d(256, 256, kernel_size=(3, 3), stride=(1, 1), padding=(1, 1))\n",
       "        )\n",
       "        (skip_connection): Conv2d(512, 256, kernel_size=(1, 1), stride=(1, 1))\n",
       "      )\n",
       "    )\n",
       "    (8): TimestepEmbedSequential(\n",
       "      (0): ResBlock(\n",
       "        (in_layers): Sequential(\n",
       "          (0): GroupNorm32(32, 512, eps=1e-05, affine=True)\n",
       "          (1): SiLU()\n",
       "          (2): Conv2d(512, 256, kernel_size=(3, 3), stride=(1, 1), padding=(1, 1))\n",
       "        )\n",
       "        (h_upd): Identity()\n",
       "        (x_upd): Identity()\n",
       "        (emb_layers): Sequential(\n",
       "          (0): SiLU()\n",
       "          (1): Linear(in_features=512, out_features=512, bias=True)\n",
       "        )\n",
       "        (cond_emb_layers): Sequential(\n",
       "          (0): SiLU()\n",
       "          (1): Linear(in_features=512, out_features=256, bias=True)\n",
       "        )\n",
       "        (out_layers): Sequential(\n",
       "          (0): GroupNorm32(32, 256, eps=1e-05, affine=True)\n",
       "          (1): SiLU()\n",
       "          (2): Dropout(p=0.1, inplace=False)\n",
       "          (3): Conv2d(256, 256, kernel_size=(3, 3), stride=(1, 1), padding=(1, 1))\n",
       "        )\n",
       "        (skip_connection): Conv2d(512, 256, kernel_size=(1, 1), stride=(1, 1))\n",
       "      )\n",
       "      (1): ResBlock(\n",
       "        (in_layers): Sequential(\n",
       "          (0): GroupNorm32(32, 256, eps=1e-05, affine=True)\n",
       "          (1): SiLU()\n",
       "          (2): Conv2d(256, 256, kernel_size=(3, 3), stride=(1, 1), padding=(1, 1))\n",
       "        )\n",
       "        (h_upd): Upsample()\n",
       "        (x_upd): Upsample()\n",
       "        (emb_layers): Sequential(\n",
       "          (0): SiLU()\n",
       "          (1): Linear(in_features=512, out_features=512, bias=True)\n",
       "        )\n",
       "        (cond_emb_layers): Sequential(\n",
       "          (0): SiLU()\n",
       "          (1): Linear(in_features=512, out_features=256, bias=True)\n",
       "        )\n",
       "        (out_layers): Sequential(\n",
       "          (0): GroupNorm32(32, 256, eps=1e-05, affine=True)\n",
       "          (1): SiLU()\n",
       "          (2): Dropout(p=0.1, inplace=False)\n",
       "          (3): Conv2d(256, 256, kernel_size=(3, 3), stride=(1, 1), padding=(1, 1))\n",
       "        )\n",
       "        (skip_connection): Identity()\n",
       "      )\n",
       "    )\n",
       "    (9): TimestepEmbedSequential(\n",
       "      (0): ResBlock(\n",
       "        (in_layers): Sequential(\n",
       "          (0): GroupNorm32(32, 512, eps=1e-05, affine=True)\n",
       "          (1): SiLU()\n",
       "          (2): Conv2d(512, 256, kernel_size=(3, 3), stride=(1, 1), padding=(1, 1))\n",
       "        )\n",
       "        (h_upd): Identity()\n",
       "        (x_upd): Identity()\n",
       "        (emb_layers): Sequential(\n",
       "          (0): SiLU()\n",
       "          (1): Linear(in_features=512, out_features=512, bias=True)\n",
       "        )\n",
       "        (cond_emb_layers): Sequential(\n",
       "          (0): SiLU()\n",
       "          (1): Linear(in_features=512, out_features=256, bias=True)\n",
       "        )\n",
       "        (out_layers): Sequential(\n",
       "          (0): GroupNorm32(32, 256, eps=1e-05, affine=True)\n",
       "          (1): SiLU()\n",
       "          (2): Dropout(p=0.1, inplace=False)\n",
       "          (3): Conv2d(256, 256, kernel_size=(3, 3), stride=(1, 1), padding=(1, 1))\n",
       "        )\n",
       "        (skip_connection): Conv2d(512, 256, kernel_size=(1, 1), stride=(1, 1))\n",
       "      )\n",
       "    )\n",
       "    (10): TimestepEmbedSequential(\n",
       "      (0): ResBlock(\n",
       "        (in_layers): Sequential(\n",
       "          (0): GroupNorm32(32, 512, eps=1e-05, affine=True)\n",
       "          (1): SiLU()\n",
       "          (2): Conv2d(512, 256, kernel_size=(3, 3), stride=(1, 1), padding=(1, 1))\n",
       "        )\n",
       "        (h_upd): Identity()\n",
       "        (x_upd): Identity()\n",
       "        (emb_layers): Sequential(\n",
       "          (0): SiLU()\n",
       "          (1): Linear(in_features=512, out_features=512, bias=True)\n",
       "        )\n",
       "        (cond_emb_layers): Sequential(\n",
       "          (0): SiLU()\n",
       "          (1): Linear(in_features=512, out_features=256, bias=True)\n",
       "        )\n",
       "        (out_layers): Sequential(\n",
       "          (0): GroupNorm32(32, 256, eps=1e-05, affine=True)\n",
       "          (1): SiLU()\n",
       "          (2): Dropout(p=0.1, inplace=False)\n",
       "          (3): Conv2d(256, 256, kernel_size=(3, 3), stride=(1, 1), padding=(1, 1))\n",
       "        )\n",
       "        (skip_connection): Conv2d(512, 256, kernel_size=(1, 1), stride=(1, 1))\n",
       "      )\n",
       "    )\n",
       "    (11): TimestepEmbedSequential(\n",
       "      (0): ResBlock(\n",
       "        (in_layers): Sequential(\n",
       "          (0): GroupNorm32(32, 384, eps=1e-05, affine=True)\n",
       "          (1): SiLU()\n",
       "          (2): Conv2d(384, 256, kernel_size=(3, 3), stride=(1, 1), padding=(1, 1))\n",
       "        )\n",
       "        (h_upd): Identity()\n",
       "        (x_upd): Identity()\n",
       "        (emb_layers): Sequential(\n",
       "          (0): SiLU()\n",
       "          (1): Linear(in_features=512, out_features=512, bias=True)\n",
       "        )\n",
       "        (cond_emb_layers): Sequential(\n",
       "          (0): SiLU()\n",
       "          (1): Linear(in_features=512, out_features=256, bias=True)\n",
       "        )\n",
       "        (out_layers): Sequential(\n",
       "          (0): GroupNorm32(32, 256, eps=1e-05, affine=True)\n",
       "          (1): SiLU()\n",
       "          (2): Dropout(p=0.1, inplace=False)\n",
       "          (3): Conv2d(256, 256, kernel_size=(3, 3), stride=(1, 1), padding=(1, 1))\n",
       "        )\n",
       "        (skip_connection): Conv2d(384, 256, kernel_size=(1, 1), stride=(1, 1))\n",
       "      )\n",
       "      (1): ResBlock(\n",
       "        (in_layers): Sequential(\n",
       "          (0): GroupNorm32(32, 256, eps=1e-05, affine=True)\n",
       "          (1): SiLU()\n",
       "          (2): Conv2d(256, 256, kernel_size=(3, 3), stride=(1, 1), padding=(1, 1))\n",
       "        )\n",
       "        (h_upd): Upsample()\n",
       "        (x_upd): Upsample()\n",
       "        (emb_layers): Sequential(\n",
       "          (0): SiLU()\n",
       "          (1): Linear(in_features=512, out_features=512, bias=True)\n",
       "        )\n",
       "        (cond_emb_layers): Sequential(\n",
       "          (0): SiLU()\n",
       "          (1): Linear(in_features=512, out_features=256, bias=True)\n",
       "        )\n",
       "        (out_layers): Sequential(\n",
       "          (0): GroupNorm32(32, 256, eps=1e-05, affine=True)\n",
       "          (1): SiLU()\n",
       "          (2): Dropout(p=0.1, inplace=False)\n",
       "          (3): Conv2d(256, 256, kernel_size=(3, 3), stride=(1, 1), padding=(1, 1))\n",
       "        )\n",
       "        (skip_connection): Identity()\n",
       "      )\n",
       "    )\n",
       "    (12): TimestepEmbedSequential(\n",
       "      (0): ResBlock(\n",
       "        (in_layers): Sequential(\n",
       "          (0): GroupNorm32(32, 384, eps=1e-05, affine=True)\n",
       "          (1): SiLU()\n",
       "          (2): Conv2d(384, 128, kernel_size=(3, 3), stride=(1, 1), padding=(1, 1))\n",
       "        )\n",
       "        (h_upd): Identity()\n",
       "        (x_upd): Identity()\n",
       "        (emb_layers): Sequential(\n",
       "          (0): SiLU()\n",
       "          (1): Linear(in_features=512, out_features=256, bias=True)\n",
       "        )\n",
       "        (cond_emb_layers): Sequential(\n",
       "          (0): SiLU()\n",
       "          (1): Linear(in_features=512, out_features=128, bias=True)\n",
       "        )\n",
       "        (out_layers): Sequential(\n",
       "          (0): GroupNorm32(32, 128, eps=1e-05, affine=True)\n",
       "          (1): SiLU()\n",
       "          (2): Dropout(p=0.1, inplace=False)\n",
       "          (3): Conv2d(128, 128, kernel_size=(3, 3), stride=(1, 1), padding=(1, 1))\n",
       "        )\n",
       "        (skip_connection): Conv2d(384, 128, kernel_size=(1, 1), stride=(1, 1))\n",
       "      )\n",
       "    )\n",
       "    (13): TimestepEmbedSequential(\n",
       "      (0): ResBlock(\n",
       "        (in_layers): Sequential(\n",
       "          (0): GroupNorm32(32, 256, eps=1e-05, affine=True)\n",
       "          (1): SiLU()\n",
       "          (2): Conv2d(256, 128, kernel_size=(3, 3), stride=(1, 1), padding=(1, 1))\n",
       "        )\n",
       "        (h_upd): Identity()\n",
       "        (x_upd): Identity()\n",
       "        (emb_layers): Sequential(\n",
       "          (0): SiLU()\n",
       "          (1): Linear(in_features=512, out_features=256, bias=True)\n",
       "        )\n",
       "        (cond_emb_layers): Sequential(\n",
       "          (0): SiLU()\n",
       "          (1): Linear(in_features=512, out_features=128, bias=True)\n",
       "        )\n",
       "        (out_layers): Sequential(\n",
       "          (0): GroupNorm32(32, 128, eps=1e-05, affine=True)\n",
       "          (1): SiLU()\n",
       "          (2): Dropout(p=0.1, inplace=False)\n",
       "          (3): Conv2d(128, 128, kernel_size=(3, 3), stride=(1, 1), padding=(1, 1))\n",
       "        )\n",
       "        (skip_connection): Conv2d(256, 128, kernel_size=(1, 1), stride=(1, 1))\n",
       "      )\n",
       "    )\n",
       "    (14): TimestepEmbedSequential(\n",
       "      (0): ResBlock(\n",
       "        (in_layers): Sequential(\n",
       "          (0): GroupNorm32(32, 256, eps=1e-05, affine=True)\n",
       "          (1): SiLU()\n",
       "          (2): Conv2d(256, 128, kernel_size=(3, 3), stride=(1, 1), padding=(1, 1))\n",
       "        )\n",
       "        (h_upd): Identity()\n",
       "        (x_upd): Identity()\n",
       "        (emb_layers): Sequential(\n",
       "          (0): SiLU()\n",
       "          (1): Linear(in_features=512, out_features=256, bias=True)\n",
       "        )\n",
       "        (cond_emb_layers): Sequential(\n",
       "          (0): SiLU()\n",
       "          (1): Linear(in_features=512, out_features=128, bias=True)\n",
       "        )\n",
       "        (out_layers): Sequential(\n",
       "          (0): GroupNorm32(32, 128, eps=1e-05, affine=True)\n",
       "          (1): SiLU()\n",
       "          (2): Dropout(p=0.1, inplace=False)\n",
       "          (3): Conv2d(128, 128, kernel_size=(3, 3), stride=(1, 1), padding=(1, 1))\n",
       "        )\n",
       "        (skip_connection): Conv2d(256, 128, kernel_size=(1, 1), stride=(1, 1))\n",
       "      )\n",
       "      (1): ResBlock(\n",
       "        (in_layers): Sequential(\n",
       "          (0): GroupNorm32(32, 128, eps=1e-05, affine=True)\n",
       "          (1): SiLU()\n",
       "          (2): Conv2d(128, 128, kernel_size=(3, 3), stride=(1, 1), padding=(1, 1))\n",
       "        )\n",
       "        (h_upd): Upsample()\n",
       "        (x_upd): Upsample()\n",
       "        (emb_layers): Sequential(\n",
       "          (0): SiLU()\n",
       "          (1): Linear(in_features=512, out_features=256, bias=True)\n",
       "        )\n",
       "        (cond_emb_layers): Sequential(\n",
       "          (0): SiLU()\n",
       "          (1): Linear(in_features=512, out_features=128, bias=True)\n",
       "        )\n",
       "        (out_layers): Sequential(\n",
       "          (0): GroupNorm32(32, 128, eps=1e-05, affine=True)\n",
       "          (1): SiLU()\n",
       "          (2): Dropout(p=0.1, inplace=False)\n",
       "          (3): Conv2d(128, 128, kernel_size=(3, 3), stride=(1, 1), padding=(1, 1))\n",
       "        )\n",
       "        (skip_connection): Identity()\n",
       "      )\n",
       "    )\n",
       "    (15): TimestepEmbedSequential(\n",
       "      (0): ResBlock(\n",
       "        (in_layers): Sequential(\n",
       "          (0): GroupNorm32(32, 256, eps=1e-05, affine=True)\n",
       "          (1): SiLU()\n",
       "          (2): Conv2d(256, 128, kernel_size=(3, 3), stride=(1, 1), padding=(1, 1))\n",
       "        )\n",
       "        (h_upd): Identity()\n",
       "        (x_upd): Identity()\n",
       "        (emb_layers): Sequential(\n",
       "          (0): SiLU()\n",
       "          (1): Linear(in_features=512, out_features=256, bias=True)\n",
       "        )\n",
       "        (cond_emb_layers): Sequential(\n",
       "          (0): SiLU()\n",
       "          (1): Linear(in_features=512, out_features=128, bias=True)\n",
       "        )\n",
       "        (out_layers): Sequential(\n",
       "          (0): GroupNorm32(32, 128, eps=1e-05, affine=True)\n",
       "          (1): SiLU()\n",
       "          (2): Dropout(p=0.1, inplace=False)\n",
       "          (3): Conv2d(128, 128, kernel_size=(3, 3), stride=(1, 1), padding=(1, 1))\n",
       "        )\n",
       "        (skip_connection): Conv2d(256, 128, kernel_size=(1, 1), stride=(1, 1))\n",
       "      )\n",
       "    )\n",
       "    (16): TimestepEmbedSequential(\n",
       "      (0): ResBlock(\n",
       "        (in_layers): Sequential(\n",
       "          (0): GroupNorm32(32, 256, eps=1e-05, affine=True)\n",
       "          (1): SiLU()\n",
       "          (2): Conv2d(256, 128, kernel_size=(3, 3), stride=(1, 1), padding=(1, 1))\n",
       "        )\n",
       "        (h_upd): Identity()\n",
       "        (x_upd): Identity()\n",
       "        (emb_layers): Sequential(\n",
       "          (0): SiLU()\n",
       "          (1): Linear(in_features=512, out_features=256, bias=True)\n",
       "        )\n",
       "        (cond_emb_layers): Sequential(\n",
       "          (0): SiLU()\n",
       "          (1): Linear(in_features=512, out_features=128, bias=True)\n",
       "        )\n",
       "        (out_layers): Sequential(\n",
       "          (0): GroupNorm32(32, 128, eps=1e-05, affine=True)\n",
       "          (1): SiLU()\n",
       "          (2): Dropout(p=0.1, inplace=False)\n",
       "          (3): Conv2d(128, 128, kernel_size=(3, 3), stride=(1, 1), padding=(1, 1))\n",
       "        )\n",
       "        (skip_connection): Conv2d(256, 128, kernel_size=(1, 1), stride=(1, 1))\n",
       "      )\n",
       "    )\n",
       "    (17): TimestepEmbedSequential(\n",
       "      (0): ResBlock(\n",
       "        (in_layers): Sequential(\n",
       "          (0): GroupNorm32(32, 256, eps=1e-05, affine=True)\n",
       "          (1): SiLU()\n",
       "          (2): Conv2d(256, 128, kernel_size=(3, 3), stride=(1, 1), padding=(1, 1))\n",
       "        )\n",
       "        (h_upd): Identity()\n",
       "        (x_upd): Identity()\n",
       "        (emb_layers): Sequential(\n",
       "          (0): SiLU()\n",
       "          (1): Linear(in_features=512, out_features=256, bias=True)\n",
       "        )\n",
       "        (cond_emb_layers): Sequential(\n",
       "          (0): SiLU()\n",
       "          (1): Linear(in_features=512, out_features=128, bias=True)\n",
       "        )\n",
       "        (out_layers): Sequential(\n",
       "          (0): GroupNorm32(32, 128, eps=1e-05, affine=True)\n",
       "          (1): SiLU()\n",
       "          (2): Dropout(p=0.1, inplace=False)\n",
       "          (3): Conv2d(128, 128, kernel_size=(3, 3), stride=(1, 1), padding=(1, 1))\n",
       "        )\n",
       "        (skip_connection): Conv2d(256, 128, kernel_size=(1, 1), stride=(1, 1))\n",
       "      )\n",
       "    )\n",
       "  )\n",
       "  (out): Sequential(\n",
       "    (0): GroupNorm32(32, 128, eps=1e-05, affine=True)\n",
       "    (1): SiLU()\n",
       "    (2): Conv2d(128, 3, kernel_size=(3, 3), stride=(1, 1), padding=(1, 1))\n",
       "  )\n",
       "  (encoder): BeatGANsEncoderModel(\n",
       "    (input_blocks): ModuleList(\n",
       "      (0): TimestepEmbedSequential(\n",
       "        (0): Conv2d(3, 128, kernel_size=(3, 3), stride=(1, 1), padding=(1, 1))\n",
       "      )\n",
       "      (1): TimestepEmbedSequential(\n",
       "        (0): ResBlock(\n",
       "          (in_layers): Sequential(\n",
       "            (0): GroupNorm32(32, 128, eps=1e-05, affine=True)\n",
       "            (1): SiLU()\n",
       "            (2): Conv2d(128, 128, kernel_size=(3, 3), stride=(1, 1), padding=(1, 1))\n",
       "          )\n",
       "          (h_upd): Identity()\n",
       "          (x_upd): Identity()\n",
       "          (skip_connection): Identity()\n",
       "        )\n",
       "      )\n",
       "      (2): TimestepEmbedSequential(\n",
       "        (0): ResBlock(\n",
       "          (in_layers): Sequential(\n",
       "            (0): GroupNorm32(32, 128, eps=1e-05, affine=True)\n",
       "            (1): SiLU()\n",
       "            (2): Conv2d(128, 128, kernel_size=(3, 3), stride=(1, 1), padding=(1, 1))\n",
       "          )\n",
       "          (h_upd): Identity()\n",
       "          (x_upd): Identity()\n",
       "          (skip_connection): Identity()\n",
       "        )\n",
       "      )\n",
       "      (3): TimestepEmbedSequential(\n",
       "        (0): ResBlock(\n",
       "          (in_layers): Sequential(\n",
       "            (0): GroupNorm32(32, 128, eps=1e-05, affine=True)\n",
       "            (1): SiLU()\n",
       "            (2): Conv2d(128, 128, kernel_size=(3, 3), stride=(1, 1), padding=(1, 1))\n",
       "          )\n",
       "          (h_upd): Downsample(\n",
       "            (op): AvgPool2d(kernel_size=2, stride=2, padding=0)\n",
       "          )\n",
       "          (x_upd): Downsample(\n",
       "            (op): AvgPool2d(kernel_size=2, stride=2, padding=0)\n",
       "          )\n",
       "          (skip_connection): Identity()\n",
       "        )\n",
       "      )\n",
       "      (4): TimestepEmbedSequential(\n",
       "        (0): ResBlock(\n",
       "          (in_layers): Sequential(\n",
       "            (0): GroupNorm32(32, 128, eps=1e-05, affine=True)\n",
       "            (1): SiLU()\n",
       "            (2): Conv2d(128, 128, kernel_size=(3, 3), stride=(1, 1), padding=(1, 1))\n",
       "          )\n",
       "          (h_upd): Identity()\n",
       "          (x_upd): Identity()\n",
       "          (skip_connection): Identity()\n",
       "        )\n",
       "      )\n",
       "      (5): TimestepEmbedSequential(\n",
       "        (0): ResBlock(\n",
       "          (in_layers): Sequential(\n",
       "            (0): GroupNorm32(32, 128, eps=1e-05, affine=True)\n",
       "            (1): SiLU()\n",
       "            (2): Conv2d(128, 128, kernel_size=(3, 3), stride=(1, 1), padding=(1, 1))\n",
       "          )\n",
       "          (h_upd): Identity()\n",
       "          (x_upd): Identity()\n",
       "          (skip_connection): Identity()\n",
       "        )\n",
       "      )\n",
       "      (6): TimestepEmbedSequential(\n",
       "        (0): ResBlock(\n",
       "          (in_layers): Sequential(\n",
       "            (0): GroupNorm32(32, 128, eps=1e-05, affine=True)\n",
       "            (1): SiLU()\n",
       "            (2): Conv2d(128, 128, kernel_size=(3, 3), stride=(1, 1), padding=(1, 1))\n",
       "          )\n",
       "          (h_upd): Downsample(\n",
       "            (op): AvgPool2d(kernel_size=2, stride=2, padding=0)\n",
       "          )\n",
       "          (x_upd): Downsample(\n",
       "            (op): AvgPool2d(kernel_size=2, stride=2, padding=0)\n",
       "          )\n",
       "          (skip_connection): Identity()\n",
       "        )\n",
       "      )\n",
       "      (7): TimestepEmbedSequential(\n",
       "        (0): ResBlock(\n",
       "          (in_layers): Sequential(\n",
       "            (0): GroupNorm32(32, 128, eps=1e-05, affine=True)\n",
       "            (1): SiLU()\n",
       "            (2): Conv2d(128, 256, kernel_size=(3, 3), stride=(1, 1), padding=(1, 1))\n",
       "          )\n",
       "          (h_upd): Identity()\n",
       "          (x_upd): Identity()\n",
       "          (skip_connection): Conv2d(128, 256, kernel_size=(1, 1), stride=(1, 1))\n",
       "        )\n",
       "      )\n",
       "      (8): TimestepEmbedSequential(\n",
       "        (0): ResBlock(\n",
       "          (in_layers): Sequential(\n",
       "            (0): GroupNorm32(32, 256, eps=1e-05, affine=True)\n",
       "            (1): SiLU()\n",
       "            (2): Conv2d(256, 256, kernel_size=(3, 3), stride=(1, 1), padding=(1, 1))\n",
       "          )\n",
       "          (h_upd): Identity()\n",
       "          (x_upd): Identity()\n",
       "          (skip_connection): Identity()\n",
       "        )\n",
       "      )\n",
       "      (9): TimestepEmbedSequential(\n",
       "        (0): ResBlock(\n",
       "          (in_layers): Sequential(\n",
       "            (0): GroupNorm32(32, 256, eps=1e-05, affine=True)\n",
       "            (1): SiLU()\n",
       "            (2): Conv2d(256, 256, kernel_size=(3, 3), stride=(1, 1), padding=(1, 1))\n",
       "          )\n",
       "          (h_upd): Downsample(\n",
       "            (op): AvgPool2d(kernel_size=2, stride=2, padding=0)\n",
       "          )\n",
       "          (x_upd): Downsample(\n",
       "            (op): AvgPool2d(kernel_size=2, stride=2, padding=0)\n",
       "          )\n",
       "          (skip_connection): Identity()\n",
       "        )\n",
       "      )\n",
       "      (10): TimestepEmbedSequential(\n",
       "        (0): ResBlock(\n",
       "          (in_layers): Sequential(\n",
       "            (0): GroupNorm32(32, 256, eps=1e-05, affine=True)\n",
       "            (1): SiLU()\n",
       "            (2): Conv2d(256, 256, kernel_size=(3, 3), stride=(1, 1), padding=(1, 1))\n",
       "          )\n",
       "          (h_upd): Identity()\n",
       "          (x_upd): Identity()\n",
       "          (skip_connection): Identity()\n",
       "        )\n",
       "      )\n",
       "      (11): TimestepEmbedSequential(\n",
       "        (0): ResBlock(\n",
       "          (in_layers): Sequential(\n",
       "            (0): GroupNorm32(32, 256, eps=1e-05, affine=True)\n",
       "            (1): SiLU()\n",
       "            (2): Conv2d(256, 256, kernel_size=(3, 3), stride=(1, 1), padding=(1, 1))\n",
       "          )\n",
       "          (h_upd): Identity()\n",
       "          (x_upd): Identity()\n",
       "          (skip_connection): Identity()\n",
       "        )\n",
       "      )\n",
       "      (12): TimestepEmbedSequential(\n",
       "        (0): ResBlock(\n",
       "          (in_layers): Sequential(\n",
       "            (0): GroupNorm32(32, 256, eps=1e-05, affine=True)\n",
       "            (1): SiLU()\n",
       "            (2): Conv2d(256, 256, kernel_size=(3, 3), stride=(1, 1), padding=(1, 1))\n",
       "          )\n",
       "          (h_upd): Downsample(\n",
       "            (op): AvgPool2d(kernel_size=2, stride=2, padding=0)\n",
       "          )\n",
       "          (x_upd): Downsample(\n",
       "            (op): AvgPool2d(kernel_size=2, stride=2, padding=0)\n",
       "          )\n",
       "          (skip_connection): Identity()\n",
       "        )\n",
       "      )\n",
       "      (13): TimestepEmbedSequential(\n",
       "        (0): ResBlock(\n",
       "          (in_layers): Sequential(\n",
       "            (0): GroupNorm32(32, 256, eps=1e-05, affine=True)\n",
       "            (1): SiLU()\n",
       "            (2): Conv2d(256, 512, kernel_size=(3, 3), stride=(1, 1), padding=(1, 1))\n",
       "          )\n",
       "          (h_upd): Identity()\n",
       "          (x_upd): Identity()\n",
       "          (skip_connection): Conv2d(256, 512, kernel_size=(1, 1), stride=(1, 1))\n",
       "        )\n",
       "        (1): AttentionBlock(\n",
       "          (norm): GroupNorm32(32, 512, eps=1e-05, affine=True)\n",
       "          (qkv): Conv1d(512, 1536, kernel_size=(1,), stride=(1,))\n",
       "          (attention): QKVAttentionLegacy()\n",
       "          (proj_out): Conv1d(512, 512, kernel_size=(1,), stride=(1,))\n",
       "        )\n",
       "      )\n",
       "      (14): TimestepEmbedSequential(\n",
       "        (0): ResBlock(\n",
       "          (in_layers): Sequential(\n",
       "            (0): GroupNorm32(32, 512, eps=1e-05, affine=True)\n",
       "            (1): SiLU()\n",
       "            (2): Conv2d(512, 512, kernel_size=(3, 3), stride=(1, 1), padding=(1, 1))\n",
       "          )\n",
       "          (h_upd): Identity()\n",
       "          (x_upd): Identity()\n",
       "          (skip_connection): Identity()\n",
       "        )\n",
       "        (1): AttentionBlock(\n",
       "          (norm): GroupNorm32(32, 512, eps=1e-05, affine=True)\n",
       "          (qkv): Conv1d(512, 1536, kernel_size=(1,), stride=(1,))\n",
       "          (attention): QKVAttentionLegacy()\n",
       "          (proj_out): Conv1d(512, 512, kernel_size=(1,), stride=(1,))\n",
       "        )\n",
       "      )\n",
       "      (15): TimestepEmbedSequential(\n",
       "        (0): ResBlock(\n",
       "          (in_layers): Sequential(\n",
       "            (0): GroupNorm32(32, 512, eps=1e-05, affine=True)\n",
       "            (1): SiLU()\n",
       "            (2): Conv2d(512, 512, kernel_size=(3, 3), stride=(1, 1), padding=(1, 1))\n",
       "          )\n",
       "          (h_upd): Downsample(\n",
       "            (op): AvgPool2d(kernel_size=2, stride=2, padding=0)\n",
       "          )\n",
       "          (x_upd): Downsample(\n",
       "            (op): AvgPool2d(kernel_size=2, stride=2, padding=0)\n",
       "          )\n",
       "          (skip_connection): Identity()\n",
       "        )\n",
       "      )\n",
       "      (16): TimestepEmbedSequential(\n",
       "        (0): ResBlock(\n",
       "          (in_layers): Sequential(\n",
       "            (0): GroupNorm32(32, 512, eps=1e-05, affine=True)\n",
       "            (1): SiLU()\n",
       "            (2): Conv2d(512, 512, kernel_size=(3, 3), stride=(1, 1), padding=(1, 1))\n",
       "          )\n",
       "          (h_upd): Identity()\n",
       "          (x_upd): Identity()\n",
       "          (skip_connection): Identity()\n",
       "        )\n",
       "      )\n",
       "      (17): TimestepEmbedSequential(\n",
       "        (0): ResBlock(\n",
       "          (in_layers): Sequential(\n",
       "            (0): GroupNorm32(32, 512, eps=1e-05, affine=True)\n",
       "            (1): SiLU()\n",
       "            (2): Conv2d(512, 512, kernel_size=(3, 3), stride=(1, 1), padding=(1, 1))\n",
       "          )\n",
       "          (h_upd): Identity()\n",
       "          (x_upd): Identity()\n",
       "          (skip_connection): Identity()\n",
       "        )\n",
       "      )\n",
       "      (18): TimestepEmbedSequential(\n",
       "        (0): ResBlock(\n",
       "          (in_layers): Sequential(\n",
       "            (0): GroupNorm32(32, 512, eps=1e-05, affine=True)\n",
       "            (1): SiLU()\n",
       "            (2): Conv2d(512, 512, kernel_size=(3, 3), stride=(1, 1), padding=(1, 1))\n",
       "          )\n",
       "          (h_upd): Downsample(\n",
       "            (op): AvgPool2d(kernel_size=2, stride=2, padding=0)\n",
       "          )\n",
       "          (x_upd): Downsample(\n",
       "            (op): AvgPool2d(kernel_size=2, stride=2, padding=0)\n",
       "          )\n",
       "          (skip_connection): Identity()\n",
       "        )\n",
       "      )\n",
       "      (19): TimestepEmbedSequential(\n",
       "        (0): ResBlock(\n",
       "          (in_layers): Sequential(\n",
       "            (0): GroupNorm32(32, 512, eps=1e-05, affine=True)\n",
       "            (1): SiLU()\n",
       "            (2): Conv2d(512, 512, kernel_size=(3, 3), stride=(1, 1), padding=(1, 1))\n",
       "          )\n",
       "          (h_upd): Identity()\n",
       "          (x_upd): Identity()\n",
       "          (skip_connection): Identity()\n",
       "        )\n",
       "      )\n",
       "      (20): TimestepEmbedSequential(\n",
       "        (0): ResBlock(\n",
       "          (in_layers): Sequential(\n",
       "            (0): GroupNorm32(32, 512, eps=1e-05, affine=True)\n",
       "            (1): SiLU()\n",
       "            (2): Conv2d(512, 512, kernel_size=(3, 3), stride=(1, 1), padding=(1, 1))\n",
       "          )\n",
       "          (h_upd): Identity()\n",
       "          (x_upd): Identity()\n",
       "          (skip_connection): Identity()\n",
       "        )\n",
       "      )\n",
       "    )\n",
       "    (middle_block): TimestepEmbedSequential(\n",
       "      (0): ResBlock(\n",
       "        (in_layers): Sequential(\n",
       "          (0): GroupNorm32(32, 512, eps=1e-05, affine=True)\n",
       "          (1): SiLU()\n",
       "          (2): Conv2d(512, 512, kernel_size=(3, 3), stride=(1, 1), padding=(1, 1))\n",
       "        )\n",
       "        (h_upd): Identity()\n",
       "        (x_upd): Identity()\n",
       "        (skip_connection): Identity()\n",
       "      )\n",
       "      (1): AttentionBlock(\n",
       "        (norm): GroupNorm32(32, 512, eps=1e-05, affine=True)\n",
       "        (qkv): Conv1d(512, 1536, kernel_size=(1,), stride=(1,))\n",
       "        (attention): QKVAttentionLegacy()\n",
       "        (proj_out): Conv1d(512, 512, kernel_size=(1,), stride=(1,))\n",
       "      )\n",
       "      (2): ResBlock(\n",
       "        (in_layers): Sequential(\n",
       "          (0): GroupNorm32(32, 512, eps=1e-05, affine=True)\n",
       "          (1): SiLU()\n",
       "          (2): Conv2d(512, 512, kernel_size=(3, 3), stride=(1, 1), padding=(1, 1))\n",
       "        )\n",
       "        (h_upd): Identity()\n",
       "        (x_upd): Identity()\n",
       "        (skip_connection): Identity()\n",
       "      )\n",
       "    )\n",
       "    (out): Sequential(\n",
       "      (0): GroupNorm32(32, 512, eps=1e-05, affine=True)\n",
       "      (1): SiLU()\n",
       "      (2): AdaptiveAvgPool2d(output_size=(1, 1))\n",
       "      (3): Conv2d(512, 512, kernel_size=(1, 1), stride=(1, 1))\n",
       "      (4): Flatten(start_dim=1, end_dim=-1)\n",
       "    )\n",
       "  )\n",
       ")"
      ]
     },
     "execution_count": 5,
     "metadata": {},
     "output_type": "execute_result"
    }
   ],
   "source": [
    "model = LitModel(model_config)\n",
    "state = torch.load(f'checkpoints/{model_config.name}/last.ckpt', map_location='cpu')\n",
    "model.load_state_dict(state['state_dict'], strict=False)\n",
    "model.ema_model.eval()\n",
    "model.ema_model.to(device)"
   ]
  },
  {
   "cell_type": "markdown",
   "metadata": {},
   "source": [
    "<h3> Classifer initialization </h3>\n",
    "We'll use a trained classifer weight to provide a class direction in our image manipulation process"
   ]
  },
  {
   "cell_type": "code",
   "execution_count": 6,
   "metadata": {},
   "outputs": [
    {
     "name": "stderr",
     "output_type": "stream",
     "text": [
      "Global seed set to 0\n"
     ]
    },
    {
     "name": "stdout",
     "output_type": "stream",
     "text": [
      "loading pretrain ... 130M\n",
      "step: 1563562\n",
      "_IncompatibleKeys(missing_keys=[], unexpected_keys=['x_T'])\n",
      "loading latent stats ...\n",
      "latent step: 9375\n"
     ]
    },
    {
     "data": {
      "text/plain": [
       "ClsModel(\n",
       "  (model): BeatGANsAutoencModel(\n",
       "    (time_embed): TimeStyleSeperateEmbed(\n",
       "      (time_embed): Sequential(\n",
       "        (0): Linear(in_features=128, out_features=512, bias=True)\n",
       "        (1): SiLU()\n",
       "        (2): Linear(in_features=512, out_features=512, bias=True)\n",
       "      )\n",
       "      (style): Identity()\n",
       "    )\n",
       "    (input_blocks): ModuleList(\n",
       "      (0): TimestepEmbedSequential(\n",
       "        (0): Conv2d(3, 128, kernel_size=(3, 3), stride=(1, 1), padding=(1, 1))\n",
       "      )\n",
       "      (1): TimestepEmbedSequential(\n",
       "        (0): ResBlock(\n",
       "          (in_layers): Sequential(\n",
       "            (0): GroupNorm32(32, 128, eps=1e-05, affine=True)\n",
       "            (1): SiLU()\n",
       "            (2): Conv2d(128, 128, kernel_size=(3, 3), stride=(1, 1), padding=(1, 1))\n",
       "          )\n",
       "          (h_upd): Identity()\n",
       "          (x_upd): Identity()\n",
       "          (emb_layers): Sequential(\n",
       "            (0): SiLU()\n",
       "            (1): Linear(in_features=512, out_features=256, bias=True)\n",
       "          )\n",
       "          (cond_emb_layers): Sequential(\n",
       "            (0): SiLU()\n",
       "            (1): Linear(in_features=512, out_features=128, bias=True)\n",
       "          )\n",
       "          (out_layers): Sequential(\n",
       "            (0): GroupNorm32(32, 128, eps=1e-05, affine=True)\n",
       "            (1): SiLU()\n",
       "            (2): Dropout(p=0.1, inplace=False)\n",
       "            (3): Conv2d(128, 128, kernel_size=(3, 3), stride=(1, 1), padding=(1, 1))\n",
       "          )\n",
       "          (skip_connection): Identity()\n",
       "        )\n",
       "      )\n",
       "      (2): TimestepEmbedSequential(\n",
       "        (0): ResBlock(\n",
       "          (in_layers): Sequential(\n",
       "            (0): GroupNorm32(32, 128, eps=1e-05, affine=True)\n",
       "            (1): SiLU()\n",
       "            (2): Conv2d(128, 128, kernel_size=(3, 3), stride=(1, 1), padding=(1, 1))\n",
       "          )\n",
       "          (h_upd): Identity()\n",
       "          (x_upd): Identity()\n",
       "          (emb_layers): Sequential(\n",
       "            (0): SiLU()\n",
       "            (1): Linear(in_features=512, out_features=256, bias=True)\n",
       "          )\n",
       "          (cond_emb_layers): Sequential(\n",
       "            (0): SiLU()\n",
       "            (1): Linear(in_features=512, out_features=128, bias=True)\n",
       "          )\n",
       "          (out_layers): Sequential(\n",
       "            (0): GroupNorm32(32, 128, eps=1e-05, affine=True)\n",
       "            (1): SiLU()\n",
       "            (2): Dropout(p=0.1, inplace=False)\n",
       "            (3): Conv2d(128, 128, kernel_size=(3, 3), stride=(1, 1), padding=(1, 1))\n",
       "          )\n",
       "          (skip_connection): Identity()\n",
       "        )\n",
       "      )\n",
       "      (3): TimestepEmbedSequential(\n",
       "        (0): ResBlock(\n",
       "          (in_layers): Sequential(\n",
       "            (0): GroupNorm32(32, 128, eps=1e-05, affine=True)\n",
       "            (1): SiLU()\n",
       "            (2): Conv2d(128, 128, kernel_size=(3, 3), stride=(1, 1), padding=(1, 1))\n",
       "          )\n",
       "          (h_upd): Downsample(\n",
       "            (op): AvgPool2d(kernel_size=2, stride=2, padding=0)\n",
       "          )\n",
       "          (x_upd): Downsample(\n",
       "            (op): AvgPool2d(kernel_size=2, stride=2, padding=0)\n",
       "          )\n",
       "          (emb_layers): Sequential(\n",
       "            (0): SiLU()\n",
       "            (1): Linear(in_features=512, out_features=256, bias=True)\n",
       "          )\n",
       "          (cond_emb_layers): Sequential(\n",
       "            (0): SiLU()\n",
       "            (1): Linear(in_features=512, out_features=128, bias=True)\n",
       "          )\n",
       "          (out_layers): Sequential(\n",
       "            (0): GroupNorm32(32, 128, eps=1e-05, affine=True)\n",
       "            (1): SiLU()\n",
       "            (2): Dropout(p=0.1, inplace=False)\n",
       "            (3): Conv2d(128, 128, kernel_size=(3, 3), stride=(1, 1), padding=(1, 1))\n",
       "          )\n",
       "          (skip_connection): Identity()\n",
       "        )\n",
       "      )\n",
       "      (4): TimestepEmbedSequential(\n",
       "        (0): ResBlock(\n",
       "          (in_layers): Sequential(\n",
       "            (0): GroupNorm32(32, 128, eps=1e-05, affine=True)\n",
       "            (1): SiLU()\n",
       "            (2): Conv2d(128, 128, kernel_size=(3, 3), stride=(1, 1), padding=(1, 1))\n",
       "          )\n",
       "          (h_upd): Identity()\n",
       "          (x_upd): Identity()\n",
       "          (emb_layers): Sequential(\n",
       "            (0): SiLU()\n",
       "            (1): Linear(in_features=512, out_features=256, bias=True)\n",
       "          )\n",
       "          (cond_emb_layers): Sequential(\n",
       "            (0): SiLU()\n",
       "            (1): Linear(in_features=512, out_features=128, bias=True)\n",
       "          )\n",
       "          (out_layers): Sequential(\n",
       "            (0): GroupNorm32(32, 128, eps=1e-05, affine=True)\n",
       "            (1): SiLU()\n",
       "            (2): Dropout(p=0.1, inplace=False)\n",
       "            (3): Conv2d(128, 128, kernel_size=(3, 3), stride=(1, 1), padding=(1, 1))\n",
       "          )\n",
       "          (skip_connection): Identity()\n",
       "        )\n",
       "      )\n",
       "      (5): TimestepEmbedSequential(\n",
       "        (0): ResBlock(\n",
       "          (in_layers): Sequential(\n",
       "            (0): GroupNorm32(32, 128, eps=1e-05, affine=True)\n",
       "            (1): SiLU()\n",
       "            (2): Conv2d(128, 128, kernel_size=(3, 3), stride=(1, 1), padding=(1, 1))\n",
       "          )\n",
       "          (h_upd): Identity()\n",
       "          (x_upd): Identity()\n",
       "          (emb_layers): Sequential(\n",
       "            (0): SiLU()\n",
       "            (1): Linear(in_features=512, out_features=256, bias=True)\n",
       "          )\n",
       "          (cond_emb_layers): Sequential(\n",
       "            (0): SiLU()\n",
       "            (1): Linear(in_features=512, out_features=128, bias=True)\n",
       "          )\n",
       "          (out_layers): Sequential(\n",
       "            (0): GroupNorm32(32, 128, eps=1e-05, affine=True)\n",
       "            (1): SiLU()\n",
       "            (2): Dropout(p=0.1, inplace=False)\n",
       "            (3): Conv2d(128, 128, kernel_size=(3, 3), stride=(1, 1), padding=(1, 1))\n",
       "          )\n",
       "          (skip_connection): Identity()\n",
       "        )\n",
       "      )\n",
       "      (6): TimestepEmbedSequential(\n",
       "        (0): ResBlock(\n",
       "          (in_layers): Sequential(\n",
       "            (0): GroupNorm32(32, 128, eps=1e-05, affine=True)\n",
       "            (1): SiLU()\n",
       "            (2): Conv2d(128, 128, kernel_size=(3, 3), stride=(1, 1), padding=(1, 1))\n",
       "          )\n",
       "          (h_upd): Downsample(\n",
       "            (op): AvgPool2d(kernel_size=2, stride=2, padding=0)\n",
       "          )\n",
       "          (x_upd): Downsample(\n",
       "            (op): AvgPool2d(kernel_size=2, stride=2, padding=0)\n",
       "          )\n",
       "          (emb_layers): Sequential(\n",
       "            (0): SiLU()\n",
       "            (1): Linear(in_features=512, out_features=256, bias=True)\n",
       "          )\n",
       "          (cond_emb_layers): Sequential(\n",
       "            (0): SiLU()\n",
       "            (1): Linear(in_features=512, out_features=128, bias=True)\n",
       "          )\n",
       "          (out_layers): Sequential(\n",
       "            (0): GroupNorm32(32, 128, eps=1e-05, affine=True)\n",
       "            (1): SiLU()\n",
       "            (2): Dropout(p=0.1, inplace=False)\n",
       "            (3): Conv2d(128, 128, kernel_size=(3, 3), stride=(1, 1), padding=(1, 1))\n",
       "          )\n",
       "          (skip_connection): Identity()\n",
       "        )\n",
       "      )\n",
       "      (7): TimestepEmbedSequential(\n",
       "        (0): ResBlock(\n",
       "          (in_layers): Sequential(\n",
       "            (0): GroupNorm32(32, 128, eps=1e-05, affine=True)\n",
       "            (1): SiLU()\n",
       "            (2): Conv2d(128, 256, kernel_size=(3, 3), stride=(1, 1), padding=(1, 1))\n",
       "          )\n",
       "          (h_upd): Identity()\n",
       "          (x_upd): Identity()\n",
       "          (emb_layers): Sequential(\n",
       "            (0): SiLU()\n",
       "            (1): Linear(in_features=512, out_features=512, bias=True)\n",
       "          )\n",
       "          (cond_emb_layers): Sequential(\n",
       "            (0): SiLU()\n",
       "            (1): Linear(in_features=512, out_features=256, bias=True)\n",
       "          )\n",
       "          (out_layers): Sequential(\n",
       "            (0): GroupNorm32(32, 256, eps=1e-05, affine=True)\n",
       "            (1): SiLU()\n",
       "            (2): Dropout(p=0.1, inplace=False)\n",
       "            (3): Conv2d(256, 256, kernel_size=(3, 3), stride=(1, 1), padding=(1, 1))\n",
       "          )\n",
       "          (skip_connection): Conv2d(128, 256, kernel_size=(1, 1), stride=(1, 1))\n",
       "        )\n",
       "      )\n",
       "      (8): TimestepEmbedSequential(\n",
       "        (0): ResBlock(\n",
       "          (in_layers): Sequential(\n",
       "            (0): GroupNorm32(32, 256, eps=1e-05, affine=True)\n",
       "            (1): SiLU()\n",
       "            (2): Conv2d(256, 256, kernel_size=(3, 3), stride=(1, 1), padding=(1, 1))\n",
       "          )\n",
       "          (h_upd): Identity()\n",
       "          (x_upd): Identity()\n",
       "          (emb_layers): Sequential(\n",
       "            (0): SiLU()\n",
       "            (1): Linear(in_features=512, out_features=512, bias=True)\n",
       "          )\n",
       "          (cond_emb_layers): Sequential(\n",
       "            (0): SiLU()\n",
       "            (1): Linear(in_features=512, out_features=256, bias=True)\n",
       "          )\n",
       "          (out_layers): Sequential(\n",
       "            (0): GroupNorm32(32, 256, eps=1e-05, affine=True)\n",
       "            (1): SiLU()\n",
       "            (2): Dropout(p=0.1, inplace=False)\n",
       "            (3): Conv2d(256, 256, kernel_size=(3, 3), stride=(1, 1), padding=(1, 1))\n",
       "          )\n",
       "          (skip_connection): Identity()\n",
       "        )\n",
       "      )\n",
       "      (9): TimestepEmbedSequential(\n",
       "        (0): ResBlock(\n",
       "          (in_layers): Sequential(\n",
       "            (0): GroupNorm32(32, 256, eps=1e-05, affine=True)\n",
       "            (1): SiLU()\n",
       "            (2): Conv2d(256, 256, kernel_size=(3, 3), stride=(1, 1), padding=(1, 1))\n",
       "          )\n",
       "          (h_upd): Downsample(\n",
       "            (op): AvgPool2d(kernel_size=2, stride=2, padding=0)\n",
       "          )\n",
       "          (x_upd): Downsample(\n",
       "            (op): AvgPool2d(kernel_size=2, stride=2, padding=0)\n",
       "          )\n",
       "          (emb_layers): Sequential(\n",
       "            (0): SiLU()\n",
       "            (1): Linear(in_features=512, out_features=512, bias=True)\n",
       "          )\n",
       "          (cond_emb_layers): Sequential(\n",
       "            (0): SiLU()\n",
       "            (1): Linear(in_features=512, out_features=256, bias=True)\n",
       "          )\n",
       "          (out_layers): Sequential(\n",
       "            (0): GroupNorm32(32, 256, eps=1e-05, affine=True)\n",
       "            (1): SiLU()\n",
       "            (2): Dropout(p=0.1, inplace=False)\n",
       "            (3): Conv2d(256, 256, kernel_size=(3, 3), stride=(1, 1), padding=(1, 1))\n",
       "          )\n",
       "          (skip_connection): Identity()\n",
       "        )\n",
       "      )\n",
       "      (10): TimestepEmbedSequential(\n",
       "        (0): ResBlock(\n",
       "          (in_layers): Sequential(\n",
       "            (0): GroupNorm32(32, 256, eps=1e-05, affine=True)\n",
       "            (1): SiLU()\n",
       "            (2): Conv2d(256, 256, kernel_size=(3, 3), stride=(1, 1), padding=(1, 1))\n",
       "          )\n",
       "          (h_upd): Identity()\n",
       "          (x_upd): Identity()\n",
       "          (emb_layers): Sequential(\n",
       "            (0): SiLU()\n",
       "            (1): Linear(in_features=512, out_features=512, bias=True)\n",
       "          )\n",
       "          (cond_emb_layers): Sequential(\n",
       "            (0): SiLU()\n",
       "            (1): Linear(in_features=512, out_features=256, bias=True)\n",
       "          )\n",
       "          (out_layers): Sequential(\n",
       "            (0): GroupNorm32(32, 256, eps=1e-05, affine=True)\n",
       "            (1): SiLU()\n",
       "            (2): Dropout(p=0.1, inplace=False)\n",
       "            (3): Conv2d(256, 256, kernel_size=(3, 3), stride=(1, 1), padding=(1, 1))\n",
       "          )\n",
       "          (skip_connection): Identity()\n",
       "        )\n",
       "      )\n",
       "      (11): TimestepEmbedSequential(\n",
       "        (0): ResBlock(\n",
       "          (in_layers): Sequential(\n",
       "            (0): GroupNorm32(32, 256, eps=1e-05, affine=True)\n",
       "            (1): SiLU()\n",
       "            (2): Conv2d(256, 256, kernel_size=(3, 3), stride=(1, 1), padding=(1, 1))\n",
       "          )\n",
       "          (h_upd): Identity()\n",
       "          (x_upd): Identity()\n",
       "          (emb_layers): Sequential(\n",
       "            (0): SiLU()\n",
       "            (1): Linear(in_features=512, out_features=512, bias=True)\n",
       "          )\n",
       "          (cond_emb_layers): Sequential(\n",
       "            (0): SiLU()\n",
       "            (1): Linear(in_features=512, out_features=256, bias=True)\n",
       "          )\n",
       "          (out_layers): Sequential(\n",
       "            (0): GroupNorm32(32, 256, eps=1e-05, affine=True)\n",
       "            (1): SiLU()\n",
       "            (2): Dropout(p=0.1, inplace=False)\n",
       "            (3): Conv2d(256, 256, kernel_size=(3, 3), stride=(1, 1), padding=(1, 1))\n",
       "          )\n",
       "          (skip_connection): Identity()\n",
       "        )\n",
       "      )\n",
       "      (12): TimestepEmbedSequential(\n",
       "        (0): ResBlock(\n",
       "          (in_layers): Sequential(\n",
       "            (0): GroupNorm32(32, 256, eps=1e-05, affine=True)\n",
       "            (1): SiLU()\n",
       "            (2): Conv2d(256, 256, kernel_size=(3, 3), stride=(1, 1), padding=(1, 1))\n",
       "          )\n",
       "          (h_upd): Downsample(\n",
       "            (op): AvgPool2d(kernel_size=2, stride=2, padding=0)\n",
       "          )\n",
       "          (x_upd): Downsample(\n",
       "            (op): AvgPool2d(kernel_size=2, stride=2, padding=0)\n",
       "          )\n",
       "          (emb_layers): Sequential(\n",
       "            (0): SiLU()\n",
       "            (1): Linear(in_features=512, out_features=512, bias=True)\n",
       "          )\n",
       "          (cond_emb_layers): Sequential(\n",
       "            (0): SiLU()\n",
       "            (1): Linear(in_features=512, out_features=256, bias=True)\n",
       "          )\n",
       "          (out_layers): Sequential(\n",
       "            (0): GroupNorm32(32, 256, eps=1e-05, affine=True)\n",
       "            (1): SiLU()\n",
       "            (2): Dropout(p=0.1, inplace=False)\n",
       "            (3): Conv2d(256, 256, kernel_size=(3, 3), stride=(1, 1), padding=(1, 1))\n",
       "          )\n",
       "          (skip_connection): Identity()\n",
       "        )\n",
       "      )\n",
       "      (13): TimestepEmbedSequential(\n",
       "        (0): ResBlock(\n",
       "          (in_layers): Sequential(\n",
       "            (0): GroupNorm32(32, 256, eps=1e-05, affine=True)\n",
       "            (1): SiLU()\n",
       "            (2): Conv2d(256, 512, kernel_size=(3, 3), stride=(1, 1), padding=(1, 1))\n",
       "          )\n",
       "          (h_upd): Identity()\n",
       "          (x_upd): Identity()\n",
       "          (emb_layers): Sequential(\n",
       "            (0): SiLU()\n",
       "            (1): Linear(in_features=512, out_features=1024, bias=True)\n",
       "          )\n",
       "          (cond_emb_layers): Sequential(\n",
       "            (0): SiLU()\n",
       "            (1): Linear(in_features=512, out_features=512, bias=True)\n",
       "          )\n",
       "          (out_layers): Sequential(\n",
       "            (0): GroupNorm32(32, 512, eps=1e-05, affine=True)\n",
       "            (1): SiLU()\n",
       "            (2): Dropout(p=0.1, inplace=False)\n",
       "            (3): Conv2d(512, 512, kernel_size=(3, 3), stride=(1, 1), padding=(1, 1))\n",
       "          )\n",
       "          (skip_connection): Conv2d(256, 512, kernel_size=(1, 1), stride=(1, 1))\n",
       "        )\n",
       "        (1): AttentionBlock(\n",
       "          (norm): GroupNorm32(32, 512, eps=1e-05, affine=True)\n",
       "          (qkv): Conv1d(512, 1536, kernel_size=(1,), stride=(1,))\n",
       "          (attention): QKVAttentionLegacy()\n",
       "          (proj_out): Conv1d(512, 512, kernel_size=(1,), stride=(1,))\n",
       "        )\n",
       "      )\n",
       "      (14): TimestepEmbedSequential(\n",
       "        (0): ResBlock(\n",
       "          (in_layers): Sequential(\n",
       "            (0): GroupNorm32(32, 512, eps=1e-05, affine=True)\n",
       "            (1): SiLU()\n",
       "            (2): Conv2d(512, 512, kernel_size=(3, 3), stride=(1, 1), padding=(1, 1))\n",
       "          )\n",
       "          (h_upd): Identity()\n",
       "          (x_upd): Identity()\n",
       "          (emb_layers): Sequential(\n",
       "            (0): SiLU()\n",
       "            (1): Linear(in_features=512, out_features=1024, bias=True)\n",
       "          )\n",
       "          (cond_emb_layers): Sequential(\n",
       "            (0): SiLU()\n",
       "            (1): Linear(in_features=512, out_features=512, bias=True)\n",
       "          )\n",
       "          (out_layers): Sequential(\n",
       "            (0): GroupNorm32(32, 512, eps=1e-05, affine=True)\n",
       "            (1): SiLU()\n",
       "            (2): Dropout(p=0.1, inplace=False)\n",
       "            (3): Conv2d(512, 512, kernel_size=(3, 3), stride=(1, 1), padding=(1, 1))\n",
       "          )\n",
       "          (skip_connection): Identity()\n",
       "        )\n",
       "        (1): AttentionBlock(\n",
       "          (norm): GroupNorm32(32, 512, eps=1e-05, affine=True)\n",
       "          (qkv): Conv1d(512, 1536, kernel_size=(1,), stride=(1,))\n",
       "          (attention): QKVAttentionLegacy()\n",
       "          (proj_out): Conv1d(512, 512, kernel_size=(1,), stride=(1,))\n",
       "        )\n",
       "      )\n",
       "      (15): TimestepEmbedSequential(\n",
       "        (0): ResBlock(\n",
       "          (in_layers): Sequential(\n",
       "            (0): GroupNorm32(32, 512, eps=1e-05, affine=True)\n",
       "            (1): SiLU()\n",
       "            (2): Conv2d(512, 512, kernel_size=(3, 3), stride=(1, 1), padding=(1, 1))\n",
       "          )\n",
       "          (h_upd): Downsample(\n",
       "            (op): AvgPool2d(kernel_size=2, stride=2, padding=0)\n",
       "          )\n",
       "          (x_upd): Downsample(\n",
       "            (op): AvgPool2d(kernel_size=2, stride=2, padding=0)\n",
       "          )\n",
       "          (emb_layers): Sequential(\n",
       "            (0): SiLU()\n",
       "            (1): Linear(in_features=512, out_features=1024, bias=True)\n",
       "          )\n",
       "          (cond_emb_layers): Sequential(\n",
       "            (0): SiLU()\n",
       "            (1): Linear(in_features=512, out_features=512, bias=True)\n",
       "          )\n",
       "          (out_layers): Sequential(\n",
       "            (0): GroupNorm32(32, 512, eps=1e-05, affine=True)\n",
       "            (1): SiLU()\n",
       "            (2): Dropout(p=0.1, inplace=False)\n",
       "            (3): Conv2d(512, 512, kernel_size=(3, 3), stride=(1, 1), padding=(1, 1))\n",
       "          )\n",
       "          (skip_connection): Identity()\n",
       "        )\n",
       "      )\n",
       "      (16): TimestepEmbedSequential(\n",
       "        (0): ResBlock(\n",
       "          (in_layers): Sequential(\n",
       "            (0): GroupNorm32(32, 512, eps=1e-05, affine=True)\n",
       "            (1): SiLU()\n",
       "            (2): Conv2d(512, 512, kernel_size=(3, 3), stride=(1, 1), padding=(1, 1))\n",
       "          )\n",
       "          (h_upd): Identity()\n",
       "          (x_upd): Identity()\n",
       "          (emb_layers): Sequential(\n",
       "            (0): SiLU()\n",
       "            (1): Linear(in_features=512, out_features=1024, bias=True)\n",
       "          )\n",
       "          (cond_emb_layers): Sequential(\n",
       "            (0): SiLU()\n",
       "            (1): Linear(in_features=512, out_features=512, bias=True)\n",
       "          )\n",
       "          (out_layers): Sequential(\n",
       "            (0): GroupNorm32(32, 512, eps=1e-05, affine=True)\n",
       "            (1): SiLU()\n",
       "            (2): Dropout(p=0.1, inplace=False)\n",
       "            (3): Conv2d(512, 512, kernel_size=(3, 3), stride=(1, 1), padding=(1, 1))\n",
       "          )\n",
       "          (skip_connection): Identity()\n",
       "        )\n",
       "      )\n",
       "      (17): TimestepEmbedSequential(\n",
       "        (0): ResBlock(\n",
       "          (in_layers): Sequential(\n",
       "            (0): GroupNorm32(32, 512, eps=1e-05, affine=True)\n",
       "            (1): SiLU()\n",
       "            (2): Conv2d(512, 512, kernel_size=(3, 3), stride=(1, 1), padding=(1, 1))\n",
       "          )\n",
       "          (h_upd): Identity()\n",
       "          (x_upd): Identity()\n",
       "          (emb_layers): Sequential(\n",
       "            (0): SiLU()\n",
       "            (1): Linear(in_features=512, out_features=1024, bias=True)\n",
       "          )\n",
       "          (cond_emb_layers): Sequential(\n",
       "            (0): SiLU()\n",
       "            (1): Linear(in_features=512, out_features=512, bias=True)\n",
       "          )\n",
       "          (out_layers): Sequential(\n",
       "            (0): GroupNorm32(32, 512, eps=1e-05, affine=True)\n",
       "            (1): SiLU()\n",
       "            (2): Dropout(p=0.1, inplace=False)\n",
       "            (3): Conv2d(512, 512, kernel_size=(3, 3), stride=(1, 1), padding=(1, 1))\n",
       "          )\n",
       "          (skip_connection): Identity()\n",
       "        )\n",
       "      )\n",
       "    )\n",
       "    (middle_block): TimestepEmbedSequential(\n",
       "      (0): ResBlock(\n",
       "        (in_layers): Sequential(\n",
       "          (0): GroupNorm32(32, 512, eps=1e-05, affine=True)\n",
       "          (1): SiLU()\n",
       "          (2): Conv2d(512, 512, kernel_size=(3, 3), stride=(1, 1), padding=(1, 1))\n",
       "        )\n",
       "        (h_upd): Identity()\n",
       "        (x_upd): Identity()\n",
       "        (emb_layers): Sequential(\n",
       "          (0): SiLU()\n",
       "          (1): Linear(in_features=512, out_features=1024, bias=True)\n",
       "        )\n",
       "        (cond_emb_layers): Sequential(\n",
       "          (0): SiLU()\n",
       "          (1): Linear(in_features=512, out_features=512, bias=True)\n",
       "        )\n",
       "        (out_layers): Sequential(\n",
       "          (0): GroupNorm32(32, 512, eps=1e-05, affine=True)\n",
       "          (1): SiLU()\n",
       "          (2): Dropout(p=0.1, inplace=False)\n",
       "          (3): Conv2d(512, 512, kernel_size=(3, 3), stride=(1, 1), padding=(1, 1))\n",
       "        )\n",
       "        (skip_connection): Identity()\n",
       "      )\n",
       "      (1): AttentionBlock(\n",
       "        (norm): GroupNorm32(32, 512, eps=1e-05, affine=True)\n",
       "        (qkv): Conv1d(512, 1536, kernel_size=(1,), stride=(1,))\n",
       "        (attention): QKVAttentionLegacy()\n",
       "        (proj_out): Conv1d(512, 512, kernel_size=(1,), stride=(1,))\n",
       "      )\n",
       "      (2): ResBlock(\n",
       "        (in_layers): Sequential(\n",
       "          (0): GroupNorm32(32, 512, eps=1e-05, affine=True)\n",
       "          (1): SiLU()\n",
       "          (2): Conv2d(512, 512, kernel_size=(3, 3), stride=(1, 1), padding=(1, 1))\n",
       "        )\n",
       "        (h_upd): Identity()\n",
       "        (x_upd): Identity()\n",
       "        (emb_layers): Sequential(\n",
       "          (0): SiLU()\n",
       "          (1): Linear(in_features=512, out_features=1024, bias=True)\n",
       "        )\n",
       "        (cond_emb_layers): Sequential(\n",
       "          (0): SiLU()\n",
       "          (1): Linear(in_features=512, out_features=512, bias=True)\n",
       "        )\n",
       "        (out_layers): Sequential(\n",
       "          (0): GroupNorm32(32, 512, eps=1e-05, affine=True)\n",
       "          (1): SiLU()\n",
       "          (2): Dropout(p=0.1, inplace=False)\n",
       "          (3): Conv2d(512, 512, kernel_size=(3, 3), stride=(1, 1), padding=(1, 1))\n",
       "        )\n",
       "        (skip_connection): Identity()\n",
       "      )\n",
       "    )\n",
       "    (output_blocks): ModuleList(\n",
       "      (0): TimestepEmbedSequential(\n",
       "        (0): ResBlock(\n",
       "          (in_layers): Sequential(\n",
       "            (0): GroupNorm32(32, 1024, eps=1e-05, affine=True)\n",
       "            (1): SiLU()\n",
       "            (2): Conv2d(1024, 512, kernel_size=(3, 3), stride=(1, 1), padding=(1, 1))\n",
       "          )\n",
       "          (h_upd): Identity()\n",
       "          (x_upd): Identity()\n",
       "          (emb_layers): Sequential(\n",
       "            (0): SiLU()\n",
       "            (1): Linear(in_features=512, out_features=1024, bias=True)\n",
       "          )\n",
       "          (cond_emb_layers): Sequential(\n",
       "            (0): SiLU()\n",
       "            (1): Linear(in_features=512, out_features=512, bias=True)\n",
       "          )\n",
       "          (out_layers): Sequential(\n",
       "            (0): GroupNorm32(32, 512, eps=1e-05, affine=True)\n",
       "            (1): SiLU()\n",
       "            (2): Dropout(p=0.1, inplace=False)\n",
       "            (3): Conv2d(512, 512, kernel_size=(3, 3), stride=(1, 1), padding=(1, 1))\n",
       "          )\n",
       "          (skip_connection): Conv2d(1024, 512, kernel_size=(1, 1), stride=(1, 1))\n",
       "        )\n",
       "      )\n",
       "      (1): TimestepEmbedSequential(\n",
       "        (0): ResBlock(\n",
       "          (in_layers): Sequential(\n",
       "            (0): GroupNorm32(32, 1024, eps=1e-05, affine=True)\n",
       "            (1): SiLU()\n",
       "            (2): Conv2d(1024, 512, kernel_size=(3, 3), stride=(1, 1), padding=(1, 1))\n",
       "          )\n",
       "          (h_upd): Identity()\n",
       "          (x_upd): Identity()\n",
       "          (emb_layers): Sequential(\n",
       "            (0): SiLU()\n",
       "            (1): Linear(in_features=512, out_features=1024, bias=True)\n",
       "          )\n",
       "          (cond_emb_layers): Sequential(\n",
       "            (0): SiLU()\n",
       "            (1): Linear(in_features=512, out_features=512, bias=True)\n",
       "          )\n",
       "          (out_layers): Sequential(\n",
       "            (0): GroupNorm32(32, 512, eps=1e-05, affine=True)\n",
       "            (1): SiLU()\n",
       "            (2): Dropout(p=0.1, inplace=False)\n",
       "            (3): Conv2d(512, 512, kernel_size=(3, 3), stride=(1, 1), padding=(1, 1))\n",
       "          )\n",
       "          (skip_connection): Conv2d(1024, 512, kernel_size=(1, 1), stride=(1, 1))\n",
       "        )\n",
       "      )\n",
       "      (2): TimestepEmbedSequential(\n",
       "        (0): ResBlock(\n",
       "          (in_layers): Sequential(\n",
       "            (0): GroupNorm32(32, 1024, eps=1e-05, affine=True)\n",
       "            (1): SiLU()\n",
       "            (2): Conv2d(1024, 512, kernel_size=(3, 3), stride=(1, 1), padding=(1, 1))\n",
       "          )\n",
       "          (h_upd): Identity()\n",
       "          (x_upd): Identity()\n",
       "          (emb_layers): Sequential(\n",
       "            (0): SiLU()\n",
       "            (1): Linear(in_features=512, out_features=1024, bias=True)\n",
       "          )\n",
       "          (cond_emb_layers): Sequential(\n",
       "            (0): SiLU()\n",
       "            (1): Linear(in_features=512, out_features=512, bias=True)\n",
       "          )\n",
       "          (out_layers): Sequential(\n",
       "            (0): GroupNorm32(32, 512, eps=1e-05, affine=True)\n",
       "            (1): SiLU()\n",
       "            (2): Dropout(p=0.1, inplace=False)\n",
       "            (3): Conv2d(512, 512, kernel_size=(3, 3), stride=(1, 1), padding=(1, 1))\n",
       "          )\n",
       "          (skip_connection): Conv2d(1024, 512, kernel_size=(1, 1), stride=(1, 1))\n",
       "        )\n",
       "        (1): ResBlock(\n",
       "          (in_layers): Sequential(\n",
       "            (0): GroupNorm32(32, 512, eps=1e-05, affine=True)\n",
       "            (1): SiLU()\n",
       "            (2): Conv2d(512, 512, kernel_size=(3, 3), stride=(1, 1), padding=(1, 1))\n",
       "          )\n",
       "          (h_upd): Upsample()\n",
       "          (x_upd): Upsample()\n",
       "          (emb_layers): Sequential(\n",
       "            (0): SiLU()\n",
       "            (1): Linear(in_features=512, out_features=1024, bias=True)\n",
       "          )\n",
       "          (cond_emb_layers): Sequential(\n",
       "            (0): SiLU()\n",
       "            (1): Linear(in_features=512, out_features=512, bias=True)\n",
       "          )\n",
       "          (out_layers): Sequential(\n",
       "            (0): GroupNorm32(32, 512, eps=1e-05, affine=True)\n",
       "            (1): SiLU()\n",
       "            (2): Dropout(p=0.1, inplace=False)\n",
       "            (3): Conv2d(512, 512, kernel_size=(3, 3), stride=(1, 1), padding=(1, 1))\n",
       "          )\n",
       "          (skip_connection): Identity()\n",
       "        )\n",
       "      )\n",
       "      (3): TimestepEmbedSequential(\n",
       "        (0): ResBlock(\n",
       "          (in_layers): Sequential(\n",
       "            (0): GroupNorm32(32, 1024, eps=1e-05, affine=True)\n",
       "            (1): SiLU()\n",
       "            (2): Conv2d(1024, 512, kernel_size=(3, 3), stride=(1, 1), padding=(1, 1))\n",
       "          )\n",
       "          (h_upd): Identity()\n",
       "          (x_upd): Identity()\n",
       "          (emb_layers): Sequential(\n",
       "            (0): SiLU()\n",
       "            (1): Linear(in_features=512, out_features=1024, bias=True)\n",
       "          )\n",
       "          (cond_emb_layers): Sequential(\n",
       "            (0): SiLU()\n",
       "            (1): Linear(in_features=512, out_features=512, bias=True)\n",
       "          )\n",
       "          (out_layers): Sequential(\n",
       "            (0): GroupNorm32(32, 512, eps=1e-05, affine=True)\n",
       "            (1): SiLU()\n",
       "            (2): Dropout(p=0.1, inplace=False)\n",
       "            (3): Conv2d(512, 512, kernel_size=(3, 3), stride=(1, 1), padding=(1, 1))\n",
       "          )\n",
       "          (skip_connection): Conv2d(1024, 512, kernel_size=(1, 1), stride=(1, 1))\n",
       "        )\n",
       "        (1): AttentionBlock(\n",
       "          (norm): GroupNorm32(32, 512, eps=1e-05, affine=True)\n",
       "          (qkv): Conv1d(512, 1536, kernel_size=(1,), stride=(1,))\n",
       "          (attention): QKVAttentionLegacy()\n",
       "          (proj_out): Conv1d(512, 512, kernel_size=(1,), stride=(1,))\n",
       "        )\n",
       "      )\n",
       "      (4): TimestepEmbedSequential(\n",
       "        (0): ResBlock(\n",
       "          (in_layers): Sequential(\n",
       "            (0): GroupNorm32(32, 1024, eps=1e-05, affine=True)\n",
       "            (1): SiLU()\n",
       "            (2): Conv2d(1024, 512, kernel_size=(3, 3), stride=(1, 1), padding=(1, 1))\n",
       "          )\n",
       "          (h_upd): Identity()\n",
       "          (x_upd): Identity()\n",
       "          (emb_layers): Sequential(\n",
       "            (0): SiLU()\n",
       "            (1): Linear(in_features=512, out_features=1024, bias=True)\n",
       "          )\n",
       "          (cond_emb_layers): Sequential(\n",
       "            (0): SiLU()\n",
       "            (1): Linear(in_features=512, out_features=512, bias=True)\n",
       "          )\n",
       "          (out_layers): Sequential(\n",
       "            (0): GroupNorm32(32, 512, eps=1e-05, affine=True)\n",
       "            (1): SiLU()\n",
       "            (2): Dropout(p=0.1, inplace=False)\n",
       "            (3): Conv2d(512, 512, kernel_size=(3, 3), stride=(1, 1), padding=(1, 1))\n",
       "          )\n",
       "          (skip_connection): Conv2d(1024, 512, kernel_size=(1, 1), stride=(1, 1))\n",
       "        )\n",
       "        (1): AttentionBlock(\n",
       "          (norm): GroupNorm32(32, 512, eps=1e-05, affine=True)\n",
       "          (qkv): Conv1d(512, 1536, kernel_size=(1,), stride=(1,))\n",
       "          (attention): QKVAttentionLegacy()\n",
       "          (proj_out): Conv1d(512, 512, kernel_size=(1,), stride=(1,))\n",
       "        )\n",
       "      )\n",
       "      (5): TimestepEmbedSequential(\n",
       "        (0): ResBlock(\n",
       "          (in_layers): Sequential(\n",
       "            (0): GroupNorm32(32, 768, eps=1e-05, affine=True)\n",
       "            (1): SiLU()\n",
       "            (2): Conv2d(768, 512, kernel_size=(3, 3), stride=(1, 1), padding=(1, 1))\n",
       "          )\n",
       "          (h_upd): Identity()\n",
       "          (x_upd): Identity()\n",
       "          (emb_layers): Sequential(\n",
       "            (0): SiLU()\n",
       "            (1): Linear(in_features=512, out_features=1024, bias=True)\n",
       "          )\n",
       "          (cond_emb_layers): Sequential(\n",
       "            (0): SiLU()\n",
       "            (1): Linear(in_features=512, out_features=512, bias=True)\n",
       "          )\n",
       "          (out_layers): Sequential(\n",
       "            (0): GroupNorm32(32, 512, eps=1e-05, affine=True)\n",
       "            (1): SiLU()\n",
       "            (2): Dropout(p=0.1, inplace=False)\n",
       "            (3): Conv2d(512, 512, kernel_size=(3, 3), stride=(1, 1), padding=(1, 1))\n",
       "          )\n",
       "          (skip_connection): Conv2d(768, 512, kernel_size=(1, 1), stride=(1, 1))\n",
       "        )\n",
       "        (1): AttentionBlock(\n",
       "          (norm): GroupNorm32(32, 512, eps=1e-05, affine=True)\n",
       "          (qkv): Conv1d(512, 1536, kernel_size=(1,), stride=(1,))\n",
       "          (attention): QKVAttentionLegacy()\n",
       "          (proj_out): Conv1d(512, 512, kernel_size=(1,), stride=(1,))\n",
       "        )\n",
       "        (2): ResBlock(\n",
       "          (in_layers): Sequential(\n",
       "            (0): GroupNorm32(32, 512, eps=1e-05, affine=True)\n",
       "            (1): SiLU()\n",
       "            (2): Conv2d(512, 512, kernel_size=(3, 3), stride=(1, 1), padding=(1, 1))\n",
       "          )\n",
       "          (h_upd): Upsample()\n",
       "          (x_upd): Upsample()\n",
       "          (emb_layers): Sequential(\n",
       "            (0): SiLU()\n",
       "            (1): Linear(in_features=512, out_features=1024, bias=True)\n",
       "          )\n",
       "          (cond_emb_layers): Sequential(\n",
       "            (0): SiLU()\n",
       "            (1): Linear(in_features=512, out_features=512, bias=True)\n",
       "          )\n",
       "          (out_layers): Sequential(\n",
       "            (0): GroupNorm32(32, 512, eps=1e-05, affine=True)\n",
       "            (1): SiLU()\n",
       "            (2): Dropout(p=0.1, inplace=False)\n",
       "            (3): Conv2d(512, 512, kernel_size=(3, 3), stride=(1, 1), padding=(1, 1))\n",
       "          )\n",
       "          (skip_connection): Identity()\n",
       "        )\n",
       "      )\n",
       "      (6): TimestepEmbedSequential(\n",
       "        (0): ResBlock(\n",
       "          (in_layers): Sequential(\n",
       "            (0): GroupNorm32(32, 768, eps=1e-05, affine=True)\n",
       "            (1): SiLU()\n",
       "            (2): Conv2d(768, 256, kernel_size=(3, 3), stride=(1, 1), padding=(1, 1))\n",
       "          )\n",
       "          (h_upd): Identity()\n",
       "          (x_upd): Identity()\n",
       "          (emb_layers): Sequential(\n",
       "            (0): SiLU()\n",
       "            (1): Linear(in_features=512, out_features=512, bias=True)\n",
       "          )\n",
       "          (cond_emb_layers): Sequential(\n",
       "            (0): SiLU()\n",
       "            (1): Linear(in_features=512, out_features=256, bias=True)\n",
       "          )\n",
       "          (out_layers): Sequential(\n",
       "            (0): GroupNorm32(32, 256, eps=1e-05, affine=True)\n",
       "            (1): SiLU()\n",
       "            (2): Dropout(p=0.1, inplace=False)\n",
       "            (3): Conv2d(256, 256, kernel_size=(3, 3), stride=(1, 1), padding=(1, 1))\n",
       "          )\n",
       "          (skip_connection): Conv2d(768, 256, kernel_size=(1, 1), stride=(1, 1))\n",
       "        )\n",
       "      )\n",
       "      (7): TimestepEmbedSequential(\n",
       "        (0): ResBlock(\n",
       "          (in_layers): Sequential(\n",
       "            (0): GroupNorm32(32, 512, eps=1e-05, affine=True)\n",
       "            (1): SiLU()\n",
       "            (2): Conv2d(512, 256, kernel_size=(3, 3), stride=(1, 1), padding=(1, 1))\n",
       "          )\n",
       "          (h_upd): Identity()\n",
       "          (x_upd): Identity()\n",
       "          (emb_layers): Sequential(\n",
       "            (0): SiLU()\n",
       "            (1): Linear(in_features=512, out_features=512, bias=True)\n",
       "          )\n",
       "          (cond_emb_layers): Sequential(\n",
       "            (0): SiLU()\n",
       "            (1): Linear(in_features=512, out_features=256, bias=True)\n",
       "          )\n",
       "          (out_layers): Sequential(\n",
       "            (0): GroupNorm32(32, 256, eps=1e-05, affine=True)\n",
       "            (1): SiLU()\n",
       "            (2): Dropout(p=0.1, inplace=False)\n",
       "            (3): Conv2d(256, 256, kernel_size=(3, 3), stride=(1, 1), padding=(1, 1))\n",
       "          )\n",
       "          (skip_connection): Conv2d(512, 256, kernel_size=(1, 1), stride=(1, 1))\n",
       "        )\n",
       "      )\n",
       "      (8): TimestepEmbedSequential(\n",
       "        (0): ResBlock(\n",
       "          (in_layers): Sequential(\n",
       "            (0): GroupNorm32(32, 512, eps=1e-05, affine=True)\n",
       "            (1): SiLU()\n",
       "            (2): Conv2d(512, 256, kernel_size=(3, 3), stride=(1, 1), padding=(1, 1))\n",
       "          )\n",
       "          (h_upd): Identity()\n",
       "          (x_upd): Identity()\n",
       "          (emb_layers): Sequential(\n",
       "            (0): SiLU()\n",
       "            (1): Linear(in_features=512, out_features=512, bias=True)\n",
       "          )\n",
       "          (cond_emb_layers): Sequential(\n",
       "            (0): SiLU()\n",
       "            (1): Linear(in_features=512, out_features=256, bias=True)\n",
       "          )\n",
       "          (out_layers): Sequential(\n",
       "            (0): GroupNorm32(32, 256, eps=1e-05, affine=True)\n",
       "            (1): SiLU()\n",
       "            (2): Dropout(p=0.1, inplace=False)\n",
       "            (3): Conv2d(256, 256, kernel_size=(3, 3), stride=(1, 1), padding=(1, 1))\n",
       "          )\n",
       "          (skip_connection): Conv2d(512, 256, kernel_size=(1, 1), stride=(1, 1))\n",
       "        )\n",
       "        (1): ResBlock(\n",
       "          (in_layers): Sequential(\n",
       "            (0): GroupNorm32(32, 256, eps=1e-05, affine=True)\n",
       "            (1): SiLU()\n",
       "            (2): Conv2d(256, 256, kernel_size=(3, 3), stride=(1, 1), padding=(1, 1))\n",
       "          )\n",
       "          (h_upd): Upsample()\n",
       "          (x_upd): Upsample()\n",
       "          (emb_layers): Sequential(\n",
       "            (0): SiLU()\n",
       "            (1): Linear(in_features=512, out_features=512, bias=True)\n",
       "          )\n",
       "          (cond_emb_layers): Sequential(\n",
       "            (0): SiLU()\n",
       "            (1): Linear(in_features=512, out_features=256, bias=True)\n",
       "          )\n",
       "          (out_layers): Sequential(\n",
       "            (0): GroupNorm32(32, 256, eps=1e-05, affine=True)\n",
       "            (1): SiLU()\n",
       "            (2): Dropout(p=0.1, inplace=False)\n",
       "            (3): Conv2d(256, 256, kernel_size=(3, 3), stride=(1, 1), padding=(1, 1))\n",
       "          )\n",
       "          (skip_connection): Identity()\n",
       "        )\n",
       "      )\n",
       "      (9): TimestepEmbedSequential(\n",
       "        (0): ResBlock(\n",
       "          (in_layers): Sequential(\n",
       "            (0): GroupNorm32(32, 512, eps=1e-05, affine=True)\n",
       "            (1): SiLU()\n",
       "            (2): Conv2d(512, 256, kernel_size=(3, 3), stride=(1, 1), padding=(1, 1))\n",
       "          )\n",
       "          (h_upd): Identity()\n",
       "          (x_upd): Identity()\n",
       "          (emb_layers): Sequential(\n",
       "            (0): SiLU()\n",
       "            (1): Linear(in_features=512, out_features=512, bias=True)\n",
       "          )\n",
       "          (cond_emb_layers): Sequential(\n",
       "            (0): SiLU()\n",
       "            (1): Linear(in_features=512, out_features=256, bias=True)\n",
       "          )\n",
       "          (out_layers): Sequential(\n",
       "            (0): GroupNorm32(32, 256, eps=1e-05, affine=True)\n",
       "            (1): SiLU()\n",
       "            (2): Dropout(p=0.1, inplace=False)\n",
       "            (3): Conv2d(256, 256, kernel_size=(3, 3), stride=(1, 1), padding=(1, 1))\n",
       "          )\n",
       "          (skip_connection): Conv2d(512, 256, kernel_size=(1, 1), stride=(1, 1))\n",
       "        )\n",
       "      )\n",
       "      (10): TimestepEmbedSequential(\n",
       "        (0): ResBlock(\n",
       "          (in_layers): Sequential(\n",
       "            (0): GroupNorm32(32, 512, eps=1e-05, affine=True)\n",
       "            (1): SiLU()\n",
       "            (2): Conv2d(512, 256, kernel_size=(3, 3), stride=(1, 1), padding=(1, 1))\n",
       "          )\n",
       "          (h_upd): Identity()\n",
       "          (x_upd): Identity()\n",
       "          (emb_layers): Sequential(\n",
       "            (0): SiLU()\n",
       "            (1): Linear(in_features=512, out_features=512, bias=True)\n",
       "          )\n",
       "          (cond_emb_layers): Sequential(\n",
       "            (0): SiLU()\n",
       "            (1): Linear(in_features=512, out_features=256, bias=True)\n",
       "          )\n",
       "          (out_layers): Sequential(\n",
       "            (0): GroupNorm32(32, 256, eps=1e-05, affine=True)\n",
       "            (1): SiLU()\n",
       "            (2): Dropout(p=0.1, inplace=False)\n",
       "            (3): Conv2d(256, 256, kernel_size=(3, 3), stride=(1, 1), padding=(1, 1))\n",
       "          )\n",
       "          (skip_connection): Conv2d(512, 256, kernel_size=(1, 1), stride=(1, 1))\n",
       "        )\n",
       "      )\n",
       "      (11): TimestepEmbedSequential(\n",
       "        (0): ResBlock(\n",
       "          (in_layers): Sequential(\n",
       "            (0): GroupNorm32(32, 384, eps=1e-05, affine=True)\n",
       "            (1): SiLU()\n",
       "            (2): Conv2d(384, 256, kernel_size=(3, 3), stride=(1, 1), padding=(1, 1))\n",
       "          )\n",
       "          (h_upd): Identity()\n",
       "          (x_upd): Identity()\n",
       "          (emb_layers): Sequential(\n",
       "            (0): SiLU()\n",
       "            (1): Linear(in_features=512, out_features=512, bias=True)\n",
       "          )\n",
       "          (cond_emb_layers): Sequential(\n",
       "            (0): SiLU()\n",
       "            (1): Linear(in_features=512, out_features=256, bias=True)\n",
       "          )\n",
       "          (out_layers): Sequential(\n",
       "            (0): GroupNorm32(32, 256, eps=1e-05, affine=True)\n",
       "            (1): SiLU()\n",
       "            (2): Dropout(p=0.1, inplace=False)\n",
       "            (3): Conv2d(256, 256, kernel_size=(3, 3), stride=(1, 1), padding=(1, 1))\n",
       "          )\n",
       "          (skip_connection): Conv2d(384, 256, kernel_size=(1, 1), stride=(1, 1))\n",
       "        )\n",
       "        (1): ResBlock(\n",
       "          (in_layers): Sequential(\n",
       "            (0): GroupNorm32(32, 256, eps=1e-05, affine=True)\n",
       "            (1): SiLU()\n",
       "            (2): Conv2d(256, 256, kernel_size=(3, 3), stride=(1, 1), padding=(1, 1))\n",
       "          )\n",
       "          (h_upd): Upsample()\n",
       "          (x_upd): Upsample()\n",
       "          (emb_layers): Sequential(\n",
       "            (0): SiLU()\n",
       "            (1): Linear(in_features=512, out_features=512, bias=True)\n",
       "          )\n",
       "          (cond_emb_layers): Sequential(\n",
       "            (0): SiLU()\n",
       "            (1): Linear(in_features=512, out_features=256, bias=True)\n",
       "          )\n",
       "          (out_layers): Sequential(\n",
       "            (0): GroupNorm32(32, 256, eps=1e-05, affine=True)\n",
       "            (1): SiLU()\n",
       "            (2): Dropout(p=0.1, inplace=False)\n",
       "            (3): Conv2d(256, 256, kernel_size=(3, 3), stride=(1, 1), padding=(1, 1))\n",
       "          )\n",
       "          (skip_connection): Identity()\n",
       "        )\n",
       "      )\n",
       "      (12): TimestepEmbedSequential(\n",
       "        (0): ResBlock(\n",
       "          (in_layers): Sequential(\n",
       "            (0): GroupNorm32(32, 384, eps=1e-05, affine=True)\n",
       "            (1): SiLU()\n",
       "            (2): Conv2d(384, 128, kernel_size=(3, 3), stride=(1, 1), padding=(1, 1))\n",
       "          )\n",
       "          (h_upd): Identity()\n",
       "          (x_upd): Identity()\n",
       "          (emb_layers): Sequential(\n",
       "            (0): SiLU()\n",
       "            (1): Linear(in_features=512, out_features=256, bias=True)\n",
       "          )\n",
       "          (cond_emb_layers): Sequential(\n",
       "            (0): SiLU()\n",
       "            (1): Linear(in_features=512, out_features=128, bias=True)\n",
       "          )\n",
       "          (out_layers): Sequential(\n",
       "            (0): GroupNorm32(32, 128, eps=1e-05, affine=True)\n",
       "            (1): SiLU()\n",
       "            (2): Dropout(p=0.1, inplace=False)\n",
       "            (3): Conv2d(128, 128, kernel_size=(3, 3), stride=(1, 1), padding=(1, 1))\n",
       "          )\n",
       "          (skip_connection): Conv2d(384, 128, kernel_size=(1, 1), stride=(1, 1))\n",
       "        )\n",
       "      )\n",
       "      (13): TimestepEmbedSequential(\n",
       "        (0): ResBlock(\n",
       "          (in_layers): Sequential(\n",
       "            (0): GroupNorm32(32, 256, eps=1e-05, affine=True)\n",
       "            (1): SiLU()\n",
       "            (2): Conv2d(256, 128, kernel_size=(3, 3), stride=(1, 1), padding=(1, 1))\n",
       "          )\n",
       "          (h_upd): Identity()\n",
       "          (x_upd): Identity()\n",
       "          (emb_layers): Sequential(\n",
       "            (0): SiLU()\n",
       "            (1): Linear(in_features=512, out_features=256, bias=True)\n",
       "          )\n",
       "          (cond_emb_layers): Sequential(\n",
       "            (0): SiLU()\n",
       "            (1): Linear(in_features=512, out_features=128, bias=True)\n",
       "          )\n",
       "          (out_layers): Sequential(\n",
       "            (0): GroupNorm32(32, 128, eps=1e-05, affine=True)\n",
       "            (1): SiLU()\n",
       "            (2): Dropout(p=0.1, inplace=False)\n",
       "            (3): Conv2d(128, 128, kernel_size=(3, 3), stride=(1, 1), padding=(1, 1))\n",
       "          )\n",
       "          (skip_connection): Conv2d(256, 128, kernel_size=(1, 1), stride=(1, 1))\n",
       "        )\n",
       "      )\n",
       "      (14): TimestepEmbedSequential(\n",
       "        (0): ResBlock(\n",
       "          (in_layers): Sequential(\n",
       "            (0): GroupNorm32(32, 256, eps=1e-05, affine=True)\n",
       "            (1): SiLU()\n",
       "            (2): Conv2d(256, 128, kernel_size=(3, 3), stride=(1, 1), padding=(1, 1))\n",
       "          )\n",
       "          (h_upd): Identity()\n",
       "          (x_upd): Identity()\n",
       "          (emb_layers): Sequential(\n",
       "            (0): SiLU()\n",
       "            (1): Linear(in_features=512, out_features=256, bias=True)\n",
       "          )\n",
       "          (cond_emb_layers): Sequential(\n",
       "            (0): SiLU()\n",
       "            (1): Linear(in_features=512, out_features=128, bias=True)\n",
       "          )\n",
       "          (out_layers): Sequential(\n",
       "            (0): GroupNorm32(32, 128, eps=1e-05, affine=True)\n",
       "            (1): SiLU()\n",
       "            (2): Dropout(p=0.1, inplace=False)\n",
       "            (3): Conv2d(128, 128, kernel_size=(3, 3), stride=(1, 1), padding=(1, 1))\n",
       "          )\n",
       "          (skip_connection): Conv2d(256, 128, kernel_size=(1, 1), stride=(1, 1))\n",
       "        )\n",
       "        (1): ResBlock(\n",
       "          (in_layers): Sequential(\n",
       "            (0): GroupNorm32(32, 128, eps=1e-05, affine=True)\n",
       "            (1): SiLU()\n",
       "            (2): Conv2d(128, 128, kernel_size=(3, 3), stride=(1, 1), padding=(1, 1))\n",
       "          )\n",
       "          (h_upd): Upsample()\n",
       "          (x_upd): Upsample()\n",
       "          (emb_layers): Sequential(\n",
       "            (0): SiLU()\n",
       "            (1): Linear(in_features=512, out_features=256, bias=True)\n",
       "          )\n",
       "          (cond_emb_layers): Sequential(\n",
       "            (0): SiLU()\n",
       "            (1): Linear(in_features=512, out_features=128, bias=True)\n",
       "          )\n",
       "          (out_layers): Sequential(\n",
       "            (0): GroupNorm32(32, 128, eps=1e-05, affine=True)\n",
       "            (1): SiLU()\n",
       "            (2): Dropout(p=0.1, inplace=False)\n",
       "            (3): Conv2d(128, 128, kernel_size=(3, 3), stride=(1, 1), padding=(1, 1))\n",
       "          )\n",
       "          (skip_connection): Identity()\n",
       "        )\n",
       "      )\n",
       "      (15): TimestepEmbedSequential(\n",
       "        (0): ResBlock(\n",
       "          (in_layers): Sequential(\n",
       "            (0): GroupNorm32(32, 256, eps=1e-05, affine=True)\n",
       "            (1): SiLU()\n",
       "            (2): Conv2d(256, 128, kernel_size=(3, 3), stride=(1, 1), padding=(1, 1))\n",
       "          )\n",
       "          (h_upd): Identity()\n",
       "          (x_upd): Identity()\n",
       "          (emb_layers): Sequential(\n",
       "            (0): SiLU()\n",
       "            (1): Linear(in_features=512, out_features=256, bias=True)\n",
       "          )\n",
       "          (cond_emb_layers): Sequential(\n",
       "            (0): SiLU()\n",
       "            (1): Linear(in_features=512, out_features=128, bias=True)\n",
       "          )\n",
       "          (out_layers): Sequential(\n",
       "            (0): GroupNorm32(32, 128, eps=1e-05, affine=True)\n",
       "            (1): SiLU()\n",
       "            (2): Dropout(p=0.1, inplace=False)\n",
       "            (3): Conv2d(128, 128, kernel_size=(3, 3), stride=(1, 1), padding=(1, 1))\n",
       "          )\n",
       "          (skip_connection): Conv2d(256, 128, kernel_size=(1, 1), stride=(1, 1))\n",
       "        )\n",
       "      )\n",
       "      (16): TimestepEmbedSequential(\n",
       "        (0): ResBlock(\n",
       "          (in_layers): Sequential(\n",
       "            (0): GroupNorm32(32, 256, eps=1e-05, affine=True)\n",
       "            (1): SiLU()\n",
       "            (2): Conv2d(256, 128, kernel_size=(3, 3), stride=(1, 1), padding=(1, 1))\n",
       "          )\n",
       "          (h_upd): Identity()\n",
       "          (x_upd): Identity()\n",
       "          (emb_layers): Sequential(\n",
       "            (0): SiLU()\n",
       "            (1): Linear(in_features=512, out_features=256, bias=True)\n",
       "          )\n",
       "          (cond_emb_layers): Sequential(\n",
       "            (0): SiLU()\n",
       "            (1): Linear(in_features=512, out_features=128, bias=True)\n",
       "          )\n",
       "          (out_layers): Sequential(\n",
       "            (0): GroupNorm32(32, 128, eps=1e-05, affine=True)\n",
       "            (1): SiLU()\n",
       "            (2): Dropout(p=0.1, inplace=False)\n",
       "            (3): Conv2d(128, 128, kernel_size=(3, 3), stride=(1, 1), padding=(1, 1))\n",
       "          )\n",
       "          (skip_connection): Conv2d(256, 128, kernel_size=(1, 1), stride=(1, 1))\n",
       "        )\n",
       "      )\n",
       "      (17): TimestepEmbedSequential(\n",
       "        (0): ResBlock(\n",
       "          (in_layers): Sequential(\n",
       "            (0): GroupNorm32(32, 256, eps=1e-05, affine=True)\n",
       "            (1): SiLU()\n",
       "            (2): Conv2d(256, 128, kernel_size=(3, 3), stride=(1, 1), padding=(1, 1))\n",
       "          )\n",
       "          (h_upd): Identity()\n",
       "          (x_upd): Identity()\n",
       "          (emb_layers): Sequential(\n",
       "            (0): SiLU()\n",
       "            (1): Linear(in_features=512, out_features=256, bias=True)\n",
       "          )\n",
       "          (cond_emb_layers): Sequential(\n",
       "            (0): SiLU()\n",
       "            (1): Linear(in_features=512, out_features=128, bias=True)\n",
       "          )\n",
       "          (out_layers): Sequential(\n",
       "            (0): GroupNorm32(32, 128, eps=1e-05, affine=True)\n",
       "            (1): SiLU()\n",
       "            (2): Dropout(p=0.1, inplace=False)\n",
       "            (3): Conv2d(128, 128, kernel_size=(3, 3), stride=(1, 1), padding=(1, 1))\n",
       "          )\n",
       "          (skip_connection): Conv2d(256, 128, kernel_size=(1, 1), stride=(1, 1))\n",
       "        )\n",
       "      )\n",
       "    )\n",
       "    (out): Sequential(\n",
       "      (0): GroupNorm32(32, 128, eps=1e-05, affine=True)\n",
       "      (1): SiLU()\n",
       "      (2): Conv2d(128, 3, kernel_size=(3, 3), stride=(1, 1), padding=(1, 1))\n",
       "    )\n",
       "    (encoder): BeatGANsEncoderModel(\n",
       "      (input_blocks): ModuleList(\n",
       "        (0): TimestepEmbedSequential(\n",
       "          (0): Conv2d(3, 128, kernel_size=(3, 3), stride=(1, 1), padding=(1, 1))\n",
       "        )\n",
       "        (1): TimestepEmbedSequential(\n",
       "          (0): ResBlock(\n",
       "            (in_layers): Sequential(\n",
       "              (0): GroupNorm32(32, 128, eps=1e-05, affine=True)\n",
       "              (1): SiLU()\n",
       "              (2): Conv2d(128, 128, kernel_size=(3, 3), stride=(1, 1), padding=(1, 1))\n",
       "            )\n",
       "            (h_upd): Identity()\n",
       "            (x_upd): Identity()\n",
       "            (skip_connection): Identity()\n",
       "          )\n",
       "        )\n",
       "        (2): TimestepEmbedSequential(\n",
       "          (0): ResBlock(\n",
       "            (in_layers): Sequential(\n",
       "              (0): GroupNorm32(32, 128, eps=1e-05, affine=True)\n",
       "              (1): SiLU()\n",
       "              (2): Conv2d(128, 128, kernel_size=(3, 3), stride=(1, 1), padding=(1, 1))\n",
       "            )\n",
       "            (h_upd): Identity()\n",
       "            (x_upd): Identity()\n",
       "            (skip_connection): Identity()\n",
       "          )\n",
       "        )\n",
       "        (3): TimestepEmbedSequential(\n",
       "          (0): ResBlock(\n",
       "            (in_layers): Sequential(\n",
       "              (0): GroupNorm32(32, 128, eps=1e-05, affine=True)\n",
       "              (1): SiLU()\n",
       "              (2): Conv2d(128, 128, kernel_size=(3, 3), stride=(1, 1), padding=(1, 1))\n",
       "            )\n",
       "            (h_upd): Downsample(\n",
       "              (op): AvgPool2d(kernel_size=2, stride=2, padding=0)\n",
       "            )\n",
       "            (x_upd): Downsample(\n",
       "              (op): AvgPool2d(kernel_size=2, stride=2, padding=0)\n",
       "            )\n",
       "            (skip_connection): Identity()\n",
       "          )\n",
       "        )\n",
       "        (4): TimestepEmbedSequential(\n",
       "          (0): ResBlock(\n",
       "            (in_layers): Sequential(\n",
       "              (0): GroupNorm32(32, 128, eps=1e-05, affine=True)\n",
       "              (1): SiLU()\n",
       "              (2): Conv2d(128, 128, kernel_size=(3, 3), stride=(1, 1), padding=(1, 1))\n",
       "            )\n",
       "            (h_upd): Identity()\n",
       "            (x_upd): Identity()\n",
       "            (skip_connection): Identity()\n",
       "          )\n",
       "        )\n",
       "        (5): TimestepEmbedSequential(\n",
       "          (0): ResBlock(\n",
       "            (in_layers): Sequential(\n",
       "              (0): GroupNorm32(32, 128, eps=1e-05, affine=True)\n",
       "              (1): SiLU()\n",
       "              (2): Conv2d(128, 128, kernel_size=(3, 3), stride=(1, 1), padding=(1, 1))\n",
       "            )\n",
       "            (h_upd): Identity()\n",
       "            (x_upd): Identity()\n",
       "            (skip_connection): Identity()\n",
       "          )\n",
       "        )\n",
       "        (6): TimestepEmbedSequential(\n",
       "          (0): ResBlock(\n",
       "            (in_layers): Sequential(\n",
       "              (0): GroupNorm32(32, 128, eps=1e-05, affine=True)\n",
       "              (1): SiLU()\n",
       "              (2): Conv2d(128, 128, kernel_size=(3, 3), stride=(1, 1), padding=(1, 1))\n",
       "            )\n",
       "            (h_upd): Downsample(\n",
       "              (op): AvgPool2d(kernel_size=2, stride=2, padding=0)\n",
       "            )\n",
       "            (x_upd): Downsample(\n",
       "              (op): AvgPool2d(kernel_size=2, stride=2, padding=0)\n",
       "            )\n",
       "            (skip_connection): Identity()\n",
       "          )\n",
       "        )\n",
       "        (7): TimestepEmbedSequential(\n",
       "          (0): ResBlock(\n",
       "            (in_layers): Sequential(\n",
       "              (0): GroupNorm32(32, 128, eps=1e-05, affine=True)\n",
       "              (1): SiLU()\n",
       "              (2): Conv2d(128, 256, kernel_size=(3, 3), stride=(1, 1), padding=(1, 1))\n",
       "            )\n",
       "            (h_upd): Identity()\n",
       "            (x_upd): Identity()\n",
       "            (skip_connection): Conv2d(128, 256, kernel_size=(1, 1), stride=(1, 1))\n",
       "          )\n",
       "        )\n",
       "        (8): TimestepEmbedSequential(\n",
       "          (0): ResBlock(\n",
       "            (in_layers): Sequential(\n",
       "              (0): GroupNorm32(32, 256, eps=1e-05, affine=True)\n",
       "              (1): SiLU()\n",
       "              (2): Conv2d(256, 256, kernel_size=(3, 3), stride=(1, 1), padding=(1, 1))\n",
       "            )\n",
       "            (h_upd): Identity()\n",
       "            (x_upd): Identity()\n",
       "            (skip_connection): Identity()\n",
       "          )\n",
       "        )\n",
       "        (9): TimestepEmbedSequential(\n",
       "          (0): ResBlock(\n",
       "            (in_layers): Sequential(\n",
       "              (0): GroupNorm32(32, 256, eps=1e-05, affine=True)\n",
       "              (1): SiLU()\n",
       "              (2): Conv2d(256, 256, kernel_size=(3, 3), stride=(1, 1), padding=(1, 1))\n",
       "            )\n",
       "            (h_upd): Downsample(\n",
       "              (op): AvgPool2d(kernel_size=2, stride=2, padding=0)\n",
       "            )\n",
       "            (x_upd): Downsample(\n",
       "              (op): AvgPool2d(kernel_size=2, stride=2, padding=0)\n",
       "            )\n",
       "            (skip_connection): Identity()\n",
       "          )\n",
       "        )\n",
       "        (10): TimestepEmbedSequential(\n",
       "          (0): ResBlock(\n",
       "            (in_layers): Sequential(\n",
       "              (0): GroupNorm32(32, 256, eps=1e-05, affine=True)\n",
       "              (1): SiLU()\n",
       "              (2): Conv2d(256, 256, kernel_size=(3, 3), stride=(1, 1), padding=(1, 1))\n",
       "            )\n",
       "            (h_upd): Identity()\n",
       "            (x_upd): Identity()\n",
       "            (skip_connection): Identity()\n",
       "          )\n",
       "        )\n",
       "        (11): TimestepEmbedSequential(\n",
       "          (0): ResBlock(\n",
       "            (in_layers): Sequential(\n",
       "              (0): GroupNorm32(32, 256, eps=1e-05, affine=True)\n",
       "              (1): SiLU()\n",
       "              (2): Conv2d(256, 256, kernel_size=(3, 3), stride=(1, 1), padding=(1, 1))\n",
       "            )\n",
       "            (h_upd): Identity()\n",
       "            (x_upd): Identity()\n",
       "            (skip_connection): Identity()\n",
       "          )\n",
       "        )\n",
       "        (12): TimestepEmbedSequential(\n",
       "          (0): ResBlock(\n",
       "            (in_layers): Sequential(\n",
       "              (0): GroupNorm32(32, 256, eps=1e-05, affine=True)\n",
       "              (1): SiLU()\n",
       "              (2): Conv2d(256, 256, kernel_size=(3, 3), stride=(1, 1), padding=(1, 1))\n",
       "            )\n",
       "            (h_upd): Downsample(\n",
       "              (op): AvgPool2d(kernel_size=2, stride=2, padding=0)\n",
       "            )\n",
       "            (x_upd): Downsample(\n",
       "              (op): AvgPool2d(kernel_size=2, stride=2, padding=0)\n",
       "            )\n",
       "            (skip_connection): Identity()\n",
       "          )\n",
       "        )\n",
       "        (13): TimestepEmbedSequential(\n",
       "          (0): ResBlock(\n",
       "            (in_layers): Sequential(\n",
       "              (0): GroupNorm32(32, 256, eps=1e-05, affine=True)\n",
       "              (1): SiLU()\n",
       "              (2): Conv2d(256, 512, kernel_size=(3, 3), stride=(1, 1), padding=(1, 1))\n",
       "            )\n",
       "            (h_upd): Identity()\n",
       "            (x_upd): Identity()\n",
       "            (skip_connection): Conv2d(256, 512, kernel_size=(1, 1), stride=(1, 1))\n",
       "          )\n",
       "          (1): AttentionBlock(\n",
       "            (norm): GroupNorm32(32, 512, eps=1e-05, affine=True)\n",
       "            (qkv): Conv1d(512, 1536, kernel_size=(1,), stride=(1,))\n",
       "            (attention): QKVAttentionLegacy()\n",
       "            (proj_out): Conv1d(512, 512, kernel_size=(1,), stride=(1,))\n",
       "          )\n",
       "        )\n",
       "        (14): TimestepEmbedSequential(\n",
       "          (0): ResBlock(\n",
       "            (in_layers): Sequential(\n",
       "              (0): GroupNorm32(32, 512, eps=1e-05, affine=True)\n",
       "              (1): SiLU()\n",
       "              (2): Conv2d(512, 512, kernel_size=(3, 3), stride=(1, 1), padding=(1, 1))\n",
       "            )\n",
       "            (h_upd): Identity()\n",
       "            (x_upd): Identity()\n",
       "            (skip_connection): Identity()\n",
       "          )\n",
       "          (1): AttentionBlock(\n",
       "            (norm): GroupNorm32(32, 512, eps=1e-05, affine=True)\n",
       "            (qkv): Conv1d(512, 1536, kernel_size=(1,), stride=(1,))\n",
       "            (attention): QKVAttentionLegacy()\n",
       "            (proj_out): Conv1d(512, 512, kernel_size=(1,), stride=(1,))\n",
       "          )\n",
       "        )\n",
       "        (15): TimestepEmbedSequential(\n",
       "          (0): ResBlock(\n",
       "            (in_layers): Sequential(\n",
       "              (0): GroupNorm32(32, 512, eps=1e-05, affine=True)\n",
       "              (1): SiLU()\n",
       "              (2): Conv2d(512, 512, kernel_size=(3, 3), stride=(1, 1), padding=(1, 1))\n",
       "            )\n",
       "            (h_upd): Downsample(\n",
       "              (op): AvgPool2d(kernel_size=2, stride=2, padding=0)\n",
       "            )\n",
       "            (x_upd): Downsample(\n",
       "              (op): AvgPool2d(kernel_size=2, stride=2, padding=0)\n",
       "            )\n",
       "            (skip_connection): Identity()\n",
       "          )\n",
       "        )\n",
       "        (16): TimestepEmbedSequential(\n",
       "          (0): ResBlock(\n",
       "            (in_layers): Sequential(\n",
       "              (0): GroupNorm32(32, 512, eps=1e-05, affine=True)\n",
       "              (1): SiLU()\n",
       "              (2): Conv2d(512, 512, kernel_size=(3, 3), stride=(1, 1), padding=(1, 1))\n",
       "            )\n",
       "            (h_upd): Identity()\n",
       "            (x_upd): Identity()\n",
       "            (skip_connection): Identity()\n",
       "          )\n",
       "        )\n",
       "        (17): TimestepEmbedSequential(\n",
       "          (0): ResBlock(\n",
       "            (in_layers): Sequential(\n",
       "              (0): GroupNorm32(32, 512, eps=1e-05, affine=True)\n",
       "              (1): SiLU()\n",
       "              (2): Conv2d(512, 512, kernel_size=(3, 3), stride=(1, 1), padding=(1, 1))\n",
       "            )\n",
       "            (h_upd): Identity()\n",
       "            (x_upd): Identity()\n",
       "            (skip_connection): Identity()\n",
       "          )\n",
       "        )\n",
       "        (18): TimestepEmbedSequential(\n",
       "          (0): ResBlock(\n",
       "            (in_layers): Sequential(\n",
       "              (0): GroupNorm32(32, 512, eps=1e-05, affine=True)\n",
       "              (1): SiLU()\n",
       "              (2): Conv2d(512, 512, kernel_size=(3, 3), stride=(1, 1), padding=(1, 1))\n",
       "            )\n",
       "            (h_upd): Downsample(\n",
       "              (op): AvgPool2d(kernel_size=2, stride=2, padding=0)\n",
       "            )\n",
       "            (x_upd): Downsample(\n",
       "              (op): AvgPool2d(kernel_size=2, stride=2, padding=0)\n",
       "            )\n",
       "            (skip_connection): Identity()\n",
       "          )\n",
       "        )\n",
       "        (19): TimestepEmbedSequential(\n",
       "          (0): ResBlock(\n",
       "            (in_layers): Sequential(\n",
       "              (0): GroupNorm32(32, 512, eps=1e-05, affine=True)\n",
       "              (1): SiLU()\n",
       "              (2): Conv2d(512, 512, kernel_size=(3, 3), stride=(1, 1), padding=(1, 1))\n",
       "            )\n",
       "            (h_upd): Identity()\n",
       "            (x_upd): Identity()\n",
       "            (skip_connection): Identity()\n",
       "          )\n",
       "        )\n",
       "        (20): TimestepEmbedSequential(\n",
       "          (0): ResBlock(\n",
       "            (in_layers): Sequential(\n",
       "              (0): GroupNorm32(32, 512, eps=1e-05, affine=True)\n",
       "              (1): SiLU()\n",
       "              (2): Conv2d(512, 512, kernel_size=(3, 3), stride=(1, 1), padding=(1, 1))\n",
       "            )\n",
       "            (h_upd): Identity()\n",
       "            (x_upd): Identity()\n",
       "            (skip_connection): Identity()\n",
       "          )\n",
       "        )\n",
       "      )\n",
       "      (middle_block): TimestepEmbedSequential(\n",
       "        (0): ResBlock(\n",
       "          (in_layers): Sequential(\n",
       "            (0): GroupNorm32(32, 512, eps=1e-05, affine=True)\n",
       "            (1): SiLU()\n",
       "            (2): Conv2d(512, 512, kernel_size=(3, 3), stride=(1, 1), padding=(1, 1))\n",
       "          )\n",
       "          (h_upd): Identity()\n",
       "          (x_upd): Identity()\n",
       "          (skip_connection): Identity()\n",
       "        )\n",
       "        (1): AttentionBlock(\n",
       "          (norm): GroupNorm32(32, 512, eps=1e-05, affine=True)\n",
       "          (qkv): Conv1d(512, 1536, kernel_size=(1,), stride=(1,))\n",
       "          (attention): QKVAttentionLegacy()\n",
       "          (proj_out): Conv1d(512, 512, kernel_size=(1,), stride=(1,))\n",
       "        )\n",
       "        (2): ResBlock(\n",
       "          (in_layers): Sequential(\n",
       "            (0): GroupNorm32(32, 512, eps=1e-05, affine=True)\n",
       "            (1): SiLU()\n",
       "            (2): Conv2d(512, 512, kernel_size=(3, 3), stride=(1, 1), padding=(1, 1))\n",
       "          )\n",
       "          (h_upd): Identity()\n",
       "          (x_upd): Identity()\n",
       "          (skip_connection): Identity()\n",
       "        )\n",
       "      )\n",
       "      (out): Sequential(\n",
       "        (0): GroupNorm32(32, 512, eps=1e-05, affine=True)\n",
       "        (1): SiLU()\n",
       "        (2): AdaptiveAvgPool2d(output_size=(1, 1))\n",
       "        (3): Conv2d(512, 512, kernel_size=(1, 1), stride=(1, 1))\n",
       "        (4): Flatten(start_dim=1, end_dim=-1)\n",
       "      )\n",
       "    )\n",
       "  )\n",
       "  (ema_model): BeatGANsAutoencModel(\n",
       "    (time_embed): TimeStyleSeperateEmbed(\n",
       "      (time_embed): Sequential(\n",
       "        (0): Linear(in_features=128, out_features=512, bias=True)\n",
       "        (1): SiLU()\n",
       "        (2): Linear(in_features=512, out_features=512, bias=True)\n",
       "      )\n",
       "      (style): Identity()\n",
       "    )\n",
       "    (input_blocks): ModuleList(\n",
       "      (0): TimestepEmbedSequential(\n",
       "        (0): Conv2d(3, 128, kernel_size=(3, 3), stride=(1, 1), padding=(1, 1))\n",
       "      )\n",
       "      (1): TimestepEmbedSequential(\n",
       "        (0): ResBlock(\n",
       "          (in_layers): Sequential(\n",
       "            (0): GroupNorm32(32, 128, eps=1e-05, affine=True)\n",
       "            (1): SiLU()\n",
       "            (2): Conv2d(128, 128, kernel_size=(3, 3), stride=(1, 1), padding=(1, 1))\n",
       "          )\n",
       "          (h_upd): Identity()\n",
       "          (x_upd): Identity()\n",
       "          (emb_layers): Sequential(\n",
       "            (0): SiLU()\n",
       "            (1): Linear(in_features=512, out_features=256, bias=True)\n",
       "          )\n",
       "          (cond_emb_layers): Sequential(\n",
       "            (0): SiLU()\n",
       "            (1): Linear(in_features=512, out_features=128, bias=True)\n",
       "          )\n",
       "          (out_layers): Sequential(\n",
       "            (0): GroupNorm32(32, 128, eps=1e-05, affine=True)\n",
       "            (1): SiLU()\n",
       "            (2): Dropout(p=0.1, inplace=False)\n",
       "            (3): Conv2d(128, 128, kernel_size=(3, 3), stride=(1, 1), padding=(1, 1))\n",
       "          )\n",
       "          (skip_connection): Identity()\n",
       "        )\n",
       "      )\n",
       "      (2): TimestepEmbedSequential(\n",
       "        (0): ResBlock(\n",
       "          (in_layers): Sequential(\n",
       "            (0): GroupNorm32(32, 128, eps=1e-05, affine=True)\n",
       "            (1): SiLU()\n",
       "            (2): Conv2d(128, 128, kernel_size=(3, 3), stride=(1, 1), padding=(1, 1))\n",
       "          )\n",
       "          (h_upd): Identity()\n",
       "          (x_upd): Identity()\n",
       "          (emb_layers): Sequential(\n",
       "            (0): SiLU()\n",
       "            (1): Linear(in_features=512, out_features=256, bias=True)\n",
       "          )\n",
       "          (cond_emb_layers): Sequential(\n",
       "            (0): SiLU()\n",
       "            (1): Linear(in_features=512, out_features=128, bias=True)\n",
       "          )\n",
       "          (out_layers): Sequential(\n",
       "            (0): GroupNorm32(32, 128, eps=1e-05, affine=True)\n",
       "            (1): SiLU()\n",
       "            (2): Dropout(p=0.1, inplace=False)\n",
       "            (3): Conv2d(128, 128, kernel_size=(3, 3), stride=(1, 1), padding=(1, 1))\n",
       "          )\n",
       "          (skip_connection): Identity()\n",
       "        )\n",
       "      )\n",
       "      (3): TimestepEmbedSequential(\n",
       "        (0): ResBlock(\n",
       "          (in_layers): Sequential(\n",
       "            (0): GroupNorm32(32, 128, eps=1e-05, affine=True)\n",
       "            (1): SiLU()\n",
       "            (2): Conv2d(128, 128, kernel_size=(3, 3), stride=(1, 1), padding=(1, 1))\n",
       "          )\n",
       "          (h_upd): Downsample(\n",
       "            (op): AvgPool2d(kernel_size=2, stride=2, padding=0)\n",
       "          )\n",
       "          (x_upd): Downsample(\n",
       "            (op): AvgPool2d(kernel_size=2, stride=2, padding=0)\n",
       "          )\n",
       "          (emb_layers): Sequential(\n",
       "            (0): SiLU()\n",
       "            (1): Linear(in_features=512, out_features=256, bias=True)\n",
       "          )\n",
       "          (cond_emb_layers): Sequential(\n",
       "            (0): SiLU()\n",
       "            (1): Linear(in_features=512, out_features=128, bias=True)\n",
       "          )\n",
       "          (out_layers): Sequential(\n",
       "            (0): GroupNorm32(32, 128, eps=1e-05, affine=True)\n",
       "            (1): SiLU()\n",
       "            (2): Dropout(p=0.1, inplace=False)\n",
       "            (3): Conv2d(128, 128, kernel_size=(3, 3), stride=(1, 1), padding=(1, 1))\n",
       "          )\n",
       "          (skip_connection): Identity()\n",
       "        )\n",
       "      )\n",
       "      (4): TimestepEmbedSequential(\n",
       "        (0): ResBlock(\n",
       "          (in_layers): Sequential(\n",
       "            (0): GroupNorm32(32, 128, eps=1e-05, affine=True)\n",
       "            (1): SiLU()\n",
       "            (2): Conv2d(128, 128, kernel_size=(3, 3), stride=(1, 1), padding=(1, 1))\n",
       "          )\n",
       "          (h_upd): Identity()\n",
       "          (x_upd): Identity()\n",
       "          (emb_layers): Sequential(\n",
       "            (0): SiLU()\n",
       "            (1): Linear(in_features=512, out_features=256, bias=True)\n",
       "          )\n",
       "          (cond_emb_layers): Sequential(\n",
       "            (0): SiLU()\n",
       "            (1): Linear(in_features=512, out_features=128, bias=True)\n",
       "          )\n",
       "          (out_layers): Sequential(\n",
       "            (0): GroupNorm32(32, 128, eps=1e-05, affine=True)\n",
       "            (1): SiLU()\n",
       "            (2): Dropout(p=0.1, inplace=False)\n",
       "            (3): Conv2d(128, 128, kernel_size=(3, 3), stride=(1, 1), padding=(1, 1))\n",
       "          )\n",
       "          (skip_connection): Identity()\n",
       "        )\n",
       "      )\n",
       "      (5): TimestepEmbedSequential(\n",
       "        (0): ResBlock(\n",
       "          (in_layers): Sequential(\n",
       "            (0): GroupNorm32(32, 128, eps=1e-05, affine=True)\n",
       "            (1): SiLU()\n",
       "            (2): Conv2d(128, 128, kernel_size=(3, 3), stride=(1, 1), padding=(1, 1))\n",
       "          )\n",
       "          (h_upd): Identity()\n",
       "          (x_upd): Identity()\n",
       "          (emb_layers): Sequential(\n",
       "            (0): SiLU()\n",
       "            (1): Linear(in_features=512, out_features=256, bias=True)\n",
       "          )\n",
       "          (cond_emb_layers): Sequential(\n",
       "            (0): SiLU()\n",
       "            (1): Linear(in_features=512, out_features=128, bias=True)\n",
       "          )\n",
       "          (out_layers): Sequential(\n",
       "            (0): GroupNorm32(32, 128, eps=1e-05, affine=True)\n",
       "            (1): SiLU()\n",
       "            (2): Dropout(p=0.1, inplace=False)\n",
       "            (3): Conv2d(128, 128, kernel_size=(3, 3), stride=(1, 1), padding=(1, 1))\n",
       "          )\n",
       "          (skip_connection): Identity()\n",
       "        )\n",
       "      )\n",
       "      (6): TimestepEmbedSequential(\n",
       "        (0): ResBlock(\n",
       "          (in_layers): Sequential(\n",
       "            (0): GroupNorm32(32, 128, eps=1e-05, affine=True)\n",
       "            (1): SiLU()\n",
       "            (2): Conv2d(128, 128, kernel_size=(3, 3), stride=(1, 1), padding=(1, 1))\n",
       "          )\n",
       "          (h_upd): Downsample(\n",
       "            (op): AvgPool2d(kernel_size=2, stride=2, padding=0)\n",
       "          )\n",
       "          (x_upd): Downsample(\n",
       "            (op): AvgPool2d(kernel_size=2, stride=2, padding=0)\n",
       "          )\n",
       "          (emb_layers): Sequential(\n",
       "            (0): SiLU()\n",
       "            (1): Linear(in_features=512, out_features=256, bias=True)\n",
       "          )\n",
       "          (cond_emb_layers): Sequential(\n",
       "            (0): SiLU()\n",
       "            (1): Linear(in_features=512, out_features=128, bias=True)\n",
       "          )\n",
       "          (out_layers): Sequential(\n",
       "            (0): GroupNorm32(32, 128, eps=1e-05, affine=True)\n",
       "            (1): SiLU()\n",
       "            (2): Dropout(p=0.1, inplace=False)\n",
       "            (3): Conv2d(128, 128, kernel_size=(3, 3), stride=(1, 1), padding=(1, 1))\n",
       "          )\n",
       "          (skip_connection): Identity()\n",
       "        )\n",
       "      )\n",
       "      (7): TimestepEmbedSequential(\n",
       "        (0): ResBlock(\n",
       "          (in_layers): Sequential(\n",
       "            (0): GroupNorm32(32, 128, eps=1e-05, affine=True)\n",
       "            (1): SiLU()\n",
       "            (2): Conv2d(128, 256, kernel_size=(3, 3), stride=(1, 1), padding=(1, 1))\n",
       "          )\n",
       "          (h_upd): Identity()\n",
       "          (x_upd): Identity()\n",
       "          (emb_layers): Sequential(\n",
       "            (0): SiLU()\n",
       "            (1): Linear(in_features=512, out_features=512, bias=True)\n",
       "          )\n",
       "          (cond_emb_layers): Sequential(\n",
       "            (0): SiLU()\n",
       "            (1): Linear(in_features=512, out_features=256, bias=True)\n",
       "          )\n",
       "          (out_layers): Sequential(\n",
       "            (0): GroupNorm32(32, 256, eps=1e-05, affine=True)\n",
       "            (1): SiLU()\n",
       "            (2): Dropout(p=0.1, inplace=False)\n",
       "            (3): Conv2d(256, 256, kernel_size=(3, 3), stride=(1, 1), padding=(1, 1))\n",
       "          )\n",
       "          (skip_connection): Conv2d(128, 256, kernel_size=(1, 1), stride=(1, 1))\n",
       "        )\n",
       "      )\n",
       "      (8): TimestepEmbedSequential(\n",
       "        (0): ResBlock(\n",
       "          (in_layers): Sequential(\n",
       "            (0): GroupNorm32(32, 256, eps=1e-05, affine=True)\n",
       "            (1): SiLU()\n",
       "            (2): Conv2d(256, 256, kernel_size=(3, 3), stride=(1, 1), padding=(1, 1))\n",
       "          )\n",
       "          (h_upd): Identity()\n",
       "          (x_upd): Identity()\n",
       "          (emb_layers): Sequential(\n",
       "            (0): SiLU()\n",
       "            (1): Linear(in_features=512, out_features=512, bias=True)\n",
       "          )\n",
       "          (cond_emb_layers): Sequential(\n",
       "            (0): SiLU()\n",
       "            (1): Linear(in_features=512, out_features=256, bias=True)\n",
       "          )\n",
       "          (out_layers): Sequential(\n",
       "            (0): GroupNorm32(32, 256, eps=1e-05, affine=True)\n",
       "            (1): SiLU()\n",
       "            (2): Dropout(p=0.1, inplace=False)\n",
       "            (3): Conv2d(256, 256, kernel_size=(3, 3), stride=(1, 1), padding=(1, 1))\n",
       "          )\n",
       "          (skip_connection): Identity()\n",
       "        )\n",
       "      )\n",
       "      (9): TimestepEmbedSequential(\n",
       "        (0): ResBlock(\n",
       "          (in_layers): Sequential(\n",
       "            (0): GroupNorm32(32, 256, eps=1e-05, affine=True)\n",
       "            (1): SiLU()\n",
       "            (2): Conv2d(256, 256, kernel_size=(3, 3), stride=(1, 1), padding=(1, 1))\n",
       "          )\n",
       "          (h_upd): Downsample(\n",
       "            (op): AvgPool2d(kernel_size=2, stride=2, padding=0)\n",
       "          )\n",
       "          (x_upd): Downsample(\n",
       "            (op): AvgPool2d(kernel_size=2, stride=2, padding=0)\n",
       "          )\n",
       "          (emb_layers): Sequential(\n",
       "            (0): SiLU()\n",
       "            (1): Linear(in_features=512, out_features=512, bias=True)\n",
       "          )\n",
       "          (cond_emb_layers): Sequential(\n",
       "            (0): SiLU()\n",
       "            (1): Linear(in_features=512, out_features=256, bias=True)\n",
       "          )\n",
       "          (out_layers): Sequential(\n",
       "            (0): GroupNorm32(32, 256, eps=1e-05, affine=True)\n",
       "            (1): SiLU()\n",
       "            (2): Dropout(p=0.1, inplace=False)\n",
       "            (3): Conv2d(256, 256, kernel_size=(3, 3), stride=(1, 1), padding=(1, 1))\n",
       "          )\n",
       "          (skip_connection): Identity()\n",
       "        )\n",
       "      )\n",
       "      (10): TimestepEmbedSequential(\n",
       "        (0): ResBlock(\n",
       "          (in_layers): Sequential(\n",
       "            (0): GroupNorm32(32, 256, eps=1e-05, affine=True)\n",
       "            (1): SiLU()\n",
       "            (2): Conv2d(256, 256, kernel_size=(3, 3), stride=(1, 1), padding=(1, 1))\n",
       "          )\n",
       "          (h_upd): Identity()\n",
       "          (x_upd): Identity()\n",
       "          (emb_layers): Sequential(\n",
       "            (0): SiLU()\n",
       "            (1): Linear(in_features=512, out_features=512, bias=True)\n",
       "          )\n",
       "          (cond_emb_layers): Sequential(\n",
       "            (0): SiLU()\n",
       "            (1): Linear(in_features=512, out_features=256, bias=True)\n",
       "          )\n",
       "          (out_layers): Sequential(\n",
       "            (0): GroupNorm32(32, 256, eps=1e-05, affine=True)\n",
       "            (1): SiLU()\n",
       "            (2): Dropout(p=0.1, inplace=False)\n",
       "            (3): Conv2d(256, 256, kernel_size=(3, 3), stride=(1, 1), padding=(1, 1))\n",
       "          )\n",
       "          (skip_connection): Identity()\n",
       "        )\n",
       "      )\n",
       "      (11): TimestepEmbedSequential(\n",
       "        (0): ResBlock(\n",
       "          (in_layers): Sequential(\n",
       "            (0): GroupNorm32(32, 256, eps=1e-05, affine=True)\n",
       "            (1): SiLU()\n",
       "            (2): Conv2d(256, 256, kernel_size=(3, 3), stride=(1, 1), padding=(1, 1))\n",
       "          )\n",
       "          (h_upd): Identity()\n",
       "          (x_upd): Identity()\n",
       "          (emb_layers): Sequential(\n",
       "            (0): SiLU()\n",
       "            (1): Linear(in_features=512, out_features=512, bias=True)\n",
       "          )\n",
       "          (cond_emb_layers): Sequential(\n",
       "            (0): SiLU()\n",
       "            (1): Linear(in_features=512, out_features=256, bias=True)\n",
       "          )\n",
       "          (out_layers): Sequential(\n",
       "            (0): GroupNorm32(32, 256, eps=1e-05, affine=True)\n",
       "            (1): SiLU()\n",
       "            (2): Dropout(p=0.1, inplace=False)\n",
       "            (3): Conv2d(256, 256, kernel_size=(3, 3), stride=(1, 1), padding=(1, 1))\n",
       "          )\n",
       "          (skip_connection): Identity()\n",
       "        )\n",
       "      )\n",
       "      (12): TimestepEmbedSequential(\n",
       "        (0): ResBlock(\n",
       "          (in_layers): Sequential(\n",
       "            (0): GroupNorm32(32, 256, eps=1e-05, affine=True)\n",
       "            (1): SiLU()\n",
       "            (2): Conv2d(256, 256, kernel_size=(3, 3), stride=(1, 1), padding=(1, 1))\n",
       "          )\n",
       "          (h_upd): Downsample(\n",
       "            (op): AvgPool2d(kernel_size=2, stride=2, padding=0)\n",
       "          )\n",
       "          (x_upd): Downsample(\n",
       "            (op): AvgPool2d(kernel_size=2, stride=2, padding=0)\n",
       "          )\n",
       "          (emb_layers): Sequential(\n",
       "            (0): SiLU()\n",
       "            (1): Linear(in_features=512, out_features=512, bias=True)\n",
       "          )\n",
       "          (cond_emb_layers): Sequential(\n",
       "            (0): SiLU()\n",
       "            (1): Linear(in_features=512, out_features=256, bias=True)\n",
       "          )\n",
       "          (out_layers): Sequential(\n",
       "            (0): GroupNorm32(32, 256, eps=1e-05, affine=True)\n",
       "            (1): SiLU()\n",
       "            (2): Dropout(p=0.1, inplace=False)\n",
       "            (3): Conv2d(256, 256, kernel_size=(3, 3), stride=(1, 1), padding=(1, 1))\n",
       "          )\n",
       "          (skip_connection): Identity()\n",
       "        )\n",
       "      )\n",
       "      (13): TimestepEmbedSequential(\n",
       "        (0): ResBlock(\n",
       "          (in_layers): Sequential(\n",
       "            (0): GroupNorm32(32, 256, eps=1e-05, affine=True)\n",
       "            (1): SiLU()\n",
       "            (2): Conv2d(256, 512, kernel_size=(3, 3), stride=(1, 1), padding=(1, 1))\n",
       "          )\n",
       "          (h_upd): Identity()\n",
       "          (x_upd): Identity()\n",
       "          (emb_layers): Sequential(\n",
       "            (0): SiLU()\n",
       "            (1): Linear(in_features=512, out_features=1024, bias=True)\n",
       "          )\n",
       "          (cond_emb_layers): Sequential(\n",
       "            (0): SiLU()\n",
       "            (1): Linear(in_features=512, out_features=512, bias=True)\n",
       "          )\n",
       "          (out_layers): Sequential(\n",
       "            (0): GroupNorm32(32, 512, eps=1e-05, affine=True)\n",
       "            (1): SiLU()\n",
       "            (2): Dropout(p=0.1, inplace=False)\n",
       "            (3): Conv2d(512, 512, kernel_size=(3, 3), stride=(1, 1), padding=(1, 1))\n",
       "          )\n",
       "          (skip_connection): Conv2d(256, 512, kernel_size=(1, 1), stride=(1, 1))\n",
       "        )\n",
       "        (1): AttentionBlock(\n",
       "          (norm): GroupNorm32(32, 512, eps=1e-05, affine=True)\n",
       "          (qkv): Conv1d(512, 1536, kernel_size=(1,), stride=(1,))\n",
       "          (attention): QKVAttentionLegacy()\n",
       "          (proj_out): Conv1d(512, 512, kernel_size=(1,), stride=(1,))\n",
       "        )\n",
       "      )\n",
       "      (14): TimestepEmbedSequential(\n",
       "        (0): ResBlock(\n",
       "          (in_layers): Sequential(\n",
       "            (0): GroupNorm32(32, 512, eps=1e-05, affine=True)\n",
       "            (1): SiLU()\n",
       "            (2): Conv2d(512, 512, kernel_size=(3, 3), stride=(1, 1), padding=(1, 1))\n",
       "          )\n",
       "          (h_upd): Identity()\n",
       "          (x_upd): Identity()\n",
       "          (emb_layers): Sequential(\n",
       "            (0): SiLU()\n",
       "            (1): Linear(in_features=512, out_features=1024, bias=True)\n",
       "          )\n",
       "          (cond_emb_layers): Sequential(\n",
       "            (0): SiLU()\n",
       "            (1): Linear(in_features=512, out_features=512, bias=True)\n",
       "          )\n",
       "          (out_layers): Sequential(\n",
       "            (0): GroupNorm32(32, 512, eps=1e-05, affine=True)\n",
       "            (1): SiLU()\n",
       "            (2): Dropout(p=0.1, inplace=False)\n",
       "            (3): Conv2d(512, 512, kernel_size=(3, 3), stride=(1, 1), padding=(1, 1))\n",
       "          )\n",
       "          (skip_connection): Identity()\n",
       "        )\n",
       "        (1): AttentionBlock(\n",
       "          (norm): GroupNorm32(32, 512, eps=1e-05, affine=True)\n",
       "          (qkv): Conv1d(512, 1536, kernel_size=(1,), stride=(1,))\n",
       "          (attention): QKVAttentionLegacy()\n",
       "          (proj_out): Conv1d(512, 512, kernel_size=(1,), stride=(1,))\n",
       "        )\n",
       "      )\n",
       "      (15): TimestepEmbedSequential(\n",
       "        (0): ResBlock(\n",
       "          (in_layers): Sequential(\n",
       "            (0): GroupNorm32(32, 512, eps=1e-05, affine=True)\n",
       "            (1): SiLU()\n",
       "            (2): Conv2d(512, 512, kernel_size=(3, 3), stride=(1, 1), padding=(1, 1))\n",
       "          )\n",
       "          (h_upd): Downsample(\n",
       "            (op): AvgPool2d(kernel_size=2, stride=2, padding=0)\n",
       "          )\n",
       "          (x_upd): Downsample(\n",
       "            (op): AvgPool2d(kernel_size=2, stride=2, padding=0)\n",
       "          )\n",
       "          (emb_layers): Sequential(\n",
       "            (0): SiLU()\n",
       "            (1): Linear(in_features=512, out_features=1024, bias=True)\n",
       "          )\n",
       "          (cond_emb_layers): Sequential(\n",
       "            (0): SiLU()\n",
       "            (1): Linear(in_features=512, out_features=512, bias=True)\n",
       "          )\n",
       "          (out_layers): Sequential(\n",
       "            (0): GroupNorm32(32, 512, eps=1e-05, affine=True)\n",
       "            (1): SiLU()\n",
       "            (2): Dropout(p=0.1, inplace=False)\n",
       "            (3): Conv2d(512, 512, kernel_size=(3, 3), stride=(1, 1), padding=(1, 1))\n",
       "          )\n",
       "          (skip_connection): Identity()\n",
       "        )\n",
       "      )\n",
       "      (16): TimestepEmbedSequential(\n",
       "        (0): ResBlock(\n",
       "          (in_layers): Sequential(\n",
       "            (0): GroupNorm32(32, 512, eps=1e-05, affine=True)\n",
       "            (1): SiLU()\n",
       "            (2): Conv2d(512, 512, kernel_size=(3, 3), stride=(1, 1), padding=(1, 1))\n",
       "          )\n",
       "          (h_upd): Identity()\n",
       "          (x_upd): Identity()\n",
       "          (emb_layers): Sequential(\n",
       "            (0): SiLU()\n",
       "            (1): Linear(in_features=512, out_features=1024, bias=True)\n",
       "          )\n",
       "          (cond_emb_layers): Sequential(\n",
       "            (0): SiLU()\n",
       "            (1): Linear(in_features=512, out_features=512, bias=True)\n",
       "          )\n",
       "          (out_layers): Sequential(\n",
       "            (0): GroupNorm32(32, 512, eps=1e-05, affine=True)\n",
       "            (1): SiLU()\n",
       "            (2): Dropout(p=0.1, inplace=False)\n",
       "            (3): Conv2d(512, 512, kernel_size=(3, 3), stride=(1, 1), padding=(1, 1))\n",
       "          )\n",
       "          (skip_connection): Identity()\n",
       "        )\n",
       "      )\n",
       "      (17): TimestepEmbedSequential(\n",
       "        (0): ResBlock(\n",
       "          (in_layers): Sequential(\n",
       "            (0): GroupNorm32(32, 512, eps=1e-05, affine=True)\n",
       "            (1): SiLU()\n",
       "            (2): Conv2d(512, 512, kernel_size=(3, 3), stride=(1, 1), padding=(1, 1))\n",
       "          )\n",
       "          (h_upd): Identity()\n",
       "          (x_upd): Identity()\n",
       "          (emb_layers): Sequential(\n",
       "            (0): SiLU()\n",
       "            (1): Linear(in_features=512, out_features=1024, bias=True)\n",
       "          )\n",
       "          (cond_emb_layers): Sequential(\n",
       "            (0): SiLU()\n",
       "            (1): Linear(in_features=512, out_features=512, bias=True)\n",
       "          )\n",
       "          (out_layers): Sequential(\n",
       "            (0): GroupNorm32(32, 512, eps=1e-05, affine=True)\n",
       "            (1): SiLU()\n",
       "            (2): Dropout(p=0.1, inplace=False)\n",
       "            (3): Conv2d(512, 512, kernel_size=(3, 3), stride=(1, 1), padding=(1, 1))\n",
       "          )\n",
       "          (skip_connection): Identity()\n",
       "        )\n",
       "      )\n",
       "    )\n",
       "    (middle_block): TimestepEmbedSequential(\n",
       "      (0): ResBlock(\n",
       "        (in_layers): Sequential(\n",
       "          (0): GroupNorm32(32, 512, eps=1e-05, affine=True)\n",
       "          (1): SiLU()\n",
       "          (2): Conv2d(512, 512, kernel_size=(3, 3), stride=(1, 1), padding=(1, 1))\n",
       "        )\n",
       "        (h_upd): Identity()\n",
       "        (x_upd): Identity()\n",
       "        (emb_layers): Sequential(\n",
       "          (0): SiLU()\n",
       "          (1): Linear(in_features=512, out_features=1024, bias=True)\n",
       "        )\n",
       "        (cond_emb_layers): Sequential(\n",
       "          (0): SiLU()\n",
       "          (1): Linear(in_features=512, out_features=512, bias=True)\n",
       "        )\n",
       "        (out_layers): Sequential(\n",
       "          (0): GroupNorm32(32, 512, eps=1e-05, affine=True)\n",
       "          (1): SiLU()\n",
       "          (2): Dropout(p=0.1, inplace=False)\n",
       "          (3): Conv2d(512, 512, kernel_size=(3, 3), stride=(1, 1), padding=(1, 1))\n",
       "        )\n",
       "        (skip_connection): Identity()\n",
       "      )\n",
       "      (1): AttentionBlock(\n",
       "        (norm): GroupNorm32(32, 512, eps=1e-05, affine=True)\n",
       "        (qkv): Conv1d(512, 1536, kernel_size=(1,), stride=(1,))\n",
       "        (attention): QKVAttentionLegacy()\n",
       "        (proj_out): Conv1d(512, 512, kernel_size=(1,), stride=(1,))\n",
       "      )\n",
       "      (2): ResBlock(\n",
       "        (in_layers): Sequential(\n",
       "          (0): GroupNorm32(32, 512, eps=1e-05, affine=True)\n",
       "          (1): SiLU()\n",
       "          (2): Conv2d(512, 512, kernel_size=(3, 3), stride=(1, 1), padding=(1, 1))\n",
       "        )\n",
       "        (h_upd): Identity()\n",
       "        (x_upd): Identity()\n",
       "        (emb_layers): Sequential(\n",
       "          (0): SiLU()\n",
       "          (1): Linear(in_features=512, out_features=1024, bias=True)\n",
       "        )\n",
       "        (cond_emb_layers): Sequential(\n",
       "          (0): SiLU()\n",
       "          (1): Linear(in_features=512, out_features=512, bias=True)\n",
       "        )\n",
       "        (out_layers): Sequential(\n",
       "          (0): GroupNorm32(32, 512, eps=1e-05, affine=True)\n",
       "          (1): SiLU()\n",
       "          (2): Dropout(p=0.1, inplace=False)\n",
       "          (3): Conv2d(512, 512, kernel_size=(3, 3), stride=(1, 1), padding=(1, 1))\n",
       "        )\n",
       "        (skip_connection): Identity()\n",
       "      )\n",
       "    )\n",
       "    (output_blocks): ModuleList(\n",
       "      (0): TimestepEmbedSequential(\n",
       "        (0): ResBlock(\n",
       "          (in_layers): Sequential(\n",
       "            (0): GroupNorm32(32, 1024, eps=1e-05, affine=True)\n",
       "            (1): SiLU()\n",
       "            (2): Conv2d(1024, 512, kernel_size=(3, 3), stride=(1, 1), padding=(1, 1))\n",
       "          )\n",
       "          (h_upd): Identity()\n",
       "          (x_upd): Identity()\n",
       "          (emb_layers): Sequential(\n",
       "            (0): SiLU()\n",
       "            (1): Linear(in_features=512, out_features=1024, bias=True)\n",
       "          )\n",
       "          (cond_emb_layers): Sequential(\n",
       "            (0): SiLU()\n",
       "            (1): Linear(in_features=512, out_features=512, bias=True)\n",
       "          )\n",
       "          (out_layers): Sequential(\n",
       "            (0): GroupNorm32(32, 512, eps=1e-05, affine=True)\n",
       "            (1): SiLU()\n",
       "            (2): Dropout(p=0.1, inplace=False)\n",
       "            (3): Conv2d(512, 512, kernel_size=(3, 3), stride=(1, 1), padding=(1, 1))\n",
       "          )\n",
       "          (skip_connection): Conv2d(1024, 512, kernel_size=(1, 1), stride=(1, 1))\n",
       "        )\n",
       "      )\n",
       "      (1): TimestepEmbedSequential(\n",
       "        (0): ResBlock(\n",
       "          (in_layers): Sequential(\n",
       "            (0): GroupNorm32(32, 1024, eps=1e-05, affine=True)\n",
       "            (1): SiLU()\n",
       "            (2): Conv2d(1024, 512, kernel_size=(3, 3), stride=(1, 1), padding=(1, 1))\n",
       "          )\n",
       "          (h_upd): Identity()\n",
       "          (x_upd): Identity()\n",
       "          (emb_layers): Sequential(\n",
       "            (0): SiLU()\n",
       "            (1): Linear(in_features=512, out_features=1024, bias=True)\n",
       "          )\n",
       "          (cond_emb_layers): Sequential(\n",
       "            (0): SiLU()\n",
       "            (1): Linear(in_features=512, out_features=512, bias=True)\n",
       "          )\n",
       "          (out_layers): Sequential(\n",
       "            (0): GroupNorm32(32, 512, eps=1e-05, affine=True)\n",
       "            (1): SiLU()\n",
       "            (2): Dropout(p=0.1, inplace=False)\n",
       "            (3): Conv2d(512, 512, kernel_size=(3, 3), stride=(1, 1), padding=(1, 1))\n",
       "          )\n",
       "          (skip_connection): Conv2d(1024, 512, kernel_size=(1, 1), stride=(1, 1))\n",
       "        )\n",
       "      )\n",
       "      (2): TimestepEmbedSequential(\n",
       "        (0): ResBlock(\n",
       "          (in_layers): Sequential(\n",
       "            (0): GroupNorm32(32, 1024, eps=1e-05, affine=True)\n",
       "            (1): SiLU()\n",
       "            (2): Conv2d(1024, 512, kernel_size=(3, 3), stride=(1, 1), padding=(1, 1))\n",
       "          )\n",
       "          (h_upd): Identity()\n",
       "          (x_upd): Identity()\n",
       "          (emb_layers): Sequential(\n",
       "            (0): SiLU()\n",
       "            (1): Linear(in_features=512, out_features=1024, bias=True)\n",
       "          )\n",
       "          (cond_emb_layers): Sequential(\n",
       "            (0): SiLU()\n",
       "            (1): Linear(in_features=512, out_features=512, bias=True)\n",
       "          )\n",
       "          (out_layers): Sequential(\n",
       "            (0): GroupNorm32(32, 512, eps=1e-05, affine=True)\n",
       "            (1): SiLU()\n",
       "            (2): Dropout(p=0.1, inplace=False)\n",
       "            (3): Conv2d(512, 512, kernel_size=(3, 3), stride=(1, 1), padding=(1, 1))\n",
       "          )\n",
       "          (skip_connection): Conv2d(1024, 512, kernel_size=(1, 1), stride=(1, 1))\n",
       "        )\n",
       "        (1): ResBlock(\n",
       "          (in_layers): Sequential(\n",
       "            (0): GroupNorm32(32, 512, eps=1e-05, affine=True)\n",
       "            (1): SiLU()\n",
       "            (2): Conv2d(512, 512, kernel_size=(3, 3), stride=(1, 1), padding=(1, 1))\n",
       "          )\n",
       "          (h_upd): Upsample()\n",
       "          (x_upd): Upsample()\n",
       "          (emb_layers): Sequential(\n",
       "            (0): SiLU()\n",
       "            (1): Linear(in_features=512, out_features=1024, bias=True)\n",
       "          )\n",
       "          (cond_emb_layers): Sequential(\n",
       "            (0): SiLU()\n",
       "            (1): Linear(in_features=512, out_features=512, bias=True)\n",
       "          )\n",
       "          (out_layers): Sequential(\n",
       "            (0): GroupNorm32(32, 512, eps=1e-05, affine=True)\n",
       "            (1): SiLU()\n",
       "            (2): Dropout(p=0.1, inplace=False)\n",
       "            (3): Conv2d(512, 512, kernel_size=(3, 3), stride=(1, 1), padding=(1, 1))\n",
       "          )\n",
       "          (skip_connection): Identity()\n",
       "        )\n",
       "      )\n",
       "      (3): TimestepEmbedSequential(\n",
       "        (0): ResBlock(\n",
       "          (in_layers): Sequential(\n",
       "            (0): GroupNorm32(32, 1024, eps=1e-05, affine=True)\n",
       "            (1): SiLU()\n",
       "            (2): Conv2d(1024, 512, kernel_size=(3, 3), stride=(1, 1), padding=(1, 1))\n",
       "          )\n",
       "          (h_upd): Identity()\n",
       "          (x_upd): Identity()\n",
       "          (emb_layers): Sequential(\n",
       "            (0): SiLU()\n",
       "            (1): Linear(in_features=512, out_features=1024, bias=True)\n",
       "          )\n",
       "          (cond_emb_layers): Sequential(\n",
       "            (0): SiLU()\n",
       "            (1): Linear(in_features=512, out_features=512, bias=True)\n",
       "          )\n",
       "          (out_layers): Sequential(\n",
       "            (0): GroupNorm32(32, 512, eps=1e-05, affine=True)\n",
       "            (1): SiLU()\n",
       "            (2): Dropout(p=0.1, inplace=False)\n",
       "            (3): Conv2d(512, 512, kernel_size=(3, 3), stride=(1, 1), padding=(1, 1))\n",
       "          )\n",
       "          (skip_connection): Conv2d(1024, 512, kernel_size=(1, 1), stride=(1, 1))\n",
       "        )\n",
       "        (1): AttentionBlock(\n",
       "          (norm): GroupNorm32(32, 512, eps=1e-05, affine=True)\n",
       "          (qkv): Conv1d(512, 1536, kernel_size=(1,), stride=(1,))\n",
       "          (attention): QKVAttentionLegacy()\n",
       "          (proj_out): Conv1d(512, 512, kernel_size=(1,), stride=(1,))\n",
       "        )\n",
       "      )\n",
       "      (4): TimestepEmbedSequential(\n",
       "        (0): ResBlock(\n",
       "          (in_layers): Sequential(\n",
       "            (0): GroupNorm32(32, 1024, eps=1e-05, affine=True)\n",
       "            (1): SiLU()\n",
       "            (2): Conv2d(1024, 512, kernel_size=(3, 3), stride=(1, 1), padding=(1, 1))\n",
       "          )\n",
       "          (h_upd): Identity()\n",
       "          (x_upd): Identity()\n",
       "          (emb_layers): Sequential(\n",
       "            (0): SiLU()\n",
       "            (1): Linear(in_features=512, out_features=1024, bias=True)\n",
       "          )\n",
       "          (cond_emb_layers): Sequential(\n",
       "            (0): SiLU()\n",
       "            (1): Linear(in_features=512, out_features=512, bias=True)\n",
       "          )\n",
       "          (out_layers): Sequential(\n",
       "            (0): GroupNorm32(32, 512, eps=1e-05, affine=True)\n",
       "            (1): SiLU()\n",
       "            (2): Dropout(p=0.1, inplace=False)\n",
       "            (3): Conv2d(512, 512, kernel_size=(3, 3), stride=(1, 1), padding=(1, 1))\n",
       "          )\n",
       "          (skip_connection): Conv2d(1024, 512, kernel_size=(1, 1), stride=(1, 1))\n",
       "        )\n",
       "        (1): AttentionBlock(\n",
       "          (norm): GroupNorm32(32, 512, eps=1e-05, affine=True)\n",
       "          (qkv): Conv1d(512, 1536, kernel_size=(1,), stride=(1,))\n",
       "          (attention): QKVAttentionLegacy()\n",
       "          (proj_out): Conv1d(512, 512, kernel_size=(1,), stride=(1,))\n",
       "        )\n",
       "      )\n",
       "      (5): TimestepEmbedSequential(\n",
       "        (0): ResBlock(\n",
       "          (in_layers): Sequential(\n",
       "            (0): GroupNorm32(32, 768, eps=1e-05, affine=True)\n",
       "            (1): SiLU()\n",
       "            (2): Conv2d(768, 512, kernel_size=(3, 3), stride=(1, 1), padding=(1, 1))\n",
       "          )\n",
       "          (h_upd): Identity()\n",
       "          (x_upd): Identity()\n",
       "          (emb_layers): Sequential(\n",
       "            (0): SiLU()\n",
       "            (1): Linear(in_features=512, out_features=1024, bias=True)\n",
       "          )\n",
       "          (cond_emb_layers): Sequential(\n",
       "            (0): SiLU()\n",
       "            (1): Linear(in_features=512, out_features=512, bias=True)\n",
       "          )\n",
       "          (out_layers): Sequential(\n",
       "            (0): GroupNorm32(32, 512, eps=1e-05, affine=True)\n",
       "            (1): SiLU()\n",
       "            (2): Dropout(p=0.1, inplace=False)\n",
       "            (3): Conv2d(512, 512, kernel_size=(3, 3), stride=(1, 1), padding=(1, 1))\n",
       "          )\n",
       "          (skip_connection): Conv2d(768, 512, kernel_size=(1, 1), stride=(1, 1))\n",
       "        )\n",
       "        (1): AttentionBlock(\n",
       "          (norm): GroupNorm32(32, 512, eps=1e-05, affine=True)\n",
       "          (qkv): Conv1d(512, 1536, kernel_size=(1,), stride=(1,))\n",
       "          (attention): QKVAttentionLegacy()\n",
       "          (proj_out): Conv1d(512, 512, kernel_size=(1,), stride=(1,))\n",
       "        )\n",
       "        (2): ResBlock(\n",
       "          (in_layers): Sequential(\n",
       "            (0): GroupNorm32(32, 512, eps=1e-05, affine=True)\n",
       "            (1): SiLU()\n",
       "            (2): Conv2d(512, 512, kernel_size=(3, 3), stride=(1, 1), padding=(1, 1))\n",
       "          )\n",
       "          (h_upd): Upsample()\n",
       "          (x_upd): Upsample()\n",
       "          (emb_layers): Sequential(\n",
       "            (0): SiLU()\n",
       "            (1): Linear(in_features=512, out_features=1024, bias=True)\n",
       "          )\n",
       "          (cond_emb_layers): Sequential(\n",
       "            (0): SiLU()\n",
       "            (1): Linear(in_features=512, out_features=512, bias=True)\n",
       "          )\n",
       "          (out_layers): Sequential(\n",
       "            (0): GroupNorm32(32, 512, eps=1e-05, affine=True)\n",
       "            (1): SiLU()\n",
       "            (2): Dropout(p=0.1, inplace=False)\n",
       "            (3): Conv2d(512, 512, kernel_size=(3, 3), stride=(1, 1), padding=(1, 1))\n",
       "          )\n",
       "          (skip_connection): Identity()\n",
       "        )\n",
       "      )\n",
       "      (6): TimestepEmbedSequential(\n",
       "        (0): ResBlock(\n",
       "          (in_layers): Sequential(\n",
       "            (0): GroupNorm32(32, 768, eps=1e-05, affine=True)\n",
       "            (1): SiLU()\n",
       "            (2): Conv2d(768, 256, kernel_size=(3, 3), stride=(1, 1), padding=(1, 1))\n",
       "          )\n",
       "          (h_upd): Identity()\n",
       "          (x_upd): Identity()\n",
       "          (emb_layers): Sequential(\n",
       "            (0): SiLU()\n",
       "            (1): Linear(in_features=512, out_features=512, bias=True)\n",
       "          )\n",
       "          (cond_emb_layers): Sequential(\n",
       "            (0): SiLU()\n",
       "            (1): Linear(in_features=512, out_features=256, bias=True)\n",
       "          )\n",
       "          (out_layers): Sequential(\n",
       "            (0): GroupNorm32(32, 256, eps=1e-05, affine=True)\n",
       "            (1): SiLU()\n",
       "            (2): Dropout(p=0.1, inplace=False)\n",
       "            (3): Conv2d(256, 256, kernel_size=(3, 3), stride=(1, 1), padding=(1, 1))\n",
       "          )\n",
       "          (skip_connection): Conv2d(768, 256, kernel_size=(1, 1), stride=(1, 1))\n",
       "        )\n",
       "      )\n",
       "      (7): TimestepEmbedSequential(\n",
       "        (0): ResBlock(\n",
       "          (in_layers): Sequential(\n",
       "            (0): GroupNorm32(32, 512, eps=1e-05, affine=True)\n",
       "            (1): SiLU()\n",
       "            (2): Conv2d(512, 256, kernel_size=(3, 3), stride=(1, 1), padding=(1, 1))\n",
       "          )\n",
       "          (h_upd): Identity()\n",
       "          (x_upd): Identity()\n",
       "          (emb_layers): Sequential(\n",
       "            (0): SiLU()\n",
       "            (1): Linear(in_features=512, out_features=512, bias=True)\n",
       "          )\n",
       "          (cond_emb_layers): Sequential(\n",
       "            (0): SiLU()\n",
       "            (1): Linear(in_features=512, out_features=256, bias=True)\n",
       "          )\n",
       "          (out_layers): Sequential(\n",
       "            (0): GroupNorm32(32, 256, eps=1e-05, affine=True)\n",
       "            (1): SiLU()\n",
       "            (2): Dropout(p=0.1, inplace=False)\n",
       "            (3): Conv2d(256, 256, kernel_size=(3, 3), stride=(1, 1), padding=(1, 1))\n",
       "          )\n",
       "          (skip_connection): Conv2d(512, 256, kernel_size=(1, 1), stride=(1, 1))\n",
       "        )\n",
       "      )\n",
       "      (8): TimestepEmbedSequential(\n",
       "        (0): ResBlock(\n",
       "          (in_layers): Sequential(\n",
       "            (0): GroupNorm32(32, 512, eps=1e-05, affine=True)\n",
       "            (1): SiLU()\n",
       "            (2): Conv2d(512, 256, kernel_size=(3, 3), stride=(1, 1), padding=(1, 1))\n",
       "          )\n",
       "          (h_upd): Identity()\n",
       "          (x_upd): Identity()\n",
       "          (emb_layers): Sequential(\n",
       "            (0): SiLU()\n",
       "            (1): Linear(in_features=512, out_features=512, bias=True)\n",
       "          )\n",
       "          (cond_emb_layers): Sequential(\n",
       "            (0): SiLU()\n",
       "            (1): Linear(in_features=512, out_features=256, bias=True)\n",
       "          )\n",
       "          (out_layers): Sequential(\n",
       "            (0): GroupNorm32(32, 256, eps=1e-05, affine=True)\n",
       "            (1): SiLU()\n",
       "            (2): Dropout(p=0.1, inplace=False)\n",
       "            (3): Conv2d(256, 256, kernel_size=(3, 3), stride=(1, 1), padding=(1, 1))\n",
       "          )\n",
       "          (skip_connection): Conv2d(512, 256, kernel_size=(1, 1), stride=(1, 1))\n",
       "        )\n",
       "        (1): ResBlock(\n",
       "          (in_layers): Sequential(\n",
       "            (0): GroupNorm32(32, 256, eps=1e-05, affine=True)\n",
       "            (1): SiLU()\n",
       "            (2): Conv2d(256, 256, kernel_size=(3, 3), stride=(1, 1), padding=(1, 1))\n",
       "          )\n",
       "          (h_upd): Upsample()\n",
       "          (x_upd): Upsample()\n",
       "          (emb_layers): Sequential(\n",
       "            (0): SiLU()\n",
       "            (1): Linear(in_features=512, out_features=512, bias=True)\n",
       "          )\n",
       "          (cond_emb_layers): Sequential(\n",
       "            (0): SiLU()\n",
       "            (1): Linear(in_features=512, out_features=256, bias=True)\n",
       "          )\n",
       "          (out_layers): Sequential(\n",
       "            (0): GroupNorm32(32, 256, eps=1e-05, affine=True)\n",
       "            (1): SiLU()\n",
       "            (2): Dropout(p=0.1, inplace=False)\n",
       "            (3): Conv2d(256, 256, kernel_size=(3, 3), stride=(1, 1), padding=(1, 1))\n",
       "          )\n",
       "          (skip_connection): Identity()\n",
       "        )\n",
       "      )\n",
       "      (9): TimestepEmbedSequential(\n",
       "        (0): ResBlock(\n",
       "          (in_layers): Sequential(\n",
       "            (0): GroupNorm32(32, 512, eps=1e-05, affine=True)\n",
       "            (1): SiLU()\n",
       "            (2): Conv2d(512, 256, kernel_size=(3, 3), stride=(1, 1), padding=(1, 1))\n",
       "          )\n",
       "          (h_upd): Identity()\n",
       "          (x_upd): Identity()\n",
       "          (emb_layers): Sequential(\n",
       "            (0): SiLU()\n",
       "            (1): Linear(in_features=512, out_features=512, bias=True)\n",
       "          )\n",
       "          (cond_emb_layers): Sequential(\n",
       "            (0): SiLU()\n",
       "            (1): Linear(in_features=512, out_features=256, bias=True)\n",
       "          )\n",
       "          (out_layers): Sequential(\n",
       "            (0): GroupNorm32(32, 256, eps=1e-05, affine=True)\n",
       "            (1): SiLU()\n",
       "            (2): Dropout(p=0.1, inplace=False)\n",
       "            (3): Conv2d(256, 256, kernel_size=(3, 3), stride=(1, 1), padding=(1, 1))\n",
       "          )\n",
       "          (skip_connection): Conv2d(512, 256, kernel_size=(1, 1), stride=(1, 1))\n",
       "        )\n",
       "      )\n",
       "      (10): TimestepEmbedSequential(\n",
       "        (0): ResBlock(\n",
       "          (in_layers): Sequential(\n",
       "            (0): GroupNorm32(32, 512, eps=1e-05, affine=True)\n",
       "            (1): SiLU()\n",
       "            (2): Conv2d(512, 256, kernel_size=(3, 3), stride=(1, 1), padding=(1, 1))\n",
       "          )\n",
       "          (h_upd): Identity()\n",
       "          (x_upd): Identity()\n",
       "          (emb_layers): Sequential(\n",
       "            (0): SiLU()\n",
       "            (1): Linear(in_features=512, out_features=512, bias=True)\n",
       "          )\n",
       "          (cond_emb_layers): Sequential(\n",
       "            (0): SiLU()\n",
       "            (1): Linear(in_features=512, out_features=256, bias=True)\n",
       "          )\n",
       "          (out_layers): Sequential(\n",
       "            (0): GroupNorm32(32, 256, eps=1e-05, affine=True)\n",
       "            (1): SiLU()\n",
       "            (2): Dropout(p=0.1, inplace=False)\n",
       "            (3): Conv2d(256, 256, kernel_size=(3, 3), stride=(1, 1), padding=(1, 1))\n",
       "          )\n",
       "          (skip_connection): Conv2d(512, 256, kernel_size=(1, 1), stride=(1, 1))\n",
       "        )\n",
       "      )\n",
       "      (11): TimestepEmbedSequential(\n",
       "        (0): ResBlock(\n",
       "          (in_layers): Sequential(\n",
       "            (0): GroupNorm32(32, 384, eps=1e-05, affine=True)\n",
       "            (1): SiLU()\n",
       "            (2): Conv2d(384, 256, kernel_size=(3, 3), stride=(1, 1), padding=(1, 1))\n",
       "          )\n",
       "          (h_upd): Identity()\n",
       "          (x_upd): Identity()\n",
       "          (emb_layers): Sequential(\n",
       "            (0): SiLU()\n",
       "            (1): Linear(in_features=512, out_features=512, bias=True)\n",
       "          )\n",
       "          (cond_emb_layers): Sequential(\n",
       "            (0): SiLU()\n",
       "            (1): Linear(in_features=512, out_features=256, bias=True)\n",
       "          )\n",
       "          (out_layers): Sequential(\n",
       "            (0): GroupNorm32(32, 256, eps=1e-05, affine=True)\n",
       "            (1): SiLU()\n",
       "            (2): Dropout(p=0.1, inplace=False)\n",
       "            (3): Conv2d(256, 256, kernel_size=(3, 3), stride=(1, 1), padding=(1, 1))\n",
       "          )\n",
       "          (skip_connection): Conv2d(384, 256, kernel_size=(1, 1), stride=(1, 1))\n",
       "        )\n",
       "        (1): ResBlock(\n",
       "          (in_layers): Sequential(\n",
       "            (0): GroupNorm32(32, 256, eps=1e-05, affine=True)\n",
       "            (1): SiLU()\n",
       "            (2): Conv2d(256, 256, kernel_size=(3, 3), stride=(1, 1), padding=(1, 1))\n",
       "          )\n",
       "          (h_upd): Upsample()\n",
       "          (x_upd): Upsample()\n",
       "          (emb_layers): Sequential(\n",
       "            (0): SiLU()\n",
       "            (1): Linear(in_features=512, out_features=512, bias=True)\n",
       "          )\n",
       "          (cond_emb_layers): Sequential(\n",
       "            (0): SiLU()\n",
       "            (1): Linear(in_features=512, out_features=256, bias=True)\n",
       "          )\n",
       "          (out_layers): Sequential(\n",
       "            (0): GroupNorm32(32, 256, eps=1e-05, affine=True)\n",
       "            (1): SiLU()\n",
       "            (2): Dropout(p=0.1, inplace=False)\n",
       "            (3): Conv2d(256, 256, kernel_size=(3, 3), stride=(1, 1), padding=(1, 1))\n",
       "          )\n",
       "          (skip_connection): Identity()\n",
       "        )\n",
       "      )\n",
       "      (12): TimestepEmbedSequential(\n",
       "        (0): ResBlock(\n",
       "          (in_layers): Sequential(\n",
       "            (0): GroupNorm32(32, 384, eps=1e-05, affine=True)\n",
       "            (1): SiLU()\n",
       "            (2): Conv2d(384, 128, kernel_size=(3, 3), stride=(1, 1), padding=(1, 1))\n",
       "          )\n",
       "          (h_upd): Identity()\n",
       "          (x_upd): Identity()\n",
       "          (emb_layers): Sequential(\n",
       "            (0): SiLU()\n",
       "            (1): Linear(in_features=512, out_features=256, bias=True)\n",
       "          )\n",
       "          (cond_emb_layers): Sequential(\n",
       "            (0): SiLU()\n",
       "            (1): Linear(in_features=512, out_features=128, bias=True)\n",
       "          )\n",
       "          (out_layers): Sequential(\n",
       "            (0): GroupNorm32(32, 128, eps=1e-05, affine=True)\n",
       "            (1): SiLU()\n",
       "            (2): Dropout(p=0.1, inplace=False)\n",
       "            (3): Conv2d(128, 128, kernel_size=(3, 3), stride=(1, 1), padding=(1, 1))\n",
       "          )\n",
       "          (skip_connection): Conv2d(384, 128, kernel_size=(1, 1), stride=(1, 1))\n",
       "        )\n",
       "      )\n",
       "      (13): TimestepEmbedSequential(\n",
       "        (0): ResBlock(\n",
       "          (in_layers): Sequential(\n",
       "            (0): GroupNorm32(32, 256, eps=1e-05, affine=True)\n",
       "            (1): SiLU()\n",
       "            (2): Conv2d(256, 128, kernel_size=(3, 3), stride=(1, 1), padding=(1, 1))\n",
       "          )\n",
       "          (h_upd): Identity()\n",
       "          (x_upd): Identity()\n",
       "          (emb_layers): Sequential(\n",
       "            (0): SiLU()\n",
       "            (1): Linear(in_features=512, out_features=256, bias=True)\n",
       "          )\n",
       "          (cond_emb_layers): Sequential(\n",
       "            (0): SiLU()\n",
       "            (1): Linear(in_features=512, out_features=128, bias=True)\n",
       "          )\n",
       "          (out_layers): Sequential(\n",
       "            (0): GroupNorm32(32, 128, eps=1e-05, affine=True)\n",
       "            (1): SiLU()\n",
       "            (2): Dropout(p=0.1, inplace=False)\n",
       "            (3): Conv2d(128, 128, kernel_size=(3, 3), stride=(1, 1), padding=(1, 1))\n",
       "          )\n",
       "          (skip_connection): Conv2d(256, 128, kernel_size=(1, 1), stride=(1, 1))\n",
       "        )\n",
       "      )\n",
       "      (14): TimestepEmbedSequential(\n",
       "        (0): ResBlock(\n",
       "          (in_layers): Sequential(\n",
       "            (0): GroupNorm32(32, 256, eps=1e-05, affine=True)\n",
       "            (1): SiLU()\n",
       "            (2): Conv2d(256, 128, kernel_size=(3, 3), stride=(1, 1), padding=(1, 1))\n",
       "          )\n",
       "          (h_upd): Identity()\n",
       "          (x_upd): Identity()\n",
       "          (emb_layers): Sequential(\n",
       "            (0): SiLU()\n",
       "            (1): Linear(in_features=512, out_features=256, bias=True)\n",
       "          )\n",
       "          (cond_emb_layers): Sequential(\n",
       "            (0): SiLU()\n",
       "            (1): Linear(in_features=512, out_features=128, bias=True)\n",
       "          )\n",
       "          (out_layers): Sequential(\n",
       "            (0): GroupNorm32(32, 128, eps=1e-05, affine=True)\n",
       "            (1): SiLU()\n",
       "            (2): Dropout(p=0.1, inplace=False)\n",
       "            (3): Conv2d(128, 128, kernel_size=(3, 3), stride=(1, 1), padding=(1, 1))\n",
       "          )\n",
       "          (skip_connection): Conv2d(256, 128, kernel_size=(1, 1), stride=(1, 1))\n",
       "        )\n",
       "        (1): ResBlock(\n",
       "          (in_layers): Sequential(\n",
       "            (0): GroupNorm32(32, 128, eps=1e-05, affine=True)\n",
       "            (1): SiLU()\n",
       "            (2): Conv2d(128, 128, kernel_size=(3, 3), stride=(1, 1), padding=(1, 1))\n",
       "          )\n",
       "          (h_upd): Upsample()\n",
       "          (x_upd): Upsample()\n",
       "          (emb_layers): Sequential(\n",
       "            (0): SiLU()\n",
       "            (1): Linear(in_features=512, out_features=256, bias=True)\n",
       "          )\n",
       "          (cond_emb_layers): Sequential(\n",
       "            (0): SiLU()\n",
       "            (1): Linear(in_features=512, out_features=128, bias=True)\n",
       "          )\n",
       "          (out_layers): Sequential(\n",
       "            (0): GroupNorm32(32, 128, eps=1e-05, affine=True)\n",
       "            (1): SiLU()\n",
       "            (2): Dropout(p=0.1, inplace=False)\n",
       "            (3): Conv2d(128, 128, kernel_size=(3, 3), stride=(1, 1), padding=(1, 1))\n",
       "          )\n",
       "          (skip_connection): Identity()\n",
       "        )\n",
       "      )\n",
       "      (15): TimestepEmbedSequential(\n",
       "        (0): ResBlock(\n",
       "          (in_layers): Sequential(\n",
       "            (0): GroupNorm32(32, 256, eps=1e-05, affine=True)\n",
       "            (1): SiLU()\n",
       "            (2): Conv2d(256, 128, kernel_size=(3, 3), stride=(1, 1), padding=(1, 1))\n",
       "          )\n",
       "          (h_upd): Identity()\n",
       "          (x_upd): Identity()\n",
       "          (emb_layers): Sequential(\n",
       "            (0): SiLU()\n",
       "            (1): Linear(in_features=512, out_features=256, bias=True)\n",
       "          )\n",
       "          (cond_emb_layers): Sequential(\n",
       "            (0): SiLU()\n",
       "            (1): Linear(in_features=512, out_features=128, bias=True)\n",
       "          )\n",
       "          (out_layers): Sequential(\n",
       "            (0): GroupNorm32(32, 128, eps=1e-05, affine=True)\n",
       "            (1): SiLU()\n",
       "            (2): Dropout(p=0.1, inplace=False)\n",
       "            (3): Conv2d(128, 128, kernel_size=(3, 3), stride=(1, 1), padding=(1, 1))\n",
       "          )\n",
       "          (skip_connection): Conv2d(256, 128, kernel_size=(1, 1), stride=(1, 1))\n",
       "        )\n",
       "      )\n",
       "      (16): TimestepEmbedSequential(\n",
       "        (0): ResBlock(\n",
       "          (in_layers): Sequential(\n",
       "            (0): GroupNorm32(32, 256, eps=1e-05, affine=True)\n",
       "            (1): SiLU()\n",
       "            (2): Conv2d(256, 128, kernel_size=(3, 3), stride=(1, 1), padding=(1, 1))\n",
       "          )\n",
       "          (h_upd): Identity()\n",
       "          (x_upd): Identity()\n",
       "          (emb_layers): Sequential(\n",
       "            (0): SiLU()\n",
       "            (1): Linear(in_features=512, out_features=256, bias=True)\n",
       "          )\n",
       "          (cond_emb_layers): Sequential(\n",
       "            (0): SiLU()\n",
       "            (1): Linear(in_features=512, out_features=128, bias=True)\n",
       "          )\n",
       "          (out_layers): Sequential(\n",
       "            (0): GroupNorm32(32, 128, eps=1e-05, affine=True)\n",
       "            (1): SiLU()\n",
       "            (2): Dropout(p=0.1, inplace=False)\n",
       "            (3): Conv2d(128, 128, kernel_size=(3, 3), stride=(1, 1), padding=(1, 1))\n",
       "          )\n",
       "          (skip_connection): Conv2d(256, 128, kernel_size=(1, 1), stride=(1, 1))\n",
       "        )\n",
       "      )\n",
       "      (17): TimestepEmbedSequential(\n",
       "        (0): ResBlock(\n",
       "          (in_layers): Sequential(\n",
       "            (0): GroupNorm32(32, 256, eps=1e-05, affine=True)\n",
       "            (1): SiLU()\n",
       "            (2): Conv2d(256, 128, kernel_size=(3, 3), stride=(1, 1), padding=(1, 1))\n",
       "          )\n",
       "          (h_upd): Identity()\n",
       "          (x_upd): Identity()\n",
       "          (emb_layers): Sequential(\n",
       "            (0): SiLU()\n",
       "            (1): Linear(in_features=512, out_features=256, bias=True)\n",
       "          )\n",
       "          (cond_emb_layers): Sequential(\n",
       "            (0): SiLU()\n",
       "            (1): Linear(in_features=512, out_features=128, bias=True)\n",
       "          )\n",
       "          (out_layers): Sequential(\n",
       "            (0): GroupNorm32(32, 128, eps=1e-05, affine=True)\n",
       "            (1): SiLU()\n",
       "            (2): Dropout(p=0.1, inplace=False)\n",
       "            (3): Conv2d(128, 128, kernel_size=(3, 3), stride=(1, 1), padding=(1, 1))\n",
       "          )\n",
       "          (skip_connection): Conv2d(256, 128, kernel_size=(1, 1), stride=(1, 1))\n",
       "        )\n",
       "      )\n",
       "    )\n",
       "    (out): Sequential(\n",
       "      (0): GroupNorm32(32, 128, eps=1e-05, affine=True)\n",
       "      (1): SiLU()\n",
       "      (2): Conv2d(128, 3, kernel_size=(3, 3), stride=(1, 1), padding=(1, 1))\n",
       "    )\n",
       "    (encoder): BeatGANsEncoderModel(\n",
       "      (input_blocks): ModuleList(\n",
       "        (0): TimestepEmbedSequential(\n",
       "          (0): Conv2d(3, 128, kernel_size=(3, 3), stride=(1, 1), padding=(1, 1))\n",
       "        )\n",
       "        (1): TimestepEmbedSequential(\n",
       "          (0): ResBlock(\n",
       "            (in_layers): Sequential(\n",
       "              (0): GroupNorm32(32, 128, eps=1e-05, affine=True)\n",
       "              (1): SiLU()\n",
       "              (2): Conv2d(128, 128, kernel_size=(3, 3), stride=(1, 1), padding=(1, 1))\n",
       "            )\n",
       "            (h_upd): Identity()\n",
       "            (x_upd): Identity()\n",
       "            (skip_connection): Identity()\n",
       "          )\n",
       "        )\n",
       "        (2): TimestepEmbedSequential(\n",
       "          (0): ResBlock(\n",
       "            (in_layers): Sequential(\n",
       "              (0): GroupNorm32(32, 128, eps=1e-05, affine=True)\n",
       "              (1): SiLU()\n",
       "              (2): Conv2d(128, 128, kernel_size=(3, 3), stride=(1, 1), padding=(1, 1))\n",
       "            )\n",
       "            (h_upd): Identity()\n",
       "            (x_upd): Identity()\n",
       "            (skip_connection): Identity()\n",
       "          )\n",
       "        )\n",
       "        (3): TimestepEmbedSequential(\n",
       "          (0): ResBlock(\n",
       "            (in_layers): Sequential(\n",
       "              (0): GroupNorm32(32, 128, eps=1e-05, affine=True)\n",
       "              (1): SiLU()\n",
       "              (2): Conv2d(128, 128, kernel_size=(3, 3), stride=(1, 1), padding=(1, 1))\n",
       "            )\n",
       "            (h_upd): Downsample(\n",
       "              (op): AvgPool2d(kernel_size=2, stride=2, padding=0)\n",
       "            )\n",
       "            (x_upd): Downsample(\n",
       "              (op): AvgPool2d(kernel_size=2, stride=2, padding=0)\n",
       "            )\n",
       "            (skip_connection): Identity()\n",
       "          )\n",
       "        )\n",
       "        (4): TimestepEmbedSequential(\n",
       "          (0): ResBlock(\n",
       "            (in_layers): Sequential(\n",
       "              (0): GroupNorm32(32, 128, eps=1e-05, affine=True)\n",
       "              (1): SiLU()\n",
       "              (2): Conv2d(128, 128, kernel_size=(3, 3), stride=(1, 1), padding=(1, 1))\n",
       "            )\n",
       "            (h_upd): Identity()\n",
       "            (x_upd): Identity()\n",
       "            (skip_connection): Identity()\n",
       "          )\n",
       "        )\n",
       "        (5): TimestepEmbedSequential(\n",
       "          (0): ResBlock(\n",
       "            (in_layers): Sequential(\n",
       "              (0): GroupNorm32(32, 128, eps=1e-05, affine=True)\n",
       "              (1): SiLU()\n",
       "              (2): Conv2d(128, 128, kernel_size=(3, 3), stride=(1, 1), padding=(1, 1))\n",
       "            )\n",
       "            (h_upd): Identity()\n",
       "            (x_upd): Identity()\n",
       "            (skip_connection): Identity()\n",
       "          )\n",
       "        )\n",
       "        (6): TimestepEmbedSequential(\n",
       "          (0): ResBlock(\n",
       "            (in_layers): Sequential(\n",
       "              (0): GroupNorm32(32, 128, eps=1e-05, affine=True)\n",
       "              (1): SiLU()\n",
       "              (2): Conv2d(128, 128, kernel_size=(3, 3), stride=(1, 1), padding=(1, 1))\n",
       "            )\n",
       "            (h_upd): Downsample(\n",
       "              (op): AvgPool2d(kernel_size=2, stride=2, padding=0)\n",
       "            )\n",
       "            (x_upd): Downsample(\n",
       "              (op): AvgPool2d(kernel_size=2, stride=2, padding=0)\n",
       "            )\n",
       "            (skip_connection): Identity()\n",
       "          )\n",
       "        )\n",
       "        (7): TimestepEmbedSequential(\n",
       "          (0): ResBlock(\n",
       "            (in_layers): Sequential(\n",
       "              (0): GroupNorm32(32, 128, eps=1e-05, affine=True)\n",
       "              (1): SiLU()\n",
       "              (2): Conv2d(128, 256, kernel_size=(3, 3), stride=(1, 1), padding=(1, 1))\n",
       "            )\n",
       "            (h_upd): Identity()\n",
       "            (x_upd): Identity()\n",
       "            (skip_connection): Conv2d(128, 256, kernel_size=(1, 1), stride=(1, 1))\n",
       "          )\n",
       "        )\n",
       "        (8): TimestepEmbedSequential(\n",
       "          (0): ResBlock(\n",
       "            (in_layers): Sequential(\n",
       "              (0): GroupNorm32(32, 256, eps=1e-05, affine=True)\n",
       "              (1): SiLU()\n",
       "              (2): Conv2d(256, 256, kernel_size=(3, 3), stride=(1, 1), padding=(1, 1))\n",
       "            )\n",
       "            (h_upd): Identity()\n",
       "            (x_upd): Identity()\n",
       "            (skip_connection): Identity()\n",
       "          )\n",
       "        )\n",
       "        (9): TimestepEmbedSequential(\n",
       "          (0): ResBlock(\n",
       "            (in_layers): Sequential(\n",
       "              (0): GroupNorm32(32, 256, eps=1e-05, affine=True)\n",
       "              (1): SiLU()\n",
       "              (2): Conv2d(256, 256, kernel_size=(3, 3), stride=(1, 1), padding=(1, 1))\n",
       "            )\n",
       "            (h_upd): Downsample(\n",
       "              (op): AvgPool2d(kernel_size=2, stride=2, padding=0)\n",
       "            )\n",
       "            (x_upd): Downsample(\n",
       "              (op): AvgPool2d(kernel_size=2, stride=2, padding=0)\n",
       "            )\n",
       "            (skip_connection): Identity()\n",
       "          )\n",
       "        )\n",
       "        (10): TimestepEmbedSequential(\n",
       "          (0): ResBlock(\n",
       "            (in_layers): Sequential(\n",
       "              (0): GroupNorm32(32, 256, eps=1e-05, affine=True)\n",
       "              (1): SiLU()\n",
       "              (2): Conv2d(256, 256, kernel_size=(3, 3), stride=(1, 1), padding=(1, 1))\n",
       "            )\n",
       "            (h_upd): Identity()\n",
       "            (x_upd): Identity()\n",
       "            (skip_connection): Identity()\n",
       "          )\n",
       "        )\n",
       "        (11): TimestepEmbedSequential(\n",
       "          (0): ResBlock(\n",
       "            (in_layers): Sequential(\n",
       "              (0): GroupNorm32(32, 256, eps=1e-05, affine=True)\n",
       "              (1): SiLU()\n",
       "              (2): Conv2d(256, 256, kernel_size=(3, 3), stride=(1, 1), padding=(1, 1))\n",
       "            )\n",
       "            (h_upd): Identity()\n",
       "            (x_upd): Identity()\n",
       "            (skip_connection): Identity()\n",
       "          )\n",
       "        )\n",
       "        (12): TimestepEmbedSequential(\n",
       "          (0): ResBlock(\n",
       "            (in_layers): Sequential(\n",
       "              (0): GroupNorm32(32, 256, eps=1e-05, affine=True)\n",
       "              (1): SiLU()\n",
       "              (2): Conv2d(256, 256, kernel_size=(3, 3), stride=(1, 1), padding=(1, 1))\n",
       "            )\n",
       "            (h_upd): Downsample(\n",
       "              (op): AvgPool2d(kernel_size=2, stride=2, padding=0)\n",
       "            )\n",
       "            (x_upd): Downsample(\n",
       "              (op): AvgPool2d(kernel_size=2, stride=2, padding=0)\n",
       "            )\n",
       "            (skip_connection): Identity()\n",
       "          )\n",
       "        )\n",
       "        (13): TimestepEmbedSequential(\n",
       "          (0): ResBlock(\n",
       "            (in_layers): Sequential(\n",
       "              (0): GroupNorm32(32, 256, eps=1e-05, affine=True)\n",
       "              (1): SiLU()\n",
       "              (2): Conv2d(256, 512, kernel_size=(3, 3), stride=(1, 1), padding=(1, 1))\n",
       "            )\n",
       "            (h_upd): Identity()\n",
       "            (x_upd): Identity()\n",
       "            (skip_connection): Conv2d(256, 512, kernel_size=(1, 1), stride=(1, 1))\n",
       "          )\n",
       "          (1): AttentionBlock(\n",
       "            (norm): GroupNorm32(32, 512, eps=1e-05, affine=True)\n",
       "            (qkv): Conv1d(512, 1536, kernel_size=(1,), stride=(1,))\n",
       "            (attention): QKVAttentionLegacy()\n",
       "            (proj_out): Conv1d(512, 512, kernel_size=(1,), stride=(1,))\n",
       "          )\n",
       "        )\n",
       "        (14): TimestepEmbedSequential(\n",
       "          (0): ResBlock(\n",
       "            (in_layers): Sequential(\n",
       "              (0): GroupNorm32(32, 512, eps=1e-05, affine=True)\n",
       "              (1): SiLU()\n",
       "              (2): Conv2d(512, 512, kernel_size=(3, 3), stride=(1, 1), padding=(1, 1))\n",
       "            )\n",
       "            (h_upd): Identity()\n",
       "            (x_upd): Identity()\n",
       "            (skip_connection): Identity()\n",
       "          )\n",
       "          (1): AttentionBlock(\n",
       "            (norm): GroupNorm32(32, 512, eps=1e-05, affine=True)\n",
       "            (qkv): Conv1d(512, 1536, kernel_size=(1,), stride=(1,))\n",
       "            (attention): QKVAttentionLegacy()\n",
       "            (proj_out): Conv1d(512, 512, kernel_size=(1,), stride=(1,))\n",
       "          )\n",
       "        )\n",
       "        (15): TimestepEmbedSequential(\n",
       "          (0): ResBlock(\n",
       "            (in_layers): Sequential(\n",
       "              (0): GroupNorm32(32, 512, eps=1e-05, affine=True)\n",
       "              (1): SiLU()\n",
       "              (2): Conv2d(512, 512, kernel_size=(3, 3), stride=(1, 1), padding=(1, 1))\n",
       "            )\n",
       "            (h_upd): Downsample(\n",
       "              (op): AvgPool2d(kernel_size=2, stride=2, padding=0)\n",
       "            )\n",
       "            (x_upd): Downsample(\n",
       "              (op): AvgPool2d(kernel_size=2, stride=2, padding=0)\n",
       "            )\n",
       "            (skip_connection): Identity()\n",
       "          )\n",
       "        )\n",
       "        (16): TimestepEmbedSequential(\n",
       "          (0): ResBlock(\n",
       "            (in_layers): Sequential(\n",
       "              (0): GroupNorm32(32, 512, eps=1e-05, affine=True)\n",
       "              (1): SiLU()\n",
       "              (2): Conv2d(512, 512, kernel_size=(3, 3), stride=(1, 1), padding=(1, 1))\n",
       "            )\n",
       "            (h_upd): Identity()\n",
       "            (x_upd): Identity()\n",
       "            (skip_connection): Identity()\n",
       "          )\n",
       "        )\n",
       "        (17): TimestepEmbedSequential(\n",
       "          (0): ResBlock(\n",
       "            (in_layers): Sequential(\n",
       "              (0): GroupNorm32(32, 512, eps=1e-05, affine=True)\n",
       "              (1): SiLU()\n",
       "              (2): Conv2d(512, 512, kernel_size=(3, 3), stride=(1, 1), padding=(1, 1))\n",
       "            )\n",
       "            (h_upd): Identity()\n",
       "            (x_upd): Identity()\n",
       "            (skip_connection): Identity()\n",
       "          )\n",
       "        )\n",
       "        (18): TimestepEmbedSequential(\n",
       "          (0): ResBlock(\n",
       "            (in_layers): Sequential(\n",
       "              (0): GroupNorm32(32, 512, eps=1e-05, affine=True)\n",
       "              (1): SiLU()\n",
       "              (2): Conv2d(512, 512, kernel_size=(3, 3), stride=(1, 1), padding=(1, 1))\n",
       "            )\n",
       "            (h_upd): Downsample(\n",
       "              (op): AvgPool2d(kernel_size=2, stride=2, padding=0)\n",
       "            )\n",
       "            (x_upd): Downsample(\n",
       "              (op): AvgPool2d(kernel_size=2, stride=2, padding=0)\n",
       "            )\n",
       "            (skip_connection): Identity()\n",
       "          )\n",
       "        )\n",
       "        (19): TimestepEmbedSequential(\n",
       "          (0): ResBlock(\n",
       "            (in_layers): Sequential(\n",
       "              (0): GroupNorm32(32, 512, eps=1e-05, affine=True)\n",
       "              (1): SiLU()\n",
       "              (2): Conv2d(512, 512, kernel_size=(3, 3), stride=(1, 1), padding=(1, 1))\n",
       "            )\n",
       "            (h_upd): Identity()\n",
       "            (x_upd): Identity()\n",
       "            (skip_connection): Identity()\n",
       "          )\n",
       "        )\n",
       "        (20): TimestepEmbedSequential(\n",
       "          (0): ResBlock(\n",
       "            (in_layers): Sequential(\n",
       "              (0): GroupNorm32(32, 512, eps=1e-05, affine=True)\n",
       "              (1): SiLU()\n",
       "              (2): Conv2d(512, 512, kernel_size=(3, 3), stride=(1, 1), padding=(1, 1))\n",
       "            )\n",
       "            (h_upd): Identity()\n",
       "            (x_upd): Identity()\n",
       "            (skip_connection): Identity()\n",
       "          )\n",
       "        )\n",
       "      )\n",
       "      (middle_block): TimestepEmbedSequential(\n",
       "        (0): ResBlock(\n",
       "          (in_layers): Sequential(\n",
       "            (0): GroupNorm32(32, 512, eps=1e-05, affine=True)\n",
       "            (1): SiLU()\n",
       "            (2): Conv2d(512, 512, kernel_size=(3, 3), stride=(1, 1), padding=(1, 1))\n",
       "          )\n",
       "          (h_upd): Identity()\n",
       "          (x_upd): Identity()\n",
       "          (skip_connection): Identity()\n",
       "        )\n",
       "        (1): AttentionBlock(\n",
       "          (norm): GroupNorm32(32, 512, eps=1e-05, affine=True)\n",
       "          (qkv): Conv1d(512, 1536, kernel_size=(1,), stride=(1,))\n",
       "          (attention): QKVAttentionLegacy()\n",
       "          (proj_out): Conv1d(512, 512, kernel_size=(1,), stride=(1,))\n",
       "        )\n",
       "        (2): ResBlock(\n",
       "          (in_layers): Sequential(\n",
       "            (0): GroupNorm32(32, 512, eps=1e-05, affine=True)\n",
       "            (1): SiLU()\n",
       "            (2): Conv2d(512, 512, kernel_size=(3, 3), stride=(1, 1), padding=(1, 1))\n",
       "          )\n",
       "          (h_upd): Identity()\n",
       "          (x_upd): Identity()\n",
       "          (skip_connection): Identity()\n",
       "        )\n",
       "      )\n",
       "      (out): Sequential(\n",
       "        (0): GroupNorm32(32, 512, eps=1e-05, affine=True)\n",
       "        (1): SiLU()\n",
       "        (2): AdaptiveAvgPool2d(output_size=(1, 1))\n",
       "        (3): Conv2d(512, 512, kernel_size=(1, 1), stride=(1, 1))\n",
       "        (4): Flatten(start_dim=1, end_dim=-1)\n",
       "      )\n",
       "    )\n",
       "  )\n",
       "  (classifier): Linear(in_features=512, out_features=40, bias=True)\n",
       "  (ema_classifier): Linear(in_features=512, out_features=40, bias=True)\n",
       ")"
      ]
     },
     "execution_count": 6,
     "metadata": {},
     "output_type": "execute_result"
    }
   ],
   "source": [
    "classifer_config = ffhq256_autoenc_cls() if img_resolution == 256 else ffhq128_autoenc_cls()\n",
    "classifier = ClsModel(classifer_config)\n",
    "state = torch.load(f'checkpoints/{classifer_config.name}/last.ckpt', map_location='cpu')\n",
    "print('latent step:', state['global_step'])\n",
    "classifier.load_state_dict(state['state_dict'], strict=False)\n",
    "classifier.to(device)"
   ]
  },
  {
   "cell_type": "markdown",
   "metadata": {},
   "source": [
    "<h3> Data initialization </h3>"
   ]
  },
  {
   "cell_type": "code",
   "execution_count": 7,
   "metadata": {},
   "outputs": [],
   "source": [
    "def convert2rgb(img,adjust_scale=True):\n",
    "    convert_img = torch.tensor(img)\n",
    "    if adjust_scale: convert_img = (convert_img+1)/2\n",
    "    return (convert_img).permute(1, 2, 0).cpu()"
   ]
  },
  {
   "cell_type": "markdown",
   "metadata": {},
   "source": [
    "<h3> Custom dataset </h3>\n",
    "In addition, you may feed any well-aligned portrait face image into our model. The alignment and image preparation script is also provided; check out align.py"
   ]
  },
  {
   "cell_type": "code",
   "execution_count": 8,
   "metadata": {},
   "outputs": [
    {
     "name": "stderr",
     "output_type": "stream",
     "text": [
      "/home/nessessence/anaconda3/envs/auto_ddpm/lib/python3.7/site-packages/ipykernel_launcher.py:2: UserWarning: To copy construct from a tensor, it is recommended to use sourceTensor.clone().detach() or sourceTensor.clone().detach().requires_grad_(True), rather than torch.tensor(sourceTensor).\n",
      "  \n"
     ]
    },
    {
     "data": {
      "text/plain": [
       "<matplotlib.image.AxesImage at 0x7f28f1d6d510>"
      ]
     },
     "execution_count": 8,
     "metadata": {},
     "output_type": "execute_result"
    },
    {
     "data": {
      "image/png": "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",
      "text/plain": [
       "<Figure size 432x288 with 1 Axes>"
      ]
     },
     "metadata": {
      "needs_background": "light"
     },
     "output_type": "display_data"
    }
   ],
   "source": [
    "imgdataset_path = 'imgs_align'  # path to your own image dataset \n",
    "data = ImageDataset(imgdataset_path, image_size=model_config.img_size, exts=['jpg', 'JPG', 'png'], do_augment=False)\n",
    "plt.imshow(convert2rgb(data[0]['img']))"
   ]
  },
  {
   "cell_type": "code",
   "execution_count": 9,
   "metadata": {},
   "outputs": [],
   "source": [
    "batch = data[0]['img'][None]\n",
    "\n",
    "semantic_latent = model.encode(batch.to(device))\n",
    "stochastic_latent = model.encode_stochastic(batch.to(device), semantic_latent)"
   ]
  },
  {
   "cell_type": "markdown",
   "metadata": {},
   "source": [
    "<h3> Manipulation </h3>"
   ]
  },
  {
   "cell_type": "code",
   "execution_count": 10,
   "metadata": {},
   "outputs": [
    {
     "data": {
      "text/plain": [
       "['5_o_Clock_Shadow',\n",
       " 'Arched_Eyebrows',\n",
       " 'Attractive',\n",
       " 'Bags_Under_Eyes',\n",
       " 'Bald',\n",
       " 'Bangs',\n",
       " 'Big_Lips',\n",
       " 'Big_Nose',\n",
       " 'Black_Hair',\n",
       " 'Blond_Hair',\n",
       " 'Blurry',\n",
       " 'Brown_Hair',\n",
       " 'Bushy_Eyebrows',\n",
       " 'Chubby',\n",
       " 'Double_Chin',\n",
       " 'Eyeglasses',\n",
       " 'Goatee',\n",
       " 'Gray_Hair',\n",
       " 'Heavy_Makeup',\n",
       " 'High_Cheekbones',\n",
       " 'Male',\n",
       " 'Mouth_Slightly_Open',\n",
       " 'Mustache',\n",
       " 'Narrow_Eyes',\n",
       " 'No_Beard',\n",
       " 'Oval_Face',\n",
       " 'Pale_Skin',\n",
       " 'Pointy_Nose',\n",
       " 'Receding_Hairline',\n",
       " 'Rosy_Cheeks',\n",
       " 'Sideburns',\n",
       " 'Smiling',\n",
       " 'Straight_Hair',\n",
       " 'Wavy_Hair',\n",
       " 'Wearing_Earrings',\n",
       " 'Wearing_Hat',\n",
       " 'Wearing_Lipstick',\n",
       " 'Wearing_Necklace',\n",
       " 'Wearing_Necktie',\n",
       " 'Young']"
      ]
     },
     "execution_count": 10,
     "metadata": {},
     "output_type": "execute_result"
    }
   ],
   "source": [
    "CelebAttrDataset.id_to_cls"
   ]
  },
  {
   "cell_type": "code",
   "execution_count": 24,
   "metadata": {},
   "outputs": [],
   "source": [
    "target_class = 'Bangs'  \n",
    "manipulation_amp = 0.4  # how strong of the class direction;  too strong will be resulted in artifact as it could dominate the original image information\n",
    "\n",
    "cls_id = CelebAttrDataset.cls_to_id[target_class]\n",
    "class_direction = classifier.classifier.weight[cls_id]\n",
    "normalized_class_direction = F.normalize(class_direction[None, :], dim=1)\n",
    "\n",
    "normalized_semantic_latent = classifier.normalize(semantic_latent)\n",
    "normalized_manipulation_amp = manipulation_amp * math.sqrt(512)\n",
    "normalized_manipulated_semantic_latent =  normalized_semantic_latent + normalized_manipulation_amp*normalized_class_direction\n",
    "\n",
    "manipulated_semantic_latent = classifier.denormalize(normalized_manipulated_semantic_latent)"
   ]
  },
  {
   "cell_type": "code",
   "execution_count": 25,
   "metadata": {},
   "outputs": [
    {
     "name": "stderr",
     "output_type": "stream",
     "text": [
      "/home/nessessence/anaconda3/envs/auto_ddpm/lib/python3.7/site-packages/ipykernel_launcher.py:2: UserWarning: To copy construct from a tensor, it is recommended to use sourceTensor.clone().detach() or sourceTensor.clone().detach().requires_grad_(True), rather than torch.tensor(sourceTensor).\n",
      "  \n"
     ]
    },
    {
     "data": {
      "text/plain": [
       "<matplotlib.image.AxesImage at 0x7f295cf82710>"
      ]
     },
     "execution_count": 25,
     "metadata": {},
     "output_type": "execute_result"
    },
    {
     "data": {
      "image/png": "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$��m��mo�L�D��;�%g�?w��ŷ���ovH0��a�5��*�ؒ��l͛�S�iy�r�O7����%L]��%���hk ����>v1�HB������d\�(eoIx�>3�6BS%���(
��f$�h�����eԎ���H���`ݶf{�Fo�Y���@00uMb�z-��XI$&�gf���7Ӵ�u|'K.�oP
P���F�.��o��9B<~. ����[����<٭�$�����{1�A��.�bKx�L������'�u8n5���e ,]�H����V��Ww�$�C�el��|zys��K�i-�q�ݬbk,wnG��;�� ~�e�r͒���~'1`V⦫�-*[��L�K�'2@����仪��n���2�N� �ƶ�G���i/U��'E�@�`H��;J�������+J�n#���6ڴ�ĹG���N�G�'�Z!�����Wi��NJ�@���A��Z|�[��$q}i�ҷ�QbtTEC$��m��mo�L�D��;�%g�?w��ŷ���ovH0��a�5��*�ؒ��l͛�S�iy�r�O7����%L]��%���hk ����>v1�HB������d\�(eoIx�>3�6BS%���(
��f$�h�����eԎ���H���`ݶf{�Fo�Y���@00uMb�z-��XI$&�gf���7Ӵ�u|'K.�oP
P���F�.��o��9B<~. ����[����<٭�$�����{1�A��.�bKx�L������'�u8n5���e ,]�H����V��Ww�$�C�el��|zys��K�i-�q�ݬbk,wnG��;�� ~�e�r͒���~'1`V⦫�-*[��L�K�'2@����仪��n���2�N� �ƶ�G���i/U��'E�@�`H��;J�������+J�n#���6ڴ�ĹG���N�G�'�Z!�����Wi��NJ�@���A��Z|�[��$q}i�ҷ�QbtTEC$��m��mo�L�D��;�%g�?w��ŷ���ovH0��a�5��*�ؒ��l͛�S�iy�r�O7����%L]��%���hk ����>v1�HB������d\�(eoIx�>3�6BS%���(
��f$�h�����eԎ���H���`ݶf{�Fo�Y���@00uMb�z-��XI$&�gf���7Ӵ�u|'K.�oP
P���F�.��o��9B<~. ����[����<٭�$�����{1�A��.�bKx�L������'�u8n5���e ,]�H����V��Ww�$�C�el��|zys��K�i-�q�ݬbk,wnG��;�� ~�e�r͒���~'1`V⦫�-*[��L�K�'2@����仪��n���2�N� �ƶ�G���i/U��'E�@�`H��;J�������+J�n#���6ڴ�ĹG���N�G�'�Z!�����Wi��NJ�@���A��Z|�[��$q}i�ҷ�QbtTEC$��m��mo�L�D��;�%g�?w��ŷ���ovH0��a�5��*�ؒ��l͛�S�iy�r�O7����%L]��%���hk ����>v1�HB������d\�(eoIx�>3�6BS%���(
��f$�h�����eԎ���H���`ݶf{�Fo�Y���@00uMb�z-��XI$&�gf���7Ӵ�u|'K.�oP
P���F�.��o��9B<~. ����[����<٭�$�����{1�A��.�bKx�L������'�u8n5���e ,]�H����V��Ww�$�C�el��|zys��K�i-�q�ݬbk,wnG��;�� ~�e�r͒���~'1`V⦫�-*[��L�K�'2@����仪��n���2�N� �ƶ�G���i/U��'E�@�`H��;J�������+J�n#���6ڴ�ĹG���N�G�'�Z!�����Wi��NJ�@���A��Z|�[��$q}i�ҷ�QbtTEC$��m��mo�L�D��;�%g�?w��ŷ���ovH0��a�5��*�ؒ��l͛�S�iy�r�O7����%L]��%���hk ����>v1�HB������d\�(eoIx�>3�6BS%���(
��f$�h�����eԎ���H���`ݶf{�Fo�Y���@00uMb�z-��XI$&�gf���7Ӵ�u|'K.�oP
P���F�.��o��9B<~. ����[����<٭�$�����{1�A��.�bKx�L������'�u8n5���e ,]�H����V��Ww�$�C�el��|zys��K�i-�q�ݬbk,wnG��;�� ~�e�r͒���~'1`V⦫�-*[��L�K�'2@����仪��n���2�N� �ƶ�G���i/U��'E�@�`H��;J�������+J�n#���6ڴ�ĹG���N�G�'�Z!�����Wi��NJ�@���A��Z|�[��$q}i�ҷ�QbtTEC$��m��mo�L�D��;�%g�?w��ŷ���ovH0��a�5��*�ؒ��l͛�S�iy�r�O7����%L]��%���hk ����>v1�HB������d\�(eoIx�>3�6BS%���(
��f$�h�����eԎ���H���`ݶf{�Fo�Y���@00uMb�z-��XI$&�gf���7Ӵ�u|'K.�oP
P���F�.��o��9B<~. ����[����<٭�$�����{1�A��.�bKx�L������'�u8n5���e ,]�H����V��Ww�$�C�el��|zys��K�i-�q�ݬbk,wnG��;�� ~�e�r͒���~'1`V⦫�-*[��L�K�'2@����仪��n���2�N� �ƶ�G���i/U��'E�@�`H��;J�������+J�n#���6ڴ�ĹG���N�G�'�Z!�����Wi��NJ�@���A��Z|�[��$q}i�ҷ�QbtTEC$��m��mo�L�D��;�%g�?w��ŷ���ovH0��a�5��*�ؒ��l͛�S�iy�r�O7����%L]��%���hk ����>v1�HB������d\�(eoIx�>3�6BS%���(
��f$�h�����eԎ���H���`ݶf{�Fo�Y���@00uMb�z-��XI$&�gf���7Ӵ�u|'K.�oP
P���F�.��o��9B<~. ����[����<٭�$�����{1�A��.�bKx�L������'�u8n5���e ,]�H����V��Ww�$�C�el��|zys��K�i-�q�ݬbk,wnG��;�� ~�e�r͒���~'1`V⦫�-*[��L�K�'2@����仪��n���2�N� �ƶ�G���i/U��'E�@�`H��;J�������+J�n#���6ڴ�ĹG���N�G�'�Z!�����Wi��NJ�@���A��Z|�[��$q}i�ҷ�QbtTEC$��m��mo�L�D��;�%g�?w��ŷ���ovH0��a�5��*�ؒ��l͛�S�iy�r�O7����%L]��%���hk ����>v1�HB������d\�(eoIx�>3�6BS%���(
��f$�h�����eԎ���H���`ݶf{�Fo�Y���@00uMb�z-��XI$&�gf���7Ӵ�u|'K.�oP
P���F�.��o��9B<~. ����[����<٭�$�����{1�A��.�bKx�L������'�u8n5���e ,]�H����V��Ww�$�C�el��|zys��K�i-�q�ݬbk,wnG��;�� ~�e�r͒���~'1`V⦫�-*[��L�K�'2@����仪��n���2�N� �ƶ�G���i/U��'E�@�`H��;J�������+J�n#���6ڴ�ĹG���N�G�'�Z!�����Wi��NJ�@���A��Z|�[��$q}i�ҷ�QbtTEC$��m��mo�L�D��;�%g�?w��ŷ���ovH0��a�5��*�ؒ��l͛�S�iy�r�O7����%L]��%���hk ����>v1�HB������d\�(eoIx�>3�6BS%���(
��f$�h�����eԎ���H���`ݶf{�Fo�Y���@00uMb�z-��XI$&�gf���7Ӵ�u|'K.�oP
P���F�.��o��9B<~. ����[����<٭�$�����{1�A��.�bKx�L������'�u8n5���e ,]�H����V��Ww�$�C�el��|zys��K�i-�q�ݬbk,wnG��;�� ~�e�r͒���~'1`V⦫�-*[��L�K�'2@����仪��n���2�N� �ƶ�G���i/U��'E�@�`H��;J�������+J�n#���6ڴ�ĹG���N�G�'�Z!�����Wi��NJ�@���A��Z|�[��$q}i�ҷ�QbtTEC$��m��mo�L�D��;�%g�?w��ŷ���ovH0��a�5��*�ؒ��l͛�S�iy�r�O7����%L]��%���hk ����>v1�HB������d\�(eoIx�>3�6BS%���(
��f$�h�����eԎ���H���`ݶf{�Fo�Y���@00uMb�z-��XI$&�gf���7Ӵ�u|'K.�oP
P���F�.��o��9B<~. ����[����<٭�$�����{1�A��.�bKx�L������'�u8n5���e ,]�H����V��Ww�$�C�el��|zys��K�i-�q�ݬbk,wnG��;�� ~�e�r͒���~'1`V⦫�-*[��L�K�'2@����仪��n���2�N� �ƶ�G���i/U��'E�@�`H��;J�������+J�n#���6ڴ�ĹG���N�G�'�Z!�����Wi��NJ�@���A��Z|�[��$q}i�ҷ�QbtTEC$��m��mo�L�D��;�%g�?w��ŷ���ovH0��a�5��*�ؒ��l͛�S�iy�r�O7����%L]��%���hk ����>v1�HB������d\�(eoIx�>3�6BS%���(
��f$�h�����eԎ���H���`ݶf{�Fo�Y���@00uMb�z-��XI$&�gf���7Ӵ�u|'K.�oP
P���F�.��o��9B<~. ����[����<٭�$�����{1�A��.�bKx�L������'�u8n5���e ,]�H����V��Ww�$�C�el��|zys��K�i-�q�ݬbk,wnG��;�� ~�e�r͒���~'1`V⦫�-*[��L�K�'2@����仪��n���2�N� �ƶ�G���i/U��'E�@�`H��;J�������+J�n#���6ڴ�ĹG���N�G�'�Z!�����Wi��NJ�@���A��Z|�[��$q}i�ҷ�QbtTEC$��m��mo�L�D��;�%g�?w��ŷ���ovH0��a�5��*�ؒ��l͛�S�iy�r�O7����%L]��%���hk ����>v1�HB������d\�(eoIx�>3�6BS%���(
��f$�h�����eԎ���H���`ݶf{�Fo�Y���@00uMb�z-��XI$&�gf���7Ӵ�u|'K.�oP
P���F�.��o��9B<~. ����[����<٭�$�����{1�A��.�bKx�L������'�u8n5���e ,]�H����V��Ww�$�C�el��|zys��K�i-�q�ݬbk,wnG��;�� ~�e�r͒���~'1`V⦫�-*[��L�K�'2@����仪��n���2�N� �ƶ�G���i/U��'E�@�`H��;J�������+J�n#���6ڴ�ĹG���N�G�'�Z!�����Wi��NJ�@���A��Z|�[��$q}i�ҷ�QbtTEC$��m��mo�L�D��;�%g�?w��ŷ���ovH0��a�5��*�ؒ��l͛�S�iy�r�O7����%L]��%���hk ����>v1�HB������d\�(eoIx�>3�6BS%���(
��f$�h�����eԎ���H���`ݶf{�Fo�Y���@00uMb�z-��XI$&�gf���7Ӵ�u|'K.�oP
P���F�.��o��9B<~. ����[����<٭�$�����{1�A��.�bKx�L������'�u8n5���e ,]�H����V��Ww�$�C�el��|zys��K�i-�q�ݬbk,wnG��;�� ~�e�r͒���~'1`V⦫�-*[��L�K�'2@����仪��n���2�N� �ƶ�G���i/U��'E�@�`H��;J�������+J�n#���6ڴ�ĹG���N�G�'�Z!�����Wi��NJ�@���A��Z|�[��$q}i�ҷ�QbtTEC$��m��mo�L�D��;�%g�?w��ŷ���ovH0��a�5��*�ؒ��l͛�S�iy�r�O7����%L]��%���hk ����>v1�HB������d\�(eoIx�>3�6BS%���(
��f$�h�����eԎ���H���`ݶf{�Fo�Y���@00uMb�z-��XI$&�gf���7Ӵ�u|'K.�oP
P���F�.��o��9B<~. ����[����<٭�$�����{1�A��.�bKx�L������'�u8n5���e ,]�H����V��Ww�$�C�el��|zys��K�i-�q�ݬbk,wnG��;�� ~�e�r͒���~'1`V⦫�-*[��L�K�'2@����仪��n���2�N� �ƶ�G���i/U��'E�@�`H��;J�������+J�n#���6ڴ�ĹG���N�G�'�Z!�����Wi��NJ�@���A��Z|�[��$q}i�ҷ�QbtTEC$��m��mo�L�D��;�%g�?w��ŷ���ovH0��a�5��*�ؒ��l͛�S�iy�r�O7����%L]��%���hk ����>v1�HB������d\�(eoIx�>3�6BS%���(
��f$�h�����eԎ���H���`ݶf{�Fo�Y���@00uMb�z-��XI$&�gf���7Ӵ�u|'K.�oP
P���F�.��o��9B<~. ����[����<٭�$�����{1�A��.�bKx�L������'�u8n5���e ,]�H����V��Ww�$�C�el��|zys��K�i-�q�ݬbk,wnG��;�� ~�e�r͒���~'1`V⦫�-*[��L�K�'2@����仪��n���2�N� �ƶ�G���i/U��'E�@�`H��;J�������+J�n#���6ڴ�ĹG���N�G�'�Z!�����Wi��NJ�@���A��Z|�[��$q}i�ҷ�QbtTEC$��m��mo�L�D��;�%g�?w��ŷ���ovH0��a�5��*�ؒ��l͛�S�iy�r�O7����%L]��%���hk ����>v1�HB������d\�(eoIx�>3�6BS%���(
��f$�h�����eԎ���H���`ݶf{�Fo�Y���@00uMb�z-��XI$&�gf���7Ӵ�u|'K.�oP
P���F�.��o��9B<~. ����[����<٭�$�����{1�A��.�bKx�L������'�u8n5���e ,]�H����V��Ww�$�C�el��|zys��K�i-�q�ݬbk,wnG��;�� ~�e�r͒���~'1`V⦫�-*[��L�K�'2@����仪��n���2�N� �ƶ�G���i/U��'E�@�`H��;J�������+J�n#���6ڴ�ĹG���N�G�'�Z!�����Wi��NJ�@���A��Z|�[��$q}i�ҷ�QbtTEC$��m��mo�L�D��;�%g�?w��ŷ���ovH0��a�5��*�ؒ��l͛�S�iy�r�O7����%L]��%���hk ����>v1�HB������d\�(eoIx�>3�6BS%���(
��f$�h�����eԎ���H���`ݶf{�Fo�Y���@00uMb�z-��XI$&�gf���7Ӵ�u|'K.�oP
P���F�.��o��9B<~. ����[����<٭�$�����{1�A��.�bKx�L������'�u8n5���e ,]�H����V��Ww�$�C�el��|zys��K�i-�q�ݬbk,wnG��;�� ~�e�r͒���~'1`V⦫�-*[��L�K�'2@����仪��n���2�N� �ƶ�G���i/U��'E�@�`H��;J�������+J�n#���6ڴ�ĹG���N�G�'�Z!�����Wi��NJ�@���A��Z|�[��$q}i�ҷ�QbtTEC$��m��mo�L�D��;�%g�?w��ŷ���ovH0��a�5��*�ؒ��l͛�S�iy�r�O7����%L]��%���hk ����>v1�HB������d\�(eoIx�>3�6BS%���(
��f$�h�����eԎ���H���`ݶf{�Fo�Y���@00uMb�z-��XI$&�gf���7Ӵ�u|'K.�oP
P���F�.��o��9B<~. ����[����<٭�$�����{1�A��.�bKx�L������'�u8n5���e ,]�H����V��Ww�$�C�el��|zys��K�i-�q�ݬbk,wnG��;�� ~�e�r͒���~'1`V⦫�-*[��L�K�'2@����仪��n���2�N� �ƶ�G���i/U��'E�@�`H��;J�������+J�n#���6ڴ�ĹG���N�G�'�Z!�����Wi��NJ�@���A��Z|�[��$q}i�ҷ�QbtTEC$��m��mo�L�D��;�%g�?w��ŷ���ovH0��a�5��*�ؒ��l͛�S�iy�r�O7����%L]��%���hk ����>v1�HB������d\�(eoIx�>3�6BS%���(
��f$�h�����eԎ���H���`ݶf{�Fo�Y���@00uMb�z-��XI$&�gf���7Ӵ�u|'K.�oP
P���F�.��o��9B<~. ����[����<٭�$�����{1�A��.�bKx�L������'�u8n5���e ,]�H����V��Ww�$�C�el��|zys��K�i-�q�ݬbk,wnG��;�� ~�e�r͒���~'1`V⦫�-*[��L�K�'2@����仪��n���2�N� �ƶ�G���i/U��'E�@�`H��;J�������+J�n#���6ڴ�ĹG���N�G�'�Z!�����Wi��NJ�@���A��Z|�[��$q}i�ҷ�QbtTEC$��m��mo�L�D��;�%g�?w��ŷ���ovH0��a�5��*�ؒ��l͛�S�iy�r�O7����%L]��%���hk ����>v1�HB������d\�(eoIx�>3�6BS%���(
��f$�h�����eԎ���H���`ݶf{�Fo�Y���@00uMb�z-��XI$&�gf���7Ӵ�u|'K.�oP
P���F�.��o��9B<~. ����[����<٭�$�����{1�A��.�bKx�L������'�u8n5���e ,]�H����V��Ww�$�C�el��|zys��K�i-�q�ݬbk,wnG��;�� ~�e�r͒���~'1`V⦫�-*[��L�K�'2@����仪��n���2�N� �ƶ�G���i/U��'E�@�`H��;J�������+J�n#���6ڴ�ĹG���N�G�'�Z!�����Wi��NJ�@���A��Z|�[��$q}i�ҷ�QbtTEC$��m��mo�L�D��;�%g�?w��ŷ���ovH0��a�5��*�ؒ��l͛�S�iy�r�O7����%L]��%���hk ����>v1�HB������d\�(eoIx�>3�6BS%���(
��f$�h�����eԎ���H���`ݶf{�Fo�Y���@00uMb�z-��XI$&�gf���7Ӵ�u|'K.�oP
P���F�.��o��9B<~. ����[����<٭�$�����{1�A��.�bKx�L������'�u8n5���e ,]�H����V��Ww�$�C�el��|zys��K�i-�q�ݬbk,wnG��;�� ~�e�r͒���~'1`V⦫�-*[��L�K�'2@����仪��n���2�N� �ƶ�G���i/U��'E�@�`H��;J�������+J�n#���6ڴ�ĹG���N�G�'�Z!�����Wi��NJ�@���A��Z|�[��$q}i�ҷ�QbtTEC$��m��mo�L�D��;�%g�?w��ŷ���ovH0��a�5��*�ؒ��l͛�S�iy�r�O7����%L]��%���hk ����>v1�HB������d\�(eoIx�>3�6BS%���(
��f$�h�����eԎ���H���`ݶf{�Fo�Y���@00uMb�z-��XI$&�gf���7Ӵ�u|'K.�oP
P���F�.��o��9B<~. ����[����<٭�$�����{1�A��.�bKx�L������'�u8n5���e ,]�H����V��Ww�$�C�el��|zys��K�i-�q�ݬbk,wnG��;�� ~�e�r͒���~'1`V⦫�-*[��L�K�'2@����仪��n���2�N� �ƶ�G���i/U��'E�@�`H��;J�������+J�n#���6ڴ�ĹG���N�G�'�Z!�����Wi��NJ�@���A��Z|�[��$q}i�ҷ�QbtTEC$��m��mo�L�D��;�%g�?w��ŷ���ovH0��a�5��*�ؒ��l͛�S�iy�r�O7����%L]��%���hk ����>v1�HB������d\�(eoIx�>3�6BS%���(
��f$�h�����eԎ���H���`ݶf{�Fo�Y���@00uMb�z-��XI$&�gf���7Ӵ�u|'K.�oP
P���F�.��o��9B<~. ����[����<٭�$�����{1�A��.�bKx�L������'�u8n5���e ,]�H����V��Ww�$�C�el��|zys��K�i-�q�ݬbk,wnG��;�� ~�e�r͒���~'1`V⦫�-*[��L�K�'2@����仪��n���2�N� �ƶ�G���i/U��'E�@�`H��;J�������+J�n#���6ڴ�ĹG���N�G�'�Z!�����Wi��NJ�@���A��Z|�[��$q}i�ҷ�QbtTEC$��m��mo�L�D��;�%g�?w��ŷ���ovH0��a�5��*�ؒ��l͛�S�iy�r�O7����%L]��%���hk ����>v1�HB������d\�(eoIx�>3�6BS%���(
��f$�h�����eԎ���H���`ݶf{�Fo�Y���@00uMb�z-��XI$&�gf���7Ӵ�u|'K.�oP
P���F�.��o��9B<~. ����[����<٭�$�����{1�A��.�bKx�L������'�u8n5���e ,]�H����V��Ww�$�C�el��|zys��K�i-�q�ݬbk,wnG��;�� ~�e�r͒���~'1`V⦫�-*[��L�K�'2@����仪��n���2�N� �ƶ�G���i/U��'E�@�`H��;J�������+J�n#���6ڴ�ĹG���N�G�'�Z!�����Wi��NJ�@���A��Z|�[��$q}i�ҷ�QbtTEC$��m��mo�L�D��;�%g�?w��ŷ���ovH0��a�5��*�ؒ��l͛�S�iy�r�O7����%L]��%���hk ����>v1�HB������d\�(eoIx�>3�6BS%���(
��f$�h�����eԎ���H���`ݶf{�Fo�Y���@00uMb�z-��XI$&�gf���7Ӵ�u|'K.�oP
P���F�.��o��9B<~. ����[����<٭�$�����{1�A��.�bKx�L������'�u8n5���e ,]�H����V��Ww�$�C�el��|zys��K�i-�q�ݬbk,wnG��;�� ~�e�r͒���~'1`V⦫�-*[��L�K�'2@����仪��n���2�N� �ƶ�G���i/U��'E�@�`H��;J�������+J�n#���6ڴ�ĹG���N�G�'�Z!�����Wi��NJ�@���A��Z|�[��$q}i�ҷ�QbtTEC$��m��mo�L�D��;�%g�?w��ŷ���ovH0��a�5��*�ؒ��l͛�S�iy�r�O7����%L]��%���hk ����>v1�HB������d\�(eoIx�>3�6BS%���(
��f$�h�����eԎ���H���`ݶf{�Fo�Y���@00uMb�z-��XI$&�gf���7Ӵ�u|'K.�oP
P���F�.��o��9B<~. ����[����<٭�$�����{1�A��.�bKx�L������'�u8n5���e ,]�H����V��Ww�$�C�el��|zys��K�i-�q�ݬbk,wnG��;�� ~�e�r͒���~'1`V⦫�-*[��L�K�'2@����仪��n���2�N� �ƶ�G���i/U��'E�@�`H��;J�������+J�n#���6ڴ�ĹG���N�G�'�Z!�����Wi��NJ�@���A��Z|�[��$q}i�ҷ�QbtTEC$��m��mo�L�D��;�%g�?w��ŷ���ovH0��a�5��*�ؒ��l͛�S�iy�r�O7����%L]��%���hk ����>v1�HB������d\�(eoIx�>3�6BS%���(
��f$�h�����eԎ���H���`ݶf{�Fo�Y���@00uMb�z-��XI$&�gf���7Ӵ�u|'K.�oP
P���F�.��o��9B<~. ����[����<٭�$�����{1�A��.�bKx�L������'�u8n5���e ,]�H����V��Ww�$�C�el��|zys��K�i-�q�ݬbk,wnG��;�� ~�e�r͒���~'1`V⦫�-*[��L�K�'2@����仪��n���2�N� �ƶ�G���i/U��'E�@�`H��;J�������+J�n#���6ڴ�ĹG���N�G�'�Z!�����Wi��NJ�@���A��Z|�[��$q}i�ҷ�QbtTEC$��m��mo�L�D��;�%g�?w��ŷ���ovH0��a�5��*�ؒ��l͛�S�iy�r�O7����%L]��%���hk ����>v1�HB������d\�(eoIx�>3�6BS%���(
��f$�h�����eԎ���H���`ݶf{�Fo�Y���@00uMb�z-��XI$&�gf���7Ӵ�u|'K.�oP
P���F�.��o��9B<~. ����[����<٭�$�����{1�A��.�bKx�L������'�u8n5���e ,]�H����V��Ww�$�C�el��|zys��K�i-�q�ݬbk,wnG��;�� ~�e�r͒���~'1`V⦫�-*[��L�K�'2@����仪��n���2�N� �ƶ�G���i/U��'E�@�`H��;J�������+J�n#���6ڴ�ĹG���N�G�'�Z!�����Wi��NJ�@���A��Z|�[��$q}i�ҷ�QbtTEC$��m��mo�L�D��;�%g�?w��ŷ���ovH0��a�5��*�ؒ��l͛�S�iy�r�O7����%L]��%���hk ����>v1�HB������d\�(eoIx�>3�6BS%���(
��f$�h�����eԎ���H���`ݶf{�Fo�Y���@00uMb�z-��XI$&�gf���7Ӵ�u|'K.�oP
P���F�.��o��9B<~. ����[����<٭�$�����{1�A��.�bKx�L������'�u8n5���e ,]�H����V��Ww�$�C�el��|zys��K�i-�q�ݬbk,wnG��;�� ~�e�r͒���~'1`V⦫�-*[��L�K�'2@����仪��n���2�N� �ƶ�G���i/U��'E�@�`H��;J�������+J�n#���6ڴ�ĹG���N�G�'�Z!�����Wi��NJ�@���A��Z|�[��$q}i�ҷ�QbtTEC$��m��mo�L�D��;�%g�?w��ŷ���ovH0��a�5��*�ؒ��l͛�S�iy�r�O7����%L]��%���hk ����>v1�HB������d\�(eoIx�>3�6BS%���(
��f$�h�����eԎ���H���`ݶf{�Fo�Y���@00uMb�z-��XI$&�gf���7Ӵ�u|'K.�oP
P���F�.��o��9B<~. ����[����<٭�$�����{1�A��.�bKx�L������'�u8n5���e ,]�H����V��Ww�$�C�el��|zys��K�i-�q�ݬbk,wnG��;�� ~�e�r͒���~'1`V⦫�-*[��L�K�'2@����仪��n���2�N� �ƶ�G���i/U��'E�@�`H��;J�������+J�n#���6ڴ�ĹG���N�G�'�Z!�����Wi��NJ�@���A��Z|�[��$q}i�ҷ�QbtTEC$��m��mo�L�D��;�%g�?w��ŷ���ovH0��a�5��*�ؒ��l͛�S�iy�r�O7����%L]��%���hk ����>v1�HB������d\�(eoIx�>3�6BS%���(
��f$�h�����eԎ���H���`ݶf{�Fo�Y���@00uMb�z-��XI$&�gf���7Ӵ�u|'K.�oP
P���F�.��o��9B<~. ����[����<٭�$�����{1�A��.�bKx�L������'�u8n5���e ,]�H����V��Ww�$�C�el��|zys��K�i-�q�ݬbk,wnG��;�� ~�e�r͒���~'1`V⦫�-*[��L�K�'2@����仪��n���2�N� �ƶ�G���i/U��'E�@�`H��;J�������+J�n#���6ڴ�ĹG���N�G�'�Z!�����Wi��NJ�@���A��Z|�[��$q}i�ҷ�QbtTEC$��m��mo�L�D��;�%g�?w��ŷ���ovH0��a�5��*�ؒ��l͛�S�iy�r�O7����%L]��%���hk ����>v1�HB������d\�(eoIx�>3�6BS%���(
��f$�h�����eԎ���H���`ݶf{�Fo�Y���@00uMb�z-��XI$&�gf���7Ӵ�u|'K.�oP
P���F�.��o��9B<~. ����[����<٭�$�����{1�A��.�bKx�L������'�u8n5���e ,]�H����V��Ww�$�C�el��|zys��K�i-�q�ݬbk,wnG��;�� ~�e�r͒���~'1`V⦫�-*[��L�K�'2@����仪��n���2�N� �ƶ�G���i/U��'E�@�`H��;J�������+J�n#���6ڴ�ĹG���N�G�'�Z!�����Wi��NJ�@���A��Z|�[��$q}i�ҷ�QbtTEC$��m��mo�L�D��;�%g�?w��ŷ���ovH0��a�5��*�ؒ��l͛�S�iy�r�O7����%L]��%���hk ����>v1�HB������d\�(eoIx�>3�6BS%���(
��f$�h�����eԎ���H���`ݶf{�Fo�Y���@00uMb�z-��XI$&�gf���7Ӵ�u|'K.�oP
P���F�.��o��9B<~. ����[����<٭�$�����{1�A��.�bKx�L������'�u8n5���e ,]�H����V��Ww�$�C�el��|zys��K�i-�q�ݬbk,wnG��;�� ~�e�r͒���~'1`V⦫�-*[��L�K�'2@����仪��n���2�N� �ƶ�G���i/U��'E�@�`H��;J�������+J�n#���6ڴ�ĹG���N�G�'�Z!�����Wi��NJ�@���A��Z|�[��$q}i�ҷ�QbtTEC$��m��mo�L�D��;�%g�?w��ŷ���ovH0��a�5��*�ؒ��l͛�S�iy�r�O7����%L]��%���hk ����>v1�HB������d\�(eoIx�>3�6BS%���(
��f$�h�����eԎ���H���`ݶf{�Fo�Y���@00uMb�z-��XI$&�gf���7Ӵ�u|'K.�oP
P���F�.��o��9B<~. ����[����<٭�$�����{1�A��.�bKx�L������'�u8n5���e ,]�H����V��Ww�$�C�el��|zys��K�i-�q�ݬbk,wnG��;�� ~�e�r͒���~'1`V⦫�-*[��L�K�'2@����仪��n���2�N� �ƶ�G���i/U��'E�@�`H��;J�������+J�n#���6ڴ�ĹG���N�G�'�Z!�����Wi��NJ�@���A��Z|�[��$q}i�ҷ�QbtTEC$��m��mo�L�D��;�%g�?w��ŷ���ovH0��a�5��*�ؒ��l͛�S�iy�r�O7����%L]��%���hk ����>v1�HB������d\�(eoIx�>3�6BS%���(
��f$�h�����eԎ���H���`ݶf{�Fo�Y���@00uMb�z-��XI$&�gf���7Ӵ�u|'K.�oP
P���F�.��o��9B<~. ����[����<٭�$�����{1�A��.�bKx�L������'�u8n5���e ,]�H����V��Ww�$�C�el��|zys��K�i-�q�ݬbk,wnG��;�� ~�e�r͒���~'1`V⦫�-*[��L�K�'2@����仪��n���2�N� �ƶ�G���i/U��'E�@�`H��;J�������+J�n#���6ڴ�ĹG���N�G�'�Z!�����Wi��NJ�@���A��Z|�[��$q}i�ҷ�QbtTEC$��m��mo�L�D��;�%g�?w��ŷ���ovH0��a�5��*�ؒ��l͛�S�iy�r�O7����%L]��%���hk ����>v1�HB������d\�(eoIx�>3�6BS%���(
��f$�h�����eԎ���H���`ݶf{�Fo�Y���@00uMb�z-��XI$&�gf���7Ӵ�u|'K.�oP
P���F�.��o��9B<~. ����[����<٭�$�����{1�A��.�bKx�L������'�u8n5���e ,]�H����V��Ww�$�C�el��|zys��K�i-�q�ݬbk,wnG��;�� ~�e�r͒���~'1`V⦫�-*[��L�K�'2@����仪��n���2�N� �ƶ�G���i/U��'E�@�`H��;J�������+J�n#���6ڴ�ĹG���N�G�'�Z!�����Wi��NJ�@���A��Z|�[��$q}i�ҷ�QbtTEC$��m��mo�L�D��;�%g�?w��ŷ���ovH0��a�5��*�ؒ��l͛�S�iy�r�O7����%L]��%���hk ����>v1�HB������d\�(eoIx�>3�6BS%���(
��f$�h�����eԎ���H���`ݶf{�Fo�Y���@00uMb�z-��XI$&�gf���7Ӵ�u|'K.�oP
P���F�.��o��9B<~. ����[����<٭�$�����{1�A��.�bKx�L������'�u8n5���e ,]�H����V��Ww�$�C�el��|zys��K�i-�q�ݬbk,wnG��;�� ~�e�r͒���~'1`V⦫�-*[��L�K�'2@����仪��n���2�N� �ƶ�G���i/U��'E�@�`H��;J�������+J�n#���6ڴ�ĹG���N�G�'�Z!�����Wi��NJ�@���A��Z|�[��$q}i�ҷ�QbtTEC$��m��mo�L�D��;�%g�?w��ŷ���ovH0��a�5��*�ؒ��l͛�S�iy�r�O7����%L]��%���hk ����>v1�HB������d\�(eoIx�>3�6BS%���(
��f$�h�����eԎ���H���`ݶf{�Fo�Y���@00uMb�z-��XI$&�gf���7Ӵ�u|'K.�oP
P���F�.��o��9B<~. ����[����<٭�$�����{1�A��.�bKx�L������'�u8n5���e ,]�H����V��Ww�$�C�el��|zys��K�i-�q�ݬbk,wnG��;�� ~�e�r͒���~'1`V⦫�-*[��L�K�'2@����仪��n���2�N� �ƶ�G���i/U��'E�@�`H��;J�������+J�n#���6ڴ�ĹG���N�G�'�Z!�����Wi��NJ�@���A��Z|�[��$q}i�ҷ�QbtTEC$��m��mo�L�D��;�%g�?w��ŷ���ovH0��a�5��*�ؒ��l͛�S�iy�r�O7����%L]��%���hk ����>v1�HB������d\�(eoIx�>3�6BS%���(
��f$�h�����eԎ���H���`ݶf{�Fo�Y���@00uMb�z-��XI$&�gf���7Ӵ�u|'K.�oP
P���F�.��o��9B<~. ����[����<٭�$�����{1�A��.�bKx�L������'�u8n5���e ,]�H����V��Ww�$�C�el��|zys��K�i-�q�ݬbk,wnG��;�� ~�e�r͒���~'1`V⦫�-*[��L�K�'2@����仪��n���2�N� �ƶ�G���i/U��'E�@�`H��;J�������+J�n#���6ڴ�ĹG���N�G�'�Z!�����Wi��NJ�@���A��Z|�[��$q}i�ҷ�QbtTEC$��m��mo�L�D��;�%g�?w��ŷ���ovH0��a�5��*�ؒ��l͛�S�iy�r�O7����%L]��%���hk ����>v1�HB������d\�(eoIx�>3�6BS%���(
��f$�h�����eԎ���H���`ݶf{�Fo�Y���@00uMb�z-��XI$&�gf���7Ӵ�u|'K.�oP
P���F�.��o��9B<~. ����[����<٭�$�����{1�A��.�bKx�L������'�u8n5���e ,]�H����V��Ww�$�C�el��|zys��K�i-�q�ݬbk,wnG��;�� ~�e�r͒���~'1`V⦫�-*[��L�K�'2@����仪��n���2�N� �ƶ�G���i/U��'E�@�`H��;J�������+J�n#���6ڴ�ĹG���N�G�'�Z!�����Wi��NJ�@���A��Z|�[��$q}i�ҷ�QbtTEC$��m��mo�L�D��;�%g�?w��ŷ���ovH0��a�5��*�ؒ��l͛�S�iy�r�O7����%L]��%���hk ����>v1�HB������d\�(eoIx�>3�6BS%���(
��f$�h�����eԎ���H���`ݶf{�Fo�Y���@00uMb�z-��XI$&�gf���7Ӵ�u|'K.�oP
P���F�.��o��9B<~. ����[����<٭�$�����{1�A��.�bKx�L������'�u8n5���e ,]�H����V��Ww�$�C�el��|zys��K�i-�q�ݬbk,wnG��;�� ~�e�r͒���~'1`V⦫�-*[��L�K�'2@����仪��n���2�N� �ƶ�G���i/U��'E�@�`H��;J�������+J�n#���6ڴ�ĹG���N�G�'�Z!�����Wi��NJ�@���A��Z|�[��$q}i�ҷ�QbtTEC$��m��mo�L�D��;�%g�?w��ŷ���ovH0��a�5��*�ؒ��l͛�S�iy�r�O7����%L]��%���hk ����>v1�HB������d\�(eoIx�>3�6BS%���(
��f$�h�����eԎ���H���`ݶf{�Fo�Y���@00uMb�z-��XI$&�gf���7Ӵ�u|'K.�oP
P���F�.��o��9B<~. ����[����<٭�$�����{1�A��.�bKx�L������'�u8n5���e ,]�H����V��Ww�$�C�el��|zys��K�i-�q�ݬbk,wnG��;�� ~�e�r͒���~'1`V⦫�-*[��L�K�'2@����仪��n���2�N� �ƶ�G���i/U��'E�@�`H��;J�������+J�n#���6ڴ�ĹG���N�G�'�Z!�����Wi��NJ�@���A��Z|�[��$q}i�ҷ�QbtTEC$��m��mo�L�D��;�%g�?w��ŷ���ovH0��a�5��*�ؒ��l͛�S�iy�r�O7����%L]��%���hk ����>v1�HB������d\�(eoIx�>3�6BS%���(
��f$�h�����eԎ���H���`ݶf{�Fo�Y���@00uMb�z-��XI$&�gf���7Ӵ�u|'K.�oP
P���F�.��o��9B<~. ����[����<٭�$�����{1�A��.�bKx�L������'�u8n5���e ,]�H����V��Ww�$�C�el��|zys��K�i-�q�ݬbk,wnG��;�� ~�e�r͒���~'1`V⦫�-*[��L�K�'2@����仪��n���2�N� �ƶ�G���i/U��'E�@�`H��;J�������+J�n#���6ڴ�ĹG���N�G�'�Z!�����Wi��NJ�@���A��Z|�[��$q}i�ҷ�QbtTEC$��m��mo�L�D��;�%g�?w��ŷ���ovH0��a�5��*�ؒ��l͛�S�iy�r�O7����%L]��%���hk ����>v1�HB������d\�(eoIx�>3�6BS%���(
��f$�h�����eԎ���H���`ݶf{�Fo�Y���@00uMb�z-��XI$&�gf���7Ӵ�u|'K.�oP
P���F�.��o��9B<~. ����[����<٭�$�����{1�A��.�bKx�L������'�u8n5���e ,]�H����V��Ww�$�C�el��|zys��K�i-�q�ݬbk,wnG��;�� ~�e�r͒���~'1`V⦫�-*[��L�K�'2@����仪��n���2�N� �ƶ�G���i/U��'E�@�`H��;J�������+J�n#���6ڴ�ĹG���N�G�'�Z!�����Wi��NJ�@���A��Z|�[��$q}i�ҷ�QbtTEC$��m��mo�L�D��;�%g�?w��ŷ���ovH0��a�5��*�ؒ��l͛�S�iy�r�O7����%L]��%���hk ����>v1�HB������d\�(eoIx�>3�6BS%���(
��f$�h�����eԎ���H���`ݶf{�Fo�Y���@00uMb�z-��XI$&�gf���7Ӵ�u|'K.�oP
P���F�.��o��9B<~. ����[����<٭�$�����{1�A��.�bKx�L������'�u8n5���e ,]�H����V��Ww�$�C�el��|zys��K�i-�q�ݬbk,wnG��;�� ~�e�r͒���~'1`V⦫�-*[��L�K�'2@����仪��n���2�N� �ƶ�G���i/U��'E�@�`H��;J�������+J�n#���6ڴ�ĹG���N�G�'�Z!�����Wi��NJ�@���A��Z|�[��$q}i�ҷ�QbtTEC$��m��mo�L�D��;�%g�?w��ŷ���ovH0��a�5��*�ؒ��l͛�S�iy�r�O7����%L]��%���hk ����>v1�HB������d\�(eoIx�>3�6BS%���(
��f$�h�����eԎ���H���`ݶf{�Fo�Y���@00uMb�z-��XI$&�gf���7Ӵ�u|'K.�oP
P���F�.��o��9B<~. ����[����<٭�$�����{1�A��.�bKx�L������'�u8n5���e ,]�H����V��Ww�$�C�el��|zys��K�i-�q�ݬbk,wnG��;�� ~�e�r͒���~'1`V⦫�-*[��L�K�'2@����仪��n���2�N� �ƶ�G���i/U��'E�@�`H��;J�������+J�n#���6ڴ�ĹG���N�G�'�Z!�����Wi��NJ�@���A��Z|�[��$q}i�ҷ�QbtTEC$��m��mo�L�D��;�%g�?w��ŷ���ovH0��a�5��*�ؒ��l͛�S�iy�r�O7����%L]��%���hk ����>v1�HB������d\�(eoIx�>3�6BS%���(
��f$�h�����eԎ���H���`ݶf{�Fo�Y���@00uMb�z-��XI$&�gf���7Ӵ�u|'K.�oP
P���F�.��o��9B<~. ����[����<٭�$�����{1�A��.�bKx�L������'�u8n5���e ,]�H����V��Ww�$�C�el��|zys��K�i-�q�ݬbk,wnG��;�� ~�e�r͒���~'1`V⦫�-*[��L�K�'2@����仪��n���2�N� �ƶ�G���i/U��'E�@�`H��;J�������+J�n#���6ڴ�ĹG���N�G�'�Z!�����Wi��NJ�@���A��Z|�[��$q}i�ҷ�QbtTEC$��m��mo�L�D��;�%g�?w��ŷ���ovH0��a�5��*�ؒ��l͛�S�iy�r�O7����%L]��%���hk ����>v1�HB������d\�(eoIx�>3�6BS%���(
��f$�h�����eԎ���H���`ݶf{�Fo�Y���@00uMb�z-��XI$&�gf���7Ӵ�u|'K.�oP
P���F�.��o��9B<~. ����[����<٭�$�����{1�A��.�bKx�L������'�u8n5���e ,]�H����V��Ww�$�C�el��|zys��K�i-�q�ݬbk,wnG��;�� ~�e�r͒���~'1`V⦫�-*[��L�K�'2@����仪��n���2�N� �ƶ�G���i/U��'E�@�`H��;J�������+J�n#���6ڴ�ĹG���N�G�'�Z!�����Wi��NJ�@���A��Z|�[��$q}i�ҷ�QbtTEC$��m��mo�L�D��;�%g�?w��ŷ���ovH0��a�5��*�ؒ��l͛�S�iy�r�O7����%L]��%���hk ����>v1�HB������d\�(eoIx�>3�6BS%���(
��f$�h�����eԎ���H���`ݶf{�Fo�Y���@00uMb�z-��XI$&�gf���7Ӵ�u|'K.�oP
P���F�.��o��9B<~. ����[����<٭�$�����{1�A��.�bKx�L������'�u8n5���e ,]�H����V��Ww�$�C�el��|zys��K�i-�q�ݬbk,wnG��;�� ~�e�r͒���~'1`V⦫�-*[��L�K�'2@����仪��n���2�N� �ƶ�G���i/U��'E�@�`H��;J�������+J�n#���6ڴ�ĹG���N�G�'�Z!�����Wi��NJ�@���A��Z|�[��$q}i�ҷ�QbtTEC$��m��mo�L�D��;�%g�?w��ŷ���ovH0��a�5��*�ؒ��l͛�S�iy�r�O7����%L]��%���hk ����>v1�HB������d\�(eoIx�>3�6BS%���(
��f$�h�����eԎ���H���`ݶf{�Fo�Y���@00uMb�z-��XI$&�gf���7Ӵ�u|'K.�oP
P���F�.��o��9B<~. ����[����<٭�$�����{1�A��.�bKx�L������'�u8n5���e ,]�H����V��Ww�$�C�el��|zys��K�i-�q�ݬbk,wnG��;�� ~�e�r͒���~'1`V⦫�-*[��L�K�'2@����仪��n���2�N� �ƶ�G���i/U��'E�@�`H��;J�������+J�n#���6ڴ�ĹG���N�G�'�Z!�����Wi��NJ�@���A��Z|�[��$q}i�ҷ�QbtTEC$��m��mo�L�D��;�%g�?w��ŷ���ovH0��a�5��*�ؒ��l͛�S�iy�r�O7����%L]��%���hk ����>v1�HB������d\�(eoIx�>3�6BS%���(
��f$�h�����eԎ���H���`ݶf{�Fo�Y���@00uMb�z-��XI$&�gf���7Ӵ�u|'K.�oP
P���F�.��o��9B<~. ����[����<٭�$�����{1�A��.�bKx�L������'�u8n5���e ,]�H����V��Ww�$�C�el��|zys��K�i-�q�ݬbk,wnG��;�� ~�e�r͒���~'1`V⦫�-*[��L�K�'2@����仪��n���2�N� �ƶ�G���i/U��'E�@�`H��;J�������+J�n#���6ڴ�ĹG���N�G�'�Z!�����Wi��NJ�@���A��Z|�[��$q}i�ҷ�QbtTEC$��m��mo�L�D��;�%g�?w��ŷ���ovH0��a�5��*�ؒ��l͛�S�iy�r�O7����%L]��%���hk ����>v1�HB������d\�(eoIx�>3�6BS%���(
��f$�h�����eԎ���H���`ݶf{�Fo�Y���@00uMb�z-��XI$&�gf���7Ӵ�u|'K.�oP
P���F�.��o��9B<~. ����[����<٭�$�����{1�A��.�bKx�L������'�u8n5���e ,]�H����V��Ww�$�C�el��|zys��K�i-�q�ݬbk,wnG��;�� ~�e�r͒���~'1`V⦫�-*[��L�K�'2@����仪��n���2�N� �ƶ�G���i/U��'E�@�`H��;J�������+J�n#���6ڴ�ĹG���N�G�'�Z!�����Wi��NJ�@���A��Z|�[��$q}i�ҷ�QbtTEC$��m��mo�L�D��;�%g�?w��ŷ���ovH0��a�5��*�ؒ��l͛�S�iy�r�O7����%L]��%���hk ����>v1�HB������d\�(eoIx�>3�6BS%���(
��f$�h�����eԎ���H���`ݶf{�Fo�Y���@00uMb�z-��XI$&�gf���7Ӵ�u|'K.�oP
P���F�.��o��9B<~. ����[����<٭�$�����{1�A��.�bKx�L������'�u8n5���e ,]�H����V��Ww�$�C�el��|zys��K�i-�q�ݬbk,wnG��;�� ~�e�r͒���~'1`V⦫�-*[��L�K�'2@����仪��n���2�N� �ƶ�G���i/U��'E�@�`H��;J�������+J�n#���6ڴ�ĹG���N�G�'�Z!�����Wi��NJ�@���A��Z|�[��$q}i�ҷ�QbtTEC$��m��mo�L�D��;�%g�?w��ŷ���ovH0��a�5��*�ؒ��l͛�S�iy�r�O7����%L]��%���hk ����>v1�HB������d\�(eoIx�>3�6BS%���(
��f$�h�����eԎ���H���`ݶf{�Fo�Y���@00uMb�z-��XI$&�gf���7Ӵ�u|'K.�oP
P���F�.��o��9B<~. ����[����<٭�$�����{1�A��.�bKx�L������'�u8n5���e ,]�H����V��Ww�$�C�el��|zys��K�i-�q�ݬbk,wnG��;�� ~�e�r͒���~'1`V⦫�-*[��L�K�'2@����仪��n���2�N� �ƶ�G���i/U��'E�@�`H��;J�������+J�n#���6ڴ�ĹG���N�G�'�Z!�����Wi��NJ�@���A��Z|�[��$q}i�ҷ�QbtTEC$��m��mo�L�D��;�%g�?w��ŷ���ovH0��a�5��*�ؒ��l͛�S�iy�r�O7����%L]��%���hk ����>v1�HB������d\�(eoIx�>3�6BS%���(
��f$�h�����eԎ���H���`ݶf{�Fo�Y���@00uMb�z-��XI$&�gf���7Ӵ�u|'K.�oP
P���F�.��o��9B<~. ����[����<٭�$�����{1�A��.�bKx�L������'�u8n5���e ,]�H����V��Ww�$�C�el��|zys��K�i-�q�ݬbk,wnG��;�� ~�e�r͒���~'1`V⦫�-*[��L�K�'2@����仪��n���2�N� �ƶ�G���i/U��'E�@�`H��;J�������+J�n#���6ڴ�ĹG���N�G�'�Z!�����Wi��NJ�@���A��Z|�[��$q}i�ҷ�QbtTEC$��m��mo�L�D��;�%g�?w��ŷ���ovH0��a�5��*�ؒ��l͛�S�iy�r�O7����%L]��%���hk ����>v1�HB������d\�(eoIx�>3�6BS%���(
��f$�h�����eԎ���H���`ݶf{�Fo�Y���@00uMb�z-��XI$&�gf���7Ӵ�u|'K.�oP
P���F�.��o��9B<~. ����[����<٭�$�����{1�A��.�bKx�L������'�u8n5���e ,]�H����V��Ww�$�C�el��|zys��K�i-�q�ݬbk,wnG��;�� ~�e�r͒���~'1`V⦫�-*[��L�K�'2@����仪��n���2�N� �ƶ�G���i/U��'E�@�`H��;J�������+J�n#���6ڴ�ĹG���N�G�'�Z!�����Wi��NJ�@���A��Z|�[��$q}i�ҷ�QbtTEC$��m��mo�L�D��;�%g�?w��ŷ���ovH0��a�5��*�ؒ��l͛�S�iy�r�O7����%L]��%���hk ����>v1�HB������d\�(eoIx�>3�6BS%���(
��f$�h�����eԎ���H���`ݶf{�Fo�Y���@00uMb�z-��XI$&�gf���7Ӵ�u|'K.�oP
P���F�.��o��9B<~. ����[����<٭�$�����{1�A��.�bKx�L������'�u8n5���e ,]�H����V��Ww�$�C�el��|zys��K�i-�q�ݬbk,wnG��;�� ~�e�r͒���~'1`V⦫�-*[��L�K�'2@����仪��n���2�N� �ƶ�G���i/U��'E�@�`H��;J�������+J�n#���6ڴ�ĹG���N�G�'�Z!�����Wi��NJ�@���A��Z|�[��$q}i�ҷ�QbtTEC$��m��mo�L�D��;�%g�?w��ŷ���ovH0��a�5��*�ؒ��l͛�S�iy�r�O7����%L]��%���hk ����>v1�HB������d\�(eoIx�>3�6BS%���(
��f$�h�����eԎ���H���`ݶf{�Fo�Y���@00uMb�z-��XI$&�gf���7Ӵ�u|'K.�oP
P���F�.��o��9B<~. ����[����<٭�$�����{1�A��.�bKx�L������'�u8n5���e ,]�H����V��Ww�$�C�el��|zys��K�i-�q�ݬbk,wnG��;�� ~�e�r͒���~'1`V⦫�-*[��L�K�'2@����仪��n���2�N� �ƶ�G���i/U��'E�@�`H��;J�������+J�n#���6ڴ�ĹG���N�G�'�Z!�����Wi��NJ�@���A��Z|�[��$q}i�ҷ�QbtTEC$��m��mo�L�D��;�%g�?w��ŷ���ovH0��a�5��*�ؒ��l͛�S�iy�r�O7����%L]��%���hk ����>v1�HB������d\�(eoIx�>3�6BS%���(
��f$�h�����eԎ���H���`ݶf{�Fo�Y���@00uMb�z-��XI$&�gf���7Ӵ�u|'K.�oP
P���F�.��o��9B<~. ����[����<٭�$�����{1�A��.�bKx�L������'�u8n5���e ,]�H����V��Ww�$�C�el��|zys��K�i-�q�ݬbk,wnG��;�� ~�e�r͒���~'1`V⦫�-*[��L�K�'2@����仪��n���2�N� �ƶ�G���i/U��'E�@�`H��;J�������+J�n#���6ڴ�ĹG���N�G�'�Z!�����Wi��NJ�@���A��Z|�[��$q}i�ҷ�QbtTEC$��m��mo�L�D��;�%g�?w��ŷ���ovH0��a�5��*�ؒ��l͛�S�iy�r�O7����%L]��%���hk ����>v1�HB������d\�(eoIx�>3�6BS%���(
��f$�h�����eԎ���H���`ݶf{�Fo�Y���@00uMb�z-��XI$&�gf���7Ӵ�u|'K.�oP
P���F�.��o��9B<~. ����[����<٭�$�����{1�A��.�bKx�L������'�u8n5���e ,]�H����V��Ww�$�C�el��|zys��K�i-�q�ݬbk,wnG��;�� ~�e�r͒���~'1`V⦫�-*[��L�K�'2@����仪��n���2�N� �ƶ�G���i/U��'E�@�`H��;J�������+J�n#���6ڴ�ĹG���N�G�'�Z!�����Wi��NJ�@���A��Z|�[��$q}i�ҷ�QbtTEC$��m��mo�L�D��;�%g�?w��ŷ���ovH0��a�5��*�ؒ��l͛�S�iy�r�O7����%L]��%���hk ����>v1�HB������d\�(eoIx�>3�6BS%���(
��f$�h�����eԎ���H���`ݶf{�Fo�Y���@00uMb�z-��XI$&�gf���7Ӵ�u|'K.�oP
P���F�.��o��9B<~. ����[����<٭�$�����{1�A��.�bKx�L������'�u8n5���e ,]�H����V��Ww�$�C�el��|zys��K�i-�q�ݬbk,wnG��;�� ~�e�r͒���~'1`V⦫�-*[��L�K�'2@����仪��n���2�N� �ƶ�G���i/U��'E�@�`H��;J�������+J�n#���6ڴ�ĹG���N�G�'�Z!�����Wi��NJ�@���A��Z|�[��$q}i�ҷ�QbtTEC$��m��mo�L�D��;�%g�?w��ŷ���ovH0��a�5��*�ؒ��l͛�S�iy�r�O7����%L]��%���hk ����>v1�HB������d\�(eoIx�>3�6BS%���(
��f$�h�����eԎ���H���`ݶf{�Fo�Y���@00uMb�z-��XI$&�gf���7Ӵ�u|'K.�oP
P���F�.��o��9B<~. ����[����<٭�$�����{1�A��.�bKx�L������'�u8n5���e ,]�H����V��Ww�$�C�el��|zys��K�i-�q�ݬbk,wnG��;�� ~�e�r͒���~'1`V⦫�-*[��L�K�'2@����仪��n���2�N� �ƶ�G���i/U��'E�@�`H��;J�������+J�n#���6ڴ�ĹG���N�G�'�Z!�����Wi��NJ�@���A��Z|�[��$q}i�ҷ�QbtTEC$��m��mo�L�D��;�%g�?w��ŷ���ovH0��a�5��*�ؒ��l͛�S�iy�r�O7����%L]��%���hk ����>v1�HB������d\�(eoIx�>3�6BS%���(
��f$�h�����eԎ���H���`ݶf{�Fo�Y���@00uMb�z-��XI$&�gf���7Ӵ�u|'K.�oP
P���F�.��o��9B<~. ����[����<٭�$�����{1�A��.�bKx�L������'�u8n5���e ,]�H����V��Ww�$�C�el��|zys��K�i-�q�ݬbk,wnG��;�� ~�e�r͒���~'1`V⦫�-*[��L�K�'2@����仪��n���2�N� �ƶ�G���i/U��'E�@�`H��;J�������+J�n#���6ڴ�ĹG���N�G�'�Z!�����Wi��NJ�@���A��Z|�[��$q}i�ҷ�QbtTEC$��m��mo�L�D��;�%g�?w��ŷ���ovH0��a�5��*�ؒ��l͛�S�iy�r�O7����%L]��%���hk ����>v1�HB������d\�(eoIx�>3�6BS%���(
��f$�h�����eԎ���H���`ݶf{�Fo�Y���@00uMb�z-��XI$&�gf���7Ӵ�u|'K.�oP
P���F�.��o��9B<~. ����[����<٭�$�����{1�A��.�bKx�L������'�u8n5���e ,]�H����V��Ww�$�C�el��|zys��K�i-�q�ݬbk,wnG��;�� ~�e�r͒���~'1`V⦫�-*[��L�K�'2@����仪��n���2�N� �ƶ�G���i/U��'E�@�`H��;J�������+J�n#���6ڴ�ĹG���N�G�'�Z!�����Wi��NJ�@���A��Z|�[��$q}i�ҷ�QbtTEC$��m��mo�L�D��;�%g�?w��ŷ���ovH0��a�5��*�ؒ��l͛�S�iy�r�O7����%L]��%���hk ����>v1�HB������d\�(eoIx�>3�6BS%���(
��f$�h�����eԎ���H���`ݶf{�Fo�Y���@00uMb�z-��XI$&�gf���7Ӵ�u|'K.�oP
P���F�.��o��9B<~. ����[����<٭�$�����{1�A��.�bKx�L������'�u8n5���e ,]�H����V��Ww�$�C�el��|zys��K�i-�q�ݬbk,wnG��;�� ~�e�r͒���~'1`V⦫�-*[��L�K�'2@����仪��n���2�N� �ƶ�G���i/U��'E�@�`H��;J�������+J�n#���6ڴ�ĹG���N�G�'�Z!�����Wi��NJ�@���A��Z|�[��$q}i�ҷ�QbtTEC$��m��mo�L�D��;�%g�?w��ŷ���ovH0��a�5��*�ؒ��l͛�S�iy�r�O7����%L]��%���hk ����>v1�HB������d\�(eoIx�>3�6BS%���(
��f$�h�����eԎ���H���`ݶf{�Fo�Y���@00uMb�z-��XI$&�gf���7Ӵ�u|'K.�oP
P���F�.��o��9B<~. ����[����<٭�$�����{1�A��.�bKx�L������'�u8n5���e ,]�H����V��Ww�$�C�el��|zys��K�i-�q�ݬbk,wnG��;�� ~�e�r͒���~'1`V⦫�-*[��L�K�'2@����仪��n���2�N� �ƶ�G���i/U��'E�@�`H��;J�������+J�n#���6ڴ�ĹG���N�G�'�Z!�����Wi��NJ�@���A��Z|�[��$q}i�ҷ�QbtTEC$��m��mo�L�D��;�%g�?w��ŷ���ovH0��a�5��*�ؒ��l͛�S�iy�r�O7����%L]��%���hk ����>v1�HB������d\�(eoIx�>3�6BS%���(
��f$�h�����eԎ���H���`ݶf{�Fo�Y���@00uMb�z-��XI$&�gf���7Ӵ�u|'K.�oP
P���F�.��o��9B<~. ����[����<٭�$�����{1�A��.�bKx�L������'�u8n5���e ,]�H����V��Ww�$�C�el��|zys��K�i-�q�ݬbk,wnG��;�� ~�e�r͒���~'1`V⦫�-*[��L�K�'2@����仪��n���2�N� �ƶ�G���i/U��'E�@�`H��;J�������+J�n#���6ڴ�ĹG���N�G�'�Z!�����Wi��NJ�@���A��Z|�[��$q}i�ҷ�QbtTEC$��m��mo�L�D��;�%g�?w��ŷ���ovH0��a�5��*�ؒ��l͛�S�iy�r�O7����%L]��%���hk ����>v1�HB������d\�(eoIx�>3�6BS%���(
��f$�h�����eԎ���H���`ݶf{�Fo�Y���@00uMb�z-��XI$&�gf���7Ӵ�u|'K.�oP
P���F�.��o��9B<~. ����[����<٭�$�����{1�A��.�bKx�L������'�u8n5���e ,]�H����V��Ww�$�C�el��|zys��K�i-�q�ݬbk,wnG��;�� ~�e�r͒���~'1`V⦫�-*[��L�K�'2@����仪��n���2�N� �ƶ�G���i/U��'E�@�`H��;J�������+J�n#���6ڴ�ĹG���N�G�'�Z!�����Wi��NJ�@���A��Z|�[��$q}i�ҷ�QbtTEC$��m��mo�L�D��;�%g�?w��ŷ���ovH0��a�5��*�ؒ��l͛�S�iy�r�O7����%L]��%���hk ����>v1�HB������d\�(eoIx�>3�6BS%���(
��f$�h�����eԎ���H���`ݶf{�Fo�Y���@00uMb�z-��XI$&�gf���7Ӵ�u|'K.�oP
P���F�.��o��9B<~. ����[����<٭�$�����{1�A��.�bKx�L������'�u8n5���e ,]�H����V��Ww�$�C�el��|zys��K�i-�q�ݬbk,wnG��;�� ~�e�r͒���~'1`V⦫�-*[��L�K�'2@����仪��n���2�N� �ƶ�G���i/U��'E�@�`H��;J�������+J�n#���6ڴ�ĹG���N�G�'�Z!�����Wi��NJ�@���A��Z|�[��$q}i�ҷ�QbtTEC$��m��mo�L�D��;�%g�?w��ŷ���ovH0��a�5��*�ؒ��l͛�S�iy�r�O7����%L]��%���hk ����>v1�HB������d\�(eoIx�>3�6BS%���(
��f$�h�����eԎ���H���`ݶf{�Fo�Y���@00uMb�z-��XI$&�gf���7Ӵ�u|'K.�oP
P���F�.��o��9B<~. ����[����<٭�$�����{1�A��.�bKx�L������'�u8n5���e ,]�H����V��Ww�$�C�el��|zys��K�i-�q�ݬbk,wnG��;�� ~�e�r͒���~'1`V⦫�-*[��L�K�'2@����仪��n���2�N� �ƶ�G���i/U��'E�@�`H��;J�������+J�n#���6ڴ�ĹG���N�G�'�Z!�����Wi��NJ�@���A��Z|�[��$q}i�ҷ�QbtTEC$��m��mo�L�D��;�%g�?w��ŷ���ovH0��a�5��*�ؒ��l͛�S�iy�r�O7����%L]��%���hk ����>v1�HB������d\�(eoIx�>3�6BS%���(
��f$�h�����eԎ���H���`ݶf{�Fo�Y���@00uMb�z-��XI$&�gf���7Ӵ�u|'K.�oP
P���F�.��o��9B<~. ����[����<٭�$�����{1�A��.�bKx�L������'�u8n5���e ,]�H����V��Ww�$�C�el��|zys��K�i-�q�ݬbk,wnG��;�� ~�e�r͒���~'1`V⦫�-*[��L�K�'2@����仪��n���2�N� �ƶ�G���i/U��'E�@�`H��;J�������+J�n#���6ڴ�ĹG���N�G�'�Z!�����Wi��NJ�@���A��Z|�[��$q}i�ҷ�QbtTEC$��m��mo�L�D��;�%g�?w��ŷ���ovH0��a�5��*�ؒ��l͛�S�iy�r�O7����%L]��%���hk ����>v1�HB������d\�(eoIx�>3�6BS%���(
��f$�h�����eԎ���H���`ݶf{�Fo�Y���@00uMb�z-��XI$&�gf���7Ӵ�u|'K.�oP
P���F�.��o��9B<~. ����[����<٭�$�����{1�A��.�bKx�L������'�u8n5���e ,]�H����V��Ww�$�C�el��|zys��K�i-�q�ݬbk,wnG��;�� ~�e�r͒���~'1`V⦫�-*[��L�K�'2@����仪��n���2�N� �ƶ�G���i/U��'E�@�`H��;J�������+J�n#���6ڴ�ĹG���N�G�'�Z!�����Wi��NJ�@���A��Z|�[��$q}i�ҷ�QbtTEC$��m��mo�L�D��;�%g�?w��ŷ���ovH0��a�5��*�ؒ��l͛�S�iy�r�O7����%L]��%���hk ����>v1�HB������d\�(eoIx�>3�6BS%���(
��f$�h�����eԎ���H���`ݶf{�Fo�Y���@00uMb�z-��XI$&�gf���7Ӵ�u|'K.�oP
P���F�.��o��9B<~. ����[����<٭�$�����{1�A��.�bKx�L������'�u8n5���e ,]�H����V��Ww�$�C�el��|zys��K�i-�q�ݬbk,wnG��;�� ~�e�r͒���~'1`V⦫�-*[��L�K�'2@����仪��n���2�N� �ƶ�G���i/U��'E�@�`H��;J�������+J�n#���6ڴ�ĹG���N�G�'�Z!�����Wi��NJ�@���A��Z|�[��$q}i�ҷ�QbtTEC$��m��mo�L�D��;�%g�?w��ŷ���ovH0��a�5��*�ؒ��l͛�S�iy�r�O7����%L]��%���hk ����>v1�HB������d\�(eoIx�>3�6BS%���(
��f$�h�����eԎ���H���`ݶf{�Fo�Y���@00uMb�z-��XI$&�gf���7Ӵ�u|'K.�oP
P���F�.��o��9B<~. ����[����<٭�$�����{1�A��.�bKx�L������'�u8n5���e ,]�H����V��Ww�$�C�el��|zys��K�i-�q�ݬbk,wnG��;�� ~�e�r͒���~'1`V⦫�-*[��L�K�'2@����仪��n���2�N� �ƶ�G���i/U��'E�@�`H��;J�������+J�n#���6ڴ�ĹG���N�G�'�Z!�����Wi��NJ�@���A��Z|�[��$q}i�ҷ�QbtTEC$��m��mo�L�D��;�%g�?w��ŷ���ovH0��a�5��*�ؒ��l͛�S�iy�r�O7����%L]��%���hk ����>v1�HB������d\�(eoIx�>3�6BS%���(
��f$�h�����eԎ���H���`ݶf{�Fo�Y���@00uMb�z-��XI$&�gf���7Ӵ�u|'K.�oP
P���F�.��o��9B<~. ����[����<٭�$�����{1�A��.�bKx�L������'�u8n5���e ,]�H����V��Ww�$�C�el��|zys��K�i-�q�ݬbk,wnG��;�� ~�e�r͒���~'1`V⦫�-*[��L�K�'2@����仪��n���2�N� �ƶ�G���i/U��'E�@�`H��;J�������+J�n#���6ڴ�ĹG���N�G�'�Z!�����Wi��NJ�@���A��Z|�[��$q}i�ҷ�QbtTEC$��m��mo�L�D��;�%g�?w��ŷ���ovH0��a�5��*�ؒ��l͛�S�iy�r�O7����%L]��%���hk ����>v1�HB������d\�(eoIx�>3�6BS%���(
��f$�h�����eԎ���H���`ݶf{�Fo�Y���@00uMb�z-��XI$&�gf���7Ӵ�u|'K.�oP
P���F�.��o��9B<~. ����[����<٭�$�����{1�A��.�bKx�L������'�u8n5���e ,]�H����V��Ww�$�C�el��|zys��K�i-�q�ݬbk,wnG��;�� ~�e�r͒���~'1`V⦫�-*[��L�K�'2@����仪��n���2�N� �ƶ�G���i/U��'E�@�`H��;J�������+J�n#���6ڴ�ĹG���N�G�'�Z!�����Wi��NJ�@���A��Z|�[��$q}i�ҷ�QbtTEC$��m��mo�L�D��;�%g�?w��ŷ���ovH0��a�5��*�ؒ��l͛�S�iy�r�O7����%L]��%���hk ����>v1�HB������d\�(eoIx�>3�6BS%���(
��f$�h�����eԎ���H���`ݶf{�Fo�Y���@00uMb�z-��XI$&�gf���7Ӵ�u|'K.�oP
P���F�.��o��9B<~. ����[����<٭�$�����{1�A��.�bKx�L������'�u8n5���e ,]�H����V��Ww�$�C�el��|zys��K�i-�q�ݬbk,wnG��;�� ~�e�r͒���~'1`V⦫�-*[��L�K�'2@����仪��n���2�N� �ƶ�G���i/U��'E�@�`H��;J�������+J�n#���6ڴ�ĹG���N�G�'�Z!�����Wi��NJ�@���A��Z|�[��$q}i�ҷ�QbtTEC$��m��mo�L�D��;�%g�?w��ŷ���ovH0��a�5��*�ؒ��l͛�S�iy�r�O7����%L]��%���hk ����>v1�HB������d\�(eoIx�>3�6BS%���(
��f$�h�����eԎ���H���`ݶf{�Fo�Y���@00uMb�z-��XI$&�gf���7Ӵ�u|'K.�oP
P���F�.��o��9B<~. ����[����<٭�$�����{1�A��.�bKx�L������'�u8n5���e ,]�H����V��Ww�$�C�el��|zys��K�i-�q�ݬbk,wnG��;�� ~�e�r͒���~'1`V⦫�-*[��L�K�'2@����仪��n���2�N� �ƶ�G���i/U��'E�@�`H��;J�������+J�n#���6ڴ�ĹG���N�G�'�Z!�����Wi��NJ�@���A��Z|�[��$q}i�ҷ�QbtTEC$��m��mo�L�D��;�%g�?w��ŷ���ovH0��a�5��*�ؒ��l͛�S�iy�r�O7����%L]��%���hk ����>v1�HB������d\�(eoIx�>3�6BS%���(
��f$�h�����eԎ���H���`ݶf{�Fo�Y���@00uMb�z-��XI$&�gf���7Ӵ�u|'K.�oP
P���F�.��o��9B<~. ����[����<٭�$�����{1�A��.�bKx�L������'�u8n5���e ,]�H����V��Ww�$�C�el��|zys��K�i-�q�ݬbk,wnG��;�� ~�e�r͒���~'1`V⦫�-*[��L�K�'2@����仪��n���2�N� �ƶ�G���i/U��'E�@�`H��;J�������+J�n#���6ڴ�ĹG���N�G�'�Z!�����Wi��NJ�@���A��Z|�[��$q}i�ҷ�QbtTEC$��m��mo�L�D��;�%g�?w��ŷ���ovH0��a�5��*�ؒ��l͛�S�iy�r�O7����%L]��%���hk ����>v1�HB������d\�(eoIx�>3�6BS%���(
��f$�h�����eԎ���H���`ݶf{�Fo�Y���@00uMb�z-��XI$&�gf���7Ӵ�u|'K.�oP
P���F�.��o��9B<~. ����[����<٭�$�����{1�A��.�bKx�L������'�u8n5���e ,]�H����V��Ww�$�C�el��|zys��K�i-�q�ݬbk,wnG��;�� ~�e�r͒���~'1`V⦫�-*[��L�K�'2@����仪��n���2�N� �ƶ�G���i/U��'E�@�`H��;J�������+J�n#���6ڴ�ĹG���N�G�'�Z!�����Wi��NJ�@���A��Z|�[��$q}i�ҷ�QbtTEC$��m��mo�L�D��;�%g�?w��ŷ���ovH0��a�5��*�ؒ��l͛�S�iy�r�O7����%L]��%���hk ����>v1�HB������d\�(eoIx�>3�6BS%���(
��f$�h�����eԎ���H���`ݶf{�Fo�Y���@00uMb�z-��XI$&�gf���7Ӵ�u|'K.�oP
P���F�.��o��9B<~. ����[����<٭�$�����{1�A��.�bKx�L������'�u8n5���e ,]�H����V��Ww�$�C�el��|zys��K�i-�q�ݬbk,wnG��;�� ~�e�r͒���~'1`V⦫�-*[��L�K�'2@����仪��n���2�N� �ƶ�G���i/U��'E�@�`H��;J�������+J�n#���6ڴ�ĹG���N�G�'�Z!�����Wi��NJ�@���A��Z|�[��$q}i�ҷ�QbtTEC$��m��mo�L�D��;�%g�?w��ŷ���ovH0��a�5��*�ؒ��l͛�S�iy�r�O7����%L]��%���hk ����>v1�HB������d\�(eoIx�>3�6BS%���(
��f$�h�����eԎ���H���`ݶf{�Fo�Y���@00uMb�z-��XI$&�gf���7Ӵ�u|'K.�oP
P���F�.��o��9B<~. ����[����<٭�$�����{1�A��.�bKx�L������'�u8n5���e ,]�H����V��Ww�$�C�el��|zys��K�i-�q�ݬbk,wnG��;�� ~�e�r͒���~'1`V⦫�-*[��L�K�'2@����仪��n���2�N� �ƶ�G���i/U��'E�@�`H��;J�������+J�n#���6ڴ�ĹG���N�G�'�Z!�����Wi��NJ�@���A��Z|�[��$q}i�ҷ�QbtTEC$��m��mo�L�D��;�%g�?w��ŷ���ovH0��a�5��*�ؒ��l͛�S�iy�r�O7����%L]��%���hk ����>v1�HB������d\�(eoIx�>3�6BS%���(
��f$�h�����eԎ���H���`ݶf{�Fo�Y���@00uMb�z-��XI$&�gf���7Ӵ�u|'K.�oP
P���F�.��o��9B<~. ����[����<٭�$�����{1�A��.�bKx�L������'�u8n5���e ,]�H����V��Ww�$�C�el��|zys��K�i-�q�ݬbk,wnG��;�� ~�e�r͒���~'1`V⦫�-*[��L�K�'2@����仪��n���2�N� �ƶ�G���i/U��'E�@�`H��;J�������+J�n#���6ڴ�ĹG���N�G�'�Z!�����Wi��NJ�@���A��Z|�[��$q}i�ҷ�QbtTEC$��m��mo�L�D��;�%g�?w��ŷ���ovH0��a�5��*�ؒ��l͛�S�iy�r�O7����%L]��%���hk ����>v1�HB������d\�(eoIx�>3�6BS%���(
��f$�h�����eԎ���H���`ݶf{�Fo�Y���@00uMb�z-��XI$&�gf���7Ӵ�u|'K.�oP
P���F�.��o��9B<~. ����[����<٭�$�����{1�A��.�bKx�L������'�u8n5���e ,]�H����V��Ww�$�C�el��|zys��K�i-�q�ݬbk,wnG��;�� ~�e�r͒���~'1`V⦫�-*[��L�K�'2@����仪��n���2�N� �ƶ�G���i/U��'E�@�`H��;J�������+J�n#���6ڴ�ĹG���N�G�'�Z!�����Wi��NJ�@���A��Z|�[��$q}i�ҷ�QbtTEC$��m��mo�L�D��;�%g�?w��ŷ���ovH0��a�5��*�ؒ��l͛�S�iy�r�O7����%L]��%���hk ����>v1�HB������d\�(eoIx�>3�6BS%���(
��f$�h�����eԎ���H���`ݶf{�Fo�Y���@00uMb�z-��XI$&�gf���7Ӵ�u|'K.�oP
P���F�.��o��9B<~. ����[����<٭�$�����{1�A��.�bKx�L������'�u8n5���e ,]�H����V��Ww�$�C�el��|zys��K�i-�q�ݬbk,wnG��;�� ~�e�r͒���~'1`V⦫�-*[��L�K�'2@����仪��n���2�N� �ƶ�G���i/U��'E�@�`H��;J�������+J�n#���6ڴ�ĹG���N�G�'�Z!�����Wi��NJ�@���A��Z|�[��$q}i�ҷ�QbtTEC$��m��mo�L�D��;�%g�?w��ŷ���ovH0��a�5��*�ؒ��l͛�S�iy�r�O7����%L]��%���hk ����>v1�HB������d\�(eoIx�>3�6BS%���(
��f$�h�����eԎ���H���`ݶf{�Fo�Y���@00uMb�z-��XI$&�gf���7Ӵ�u|'K.�oP
P���F�.��o��9B<~. ����[����<٭�$�����{1�A��.�bKx�L������'�u8n5���e ,]�H����V��Ww�$�C�el��|zys��K�i-�q�ݬbk,wnG��;�� ~�e�r͒���~'1`V⦫�-*[��L�K�'2@����仪��n���2�N� �ƶ�G���i/U��'E�@�`H��;J�������+J�n#���6ڴ�ĹG���N�G�'�Z!�����Wi��NJ�@���A��Z|�[��$q}i�ҷ�QbtTEC$��m��mo�L�D��;�%g�?w��ŷ���ovH0��a�5��*�ؒ��l͛�S�iy�r�O7����%L]��%���hk ����>v1�HB������d\�(eoIx�>3�6BS%���(
��f$�h�����eԎ���H���`ݶf{�Fo�Y���@00uMb�z-��XI$&�gf���7Ӵ�u|'K.�oP
P���F�.��o��9B<~. ����[����<٭�$�����{1�A��.�bKx�L������'�u8n5���e ,]�H����V��Ww�$�C�el��|zys��K�i-�q�ݬbk,wnG��;�� ~�e�r͒���~'1`V⦫�-*[��L�K�'2@����仪��n���2�N� �ƶ�G���i/U��'E�@�`H��;J�������+J�n#���6ڴ�ĹG���N�G�'�Z!�����Wi��NJ�@���A��Z|�[��$q}i�ҷ�QbtTEC$��m��mo�L�D��;�%g�?w��ŷ���ovH0��a�5��*�ؒ��l͛�S�iy�r�O7����%L]��%���hk ����>v1�HB������d\�(eoIx�>3�6BS%���(
��f$�h�����eԎ���H���`ݶf{�Fo�Y���@00uMb�z-��XI$&�gf���7Ӵ�u|'K.�oP
P���F�.��o��9B<~. ����[����<٭�$�����{1�A��.�bKx�L������'�u8n5���e ,]�H����V��Ww�$�C�el��|zys��K�i-�q�ݬbk,wnG��;�� ~�e�r͒���~'1`V⦫�-*[��L�K�'2@����仪��n���2�N� �ƶ�G���i/U��'E�@�`H��;J�������+J�n#���6ڴ�ĹG���N�G�'�Z!�����Wi��NJ�@���A��Z|�[��$q}i�ҷ�QbtTEC$��m��mo�L�D��;�%g�?w��ŷ���ovH0��a�5��*�ؒ��l͛�S�iy�r�O7����%L]��%���hk ����>v1�HB������d\�(eoIx�>3�6BS%���(
��f$�h�����eԎ���H���`ݶf{�Fo�Y���@00uMb�z-��XI$&�gf���7Ӵ�u|'K.�oP
P���F�.��o��9B<~. ����[����<٭�$�����{1�A��.�bKx�L������'�u8n5���e ,]�H����V��Ww�$�C�el��|zys��K�i-�q�ݬbk,wnG��;�� ~�e�r͒���~'1`V⦫�-*[��L�K�'2@����仪��n���2�N� �ƶ�G���i/U��'E�@�`H��;J�������+J�n#���6ڴ�ĹG���N�G�'�Z!�����Wi��NJ�@���A��Z|�[��$q}i�ҷ�QbtTEC$��m��mo�L�D��;�%g�?w��ŷ���ovH0��a�5��*�ؒ��l͛�S�iy�r�O7����%L]��%���hk ����>v1�HB������d\�(eoIx�>3�6BS%���(
��f$�h�����eԎ���H���`ݶf{�Fo�Y���@00uMb�z-��XI$&�gf���7Ӵ�u|'K.�oP
P���F�.��o��9B<~. ����[����<٭�$�����{1�A��.�bKx�L������'�u8n5���e ,]�H����V��Ww�$�C�el��|zys��K�i-�q�ݬbk,wnG��;�� ~�e�r͒���~'1`V⦫�-*[��L�K�'2@����仪��n���2�N� �ƶ�G���i/U��'E�@�`H��;J�������+J�n#���6ڴ�ĹG���N�G�'�Z!�����Wi��NJ�@���A��Z|�[��$q}i�ҷ�QbtTEC$��m��mo�L�D��;�%g�?w��ŷ���ovH0��a�5��*�ؒ��l͛�S�iy�r�O7����%L]��%���hk ����>v1�HB������d\�(eoIx�>3�6BS%���(
��f$�h�����eԎ���H���`ݶf{�Fo�Y���@00uMb�z-��XI$&�gf���7Ӵ�u|'K.�oP
P���F�.��o��9B<~. ����[����<٭�$�����{1�A��.�bKx�L������'�u8n5���e ,]�H����V��Ww�$�C�el��|zys��K�i-�q�ݬbk,wnG��;�� ~�e�r͒���~'1`V⦫�-*[��L�K�'2@����仪��n���2�N� �ƶ�G���i/U��'E�@�`H��;J�������+J�n#���6ڴ�ĹG���N�G�'�Z!�����Wi��NJ�@���A��Z|�[��$q}i�ҷ�QbtTEC$��m��mo�L�D��;�%g�?w��ŷ���ovH0��a�5��*�ؒ��l͛�S�iy�r�O7����%L]��%���hk ����>v1�HB������d\�(eoIx�>3�6BS%���(
��f$�h�����eԎ���H���`ݶf{�Fo�Y���@00uMb�z-��XI$&�gf���7Ӵ�u|'K.�oP
P���F�.��o��9B<~. ����[����<٭�$�����{1�A��.�bKx�L������'�u8n5���e ,]�H����V��Ww�$�C�el��|zys��K�i-�q�ݬbk,wnG��;�� ~�e�r͒���~'1`V⦫�-*[��L�K�'2@����仪��n���2�N� �ƶ�G���i/U��'E�@�`H��;J�������+J�n#���6ڴ�ĹG���N�G�'�Z!�����Wi��NJ�@���A��Z|�[��$q}i�ҷ�QbtTEC$��m��mo�L�D��;�%g�?w��ŷ���ovH0��a�5��*�ؒ��l͛�S�iy�r�O7����%L]��%���hk ����>v1�HB������d\�(eoIx�>3�6BS%���(
��f$�h�����eԎ���H���`ݶf{�Fo�Y���@00uMb�z-��XI$&�gf���7Ӵ�u|'K.�oP
P���F�.��o��9B<~. ����[����<٭�$�����{1�A��.�bKx�L������'�u8n5���e ,]�H����V��Ww�$�C�el��|zys��K�i-�q�ݬbk,wnG��;�� ~�e�r͒���~'1`V⦫�-*[��L�K�'2@����仪��n���2�N� �ƶ�G���i/U��'E�@�`H��;J�������+J�n#���6ڴ�ĹG���N�G�'�Z!�����Wi��NJ�@���A��Z|�[��$q}i�ҷ�QbtTEC$��m��mo�L�D��;�%g�?w��ŷ���ovH0��a�5��*�ؒ��l͛�S�iy�r�O7����%L]��%���hk ����>v1�HB������d\�(eoIx�>3�6BS%���(
��f$�h�����eԎ���H���`ݶf{�Fo�Y���@00uMb�z-��XI$&�gf���7Ӵ�u|'K.�oP
P���F�.��o��9B<~. ����[����<٭�$�����{1�A��.�bKx�L������'�u8n5���e ,]�H����V��Ww�$�C�el��|zys��K�i-�q�ݬbk,wnG��;�� ~�e�r͒���~'1`V⦫�-*[��L�K�'2@����仪��n���2�N� �ƶ�G���i/U��'E�@�`H��;J�������+J�n#���6ڴ�ĹG���N�G�'�Z!�����Wi��NJ�@���A��Z|�[��$q}i�ҷ�QbtTEC$��m��mo�L�D��;�%g�?w��ŷ���ovH0��a�5��*�ؒ��l͛�S�iy�r�O7����%L]��%���hk ����>v1�HB������d\�(eoIx�>3�6BS%���(
��f$�h�����eԎ���H���`ݶf{�Fo�Y���@00uMb�z-��XI$&�gf���7Ӵ�u|'K.�oP
P���F�.��o��9B<~. ����[����<٭�$�����{1�A��.�bKx�L������'�u8n5���e ,]�H����V��Ww�$�C�el��|zys��K�i-�q�ݬbk,wnG��;�� ~�e�r͒���~'1`V⦫�-*[��L�K�'2@����仪��n���2�N� �ƶ�G���i/U��'E�@�`H��;J�������+J�n#���6ڴ�ĹG���N�G�'�Z!�����Wi��NJ�@���A��Z|�[��$q}i�ҷ�QbtTEC$��m��mo�L�D��;�%g�?w��ŷ���ovH0��a�5��*�ؒ��l͛�S�iy�r�O7����%L]��%���hk ����>v1�HB������d\�(eoIx�>3�6BS%���(
��f$�h�����eԎ���H���`ݶf{�Fo�Y���@00uMb�z-��XI$&�gf���7Ӵ�u|'K.�oP
P���F�.��o��9B<~. ����[����<٭�$�����{1�A��.�bKx�L������'�u8n5���e ,]�H����V��Ww�$�C�el��|zys��K�i-�q�ݬbk,wnG��;�� ~�e�r͒���~'1`V⦫�-*[��L�K�'2@����仪��n���2�N� �ƶ�G���i/U��'E�@�`H��;J�������+J�n#���6ڴ�ĹG���N�G�'�Z!�����Wi��NJ�@���A��Z|�[��$q}i�ҷ�QbtTEC$��m��mo�L�D��;�%g�?w��ŷ���ovH0��a�5��*�ؒ��l͛�S�iy�r�O7����%L]��%���hk ����>v1�HB������d\�(eoIx�>3�6BS%���(
��f$�h�����eԎ���H���`ݶf{�Fo�Y���@00uMb�z-��XI$&�gf���7Ӵ�u|'K.�oP
P���F�.��o��9B<~. ����[����<٭�$�����{1�A��.�bKx�L������'�u8n5���e ,]�H����V��Ww�$�C�el��|zys��K�i-�q�ݬbk,wnG��;�� ~�e�r͒���~'1`V⦫�-*[��L�K�'2@����仪��n���2�N� �ƶ�G���i/U��'E�@�`H��;J�������+J�n#���6ڴ�ĹG���N�G�'�Z!�����Wi��NJ�@���A��Z|�[��$q}i�ҷ�QbtTEC$��m��mo�L�D��;�%g�?w��ŷ���ovH0��a�5��*�ؒ��l͛�S�iy�r�O7����%L]��%���hk ����>v1�HB������d\�(eoIx�>3�6BS%���(
��f$�h�����eԎ���H���`ݶf{�Fo�Y���@00uMb�z-��XI$&�gf���7Ӵ�u|'K.�oP
P���F�.��o��9B<~. ����[����<٭�$�����{1�A��.�bKx�L������'�u8n5���e ,]�H����V��Ww�$�C�el��|zys��K�i-�q�ݬbk,wnG��;�� ~�e�r͒���~'1`V⦫�-*[��L�K�'2@����仪��n���2�N� �ƶ�G���i/U��'E�@�`H��;J�������+J�n#���6ڴ�ĹG���N�G�'�Z!�����Wi��NJ�@���A��Z|�[��$q}i�ҷ�QbtTEC$��m��mo�L�D��;�%g�?w��ŷ���ovH0��a�5��*�ؒ��l͛�S�iy�r�O7����%L]��%���hk ����>v1�HB������d\�(eoIx�>3�6BS%���(
��f$�h�����eԎ���H���`ݶf{�Fo�Y���@00uMb�z-��XI$&�gf���7Ӵ�u|'K.�oP
P���F�.��o��9B<~. ����[����<٭�$�����{1�A��.�bKx�L������'�u8n5���e ,]�H����V��Ww�$�C�el��|zys��K�i-�q�ݬbk,wnG��;�� ~�e�r͒���~'1`V⦫�-*[��L�K�'2@����仪��n���2�N� �ƶ�G���i/U��'E�@�`H��;J�������+J�n#���6ڴ�ĹG���N�G�'�Z!�����Wi��NJ�@���A��Z|�[��$q}i�ҷ�QbtTEC$��m��mo�L�D��;�%g�?w��ŷ���ovH0��a�5��*�ؒ��l͛�S�iy�r�O7����%L]��%���hk ����>v1�HB������d\�(eoIx�>3�6BS%���(
��f$�h�����eԎ���H���`ݶf{�Fo�Y���@00uMb�z-��XI$&�gf���7Ӵ�u|'K.�oP
P���F�.��o��9B<~. ����[����<٭�$�����{1�A��.�bKx�L������'�u8n5���e ,]�H����V��Ww�$�C�el��|zys��K�i-�q�ݬbk,wnG��;�� ~�e�r͒���~'1`V⦫�-*[��L�K�'2@����仪��n���2�N� �ƶ�G���i/U��'E�@�`H��;J�������+J�n#���6ڴ�ĹG���N�G�'�Z!�����Wi��NJ�@���A��Z|�[��$q}i�ҷ�QbtTEC$��m��mo�L�D��;�%g�?w��ŷ���ovH0��a�5��*�ؒ��l͛�S�iy�r�O7����%L]��%���hk ����>v1�HB������d\�(eoIx�>3�6BS%���(
��f$�h�����eԎ���H���`ݶf{�Fo�Y���@00uMb�z-��XI$&�gf���7Ӵ�u|'K.�oP
P���F�.��o��9B<~. ����[����<٭�$�����{1�A��.�bKx�L������'�u8n5���e ,]�H����V��Ww�$�C�el��|zys��K�i-�q�ݬbk,wnG��;�� ~�e�r͒���~'1`V⦫�-*[��L�K�'2@����仪��n���2�N� �ƶ�G���i/U��'E�@�`H��;J�������+J�n#���6ڴ�ĹG���N�G�'�Z!�����Wi��NJ�@���A��Z|�[��$q}i�ҷ�QbtTEC$��m��mo�L�D��;�%g�?w��ŷ���ovH0��a�5��*�ؒ��l͛�S�iy�r�O7����%L]��%���hk ����>v1�HB������d\�(eoIx�>3�6BS%���(
��f$�h�����eԎ���H���`ݶf{�Fo�Y���@00uMb�z-��XI$&�gf���7Ӵ�u|'K.�oP
P���F�.��o��9B<~. ����[����<٭�$�����{1�A��.�bKx�L������'�u8n5���e ,]�H����V��Ww�$�C�el��|zys��K�i-�q�ݬbk,wnG��;�� ~�e�r͒���~'1`V⦫�-*[��L�K�'2@����仪��n���2�N� �ƶ�G���i/U��'E�@�`H��;J�������+J�n#���6ڴ�ĹG���N�G�'�Z!�����Wi��NJ�@���A��Z|�[��$q}i�ҷ�QbtTEC$��m��mo�L�D��;�%g�?w��ŷ���ovH0��a�5��*�ؒ��l͛�S�iy�r�O7����%L]��%���hk ����>v1�HB������d\�(eoIx�>3�6BS%���(
��f$�h�����eԎ���H���`ݶf{�Fo�Y���@00uMb�z-��XI$&�gf���7Ӵ�u|'K.�oP
P���F�.��o��9B<~. ����[����<٭�$�����{1�A��.�bKx�L������'�u8n5���e ,]�H����V��Ww�$�C�el��|zys��K�i-�q�ݬbk,wnG��;�� ~�e�r͒���~'1`V⦫�-*[��L�K�'2@����仪��n���2�N� �ƶ�G���i/U��'E�@�`H��;J�������+J�n#���6ڴ�ĹG���N�G�'�Z!�����Wi��NJ�@���A��Z|�[��$q}i�ҷ�QbtTEC$��m��mo�L�D��;�%g�?w��ŷ���ovH0��a�5��*�ؒ��l͛�S�iy�r�O7����%L]��%���hk ����>v1�HB������d\�(eoIx�>3�6BS%���(
��f$�h�����eԎ���H���`ݶf{�Fo�Y���@00uMb�z-��XI$&�gf���7Ӵ�u|'K.�oP
P���F�.��o��9B<~. ����[����<٭�$�����{1�A��.�bKx�L������'�u8n5���e ,]�H����V��Ww�$�C�el��|zys��K�i-�q�ݬbk,wnG��;�� ~�e�r͒���~'1`V⦫�-*[��L�K�'2@����仪��n���2�N� �ƶ�G���i/U��'E�@�`H��;J�������+J�n#���6ڴ�ĹG���N�G�'�Z!�����Wi��NJ�@���A��Z|�[��$q}i�ҷ�QbtTEC$��m��mo�L�D��;�%g�?w��ŷ���ovH0��a�5��*�ؒ��l͛�S�iy�r�O7����%L]��%���hk ����>v1�HB������d\�(eoIx�>3�6BS%���(
��f$�h�����eԎ���H���`ݶf{�Fo�Y���@00uMb�z-��XI$&�gf���7Ӵ�u|'K.�oP
P���F�.��o��9B<~. ����[����<٭�$�����{1�A��.�bKx�L������'�u8n5���e ,]�H����V��Ww�$�C�el��|zys��K�i-�q�ݬbk,wnG��;�� ~�e�r͒���~'1`V⦫�-*[��L�K�'2@����仪��n���2�N� �ƶ�G���i/U��'E�@�`H��;J�������+J�n#���6ڴ�ĹG���N�G�'�Z!�����Wi��NJ�@���A��Z|�[��$q}i�ҷ�QbtTEC$��m��mo�L�D��;�%g�?w��ŷ���ovH0��a�5��*�ؒ��l͛�S�iy�r�O7����%L]��%���hk ����>v1�HB������d\�(eoIx�>3�6BS%���(
��f$�h�����eԎ���H���`ݶf{�Fo�Y���@00uMb�z-��XI$&�gf���7Ӵ�u|'K.�oP
P���F�.��o��9B<~. ����[����<٭�$�����{1�A��.�bKx�L������'�u8n5���e ,]�H����V��Ww�$�C�el��|zys��K�i-�q�ݬbk,wnG��;�� ~�e�r͒���~'1`V⦫�-*[��L�K�'2@����仪��n���2�N� �ƶ�G���i/U��'E�@�`H��;J�������+J�n#���6ڴ�ĹG���N�G�'�Z!�����Wi��NJ�@���A��Z|�[��$q}i�ҷ�QbtTEC$��m��mo�L�D��;�%g�?w��ŷ���ovH0��a�5��*�ؒ��l͛�S�iy�r�O7����%L]��%���hk ����>v1�HB������d\�(eoIx�>3�6BS%���(
��f$�h�����eԎ���H���`ݶf{�Fo�Y���@00uMb�z-��XI$&�gf���7Ӵ�u|'K.�oP
P���F�.��o��9B<~. ����[����<٭�$�����{1�A��.�bKx�L������'�u8n5���e ,]�H����V��Ww�$�C�el��|zys��K�i-�q�ݬbk,wnG��;�� ~�e�r͒���~'1`V⦫�-*[��L�K�'2@����仪��n���2�N� �ƶ�G���i/U��'E�@�`H��;J�������+J�n#���6ڴ�ĹG���N�G�'�Z!�����Wi��NJ�@���A��Z|�[��$q}i�ҷ�QbtTEC$��m��mo�L�D��;�%g�?w��ŷ���ovH0��a�5��*�ؒ��l͛�S�iy�r�O7����%L]��%���hk ����>v1�HB������d\�(eoIx�>3�6BS%���(
��f$�h�����eԎ���H���`ݶf{�Fo�Y���@00uMb�z-��XI$&�gf���7Ӵ�u|'K.�oP
P���F�.��o��9B<~. ����[����<٭�$�����{1�A��.�bKx�L������'�u8n5���e ,]�H����V��Ww�$�C�el��|zys��K�i-�q�ݬbk,wnG��;�� ~�e�r͒���~'1`V⦫�-*[��L�K�'2@����仪��n���2�N� �ƶ�G���i/U��'E�@�`H��;J�������+J�n#���6ڴ�ĹG���N�G�'�Z!�����Wi��NJ�@���A��Z|�[��$q}i�ҷ�QbtTEC$��m��mo�L�D��;�%g�?w��ŷ���ovH0��a�5��*�ؒ��l͛�S�iy�r�O7����%L]��%���hk ����>v1�HB������d\�(eoIx�>3�6BS%���(
��f$�h�����eԎ���H���`ݶf{�Fo�Y���@00uMb�z-��XI$&�gf���7Ӵ�u|'K.�oP
P���F�.��o��9B<~. ����[����<٭�$�����{1�A��.�bKx�L������'�u8n5���e ,]�H����V��Ww�$�C�el��|zys��K�i-�q�ݬbk,wnG��;�� ~�e�r͒���~'1`V⦫�-*[��L�K�'2@����仪��n���2�N� �ƶ�G���i/U��'E�@�`H��;J�������+J�n#���6ڴ�ĹG���N�G�'�Z!�����Wi��NJ�@���A��Z|�[��$q}i�ҷ�QbtTEC$��m��mo�L�D��;�%g�?w��ŷ���ovH0��a�5��*�ؒ��l͛�S�iy�r�O7����%L]��%���hk ����>v1�HB������d\�(eoIx�>3�6BS%���(
��f$�h�����eԎ���H���`ݶf{�Fo�Y���@00uMb�z-��XI$&�gf���7Ӵ�u|'K.�oP
P���F�.��o��9B<~. ����[����<٭�$�����{1�A��.�bKx�L������'�u8n5���e ,]�H����V��Ww�$�C�el��|zys��K�i-�q�ݬbk,wnG��;�� ~�e�r͒���~'1`V⦫�-*[��L�K�'2@����仪��n���2�N� �ƶ�G���i/U��'E�@�`H��;J�������+J�n#���6ڴ�ĹG���N�G�'�Z!�����Wi��NJ�@���A��Z|�[��$q}i�ҷ�QbtTEC$��m��mo�L�D��;�%g�?w��ŷ���ovH0��a�5��*�ؒ��l͛�S�iy�r�O7����%L]��%���hk ����>v1�HB������d\�(eoIx�>3�6BS%���(
��f$�h�����eԎ���H���`ݶf{�Fo�Y���@00uMb�z-��XI$&�gf���7Ӵ�u|'K.�oP
P���F�.��o��9B<~. ����[����<٭�$�����{1�A��.�bKx�L������'�u8n5���e ,]�H����V��Ww�$�C�el��|zys��K�i-�q�ݬbk,wnG��;�� ~�e�r͒���~'1`V⦫�-*[��L�K�'2@����仪��n���2�N� �ƶ�G���i/U��'E�@�`H��;J�������+J�n#���6ڴ�ĹG���N�G�'�Z!�����Wi��NJ�@���A��Z|�[��$q}i�ҷ�QbtTEC$��m��mo�L�D��;�%g�?w��ŷ���ovH0��a�5��*�ؒ��l͛�S�iy�r�O7����%L]��%���hk ����>v1�HB������d\�(eoIx�>3�6BS%���(
��f$�h�����eԎ���H���`ݶf{�Fo�Y���@00uMb�z-��XI$&�gf���7Ӵ�u|'K.�oP
P���F�.��o��9B<~. ����[����<٭�$�����{1�A��.�bKx�L������'�u8n5���e ,]�H����V��Ww�$�C�el��|zys��K�i-�q�ݬbk,wnG��;�� ~�e�r͒���~'1`V⦫�-*[��L�K�'2@����仪��n���2�N� �ƶ�G���i/U��'E�@�`H��;J�������+J�n#���6ڴ�ĹG���N�G�'�Z!�����Wi��NJ�@���A��Z|�[��$q}i�ҷ�QbtTEC$��m��mo�L�D��;�%g�?w��ŷ���ovH0��a�5��*�ؒ��l͛�S�iy�r�O7����%L]��%���hk ����>v1�HB������d\�(eoIx�>3�6BS%���(
��f$�h�����eԎ���H���`ݶf{�Fo�Y���@00uMb�z-��XI$&�gf���7Ӵ�u|'K.�oP
P���F�.��o��9B<~. ����[����<٭�$�����{1�A��.�bKx�L������'�u8n5���e ,]�H����V��Ww�$�C�el��|zys��K�i-�q�ݬbk,wnG��;�� ~�e�r͒���~'1`V⦫�-*[��L�K�'2@����仪��n���2�N� �ƶ�G���i/U��'E�@�`H��;J�������+J�n#���6ڴ�ĹG���N�G�'�Z!�����Wi��NJ�@���A��Z|�[��$q}i�ҷ�QbtTEC$��m��mo�L�D��;�%g�?w��ŷ���ovH0��a�5��*�ؒ��l͛�S�iy�r�O7����%L]��%���hk ����>v1�HB������d\�(eoIx�>3�6BS%���(
��f$�h�����eԎ���H���`ݶf{�Fo�Y���@00uMb�z-��XI$&�gf���7Ӵ�u|'K.�oP
P���F�.��o��9B<~. ����[����<٭�$�����{1�A��.�bKx�L������'�u8n5���e ,]�H����V��Ww�$�C�el��|zys��K�i-�q�ݬbk,wnG��;�� ~�e�r͒���~'1`V⦫�-*[��L�K�'2@����仪��n���2�N� �ƶ�G���i/U��'E�@�`H��;J�������+J�n#���6ڴ�ĹG���N�G�'�Z!�����Wi��NJ�@���A��Z|�[��$q}i�ҷ�QbtTEC$��m��mo�L�D��;�%g�?w��ŷ���ovH0��a�5��*�ؒ��l͛�S�iy�r�O7����%L]��%���hk ����>v1�HB������d\�(eoIx�>3�6BS%���(
��f$�h�����eԎ���H���`ݶf{�Fo�Y���@00uMb�z-��XI$&�gf���7Ӵ�u|'K.�oP
P���F�.��o��9B<~. ����[����<٭�$�����{1�A��.�bKx�L������'�u8n5���e ,]�H����V��Ww�$�C�el��|zys��K�i-�q�ݬbk,wnG��;�� ~�e�r͒���~'1`V⦫�-*[��L�K�'2@����仪��n���2�N� �ƶ�G���i/U��'E�@�`H��;J�������+J�n#���6ڴ�ĹG���N�G�'�Z!�����Wi��NJ�@���A��Z|�[��$q}i�ҷ�QbtTEC$��m��mo�L�D��;�%g�?w��ŷ���ovH0��a�5��*�ؒ��l͛�S�iy�r�O7����%L]��%���hk ����>v1�HB������d\�(eoIx�>3�6BS%���(
��f$�h�����eԎ���H���`ݶf{�Fo�Y���@00uMb�z-��XI$&�gf���7Ӵ�u|'K.�oP
P���F�.��o��9B<~. ����[����<٭�$�����{1�A��.�bKx�L������'�u8n5���e ,]�H����V��Ww�$�C�el��|zys��K�i-�q�ݬbk,wnG��;�� ~�e�r͒���~'1`V⦫�-*[��L�K�'2@����仪��n���2�N� �ƶ�G���i/U��'E�@�`H��;J�������+J�n#���6ڴ�ĹG���N�G�'�Z!�����Wi��NJ�@���A��Z|�[��$q}i�ҷ�QbtTEC$��m��mo�L�D��;�%g�?w��ŷ���ovH0��a�5��*�ؒ��l͛�S�iy�r�O7����%L]��%���hk ����>v1�HB������d\�(eoIx�>3�6BS%���(
��f$�h�����eԎ���H���`ݶf{�Fo�Y���@00uMb�z-��XI$&�gf���7Ӵ�u|'K.�oP
P���F�.��o��9B<~. ����[����<٭�$�����{1�A��.�bKx�L������'�u8n5���e ,]�H����V��Ww�$�C�el��|zys��K�i-�q�ݬbk,wnG��;�� ~�e�r͒���~'1`V⦫�-*[��L�K�'2@����仪��n���2�N� �ƶ�G���i/U��'E�@�`H��;J�������+J�n#���6ڴ�ĹG���N�G�'�Z!�����Wi��NJ�@���A��Z|�[��$q}i�ҷ�QbtTEC$��m��mo�L�D��;�%g�?w��ŷ���ovH0��a�5��*�ؒ��l͛�S�iy�r�O7����%L]��%���hk ����>v1�HB������d\�(eoIx�>3�6BS%���(
��f$�h�����eԎ���H���`ݶf{�Fo�Y���@00uMb�z-��XI$&�gf���7Ӵ�u|'K.�oP
P���F�.��o��9B<~. ����[����<٭�$�����{1�A��.�bKx�L������'�u8n5���e ,]�H����V��Ww�$�C�el��|zys��K�i-�q�ݬbk,wnG��;�� ~�e�r͒���~'1`V⦫�-*[��L�K�'2@����仪��n���2�N� �ƶ�G���i/U��'E�@�`H��;J�������+J�n#���6ڴ�ĹG���N�G�'�Z!�����Wi��NJ�@���A��Z|�[��$q}i�ҷ�QbtTEC$��m��mo�L�D��;�%g�?w��ŷ���ovH0��a�5��*�ؒ��l͛�S�iy�r�O7����%L]��%���hk ����>v1�HB������d\�(eoIx�>3�6BS%���(
��f$�h�����eԎ���H���`ݶf{�Fo�Y���@00uMb�z-��XI$&�gf���7Ӵ�u|'K.�oP
P���F�.��o��9B<~. ����[����<٭�$�����{1�A��.�bKx�L������'�u8n5���e ,]�H����V��Ww�$�C�el��|zys��K�i-�q�ݬbk,wnG��;�� ~�e�r͒���~'1`V⦫�-*[��L�K�'2@����仪��n���2�N� �ƶ�G���i/U��'E�@�`H��;J�������+J�n#���6ڴ�ĹG���N�G�'�Z!�����Wi��NJ�@���A��Z|�[��$q}i�ҷ�QbtTEC$��m��mo�L�D��;�%g�?w��ŷ���ovH0��a�5��*�ؒ��l͛�S�iy�r�O7����%L]��%���hk ����>v1�HB������d\�(eoIx�>3�6BS%���(
��f$�h�����eԎ���H���`ݶf{�Fo�Y���@00uMb�z-��XI$&�gf���7Ӵ�u|'K.�oP
P���F�.��o��9B<~. ����[����<٭�$�����{1�A��.�bKx�L������'�u8n5���e ,]�H����V��Ww�$�C�el��|zys��K�i-�q�ݬbk,wnG��;�� ~�e�r͒���~'1`V⦫�-*[��L�K�'2@����仪��n���2�N� �ƶ�G���i/U��'E�@�`H��;J�������+J�n#���6ڴ�ĹG���N�G�'�Z!�����Wi��NJ�@���A��Z|�[��$q}i�ҷ�QbtTEC$��m��mo�L�D��;�%g�?w��ŷ���ovH0��a�5��*�ؒ��l͛�S�iy�r�O7����%L]��%���hk ����>v1�HB������d\�(eoIx�>3�6BS%���(
��f$�h�����eԎ���H���`ݶf{�Fo�Y���@00uMb�z-��XI$&�gf���7Ӵ�u|'K.�oP
P���F�.��o��9B<~. ����[����<٭�$�����{1�A��.�bKx�L������'�u8n5���e ,]�H����V��Ww�$�C�el��|zys��K�i-�q�ݬbk,wnG��;�� ~�e�r͒���~'1`V⦫�-*[��L�K�'2@����仪��n���2�N� �ƶ�G���i/U��'E�@�`H��;J�������+J�n#���6ڴ�ĹG���N�G�'�Z!�����Wi��NJ�@���A��Z|�[��$q}i�ҷ�QbtTEC$��m��mo�L�D��;�%g�?w��ŷ���ovH0��a�5��*�ؒ��l͛�S�iy�r�O7����%L]��%���hk ����>v1�HB������d\�(eoIx�>3�6BS%���(
��f$�h�����eԎ���H���`ݶf{�Fo�Y���@00uMb�z-��XI$&�gf���7Ӵ�u|'K.�oP
P���F�.��o��9B<~. ����[����<٭�$�����{1�A��.�bKx�L������'�u8n5���e ,]�H����V��Ww�$�C�el��|zys��K�i-�q�ݬbk,wnG��;�� ~�e�r͒���~'1`V⦫�-*[��L�K�'2@����仪��n���2�N� �ƶ�G���i/U��'E�@�`H��;J�������+J�n#���6ڴ�ĹG���N�G�'�Z!�����Wi��NJ�@���A��Z|�[��$q}i�ҷ�QbtTEC$��m��mo�L�D��;�%g�?w��ŷ���ovH0��a�5��*�ؒ��l͛�S�iy�r�O7����%L]��%���hk ����>v1�HB������d\�(eoIx�>3�6BS%���(
��f$�h�����eԎ���H���`ݶf{�Fo�Y���@00uMb�z-��XI$&�gf���7Ӵ�u|'K.�oP
P���F�.��o��9B<~. ����[����<٭�$�����{1�A��.�bKx�L������'�u8n5���e ,]�H����V��Ww�$�C�el��|zys��K�i-�q�ݬbk,wnG��;�� ~�e�r͒���~'1`V⦫�-*[��L�K�'2@����仪��n���2�N� �ƶ�G���i/U��'E�@�`H��;J�������+J�n#���6ڴ�ĹG���N�G�'�Z!�����Wi��NJ�@���A��Z|�[��$q}i�ҷ�QbtTEC$��m��mo�L�D��;�%g�?w��ŷ���ovH0��a�5��*�ؒ��l͛�S�iy�r�O7����%L]��%���hk ����>v1�HB������d\�(eoIx�>3�6BS%���(
��f$�h�����eԎ���H���`ݶf{�Fo�Y���@00uMb�z-��XI$&�gf���7Ӵ�u|'K.�oP
P���F�.��o��9B<~. ����[����<٭�$�����{1�A��.�bKx�L������'�u8n5���e ,]�H����V��Ww�$�C�el��|zys��K�i-�q�ݬbk,wnG��;�� ~�e�r͒���~'1`V⦫�-*[��L�K�'2@����仪��n���2�N� �ƶ�G���i/U��'E�@�`H��;J�������+J�n#���6ڴ�ĹG���N�G�'�Z!�����Wi��NJ�@���A��Z|�[��$q}i�ҷ�QbtTEC$��m��mo�L�D��;�%g�?w��ŷ���ovH0��a�5��*�ؒ��l͛�S�iy�r�O7����%L]��%���hk ����>v1�HB������d\�(eoIx�>3�6BS%���(
��f$�h�����eԎ���H���`ݶf{�Fo�Y���@00uMb�z-��XI$&�gf���7Ӵ�u|'K.�oP
P���F�.��o��9B<~. ����[����<٭�$�����{1�A��.�bKx�L������'�u8n5���e ,]�H����V��Ww�$�C�el��|zys��K�i-�q�ݬbk,wnG��;�� ~�e�r͒���~'1`V⦫�-*[��L�K�'2@����仪��n���2�N� �ƶ�G���i/U��'E�@�`H��;J�������+J�n#���6ڴ�ĹG���N�G�'�Z!�����Wi��NJ�@���A��Z|�[��$q}i�ҷ�QbtTEC$��m��mo�L�D��;�%g�?w��ŷ���ovH0��a�5��*�ؒ��l͛�S�iy�r�O7����%L]��%���hk ����>v1�HB������d\�(eoIx�>3�6BS%���(
��f$�h�����eԎ���H���`ݶf{�Fo�Y���@00uMb�z-��XI$&�gf���7Ӵ�u|'K.�oP
P���F�.��o��9B<~. ����[����<٭�$�����{1�A��.�bKx�L������'�u8n5���e ,]�H����V��Ww�$�C�el��|zys��K�i-�q�ݬbk,wnG��;�� ~�e�r͒���~'1`V⦫�-*[��L�K�'2@����仪��n���2�N� �ƶ�G���i/U��'E�@�`H��;J�������+J�n#���6ڴ�ĹG���N�G�'�Z!�����Wi��NJ�@���A��Z|�[��$q}i�ҷ�QbtTEC$��m��mo�L�D��;�%g�?w��ŷ���ovH0��a�5��*�ؒ��l͛�S�iy�r�O7����%L]��%���hk ����>v1�HB������d\�(eoIx�>3�6BS%���(
��f$�h�����eԎ���H���`ݶf{�Fo�Y���@00uMb�z-��XI$&�gf���7Ӵ�u|'K.�oP
P���F�.��o��9B<~. ����[����<٭�$�����{1�A��.�bKx�L������'�u8n5���e ,]�H����V��Ww�$�C�el��|zys��K�i-�q�ݬbk,wnG��;�� ~�e�r͒���~'1`V⦫�-*[��L�K�'2@����仪��n���2�N� �ƶ�G���i/U��'E�@�`H��;J�������+J�n#���6ڴ�ĹG���N�G�'�Z!�����Wi��NJ�@���A��Z|�[��$q}i�ҷ�QbtTEC$��m��mo�L�D��;�%g�?w��ŷ���ovH0��a�5��*�ؒ��l͛�S�iy�r�O7����%L]��%���hk ����>v1�HB������d\�(eoIx�>3�6BS%���(
��f$�h�����eԎ���H���`ݶf{�Fo�Y���@00uMb�z-��XI$&�gf���7Ӵ�u|'K.�oP
P���F�.��o��9B<~. ����[����<٭�$�����{1�A��.�bKx�L������'�u8n5���e ,]�H����V��Ww�$�C�el��|zys��K�i-�q�ݬbk,wnG��;�� ~�e�r͒���~'1`V⦫�-*[��L�K�'2@����仪��n���2�N� �ƶ�G���i/U��'E�@�`H��;J�������+J�n#���6ڴ�ĹG���N�G�'�Z!�����Wi��NJ�@���A��Z|�[��$q}i�ҷ�QbtTEC$��m��mo�L�D��;�%g�?w��ŷ���ovH0��a�5��*�ؒ��l͛�S�iy�r�O7����%L]��%���hk ����>v1�HB������d\�(eoIx�>3�6BS%���(
��f$�h�����eԎ���H���`ݶf{�Fo�Y���@00uMb�z-��XI$&�gf���7Ӵ�u|'K.�oP
P���F�.��o��9B<~. ����[����<٭�$�����{1�A��.�bKx�L������'�u8n5���e ,]�H����V��Ww�$�C�el��|zys��K�i-�q�ݬbk,wnG��;�� ~�e�r͒���~'1`V⦫�-*[��L�K�'2@����仪��n���2�N� �ƶ�G���i/U��'E�@�`H��;J�������+J�n#���6ڴ�ĹG���N�G�'�Z!�����Wi��NJ�@���A��Z|�[��$q}i�ҷ�QbtTEC$��m��mo�L�D��;�%g�?w��ŷ���ovH0��a�5��*�ؒ��l͛�S�iy�r�O7����%L]��%���hk ����>v1�HB������d\�(eoIx�>3�6BS%���(
��f$�h�����eԎ���H���`ݶf{�Fo�Y���@00uMb�z-��XI$&�gf���7Ӵ�u|'K.�oP
P���F�.��o��9B<~. ����[����<٭�$�����{1�A��.�bKx�L������'�u8n5���e ,]�H����V��Ww�$�C�el��|zys��K�i-�q�ݬbk,wnG��;�� ~�e�r͒���~'1`V⦫�-*[��L�K�'2@����仪��n���2�N� �ƶ�G���i/U��'E�@�`H��;J�������+J�n#���6ڴ�ĹG���N�G�'�Z!�����Wi��NJ�@���A��Z|�[��$q}i�ҷ�QbtTEC$��m��mo�L�D��;�%g�?w��ŷ���ovH0��a�5��*�ؒ��l͛�S�iy�r�O7����%L]��%���hk ����>v1�HB������d\�(eoIx�>3�6BS%���(
��f$�h�����eԎ���H���`ݶf{�Fo�Y���@00uMb�z-��XI$&�gf���7Ӵ�u|'K.�oP
P���F�.��o��9B<~. ����[����<٭�$�����{1�A��.�bKx�L������'�u8n5���e ,]�H����V��Ww�$�C�el��|zys��K�i-�q�ݬbk,wnG��;�� ~�e�r͒���~'1`V⦫�-*[��L�K�'2@����仪��n���2�N� �ƶ�G���i/U��'E�@�`H��;J�������+J�n#���6ڴ�ĹG���N�G�'�Z!�����Wi��NJ�@���A��Z|�[��$q}i�ҷ�QbtTEC$��m��mo�L�D��;�%g�?w��ŷ���ovH0��a�5��*�ؒ��l͛�S�iy�r�O7����%L]��%���hk ����>v1�HB������d\�(eoIx�>3�6BS%���(
��f$�h�����eԎ���H���`ݶf{�Fo�Y���@00uMb�z-��XI$&�gf���7Ӵ�u|'K.�oP
P���F�.��o��9B<~. ����[����<٭�$�����{1�A��.�bKx�L������'�u8n5���e ,]�H����V��Ww�$�C�el��|zys��K�i-�q�ݬbk,wnG��;�� ~�e�r͒���~'1`V⦫�-*[��L�K�'2@����仪��n���2�N� �ƶ�G���i/U��'E�@�`H��;J�������+J�n#���6ڴ�ĹG���N�G�'�Z!�����Wi��NJ�@���A��Z|�[��$q}i�ҷ�QbtTEC$��m��mo�L�D��;�%g�?w��ŷ���ovH0��a�5��*�ؒ��l͛�S�iy�r�O7����%L]��%���hk ����>v1�HB������d\�(eoIx�>3�6BS%���(
��f$�h�����eԎ���H���`ݶf{�Fo�Y���@00uMb�z-��XI$&�gf���7Ӵ�u|'K.�oP
P���F�.��o��9B<~. ����[����<٭�$�����{1�A��.�bKx�L������'�u8n5���e ,]�H����V��Ww�$�C�el��|zys��K�i-�q�ݬbk,wnG��;�� ~�e�r͒���~'1`V⦫�-*[��L�K�'2@����仪��n���2�N� �ƶ�G���i/U��'E�@�`H��;J�������+J�n#���6ڴ�ĹG���N�G�'�Z!�����Wi��NJ�@���A��Z|�[��$q}i�ҷ�QbtTEC$��m��mo�L�D��;�%g�?w��ŷ���ovH0��a�5��*�ؒ��l͛�S�iy�r�O7����%L]��%���hk ����>v1�HB������d\�(eoIx�>3�6BS%���(
��f$�h�����eԎ���H���`ݶf{�Fo�Y���@00uMb�z-��XI$&�gf���7Ӵ�u|'K.�oP
P���F�.��o��9B<~. ����[����<٭�$�����{1�A��.�bKx�L������'�u8n5���e ,]�H����V��Ww�$�C�el��|zys��K�i-�q�ݬbk,wnG��;�� ~�e�r͒���~'1`V⦫�-*[��L�K�'2@����仪��n���2�N� �ƶ�G���i/U��'E�@�`H��;J�������+J�n#���6ڴ�ĹG���N�G�'�Z!�����Wi��NJ�@���A��Z|�[��$q}i�ҷ�QbtTEC$��m��mo�L�D��;�%g�?w��ŷ���ovH0��a�5��*�ؒ��l͛�S�iy�r�O7����%L]��%���hk ����>v1�HB������d\�(eoIx�>3�6BS%���(
��f$�h�����eԎ���H���`ݶf{�Fo�Y���@00uMb�z-��XI$&�gf���7Ӵ�u|'K.�oP
P���F�.��o��9B<~. ����[����<٭�$�����{1�A��.�bKx�L������'�u8n5���e ,]�H����V��Ww�$�C�el��|zys��K�i-�q�ݬbk,wnG��;�� ~�e�r͒���~'1`V⦫�-*[��L�K�'2@����仪��n���2�N� �ƶ�G���i/U��'E�@�`H��;J�������+J�n#���6ڴ�ĹG���N�G�'�Z!�����Wi��NJ�@���A��Z|�[��$q}i�ҷ�QbtTEC$��m��mo�L�D��;�%g�?w��ŷ���ovH0��a�5��*�ؒ��l͛�S�iy�r�O7����%L]��%���hk ����>v1�HB������d\�(eoIx�>3�6BS%���(
��f$�h�����eԎ���H���`ݶf{�Fo�Y���@00uMb�z-��XI$&�gf���7Ӵ�u|'K.�oP
P���F�.��o��9B<~. ����[����<٭�$�����{1�A��.�bKx�L������'�u8n5���e ,]�H����V��Ww�$�C�el��|zys��K�i-�q�ݬbk,wnG��;�� ~�e�r͒���~'1`V⦫�-*[��L�K�'2@����仪��n���2�N� �ƶ�G���i/U��'E�@�`H��;J�������+J�n#���6ڴ�ĹG���N�G�'�Z!�����Wi��NJ�@���A��Z|�[��$q}i�ҷ�QbtTEC$��m��mo�L�D��;�%g�?w��ŷ���ovH0��a�5��*�ؒ��l͛�S�iy�r�O7����%L]��%���hk ����>v1�HB������d\�(eoIx�>3�6BS%���(
��f$�h�����eԎ���H���`ݶf{�Fo�Y���@00uMb�z-��XI$&�gf���7Ӵ�u|'K.�oP
P���F�.��o��9B<~. ����[����<٭�$�����{1�A��.�bKx�L������'�u8n5���e ,]�H����V��Ww�$�C�el��|zys��K�i-�q�ݬbk,wnG��;�� ~�e�r͒���~'1`V⦫�-*[��L�K�'2@����仪��n���2�N� �ƶ�G���i/U��'E�@�`H��;J�������+J�n#���6ڴ�ĹG���N�G�'�Z!�����Wi��NJ�@���A��Z|�[��$q}i�ҷ�QbtTEC$��m��mo�L�D��;�%g�?w��ŷ���ovH0��a�5��*�ؒ��l͛�S�iy�r�O7����%L]��%���hk ����>v1�HB������d\�(eoIx�>3�6BS%���(
��f$�h�����eԎ���H���`ݶf{�Fo�Y���@00uMb�z-��XI$&�gf���7Ӵ�u|'K.�oP
P���F�.��o��9B<~. ����[����<٭�$�����{1�A��.�bKx�L������'�u8n5���e ,]�H����V��Ww�$�C�el��|zys��K�i-�q�ݬbk,wnG��;�� ~�e�r͒���~'1`V⦫�-*[��L�K�'2@����仪��n���2�N� �ƶ�G���i/U��'E�@�`H��;J�������+J�n#���6ڴ�ĹG���N�G�'�Z!�����Wi��NJ�@���A��Z|�[��$q}i�ҷ�QbtTEC$��m��mo�L�D��;�%g�?w��ŷ���ovH0��a�5��*�ؒ��l͛�S�iy�r�O7����%L]��%���hk ����>v1�HB������d\�(eoIx�>3�6BS%���(
��f$�h�����eԎ���H���`ݶf{�Fo�Y���@00uMb�z-��XI$&�gf���7Ӵ�u|'K.�oP
P���F�.��o��9B<~. ����[����<٭�$�����{1�A��.�bKx�L������'�u8n5���e ,]�H����V��Ww�$�C�el��|zys��K�i-�q�ݬbk,wnG��;�� ~�e�r͒���~'1`V⦫�-*[��L�K�'2@����仪��n���2�N� �ƶ�G���i/U��'E�@�`H��;J�������+J�n#���6ڴ�ĹG���N�G�'�Z!�����Wi��NJ�@���A��Z|�[��$q}i�ҷ�QbtTEC$��m��mo�L�D��;�%g�?w��ŷ���ovH0��a�5��*�ؒ��l͛�S�iy�r�O7����%L]��%���hk ����>v1�HB������d\�(eoIx�>3�6BS%���(
��f$�h�����eԎ���H���`ݶf{�Fo�Y���@00uMb�z-��XI$&�gf���7Ӵ�u|'K.�oP
P���F�.��o��9B<~. ����[����<٭�$�����{1�A��.�bKx�L������'�u8n5���e ,]�H����V��Ww�$�C�el��|zys��K�i-�q�ݬbk,wnG��;�� ~�e�r͒���~'1`V⦫�-*[��L�K�'2@����仪��n���2�N� �ƶ�G���i/U��'E�@�`H��;J�������+J�n#���6ڴ�ĹG���N�G�'�Z!�����Wi��NJ�@���A��Z|�[��$q}i�ҷ�QbtTEC$��m��mo�L�D��;�%g�?w��ŷ���ovH0��a�5��*�ؒ��l͛�S�iy�r�O7����%L]��%���hk ����>v1�HB������d\�(eoIx�>3�6BS%���(
��f$�h�����eԎ���H���`ݶf{�Fo�Y���@00uMb�z-��XI$&�gf���7Ӵ�u|'K.�oP
P���F�.��o��9B<~. ����[����<٭�$�����{1�A��.�bKx�L������'�u8n5���e ,]�H����V��Ww�$�C�el��|zys��K�i-�q�ݬbk,wnG��;�� ~�e�r͒���~'1`V⦫�-*[��L�K�'2@����仪��n���2�N� �ƶ�G���i/U��'E�@�`H��;J�������+J�n#���6ڴ�ĹG���N�G�'�Z!�����Wi��NJ�@���A��Z|�[��$q}i�ҷ�QbtTEC$��m��mo�L�D��;�%g�?w��ŷ���ovH0��a�5��*�ؒ��l͛�S�iy�r�O7����%L]��%���hk ����>v1�HB������d\�(eoIx�>3�6BS%���(
��f$�h�����eԎ���H���`ݶf{�Fo�Y���@00uMb�z-��XI$&�gf���7Ӵ�u|'K.�oP
P���F�.��o��9B<~. ����[����<٭�$�����{1�A��.�bKx�L������'�u8n5���e ,]�H����V��Ww�$�C�el��|zys��K�i-�q�ݬbk,wnG��;�� ~�e�r͒���~'1`V⦫�-*[��L�K�'2@����仪��n���2�N� �ƶ�G���i/U��'E�@�`H��;J�������+J�n#���6ڴ�ĹG���N�G�'�Z!�����Wi��NJ�@���A��Z|�[��$q}i�ҷ�QbtTEC$��m��mo�L�D��;�%g�?w��ŷ���ovH0��a�5��*�ؒ��l͛�S�iy�r�O7����%L]��%���hk ����>v1�HB������d\�(eoIx�>3�6BS%���(
��f$�h�����eԎ���H���`ݶf{�Fo�Y���@00uMb�z-��XI$&�gf���7Ӵ�u|'K.�oP
P���F�.��o��9B<~. ����[����<٭�$�����{1�A��.�bKx�L������'�u8n5���e ,]�H����V��Ww�$�C�el��|zys��K�i-�q�ݬbk,wnG��;�� ~�e�r͒���~'1`V⦫�-*[��L�K�'2@����仪��n���2�N� �ƶ�G���i/U��'E�@�`H��;J�������+J�n#���6ڴ�ĹG���N�G�'�Z!�����Wi��NJ�@���A��Z|�[��$q}i�ҷ�QbtTEC$��m��mo�L�D��;�%g�?w��ŷ���ovH0��a�5��*�ؒ��l͛�S�iy�r�O7����%L]��%���hk ����>v1�HB������d\�(eoIx�>3�6BS%���(
��f$�h�����eԎ���H���`ݶf{�Fo�Y���@00uMb�z-��XI$&�gf���7Ӵ�u|'K.�oP
P���F�.��o��9B<~. ����[����<٭�$�����{1�A��.�bKx�L������'�u8n5���e ,]�H����V��Ww�$�C�el��|zys��K�i-�q�ݬbk,wnG��;�� ~�e�r͒���~'1`V⦫�-*[��L�K�'2@����仪��n���2�N� �ƶ�G���i/U��'E�@�`H��;J�������+J�n#���6ڴ�ĹG���N�G�'�Z!�����Wi��NJ�@���A��Z|�[��$q}i�ҷ�QbtTEC$��m��mo�L�D��;�%g�?w��ŷ���ovH0��a�5��*�ؒ��l͛�S�iy�r�O7����%L]��%���hk ����>v1�HB������d\�(eoIx�>3�6BS%���(
��f$�h�����eԎ���H���`ݶf{�Fo�Y���@00uMb�z-��XI$&�gf���7Ӵ�u|'K.�oP
P���F�.��o��9B<~. ����[����<٭�$�����{1�A��.�bKx�L������'�u8n5���e ,]�H����V��Ww�$�C�el��|zys��K�i-�q�ݬbk,wnG��;�� ~�e�r͒���~'1`V⦫�-*[��L�K�'2@����仪��n���2�N� �ƶ�G���i/U��'E�@�`H��;J�������+J�n#���6ڴ�ĹG���N�G�'�Z!�����Wi��NJ�@���A��Z|�[��$q}i�ҷ�QbtTEC$��m��mo�L�D��;�%g�?w��ŷ���ovH0��a�5��*�ؒ��l͛�S�iy�r�O7����%L]��%���hk ����>v1�HB������d\�(eoIx�>3�6BS%���(
��f$�h�����eԎ���H���`ݶf{�Fo�Y���@00uMb�z-��XI$&�gf���7Ӵ�u|'K.�oP
P���F�.��o��9B<~. ����[����<٭�$�����{1�A��.�bKx�L������'�u8n5���e ,]�H����V��Ww�$�C�el��|zys��K�i-�q�ݬbk,wnG��;�� ~�e�r͒���~'1`V⦫�-*[��L�K�'2@����仪��n���2�N� �ƶ�G���i/U��'E�@�`H��;J�������+J�n#���6ڴ�ĹG���N�G�'�Z!�����Wi��NJ�@���A��Z|�[��$q}i�ҷ�QbtTEC$��m��mo�L�D��;�%g�?w��ŷ���ovH0��a�5��*�ؒ��l͛�S�iy�r�O7����%L]��%���hk ����>v1�HB������d\�(eoIx�>3�6BS%���(
��f$�h�����eԎ���H���`ݶf{�Fo�Y���@00uMb�z-��XI$&�gf���7Ӵ�u|'K.�oP
P���F�.��o��9B<~. ����[����<٭�$�����{1�A��.�bKx�L������'�u8n5���e ,]�H����V��Ww�$�C�el��|zys��K�i-�q�ݬbk,wnG��;�� ~�e�r͒���~'1`V⦫�-*[��L�K�'2@����仪��n���2�N� �ƶ�G���i/U��'E�@�`H��;J�������+J�n#���6ڴ�ĹG���N�G�'�Z!�����Wi��NJ�@���A��Z|�[��$q}i�ҷ�QbtTEC$��m��mo�L�D��;�%g�?w��ŷ���ovH0��a�5��*�ؒ��l͛�S�iy�r�O7����%L]��%���hk ����>v1�HB������d\�(eoIx�>3�6BS%���(
��f$�h�����eԎ���H���`ݶf{�Fo�Y���@00uMb�z-��XI$&�gf���7Ӵ�u|'K.�oP
P���F�.��o��9B<~. ����[����<٭�$�����{1�A��.�bKx�L������'�u8n5���e ,]�H����V��Ww�$�C�el��|zys��K�i-�q�ݬbk,wnG��;�� ~�e�r͒���~'1`V⦫�-*[��L�K�'2@����仪��n���2�N� �ƶ�G���i/U��'E�@�`H��;J�������+J�n#���6ڴ�ĹG���N�G�'�Z!�����Wi��NJ�@���A��Z|�[��$q}i�ҷ�QbtTEC$��m��mo�L�D��;�%g�?w��ŷ���ovH0��a�5��*�ؒ��l͛�S�iy�r�O7����%L]��%���hk ����>v1�HB������d\�(eoIx�>3�6BS%���(
��f$�h�����eԎ���H���`ݶf{�Fo�Y���@00uMb�z-��XI$&�gf���7Ӵ�u|'K.�oP
P���F�.��o��9B<~. ����[����<٭�$�����{1�A��.�bKx�L������'�u8n5���e ,]�H����V��Ww�$�C�el��|zys��K�i-�q�ݬbk,wnG��;�� ~�e�r͒���~'1`V⦫�-*[��L�K�'2@����仪��n���2�N� �ƶ�G���i/U��'E�@�`H��;J�������+J�n#���6ڴ�ĹG���N�G�'�Z!�����Wi��NJ�@���A��Z|�[��$q}i�ҷ�QbtTEC$��m��mo�L�D��;�%g�?w��ŷ���ovH0��a�5��*�ؒ��l͛�S�iy�r�O7����%L]��%���hk ����>v1�HB������d\�(eoIx�>3�6BS%���(
��f$�h�����eԎ���H���`ݶf{�Fo�Y���@00uMb�z-��XI$&�gf���7Ӵ�u|'K.�oP
P���F�.��o��9B<~. ����[����<٭�$�����{1�A��.�bKx�L������'�u8n5���e ,]�H����V��Ww�$�C�el��|zys��K�i-�q�ݬbk,wnG��;�� ~�e�r͒���~'1`V⦫�-*[��L�K�'2@����仪��n���2�N� �ƶ�G���i/U��'E�@�`H��;J�������+J�n#���6ڴ�ĹG���N�G�'�Z!�����Wi��NJ�@���A��Z|�[��$q}i�ҷ�QbtTEC$��m��mo�L�D��;�%g�?w��ŷ���ovH0��a�5��*�ؒ��l͛�S�iy�r�O7����%L]��%���hk ����>v1�HB������d\�(eoIx�>3�6BS%���(
��f$�h�����eԎ���H���`ݶf{�Fo�Y���@00uMb�z-��XI$&�gf���7Ӵ�u|'K.�oP
P���F�.��o��9B<~. ����[����<٭�$�����{1�A��.�bKx�L������'�u8n5���e ,]�H����V��Ww�$�C�el��|zys��K�i-�q�ݬbk,wnG��;�� ~�e�r͒���~'1`V⦫�-*[��L�K�'2@����仪��n���2�N� �ƶ�G���i/U��'E�@�`H��;J�������+J�n#���6ڴ�ĹG���N�G�'�Z!�����Wi��NJ�@���A��Z|�[��$q}i�ҷ�QbtTEC$��m��mo�L�D��;�%g�?w��ŷ���ovH0��a�5��*�ؒ��l͛�S�iy�r�O7����%L]��%���hk ����>v1�HB������d\�(eoIx�>3�6BS%���(
��f$�h�����eԎ���H���`ݶf{�Fo�Y���@00uMb�z-��XI$&�gf���7Ӵ�u|'K.�oP
P���F�.��o��9B<~. ����[����<٭�$�����{1�A��.�bKx�L������'�u8n5���e ,]�H����V��Ww�$�C�el��|zys��K�i-�q�ݬbk,wnG��;�� ~�e�r͒���~'1`V⦫�-*[��L�K�'2@����仪��n���2�N� �ƶ�G���i/U��'E�@�`H��;J�������+J�n#���6ڴ�ĹG���N�G�'�Z!�����Wi��NJ�@���A��Z|�[��$q}i�ҷ�QbtTEC$��m��mo�L�D��;�%g�?w��ŷ���ovH0��a�5��*�ؒ��l͛�S�iy�r�O7����%L]��%���hk ����>v1�HB������d\�(eoIx�>3�6BS%���(
��f$�h�����eԎ���H���`ݶf{�Fo�Y���@00uMb�z-��XI$&�gf���7Ӵ�u|'K.�oP
P���F�.��o��9B<~. ����[����<٭�$�����{1�A��.�bKx�L������'�u8n5���e ,]�H����V��Ww�$�C�el��|zys��K�i-�q�ݬbk,wnG��;�� ~�e�r͒���~'1`V⦫�-*[��L�K�'2@����仪��n���2�N� �ƶ�G���i/U��'E�@�`H��;J�������+J�n#���6ڴ�ĹG���N�G�'�Z!�����Wi��NJ�@���A��Z|�[��$q}i�ҷ�QbtTEC$��m��mo�L�D��;�%g�?w��ŷ���ovH0��a�5��*�ؒ��l͛�S�iy�r�O7����%L]��%���hk ����>v1�HB������d\�(eoIx�>3�6BS%���(
��f$�h�����eԎ���H���`ݶf{�Fo�Y���@00uMb�z-��XI$&�gf���7Ӵ�u|'K.�oP
P���F�.��o��9B<~. ����[����<٭�$�����{1�A��.�bKx�L������'�u8n5���e ,]�H����V��Ww�$�C�el��|zys��K�i-�q�ݬbk,wnG��;�� ~�e�r͒���~'1`V⦫�-*[��L�K�'2@����仪��n���2�N� �ƶ�G���i/U��'E�@�`H��;J�������+J�n#���6ڴ�ĹG���N�G�'�Z!�����Wi��NJ�@���A��Z|�[��$q}i�ҷ�QbtTEC$��m��mo�L�D��;�%g�?w��ŷ���ovH0��a�5��*�ؒ��l͛�S�iy�r�O7����%L]��%���hk ����>v1�HB������d\�(eoIx�>3�6BS%���(
��f$�h�����eԎ���H���`ݶf{�Fo�Y���@00uMb�z-��XI$&�gf���7Ӵ�u|'K.�oP
P���F�.��o��9B<~. ����[����<٭�$�����{1�A��.�bKx�L������'�u8n5���e ,]�H����V��Ww�$�C�el��|zys��K�i-�q�ݬbk,wnG��;�� ~�e�r͒���~'1`V⦫�-*[��L�K�'2@����仪��n���2�N� �ƶ�G���i/U��'E�@�`H��;J�������+J�n#���6ڴ�ĹG���N�G�'�Z!�����Wi��NJ�@���A��Z|�[��$q}i�ҷ�QbtTEC$��m��mo�L�D��;�%g�?w��ŷ���ovH0��a�5��*�ؒ��l͛�S�iy�r�O7����%L]��%���hk ����>v1�HB������d\�(eoIx�>3�6BS%���(
��f$�h�����eԎ���H���`ݶf{�Fo�Y���@00uMb�z-��XI$&�gf���7Ӵ�u|'K.�oP
P���F�.��o��9B<~. ����[����<٭�$�����{1�A��.�bKx�L������'�u8n5���e ,]�H����V��Ww�$�C�el��|zys��K�i-�q�ݬbk,wnG��;�� ~�e�r͒���~'1`V⦫�-*[��L�K�'2@����仪��n���2�N� �ƶ�G���i/U��'E�@�`H��;J�������+J�n#���6ڴ�ĹG���N�G�'�Z!�����Wi��NJ�@���A��Z|�[��$q}i�ҷ�QbtTEC$��m��mo�L�D��;�%g�?w��ŷ���ovH0��a�5��*�ؒ��l͛�S�iy�r�O7����%L]��%���hk ����>v1�HB������d\�(eoIx�>3�6BS%���(
��f$�h�����eԎ���H���`ݶf{�Fo�Y���@00uMb�z-��XI$&�gf���7Ӵ�u|'K.�oP
P���F�.��o��9B<~. ����[����<٭�$�����{1�A��.�bKx�L������'�u8n5���e ,]�H����V��Ww�$�C�el��|zys��K�i-�q�ݬbk,wnG��;�� ~�e�r͒���~'1`V⦫�-*[��L�K�'2@����仪��n���2�N� �ƶ�G���i/U��'E�@�`H��;J�������+J�n#���6ڴ�ĹG���N�G�'�Z!�����Wi��NJ�@���A��Z|�[��$q}i�ҷ�QbtTEC$��m��mo�L�D��;�%g�?w��ŷ���ovH0��a�5��*�ؒ��l͛�S�iy�r�O7����%L]��%���hk ����>v1�HB������d\�(eoIx�>3�6BS%���(
��f$�h�����eԎ���H���`ݶf{�Fo�Y���@00uMb�z-��XI$&�gf���7Ӵ�u|'K.�oP
P���F�.��o��9B<~. ����[����<٭�$�����{1�A��.�bKx�L������'�u8n5���e ,]�H����V��Ww�$�C�el��|zys��K�i-�q�ݬbk,wnG��;�� ~�e�r͒���~'1`V⦫�-*[��L�K�'2@����仪��n���2�N� �ƶ�G���i/U��'E�@�`H��;J�������+J�n#���6ڴ�ĹG���N�G�'�Z!�����Wi��NJ�@���A��Z|�[��$q}i�ҷ�QbtTEC$��m��mo�L�D��;�%g�?w��ŷ���ovH0��a�5��*�ؒ��l͛�S�iy�r�O7����%L]��%���hk ����>v1�HB������d\�(eoIx�>3�6BS%���(
��f$�h�����eԎ���H���`ݶf{�Fo�Y���@00uMb�z-��XI$&�gf���7Ӵ�u|'K.�oP
P���F�.��o��9B<~. ����[����<٭�$�����{1�A��.�bKx�L������'�u8n5���e ,]�H����V��Ww�$�C�el��|zys��K�i-�q�ݬbk,wnG��;�� ~�e�r͒���~'1`V⦫�-*[��L�K�'2@����仪��n���2�N� �ƶ�G���i/U��'E�@�`H��;J�������+J�n#���6ڴ�ĹG���N�G�'�Z!�����Wi��NJ�@���A��Z|�[��$q}i�ҷ�QbtTEC$��m��mo�L�D��;�%g�?w��ŷ���ovH0��a�5��*�ؒ��l͛�S�iy�r�O7����%L]��%���hk ����>v1�HB������d\�(eoIx�>3�6BS%���(
��f$�h�����eԎ���H���`ݶf{�Fo�Y���@00uMb�z-��XI$&�gf���7Ӵ�u|'K.�oP
P���F�.��o��9B<~. ����[����<٭�$�����{1�A��.�bKx�L������'�u8n5���e ,]�H����V��Ww�$�C�el��|zys��K�i-�q�ݬbk,wnG��;�� ~�e�r͒���~'1`V⦫�-*[��L�K�'2@����仪��n���2�N� �ƶ�G���i/U��'E�@�`H��;J�������+J�n#���6ڴ�ĹG���N�G�'�Z!�����Wi��NJ�@���A��Z|�[��$q}i�ҷ�QbtTEC$��m��mo�L�D��;�%g�?w��ŷ���ovH0��a�5��*�ؒ��l͛�S�iy�r�O7����%L]��%���hk ����>v1�HB������d\�(eoIx�>3�6BS%���(
��f$�h�����eԎ���H���`ݶf{�Fo�Y���@00uMb�z-��XI$&�gf���7Ӵ�u|'K.�oP
P���F�.��o��9B<~. ����[����<٭�$�����{1�A��.�bKx�L������'�u8n5���e ,]�H����V��Ww�$�C�el��|zys��K�i-�q�ݬbk,wnG��;�� ~�e�r͒���~'1`V⦫�-*[��L�K�'2@����仪��n���2�N� �ƶ�G���i/U��'E�@�`H��;J�������+J�n#���6ڴ�ĹG���N�G�'�Z!�����Wi��NJ�@���A��Z|�[��$q}i�ҷ�QbtTEC$��m��mo�L�D��;�%g�?w��ŷ���ovH0��a�5��*�ؒ��l͛�S�iy�r�O7����%L]��%���hk ����>v1�HB������d\�(eoIx�>3�6BS%���(
��f$�h�����eԎ���H���`ݶf{�Fo�Y���@00uMb�z-��XI$&�gf���7Ӵ�u|'K.�oP
P���F�.��o��9B<~. ����[����<٭�$�����{1�A��.�bKx�L������'�u8n5���e ,]�H����V��Ww�$�C�el��|zys��K�i-�q�ݬbk,wnG��;�� ~�e�r͒���~'1`V⦫�-*[��L�K�'2@����仪��n���2�N� �ƶ�G���i/U��'E�@�`H��;J�������+J�n#���6ڴ�ĹG���N�G�'�Z!�����Wi��NJ�@���A��Z|�[��$q}i�ҷ�QbtTEC$��m��mo�L�D��;�%g�?w��ŷ���ovH0��a�5��*�ؒ��l͛�S�iy�r�O7����%L]��%���hk ����>v1�HB������d\�(eoIx�>3�6BS%���(
��f$�h�����eԎ���H���`ݶf{�Fo�Y���@00uMb�z-��XI$&�gf���7Ӵ�u|'K.�oP
P���F�.��o��9B<~. ����[����<٭�$�����{1�A��.�bKx�L������'�u8n5���e ,]�H����V��Ww�$�C�el��|zys��K�i-�q�ݬbk,wnG��;�� ~�e�r͒���~'1`V⦫�-*[��L�K�'2@����仪��n���2�N� �ƶ�G���i/U��'E�@�`H��;J�������+J�n#���6ڴ�ĹG���N�G�'�Z!�����Wi��NJ�@���A��Z|�[��$q}i�ҷ�QbtTEC$��m��mo�L�D��;�%g�?w��ŷ���ovH0��a�5��*�ؒ��l͛�S�iy�r�O7����%L]��%���hk ����>v1�HB������d\�(eoIx�>3�6BS%���(
��f$�h�����eԎ���H���`ݶf{�Fo�Y���@00uMb�z-��XI$&�gf���7Ӵ�u|'K.�oP
P���F�.��o��9B<~. ����[����<٭�$�����{1�A��.�bKx�L������'�u8n5���e ,]�H����V��Ww�$�C�el��|zys��K�i-�q�ݬbk,wnG��;�� ~�e�r͒���~'1`V⦫�-*[��L�K�'2@����仪��n���2�N� �ƶ�G���i/U��'E�@�`H��;J�������+J�n#���6ڴ�ĹG���N�G�'�Z!�����Wi��NJ�@���A��Z|�[��$q}i�ҷ�QbtTEC$��m��mo�L�D��;�%g�?w��ŷ���ovH0��a�5��*�ؒ��l͛�S�iy�r�O7����%L]��%���hk ����>v1�HB������d\�(eoIx�>3�6BS%���(
��f$�h�����eԎ���H���`ݶf{�Fo�Y���@00uMb�z-��XI$&�gf���7Ӵ�u|'K.�oP
P���F�.��o��9B<~. ����[����<٭�$�����{1�A��.�bKx�L������'�u8n5���e ,]�H����V��Ww�$�C�el��|zys��K�i-�q�ݬbk,wnG��;�� ~�e�r͒���~'1`V⦫�-*[��L�K�'2@����仪��n���2�N� �ƶ�G���i/U��'E�@�`H��;J�������+J�n#���6ڴ�ĹG���N�G�'�Z!�����Wi��NJ�@���A��Z|�[��$q}i�ҷ�QbtTEC$��m��mo�L�D��;�%g�?w��ŷ���ovH0��a�5��*�ؒ��l͛�S�iy�r�O7����%L]��%���hk ����>v1�HB������d\�(eoIx�>3�6BS%���(
��f$�h�����eԎ���H���`ݶf{�Fo�Y���@00uMb�z-��XI$&�gf���7Ӵ�u|'K.�oP
P���F�.��o��9B<~. ����[����<٭�$�����{1�A��.�bKx�L������'�u8n5���e ,]�H����V��Ww�$�C�el��|zys��K�i-�q�ݬbk,wnG��;�� ~�e�r͒���~'1`V⦫�-*[��L�K�'2@����仪��n���2�N� �ƶ�G���i/U��'E�@�`H��;J�������+J�n#���6ڴ�ĹG���N�G�'�Z!�����Wi��NJ�@���A��Z|�[��$q}i�ҷ�QbtTEC$��m��mo�L�D��;�%g�?w��ŷ���ovH0��a�5��*�ؒ��l͛�S�iy�r�O7����%L]��%���hk ����>v1�HB������d\�(eoIx�>3�6BS%���(
��f$�h�����eԎ���H���`ݶf{�Fo�Y���@00uMb�z-��XI$&�gf���7Ӵ�u|'K.�oP
P���F�.��o��9B<~. ����[����<٭�$�����{1�A��.�bKx�L������'�u8n5���e ,]�H����V��Ww�$�C�el��|zys��K�i-�q�ݬbk,wnG��;�� ~�e�r͒���~'1`V⦫�-*[��L�K�'2@����仪��n���2�N� �ƶ�G���i/U��'E�@�`H��;J�������+J�n#���6ڴ�ĹG���N�G�'�Z!�����Wi��NJ�@���A��Z|�[��$q}i�ҷ�QbtTEC$��m��mo�L�D��;�%g�?w��ŷ���ovH0��a�5��*�ؒ��l͛�S�iy�r�O7����%L]��%���hk ����>v1�HB������d\�(eoIx�>3�6BS%���(
��f$�h�����eԎ���H���`ݶf{�Fo�Y���@00uMb�z-��XI$&�gf���7Ӵ�u|'K.�oP
P���F�.��o��9B<~. ����[����<٭�$�����{1�A��.�bKx�L������'�u8n5���e ,]�H����V��Ww�$�C�el��|zys��K�i-�q�ݬbk,wnG��;�� ~�e�r͒���~'1`V⦫�-*[��L�K�'2@����仪��n���2�N� �ƶ�G���i/U��'E�@�`H��;J�������+J�n#���6ڴ�ĹG���N�G�'�Z!�����Wi��NJ�@���A��Z|�[��$q}i�ҷ�QbtTEC$��m��mo�L�D��;�%g�?w��ŷ���ovH0��a�5��*�ؒ��l͛�S�iy�r�O7����%L]��%���hk ����>v1�HB������d\�(eoIx�>3�6BS%���(
��f$�h�����eԎ���H���`ݶf{�Fo�Y���@00uMb�z-��XI$&�gf���7Ӵ�u|'K.�oP
P���F�.��o��9B<~. ����[����<٭�$�����{1�A��.�bKx�L������'�u8n5���e ,]�H����V��Ww�$�C�el��|zys��K�i-�q�ݬbk,wnG��;�� ~�e�r͒���~'1`V⦫�-*[��L�K�'2@����仪��n���2�N� �ƶ�G���i/U��'E�@�`H��;J�������+J�n#���6ڴ�ĹG���N�G�'�Z!�����Wi��NJ�@���A��Z|�[��$q}i�ҷ�QbtTEC$��m��mo�L�D��;�%g�?w��ŷ���ovH0��a�5��*�ؒ��l͛�S�iy�r�O7����%L]��%���hk ����>v1�HB������d\�(eoIx�>3�6BS%���(
��f$�h�����eԎ���H���`ݶf{�Fo�Y���@00uMb�z-��XI$&�gf���7Ӵ�u|'K.�oP
P���F�.��o��9B<~. ����[����<٭�$�����{1�A��.�bKx�L������'�u8n5���e ,]�H����V��Ww�$�C�el��|zys��K�i-�q�ݬbk,wnG��;�� ~�e�r͒���~'1`V⦫�-*[��L�K�'2@����仪��n���2�N� �ƶ�G���i/U��'E�@�`H��;J�������+J�n#���6ڴ�ĹG���N�G�'�Z!�����Wi��NJ�@���A��Z|�[��$q}i�ҷ�QbtTEC$��m��mo�L�D��;�%g�?w��ŷ���ovH0��a�5��*�ؒ��l͛�S�iy�r�O7����%L]��%���hk ����>v1�HB������d\�(eoIx�>3�6BS%���(
��f$�h�����eԎ���H���`ݶf{�Fo�Y���@00uMb�z-��XI$&�gf���7Ӵ�u|'K.�oP
P���F�.��o��9B<~. ����[����<٭�$�����{1�A��.�bKx�L������'�u8n5���e ,]�H����V��Ww�$�C�el��|zys��K�i-�q�ݬbk,wnG��;�� ~�e�r͒���~'1`V⦫�-*[��L�K�'2@����仪��n���2�N� �ƶ�G���i/U��'E�@�`H��;J�������+J�n#���6ڴ�ĹG���N�G�'�Z!�����Wi��NJ�@���A��Z|�[��$q}i�ҷ�QbtTEC$��m��mo�L�D��;�%g�?w��ŷ���ovH0��a�5��*�ؒ��l͛�S�iy�r�O7����%L]��%���hk ����>v1�HB������d\�(eoIx�>3�6BS%���(
��f$�h�����eԎ���H���`ݶf{�Fo�Y���@00uMb�z-��XI$&�gf���7Ӵ�u|'K.�oP
P���F�.��o��9B<~. ����[����<٭�$�����{1�A��.�bKx�L������'�u8n5���e ,]�H����V��Ww�$�C�el��|zys��K�i-�q�ݬbk,wnG��;�� ~�e�r͒���~'1`V⦫�-*[��L�K�'2@����仪��n���2�N� �ƶ�G���i/U��'E�@�`H��;J�������+J�n#���6ڴ�ĹG���N�G�'�Z!�����Wi��NJ�@���A��Z|�[��$q}i�ҷ�QbtTEC$��m��mo�L�D��;�%g�?w��ŷ���ovH0��a�5��*�ؒ��l͛�S�iy�r�O7����%L]��%���hk ����>v1�HB������d\�(eoIx�>3�6BS%���(
��f$�h�����eԎ���H���`ݶf{�Fo�Y���@00uMb�z-��XI$&�gf���7Ӵ�u|'K.�oP
P���F�.��o��9B<~. ����[����<٭�$�����{1�A��.�bKx�L������'�u8n5���e ,]�H����V��Ww�$�C�el��|zys��K�i-�q�ݬbk,wnG��;�� ~�e�r͒���~'1`V⦫�-*[��L�K�'2@����仪��n���2�N� �ƶ�G���i/U��'E�@�`H��;J�������+J�n#���6ڴ�ĹG���N�G�'�Z!�����Wi��NJ�@���A��Z|�[��$q}i�ҷ�QbtTEC$��m��mo�L�D��;�%g�?w��ŷ���ovH0��a�5��*�ؒ��l͛�S�iy�r�O7����%L]��%���hk ����>v1�HB������d\�(eoIx�>3�6BS%���(
��f$�h�����eԎ���H���`ݶf{�Fo�Y���@00uMb�z-��XI$&�gf���7Ӵ�u|'K.�oP
P���F�.��o��9B<~. ����[����<٭�$�����{1�A��.�bKx�L������'�u8n5���e ,]�H����V��Ww�$�C�el��|zys��K�i-�q�ݬbk,wnG��;�� ~�e�r͒���~'1`V⦫�-*[��L�K�'2@����仪��n���2�N� �ƶ�G���i/U��'E�@�`H��;J�������+J�n#���6ڴ�ĹG���N�G�'�Z!�����Wi��NJ�@���A��Z|�[��$q}i�ҷ�QbtTEC$��m��mo�L�D��;�%g�?w��ŷ���ovH0��a�5��*�ؒ��l͛�S�iy�r�O7����%L]��%���hk ����>v1�HB������d\�(eoIx�>3�6BS%���(
��f$�h�����eԎ���H���`ݶf{�Fo�Y���@00uMb�z-��XI$&�gf���7Ӵ�u|'K.�oP
P���F�.��o��9B<~. ����[����<٭�$�����{1�A��.�bKx�L������'�u8n5���e ,]�H����V��Ww�$�C�el��|zys��K�i-�q�ݬbk,wnG��;�� ~�e�r͒���~'1`V⦫�-*[��L�K�'2@����仪��n���2�N� �ƶ�G���i/U��'E�@�`H��;J�������+J�n#���6ڴ�ĹG���N�G�'�Z!�����Wi��NJ�@���A��Z|�[��$q}i�ҷ�QbtTEC$��m��mo�L�D��;�%g�?w��ŷ���ovH0��a�5��*�ؒ��l͛�S�iy�r�O7����%L]��%���hk ����>v1�HB������d\�(eoIx�>3�6BS%���(
��f$�h�����eԎ���H���`ݶf{�Fo�Y���@00uMb�z-��XI$&�gf���7Ӵ�u|'K.�oP
P���F�.��o��9B<~. ����[����<٭�$�����{1�A��.�bKx�L������'�u8n5���e ,]�H����V��Ww�$�C�el��|zys��K�i-�q�ݬbk,wnG��;�� ~�e�r͒���~'1`V⦫�-*[��L�K�'2@����仪��n���2�N� �ƶ�G���i/U��'E�@�`H��;J�������+J�n#���6ڴ�ĹG���N�G�'�Z!�����Wi��NJ�@���A��Z|�[��$q}i�ҷ�QbtTEC$��m��mo�L�D��;�%g�?w��ŷ���ovH0��a�5��*�ؒ��l͛�S�iy�r�O7����%L]��%���hk ����>v1�HB������d\�(eoIx�>3�6BS%���(
��f$�h�����eԎ���H���`ݶf{�Fo�Y���@00uMb�z-��XI$&�gf���7Ӵ�u|'K.�oP
P���F�.��o��9B<~. ����[����<٭�$�����{1�A��.�bKx�L������'�u8n5���e ,]�H����V��Ww�$�C�el��|zys��K�i-�q�ݬbk,wnG��;�� ~�e�r͒���~'1`V⦫�-*[��L�K�'2@����仪��n���2�N� �ƶ�G���i/U��'E�@�`H��;J�������+J�n#���6ڴ�ĹG���N�G�'�Z!�����Wi��NJ�@���A��Z|�[��$q}i�ҷ�QbtTEC$��m��mo�L�D��;�%g�?w��ŷ���ovH0��a�5��*�ؒ��l͛�S�iy�r�O7����%L]��%���hk ����>v1�HB������d\�(eoIx�>3�6BS%���(
��f$�h�����eԎ���H���`ݶf{�Fo�Y���@00uMb�z-��XI$&�gf���7Ӵ�u|'K.�oP
P���F�.��o��9B<~. ����[����<٭�$�����{1�A��.�bKx�L������'�u8n5���e ,]�H����V��Ww�$�C�el��|zys��K�i-�q�ݬbk,wnG��;�� ~�e�r͒���~'1`V⦫�-*[��L�K�'2@����仪��n���2�N� �ƶ�G���i/U��'E�@�`H��;J�������+J�n#���6ڴ�ĹG���N�G�'�Z!�����Wi��NJ�@���A��Z|�[��$q}i�ҷ�QbtTEC$��m��mo�L�D��;�%g�?w��ŷ���ovH0��a�5��*�ؒ��l͛�S�iy�r�O7����%L]��%���hk ����>v1�HB������d\�(eoIx�>3�6BS%���(
��f$�h�����eԎ���H���`ݶf{�Fo�Y���@00uMb�z-��XI$&�gf���7Ӵ�u|'K.�oP
P���F�.��o��9B<~. ����[����<٭�$�����{1�A��.�bKx�L������'�u8n5���e ,]�H����V��Ww�$�C�el��|zys��K�i-�q�ݬbk,wnG��;�� ~�e�r͒���~'1`V⦫�-*[��L�K�'2@����仪��n���2�N� �ƶ�G���i/U��'E�@�`H��;J�������+J�n#���6ڴ�ĹG���N�G�'�Z!�����Wi��NJ�@���A��Z|�[��$q}i�ҷ�QbtTEC$��m��mo�L�D��;�%g�?w��ŷ���ovH0��a�5��*�ؒ��l͛�S�iy�r�O7����%L]��%���hk ����>v1�HB������d\�(eoIx�>3�6BS%���(
��f$�h�����eԎ���H���`ݶf{�Fo�Y���@00uMb�z-��XI$&�gf���7Ӵ�u|'K.�oP
P���F�.��o��9B<~. ����[����<٭�$�����{1�A��.�bKx�L������'�u8n5���e ,]�H����V��Ww�$�C�el��|zys��K�i-�q�ݬbk,wnG��;�� ~�e�r͒���~'1`V⦫�-*[��L�K�'2@����仪��n���2�N� �ƶ�G���i/U��'E�@�`H��;J�������+J�n#���6ڴ�ĹG���N�G�'�Z!�����Wi��NJ�@���A��Z|�[��$q}i�ҷ�QbtTEC$��m��mo�L�D��;�%g�?w��ŷ���ovH0��a�5��*�ؒ��l͛�S�iy�r�O7����%L]��%���hk ����>v1�HB������d\�(eoIx�>3�6BS%���(
��f$�h�����eԎ���H���`ݶf{�Fo�Y���@00uMb�z-��XI$&�gf���7Ӵ�u|'K.�oP
P���F�.��o��9B<~. ����[����<٭�$�����{1�A��.�bKx�L������'�u8n5���e ,]�H����V��Ww�$�C�el��|zys��K�i-�q�ݬbk,wnG��;�� ~�e�r͒���~'1`V⦫�-*[��L�K�'2@����仪��n���2�N� �ƶ�G���i/U��'E�@�`H��;J�������+J�n#���6ڴ�ĹG���N�G�'�Z!�����Wi��NJ�@���A��Z|�[��$q}i�ҷ�QbtTEC$��m��mo�L�D��;�%g�?w��ŷ���ovH0��a�5��*�ؒ��l͛�S�iy�r�O7����%L]��%���hk ����>v1�HB������d\�(eoIx�>3�6BS%���(
��f$�h�����eԎ���H���`ݶf{�Fo�Y���@00uMb�z-��XI$&�gf���7Ӵ�u|'K.�oP
P���F�.��o��9B<~. ����[����<٭�$�����{1�A��.�bKx�L������'�u8n5���e ,]�H����V��Ww�$�C�el��|zys��K�i-�q�ݬbk,wnG��;�� ~�e�r͒���~'1`V⦫�-*[��L�K�'2@����仪��n���2�N� �ƶ�G���i/U��'E�@�`H��;J�������+J�n#���6ڴ�ĹG���N�G�'�Z!�����Wi��NJ�@���A��Z|�[��$q}i�ҷ�QbtTEC$��m��mo�L�D��;�%g�?w��ŷ���ovH0��a�5��*�ؒ��l͛�S�iy�r�O7����%L]��%���hk ����>v1�HB������d\�(eoIx�>3�6BS%���(
��f$�h�����eԎ���H���`ݶf{�Fo�Y���@00uMb�z-��XI$&�gf���7Ӵ�u|'K.�oP
P���F�.��o��9B<~. ����[����<٭�$�����{1�A��.�bKx�L������'�u8n5���e ,]�H����V��Ww�$�C�el��|zys��K�i-�q�ݬbk,wnG��;�� ~�e�r͒���~'1`V⦫�-*[��L�K�'2@����仪��n���2�N� �ƶ�G���i/U��'E�@�`H��;J�������+J�n#���6ڴ�ĹG���N�G�'�Z!�����Wi��NJ�@���A��Z|�[��$q}i�ҷ�QbtTEC$��m��mo�L�D��;�%g�?w��ŷ���ovH0��a�5��*�ؒ��l͛�S�iy�r�O7����%L]��%���hk ����>v1�HB������d\�(eoIx�>3�6BS%���(
��f$�h�����eԎ���H���`ݶf{�Fo�Y���@00uMb�z-��XI$&�gf���7Ӵ�u|'K.�oP
P���F�.��o��9B<~. ����[����<٭�$�����{1�A��.�bKx�L������'�u8n5���e ,]�H����V��Ww�$�C�el��|zys��K�i-�q�ݬbk,wnG��;�� ~�e�r͒���~'1`V⦫�-*[��L�K�'2@����仪��n���2�N� �ƶ�G���i/U��'E�@�`H��;J�������+J�n#���6ڴ�ĹG���N�G�'�Z!�����Wi��NJ�@���A��Z|�[��$q}i�ҷ�QbtTEC$��m��mo�L�D��;�%g�?w��ŷ���ovH0��a�5��*�ؒ��l͛�S�iy�r�O7����%L]��%���hk ����>v1�HB������d\�(eoIx�>3�6BS%���(
��f$�h�����eԎ���H���`ݶf{�Fo�Y���@00uMb�z-��XI$&�gf���7Ӵ�u|'K.�oP
P���F�.��o��9B<~. ����[����<٭�$�����{1�A��.�bKx�L������'�u8n5���e ,]�H����V��Ww�$�C�el��|zys��K�i-�q�ݬbk,wnG��;�� ~�e�r͒���~'1`V⦫�-*[��L�K�'2@����仪��n���2�N� �ƶ�G���i/U��'E�@�`H��;J�������+J�n#���6ڴ�ĹG���N�G�'�Z!�����Wi��NJ�@���A��Z|�[��$q}i�ҷ�QbtTEC$��m��mo�L�D��;�%g�?w��ŷ���ovH0��a�5��*�ؒ��l͛�S�iy�r�O7����%L]��%���hk ����>v1�HB������d\�(eoIx�>3�6BS%���(
��f$�h�����eԎ���H���`ݶf{�Fo�Y���@00uMb�z-��XI$&�gf���7Ӵ�u|'K.�oP
P���F�.��o��9B<~. ����[����<٭�$�����{1�A��.�bKx�L������'�u8n5���e ,]�H����V��Ww�$�C�el��|zys��K�i-�q�ݬbk,wnG��;�� ~�e�r͒���~'1`V⦫�-*[��L�K�'2@����仪��n���2�N� �ƶ�G���i/U��'E�@�`H��;J�������+J�n#���6ڴ�ĹG���N�G�'�Z!�����Wi��NJ�@���A��Z|�[��$q}i�ҷ�QbtTEC$��m��mo�L�D��;�%g�?w��ŷ���ovH0��a�5��*�ؒ��l͛�S�iy�r�O7����%L]��%���hk ����>v1�HB������d\�(eoIx�>3�6BS%���(
��f$�h�����eԎ���H���`ݶf{�Fo�Y���@00uMb�z-��XI$&�gf���7Ӵ�u|'K.�oP
P���F�.��o��9B<~. ����[����<٭�$�����{1�A��.�bKx�L������'�u8n5���e ,]�H����V��Ww�$�C�el��|zys��K�i-�q�ݬbk,wnG��;�� ~�e�r͒���~'1`V⦫�-*[��L�K�'2@����仪��n���2�N� �ƶ�G���i/U��'E�@�`H��;J�������+J�n#���6ڴ�ĹG���N�G�'�Z!�����Wi��NJ�@���A��Z|�[��$q}i�ҷ�QbtTEC$��m��mo�L�D��;�%g�?w��ŷ���ovH0��a�5��*�ؒ��l͛�S�iy�r�O7����%L]��%���hk ����>v1�HB������d\�(eoIx�>3�6BS%���(
��f$�h�����eԎ���H���`ݶf{�Fo�Y���@00uMb�z-��XI$&�gf���7Ӵ�u|'K.�oP
P���F�.��o��9B<~. ����[����<٭�$�����{1�A��.�bKx�L������'�u8n5���e ,]�H����V��Ww�$�C�el��|zys��K�i-�q�ݬbk,wnG��;�� ~�e�r͒���~'1`V⦫�-*[��L�K�'2@����仪��n���2�N� �ƶ�G���i/U��'E�@�`H��;J�������+J�n#���6ڴ�ĹG���N�G�'�Z!�����Wi��NJ�@���A��Z|�[��$q}i�ҷ�QbtTEC$��m��mo�L�D��;�%g�?w��ŷ���ovH0��a�5��*�ؒ��l͛�S�iy�r�O7����%L]��%���hk ����>v1�HB������d\�(eoIx�>3�6BS%���(
��f$�h�����eԎ���H���`ݶf{�Fo�Y���@00uMb�z-��XI$&�gf���7Ӵ�u|'K.�oP
P���F�.��o��9B<~. ����[����<٭�$�����{1�A��.�bKx�L������'�u8n5���e ,]�H����V��Ww�$�C�el��|zys��K�i-�q�ݬbk,wnG��;�� ~�e�r͒���~'1`V⦫�-*[��L�K�'2@����仪��n���2�N� �ƶ�G���i/U��'E�@�`H��;J�������+J�n#���6ڴ�ĹG���N�G�'�Z!�����Wi��NJ�@���A��Z|�[��$q}i�ҷ�QbtTEC$��m��mo�L�D��;�%g�?w��ŷ���ovH0��a�5��*�ؒ��l͛�S�iy�r�O7����%L]��%���hk ����>v1�HB������d\�(eoIx�>3�6BS%���(
��f$�h�����eԎ���H���`ݶf{�Fo�Y���@00uMb�z-��XI$&�gf���7Ӵ�u|'K.�oP
P���F�.��o��9B<~. ����[����<٭�$�����{1�A��.�bKx�L������'�u8n5���e ,]�H����V��Ww�$�C�el��|zys��K�i-�q�ݬbk,wnG��;�� ~�e�r͒���~'1`V⦫�-*[��L�K�'2@����仪��n���2�N� �ƶ�G���i/U��'E�@�`H��;J�������+J�n#���6ڴ�ĹG���N�G�'�Z!�����Wi��NJ�@���A��Z|�[��$q}i�ҷ�QbtTEC$��m��mo�L�D��;�%g�?w��ŷ���ovH0��a�5��*�ؒ��l͛�S�iy�r�O7����%L]��%���hk ����>v1�HB������d\�(eoIx�>3�6BS%���(
��f$�h�����eԎ���H���`ݶf{�Fo�Y���@00uMb�z-��XI$&�gf���7Ӵ�u|'K.�oP
P���F�.��o��9B<~. ����[����<٭�$�����{1�A��.�bKx�L������'�u8n5���e ,]�H����V��Ww�$�C�el��|zys��K�i-�q�ݬbk,wnG��;�� ~�e�r͒���~'1`V⦫�-*[��L�K�'2@����仪��n���2�N� �ƶ�G���i/U��'E�@�`H��;J�������+J�n#���6ڴ�ĹG���N�G�'�Z!�����Wi��NJ�@���A��Z|�[��$q}i�ҷ�QbtTEC$��m��mo�L�D��;�%g�?w��ŷ���ovH0��a�5��*�ؒ��l͛�S�iy�r�O7����%L]��%���hk ����>v1�HB������d\�(eoIx�>3�6BS%���(
��f$�h�����eԎ���H���`ݶf{�Fo�Y���@00uMb�z-��XI$&�gf���7Ӵ�u|'K.�oP
P���F�.��o��9B<~. ����[����<٭�$�����{1�A��.�bKx�L������'�u8n5���e ,]�H����V��Ww�$�C�el��|zys��K�i-�q�ݬbk,wnG��;�� ~�e�r͒���~'1`V⦫�-*[��L�K�'2@����仪��n���2�N� �ƶ�G���i/U��'E�@�`H��;J�������+J�n#���6ڴ�ĹG���N�G�'�Z!�����Wi��NJ�@���A��Z|�[��$q}i�ҷ�QbtTEC$��m��mo�L�D��;�%g�?w��ŷ���ovH0��a�5��*�ؒ��l͛�S�iy�r�O7����%L]��%���hk ����>v1�HB������d\�(eoIx�>3�6BS%���(
��f$�h�����eԎ���H���`ݶf{�Fo�Y���@00uMb�z-��XI$&�gf���7Ӵ�u|'K.�oP
P���F�.��o��9B<~. ����[����<٭�$�����{1�A��.�bKx�L������'�u8n5���e ,]�H����V��Ww�$�C�el��|zys��K�i-�q�ݬbk,wnG��;�� ~�e�r͒���~'1`V⦫�-*[��L�K�'2@����仪��n���2�N� �ƶ�G���i/U��'E�@�`H��;J�������+J�n#���6ڴ�ĹG���N�G�'�Z!�����Wi��NJ�@���A��Z|�[��$q}i�ҷ�QbtTEC$��m��mo�L�D��;�%g�?w��ŷ���ovH0��a�5��*�ؒ��l͛�S�iy�r�O7����%L]��%���hk ����>v1�HB������d\�(eoIx�>3�6BS%���(
��f$�h�����eԎ���H���`ݶf{�Fo�Y���@00uMb�z-��XI$&�gf���7Ӵ�u|'K.�oP
P���F�.��o��9B<~. ����[����<٭�$�����{1�A��.�bKx�L������'�u8n5���e ,]�H����V��Ww�$�C�el��|zys��K�i-�q�ݬbk,wnG��;�� ~�e�r͒���~'1`V⦫�-*[��L�K�'2@����仪��n���2�N� �ƶ�G���i/U��'E�@�`H��;J�������+J�n#���6ڴ�ĹG���N�G�'�Z!�����Wi��NJ�@���A��Z|�[��$q}i�ҷ�QbtTEC$��m��mo�L�D��;�%g�?w��ŷ���ovH0��a�5��*�ؒ��l͛�S�iy�r�O7����%L]��%���hk ����>v1�HB������d\�(eoIx�>3�6BS%���(
��f$�h�����eԎ���H���`ݶf{�Fo�Y���@00uMb�z-��XI$&�gf���7Ӵ�u|'K.�oP
P���F�.��o��9B<~. ����[����<٭�$�����{1�A��.�bKx�L������'�u8n5���e ,]�H����V��Ww�$�C�el��|zys��K�i-�q�ݬbk,wnG��;�� ~�e�r͒���~'1`V⦫�-*[��L�K�'2@����仪��n���2�N� �ƶ�G���i/U��'E�@�`H��;J�������+J�n#���6ڴ�ĹG���N�G�'�Z!�����Wi��NJ�@���A��Z|�[��$q}i�ҷ�QbtTEC$��m��mo�L�D��;�%g�?w��ŷ���ovH0��a�5��*�ؒ��l͛�S�iy�r�O7����%L]��%���hk ����>v1�HB������d\�(eoIx�>3�6BS%���(
��f$�h�����eԎ���H���`ݶf{�Fo�Y���@00uMb�z-��XI$&�gf���7Ӵ�u|'K.�oP
P���F�.��o��9B<~. ����[����<٭�$�����{1�A��.�bKx�L������'�u8n5���e ,]�H����V��Ww�$�C�el��|zys��K�i-�q�ݬbk,wnG��;�� ~�e�r͒���~'1`V⦫�-*[��L�K�'2@����仪��n���2�N� �ƶ�G���i/U��'E�@�`H��;J�������+J�n#���6ڴ�ĹG���N�G�'�Z!�����Wi��NJ�@���A��Z|�[��$q}i�ҷ�QbtTEC$��m��mo�L�D��;�%g�?w��ŷ���ovH0��a�5��*�ؒ��l͛�S�iy�r�O7����%L]��%���hk ����>v1�HB������d\�(eoIx�>3�6BS%���(
��f$�h�����eԎ���H���`ݶf{�Fo�Y���@00uMb�z-��XI$&�gf���7Ӵ�u|'K.�oP
P���F�.��o��9B<~. ����[����<٭�$�����{1�A��.�bKx�L������'�u8n5���e ,]�H����V��Ww�$�C�el��|zys��K�i-�q�ݬbk,wnG��;�� ~�e�r͒���~'1`V⦫�-*[��L�K�'2@����仪��n���2�N� �ƶ�G���i/U��'E�@�`H��;J�������+J�n#���6ڴ�ĹG���N�G�'�Z!�����Wi��NJ�@���A��Z|�[��$q}i�ҷ�QbtTEC$��m��mo�L�D��;�%g�?w��ŷ���ovH0��a�5��*�ؒ��l͛�S�iy�r�O7����%L]��%���hk ����>v1�HB������d\�(eoIx�>3�6BS%���(
��f$�h�����eԎ���H���`ݶf{�Fo�Y���@00uMb�z-��XI$&�gf���7Ӵ�u|'K.�oP
P���F�.��o��9B<~. ����[����<٭�$�����{1�A��.�bKx�L������'�u8n5���e ,]�H����V��Ww�$�C�el��|zys��K�i-�q�ݬbk,wnG��;�� ~�e�r͒���~'1`V⦫�-*[��L�K�'2@����仪��n���2�N� �ƶ�G���i/U��'E�@�`H��;J�������+J�n#���6ڴ�ĹG���N�G�'�Z!�����Wi��NJ�@���A��Z|�[��$q}i�ҷ�QbtTEC$��m��mo�L�D��;�%g�?w��ŷ���ovH0��a�5��*�ؒ��l͛�S�iy�r�O7����%L]��%���hk ����>v1�HB������d\�(eoIx�>3�6BS%���(
��f$�h�����eԎ���H���`ݶf{�Fo�Y���@00uMb�z-��XI$&�gf���7Ӵ�u|'K.�oP
P���F�.��o��9B<~. ����[����<٭�$�����{1�A��.�bKx�L������'�u8n5���e ,]�H����V��Ww�$�C�el��|zys��K�i-�q�ݬbk,wnG��;�� ~�e�r͒���~'1`V⦫�-*[��L�K�'2@����仪��n���2�N� �ƶ�G���i/U��'E�@�`H��;J�������+J�n#���6ڴ�ĹG���N�G�'�Z!�����Wi��NJ�@���A��Z|�[��$q}i�ҷ�QbtTEC$��m��mo�L�D��;�%g�?w��ŷ���ovH0��a�5��*�ؒ��l͛�S�iy�r�O7����%L]��%���hk ����>v1�HB������d\�(eoIx�>3�6BS%���(
��f$�h�����eԎ���H���`ݶf{�Fo�Y���@00uMb�z-��XI$&�gf���7Ӵ�u|'K.�oP
P���F�.��o��9B<~. ����[����<٭�$�����{1�A��.�bKx�L������'�u8n5���e ,]�H����V��Ww�$�C�el��|zys��K�i-�q�ݬbk,wnG��;�� ~�e�r͒���~'1`V⦫�-*[��L�K�'2@����仪��n���2�N� �ƶ�G���i/U��'E�@�`H��;J�������+J�n#���6ڴ�ĹG���N�G�'�Z!�����Wi��NJ�@���A��Z|�[��$q}i�ҷ�QbtTEC$��m��mo�L�D��;�%g�?w��ŷ���ovH0��a�5��*�ؒ��l͛�S�iy�r�O7����%L]��%���hk ����>v1�HB������d\�(eoIx�>3�6BS%���(
��f$�h�����eԎ���H���`ݶf{�Fo�Y���@00uMb�z-��XI$&�gf���7Ӵ�u|'K.�oP
P���F�.��o��9B<~. ����[����<٭�$�����{1�A��.�bKx�L������'�u8n5���e ,]�H����V��Ww�$�C�el��|zys��K�i-�q�ݬbk,wnG��;�� ~�e�r͒���~'1`V⦫�-*[��L�K�'2@����仪��n���2�N� �ƶ�G���i/U��'E�@�`H��;J�������+J�n#���6ڴ�ĹG���N�G�'�Z!�����Wi��NJ�@���A��Z|�[��$q}i�ҷ�QbtTEC$��m��mo�L�D��;�%g�?w��ŷ���ovH0��a�5��*�ؒ��l͛�S�iy�r�O7����%L]��%���hk ����>v1�HB������d\�(eoIx�>3�6BS%���(
��f$�h�����eԎ���H���`ݶf{�Fo�Y���@00uMb�z-��XI$&�gf���7Ӵ�u|'K.�oP
P���F�.��o��9B<~. ����[����<٭�$�����{1�A��.�bKx�L������'�u8n5���e ,]�H����V��Ww�$�C�el��|zys��K�i-�q�ݬbk,wnG��;�� ~�e�r͒���~'1`V⦫�-*[��L�K�'2@����仪��n���2�N� �ƶ�G���i/U��'E�@�`H��;J�������+J�n#���6ڴ�ĹG���N�G�'�Z!�����Wi��NJ�@���A��Z|�[��$q}i�ҷ�QbtTEC$��m��mo�L�D��;�%g�?w��ŷ���ovH0��a�5��*�ؒ��l͛�S�iy�r�O7����%L]��%���hk ����>v1�HB������d\�(eoIx�>3�6BS%���(
��f$�h�����eԎ���H���`ݶf{�Fo�Y���@00uMb�z-��XI$&�gf���7Ӵ�u|'K.�oP
P���F�.��o��9B<~. ����[����<٭�$�����{1�A��.�bKx�L������'�u8n5���e ,]�H����V��Ww�$�C�el��|zys��K�i-�q�ݬbk,wnG��;�� ~�e�r͒���~'1`V⦫�-*[��L�K�'2@����仪��n���2�N� �ƶ�G���i/U��'E�@�`H��;J�������+J�n#���6ڴ�ĹG���N�G�'�Z!�����Wi��NJ�@���A��Z|�[��$q}i�ҷ�QbtTEC$��m��mo�L�D��;�%g�?w��ŷ���ovH0��a�5��*�ؒ��l͛�S�iy�r�O7����%L]��%���hk ����>v1�HB������d\�(eoIx�>3�6BS%���(
��f$�h�����eԎ���H���`ݶf{�Fo�Y���@00uMb�z-��XI$&�gf���7Ӵ�u|'K.�oP
P���F�.��o��9B<~. ����[����<٭�$�����{1�A��.�bKx�L������'�u8n5���e ,]�H����V��Ww�$�C�el��|zys��K�i-�q�ݬbk,wnG��;�� ~�e�r͒���~'1`V⦫�-*[��L�K�'2@����仪��n���2�N� �ƶ�G���i/U��'E�@�`H��;J�������+J�n#���6ڴ�ĹG���N�G�'�Z!�����Wi��NJ�@���A��Z|�[��$q}i�ҷ�QbtTEC$��m��mo�L�D��;�%g�?w��ŷ���ovH0��a�5��*�ؒ��l͛�S�iy�r�O7����%L]��%���hk ����>v1�HB������d\�(eoIx�>3�6BS%���(
��f$�h�����eԎ���H���`ݶf{�Fo�Y���@00uMb�z-��XI$&�gf���7Ӵ�u|'K.�oP
P���F�.��o��9B<~. ����[����<٭�$�����{1�A��.�bKx�L������'�u8n5���e ,]�H����V��Ww�$�C�el��|zys��K�i-�q�ݬbk,wnG��;�� ~�e�r͒���~'1`V⦫�-*[��L�K�'2@����仪��n���2�N� �ƶ�G���i/U��'E�@�`H��;J�������+J�n#���6ڴ�ĹG���N�G�'�Z!�����Wi��NJ�@���A��Z|�[��$q}i�ҷ�QbtTEC$��m��mo�L�D��;�%g�?w��ŷ���ovH0��a�5��*�ؒ��l͛�S�iy�r�O7����%L]��%���hk ����>v1�HB������d\�(eoIx�>3�6BS%���(
��f$�h�����eԎ���H���`ݶf{�Fo�Y���@00uMb�z-��XI$&�gf���7Ӵ�u|'K.�oP
P���F�.��o��9B<~. ����[����<٭�$�����{1�A��.�bKx�L������'�u8n5���e ,]�H����V��Ww�$�C�el��|zys��K�i-�q�ݬbk,wnG��;�� ~�e�r͒���~'1`V⦫�-*[��L�K�'2@����仪��n���2�N� �ƶ�G���i/U��'E�@�`H��;J�������+J�n#���6ڴ�ĹG���N�G�'�Z!�����Wi��NJ�@���A��Z|�[��$q}i�ҷ�QbtTEC$��m��mo�L�D��;�%g�?w��ŷ���ovH0��a�5��*�ؒ��l͛�S�iy�r�O7����%L]��%���hk ����>v1�HB������d\�(eoIx�>3�6BS%���(
��f$�h�����eԎ���H���`ݶf{�Fo�Y���@00uMb�z-��XI$&�gf���7Ӵ�u|'K.�oP
P���F�.��o��9B<~. ����[����<٭�$�����{1�A��.�bKx�L������'�u8n5���e ,]�H����V��Ww�$�C�el��|zys��K�i-�q�ݬbk,wnG��;�� ~�e�r͒���~'1`V⦫�-*[��L�K�'2@����仪��n���2�N� �ƶ�G���i/U��'E�@�`H��;J�������+J�n#���6ڴ�ĹG���N�G�'�Z!�����Wi��NJ�@���A��Z|�[��$q}i�ҷ�QbtTEC$��m��mo�L�D��;�%g�?w��ŷ���ovH0��a�5��*�ؒ��l͛�S�iy�r�O7����%L]��%���hk ����>v1�HB������d\�(eoIx�>3�6BS%���(
��f$�h�����eԎ���H���`ݶf{�Fo�Y���@00uMb�z-��XI$&�gf���7Ӵ�u|'K.�oP
P���F�.��o��9B<~. ����[����<٭�$�����{1�A��.�bKx�L������'�u8n5���e ,]�H����V��Ww�$�C�el��|zys��K�i-�q�ݬbk,wnG��;�� ~�e�r͒���~'1`V⦫�-*[��L�K�'2@����仪��n���2�N� �ƶ�G���i/U��'E�@�`H��;J�������+J�n#���6ڴ�ĹG���N�G�'�Z!�����Wi��NJ�@���A��Z|�[��$q}i�ҷ�QbtTEC$��m��mo�L�D��;�%g�?w��ŷ���ovH0��a�5��*�ؒ��l͛�S�iy�r�O7����%L]��%���hk ����>v1�HB������d\�(eoIx�>3�6BS%���(
��f$�h�����eԎ���H���`ݶf{�Fo�Y���@00uMb�z-��XI$&�gf���7Ӵ�u|'K.�oP
P���F�.��o��9B<~. ����[����<٭�$�����{1�A��.�bKx�L������'�u8n5���e ,]�H����V��Ww�$�C�el��|zys��K�i-�q�ݬbk,wnG��;�� ~�e�r͒���~'1`V⦫�-*[��L�K�'2@����仪��n���2�N� �ƶ�G���i/U��'E�@�`H��;J�������+J�n#���6ڴ�ĹG���N�G�'�Z!�����Wi��NJ�@���A��Z|�[��$q}i�ҷ�QbtTEC$��m��mo�L�D��;�%g�?w��ŷ���ovH0��a�5��*�ؒ��l͛�S�iy�r�O7����%L]��%���hk ����>v1�HB������d\�(eoIx�>3�6BS%���(
��f$�h�����eԎ���H���`ݶf{�Fo�Y���@00uMb�z-��XI$&�gf���7Ӵ�u|'K.�oP
P���F�.��o��9B<~. ����[����<٭�$�����{1�A��.�bKx�L������'�u8n5���e ,]�H����V��Ww�$�C�el��|zys��K�i-�q�ݬbk,wnG��;�� ~�e�r͒���~'1`V⦫�-*[��L�K�'2@����仪��n���2�N� �ƶ�G���i/U��'E�@�`H��;J�������+J�n#���6ڴ�ĹG���N�G�'�Z!�����Wi��NJ�@���A��Z|�[��$q}i�ҷ�QbtTEC$��m��mo�L�D��;�%g�?w��ŷ���ovH0��a�5��*�ؒ��l͛�S�iy�r�O7����%L]��%���hk ����>v1�HB������d\�(eoIx�>3�6BS%���(
��f$�h�����eԎ���H���`ݶf{�Fo�Y���@00uMb�z-��XI$&�gf���7Ӵ�u|'K.�oP
P���F�.��o��9B<~. ����[����<٭�$�����{1�A��.�bKx�L������'�u8n5���e ,]�H����V��Ww�$�C�el��|zys��K�i-�q�ݬbk,wnG��;�� ~�e�r͒���~'1`V⦫�-*[��L�K�'2@����仪��n���2�N� �ƶ�G���i/U��'E�@�`H��;J�������+J�n#���6ڴ�ĹG���N�G�'�Z!�����Wi��NJ�@���A��Z|�[��$q}i�ҷ�QbtTEC$��m��mo�L�D��;�%g�?w��ŷ���ovH0��a�5��*�ؒ��l͛�S�iy�r�O7����%L]��%���hk ����>v1�HB������d\�(eoIx�>3�6BS%���(
��f$�h�����eԎ���H���`ݶf{�Fo�Y���@00uMb�z-��XI$&�gf���7Ӵ�u|'K.�oP
P���F�.��o��9B<~. ����[����<٭�$�����{1�A��.�bKx�L������'�u8n5���e ,]�H����V��Ww�$�C�el��|zys��K�i-�q�ݬbk,wnG��;�� ~�e�r͒���~'1`V⦫�-*[��L�K�'2@����仪��n���2�N� �ƶ�G���i/U��'E�@�`H��;J�������+J�n#���6ڴ�ĹG���N�G�'�Z!�����Wi��NJ�@���A��Z|�[��$q}i�ҷ�QbtTEC$��m��mo�L�D��;�%g�?w��ŷ���ovH0��a�5��*�ؒ��l͛�S�iy�r�O7����%L]��%���hk ����>v1�HB������d\�(eoIx�>3�6BS%���(
��f$�h�����eԎ���H���`ݶf{�Fo�Y���@00uMb�z-��XI$&�gf���7Ӵ�u|'K.�oP
P���F�.��o��9B<~. ����[����<٭�$�����{1�A��.�bKx�L������'�u8n5���e ,]�H����V��Ww�$�C�el��|zys��K�i-�q�ݬbk,wnG��;�� ~�e�r͒���~'1`V⦫�-*[��L�K�'2@����仪��n���2�N� �ƶ�G���i/U��'E�@�`H��;J�������+J�n#���6ڴ�ĹG���N�G�'�Z!�����Wi��NJ�@���A��Z|�[��$q}i�ҷ�QbtTEC$��m��mo�L�D��;�%g�?w��ŷ���ovH0��a�5��*�ؒ��l͛�S�iy�r�O7����%L]��%���hk ����>v1�HB������d\�(eoIx�>3�6BS%���(
��f$�h�����eԎ���H���`ݶf{�Fo�Y���@00uMb�z-��XI$&�gf���7Ӵ�u|'K.�oP
P���F�.��o��9B<~. ����[����<٭�$�����{1�A��.�bKx�L������'�u8n5���e ,]�H����V��Ww�$�C�el��|zys��K�i-�q�ݬbk,wnG��;�� ~�e�r͒���~'1`V⦫�-*[��L�K�'2@����仪��n���2�N� �ƶ�G���i/U��'E�@�`H��;J�������+J�n#���6ڴ�ĹG���N�G�'�Z!�����Wi��NJ�@���A��Z|�[��$q}i�ҷ�QbtTEC$��m��mo�L�D��;�%g�?w��ŷ���ovH0��a�5��*�ؒ��l͛�S�iy�r�O7����%L]��%���hk ����>v1�HB������d\�(eoIx�>3�6BS%���(
��f$�h�����eԎ���H���`ݶf{�Fo�Y���@00uMb�z-��XI$&�gf���7Ӵ�u|'K.�oP
P���F�.��o��9B<~. ����[����<٭�$�����{1�A��.�bKx�L������'�u8n5���e ,]�H����V��Ww�$�C�el��|zys��K�i-�q�ݬbk,wnG��;�� ~�e�r͒���~'1`V⦫�-*[��L�K�'2@����仪��n���2�N� �ƶ�G���i/U��'E�@�`H��;J�������+J�n#���6ڴ�ĹG���N�G�'�Z!�����Wi��NJ�@���A��Z|�[��$q}i�ҷ�QbtTEC$��m��mo�L�D��;�%g�?w��ŷ���ovH0��a�5��*�ؒ��l͛�S�iy�r�O7����%L]��%���hk ����>v1�HB������d\�(eoIx�>3�6BS%���(
��f$�h�����eԎ���H���`ݶf{�Fo�Y���@00uMb�z-��XI$&�gf���7Ӵ�u|'K.�oP
P���F�.��o��9B<~. ����[����<٭�$�����{1�A��.�bKx�L������'�u8n5���e ,]�H����V��Ww�$�C�el��|zys��K�i-�q�ݬbk,wnG��;�� ~�e�r͒���~'1`V⦫�-*[��L�K�'2@����仪��n���2�N� �ƶ�G���i/U��'E�@�`H��;J�������+J�n#���6ڴ�ĹG���N�G�'�Z!�����Wi��NJ�@���A��Z|�[��$q}i�ҷ�QbtTEC$��m��mo�L�D��;�%g�?w��ŷ���ovH0��a�5��*�ؒ��l͛�S�iy�r�O7����%L]��%���hk ����>v1�HB������d\�(eoIx�>3�6BS%���(
��f$�h�����eԎ���H���`ݶf{�Fo�Y���@00uMb�z-��XI$&�gf���7Ӵ�u|'K.�oP
P���F�.��o��9B<~. ����[����<٭�$�����{1�A��.�bKx�L������'�u8n5���e ,]�H����V��Ww�$�C�el��|zys��K�i-�q�ݬbk,wnG��;�� ~�e�r͒���~'1`V⦫�-*[��L�K�'2@����仪��n���2�N� �ƶ�G���i/U��'E�@�`H��;J�������+J�n#���6ڴ�ĹG���N�G�'�Z!�����Wi��NJ�@���A��Z|�[��$q}i�ҷ�QbtTEC$��m��mo�L�D��;�%g�?w��ŷ���ovH0��a�5��*�ؒ��l͛�S�iy�r�O7����%L]��%���hk ����>v1�HB������d\�(eoIx�>3�6BS%���(
��f$�h�����eԎ���H���`ݶf{�Fo�Y���@00uMb�z-��XI$&�gf���7Ӵ�u|'K.�oP
P���F�.��o��9B<~. ����[����<٭�$�����{1�A��.�bKx�L������'�u8n5���e ,]�H����V��Ww�$�C�el��|zys��K�i-�q�ݬbk,wnG��;�� ~�e�r͒���~'1`V⦫�-*[��L�K�'2@����仪��n���2�N� �ƶ�G���i/U��'E�@�`H��;J�������+J�n#���6ڴ�ĹG���N�G�'�Z!�����Wi��NJ�@���A��Z|�[��$q}i�ҷ�QbtTEC$��m��mo�L�D��;�%g�?w��ŷ���ovH0��a�5��*�ؒ��l͛�S�iy�r�O7����%L]��%���hk ����>v1�HB������d\�(eoIx�>3�6BS%���(
��f$�h�����eԎ���H���`ݶf{�Fo�Y���@00uMb�z-��XI$&�gf���7Ӵ�u|'K.�oP
P���F�.��o��9B<~. ����[����<٭�$�����{1�A��.�bKx�L������'�u8n5���e ,]�H����V��Ww�$�C�el��|zys��K�i-�q�ݬbk,wnG��;�� ~�e�r͒���~'1`V⦫�-*[��L�K�'2@����仪��n���2�N� �ƶ�G���i/U��'E�@�`H��;J�������+J�n#���6ڴ�ĹG���N�G�'�Z!�����Wi��NJ�@���A��Z|�[��$q}i�ҷ�QbtTEC$��m��mo�L�D��;�%g�?w��ŷ���ovH0��a�5��*�ؒ��l͛�S�iy�r�O7����%L]��%���hk ����>v1�HB������d\�(eoIx�>3�6BS%���(
��f$�h�����eԎ���H���`ݶf{�Fo�Y���@00uMb�z-��XI$&�gf���7Ӵ�u|'K.�oP
P���F�.��o��9B<~. ����[����<٭�$�����{1�A��.�bKx�L������'�u8n5���e ,]�H����V��Ww�$�C�el��|zys��K�i-�q�ݬbk,wnG��;�� ~�e�r͒���~'1`V⦫�-*[��L�K�'2@����仪��n���2�N� �ƶ�G���i/U��'E�@�`H��;J�������+J�n#���6ڴ�ĹG���N�G�'�Z!�����Wi��NJ�@���A��Z|�[��$q}i�ҷ�QbtTEC$��m��mo�L�D��;�%g�?w��ŷ���ovH0��a�5��*�ؒ��l͛�S�iy�r�O7����%L]��%���hk ����>v1�HB������d\�(eoIx�>3�6BS%���(
��f$�h�����eԎ���H���`ݶf{�Fo�Y���@00uMb�z-��XI$&�gf���7Ӵ�u|'K.�oP
P���F�.��o��9B<~. ����[����<٭�$�����{1�A��.�bKx�L������'�u8n5���e ,]�H����V��Ww�$�C�el��|zys��K�i-�q�ݬbk,wnG��;�� ~�e�r͒���~'1`V⦫�-*[��L�K�'2@����仪��n���2�N� �ƶ�G���i/U��'E�@�`H��;J�������+J�n#���6ڴ�ĹG���N�G�'�Z!�����Wi��NJ�@���A��Z|�[��$q}i�ҷ�QbtTEC$��m��mo�L�D��;�%g�?w��ŷ���ovH0��a�5��*�ؒ��l͛�S�iy�r�O7����%L]��%���hk ����>v1�HB������d\�(eoIx�>3�6BS%���(
��f$�h�����eԎ���H���`ݶf{�Fo�Y���@00uMb�z-��XI$&�gf���7Ӵ�u|'K.�oP
P���F�.��o��9B<~. ����[����<٭�$�����{1�A��.�bKx�L������'�u8n5���e ,]�H����V��Ww�$�C�el��|zys��K�i-�q�ݬbk,wnG��;�� ~�e�r͒���~'1`V⦫�-*[��L�K�'2@����仪��n���2�N� �ƶ�G���i/U��'E�@�`H��;J�������+J�n#���6ڴ�ĹG���N�G�'�Z!�����Wi��NJ�@���A��Z|�[��$q}i�ҷ�QbtTEC$��m��mo�L�D��;�%g�?w��ŷ���ovH0��a�5��*�ؒ��l͛�S�iy�r�O7����%L]��%���hk ����>v1�HB������d\�(eoIx�>3�6BS%���(
��f$�h�����eԎ���H���`ݶf{�Fo�Y���@00uMb�z-��XI$&�gf���7Ӵ�u|'K.�oP
P���F�.��o��9B<~. ����[����<٭�$�����{1�A��.�bKx�L������'�u8n5���e ,]�H����V��Ww�$�C�el��|zys��K�i-�q�ݬbk,wnG��;�� ~�e�r͒���~'1`V⦫�-*[��L�K�'2@����仪��n���2�N� �ƶ�G���i/U��'E�@�`H��;J�������+J�n#���6ڴ�ĹG���N�G�'�Z!�����Wi��NJ�@���A��Z|�[��$q}i�ҷ�QbtTEC$��m��mo�L�D��;�%g�?w��ŷ���ovH0��a�5��*�ؒ��l͛�S�iy�r�O7����%L]��%���hk ����>v1�HB������d\�(eoIx�>3�6BS%���(
��f$�h�����eԎ���H���`ݶf{�Fo�Y���@00uMb�z-��XI$&�gf���7Ӵ�u|'K.�oP
P���F�.��o��9B<~. ����[����<٭�$�����{1�A��.�bKx�L������'�u8n5���e ,]�H����V��Ww�$�C�el��|zys��K�i-�q�ݬbk,wnG��;�� ~�e�r͒���~'1`V⦫�-*[��L�K�'2@����仪��n���2�N� �ƶ�G���i/U��'E�@�`H��;J�������+J�n#���6ڴ�ĹG���N�G�'�Z!�����Wi��NJ�@���A��Z|�[��$q}i�ҷ�QbtTEC$��m��mo�L�D��;�%g�?w��ŷ���ovH0��a�5��*�ؒ��l͛�S�iy�r�O7����%L]��%���hk ����>v1�HB������d\�(eoIx�>3�6BS%���(
��f$�h�����eԎ���H���`ݶf{�Fo�Y���@00uMb�z-��XI$&�gf���7Ӵ�u|'K.�oP
P���F�.��o��9B<~. ����[����<٭�$�����{1�A��.�bKx�L������'�u8n5���e ,]�H����V��Ww�$�C�el��|zys��K�i-�q�ݬbk,wnG��;�� ~�e�r͒���~'1`V⦫�-*[��L�K�'2@����仪��n���2�N� �ƶ�G���i/U��'E�@�`H��;J�������+J�n#���6ڴ�ĹG���N�G�'�Z!�����Wi��NJ�@���A��Z|�[��$q}i�ҷ�QbtTEC$��m��mo�L�D��;�%g�?w��ŷ���ovH0��a�5��*�ؒ��l͛�S�iy�r�O7����%L]��%���hk ����>v1�HB������d\�(eoIx�>3�6BS%���(
��f$�h�����eԎ���H���`ݶf{�Fo�Y���@00uMb�z-��XI$&�gf���7Ӵ�u|'K.�oP
P���F�.��o��9B<~. ����[����<٭�$�����{1�A��.�bKx�L������'�u8n5���e ,]�H����V��Ww�$�C�el��|zys��K�i-�q�ݬbk,wnG��;�� ~�e�r͒���~'1`V⦫�-*[��L�K�'2@����仪��n���2�N� �ƶ�G���i/U��'E�@�`H��;J�������+J�n#���6ڴ�ĹG���N�G�'�Z!�����Wi��NJ�@���A��Z|�[��$q}i�ҷ�QbtTEC$��m��mo�L�D��;�%g�?w��ŷ���ovH0��a�5��*�ؒ��l͛�S�iy�r�O7����%L]��%���hk ����>v1�HB������d\�(eoIx�>3�6BS%���(
��f$�h�����eԎ���H���`ݶf{�Fo�Y���@00uMb�z-��XI$&�gf���7Ӵ�u|'K.�oP
P���F�.��o��9B<~. ����[����<٭�$�����{1�A��.�bKx�L������'�u8n5���e ,]�H����V��Ww�$�C�el��|zys��K�i-�q�ݬbk,wnG��;�� ~�e�r͒���~'1`V⦫�-*[��L�K�'2@����仪��n���2�N� �ƶ�G���i/U��'E�@�`H��;J�������+J�n#���6ڴ�ĹG���N�G�'�Z!�����Wi��NJ�@���A��Z|�[��$q}i�ҷ�QbtTEC$��m��mo�L�D��;�%g�?w��ŷ���ovH0��a�5��*�ؒ��l͛�S�iy�r�O7����%L]��%���hk ����>v1�HB������d\�(eoIx�>3�6BS%���(
��f$�h�����eԎ���H���`ݶf{�Fo�Y���@00uMb�z-��XI$&�gf���7Ӵ�u|'K.�oP
P���F�.��o��9B<~. ����[����<٭�$�����{1�A��.�bKx�L������'�u8n5���e ,]�H����V��Ww�$�C�el��|zys��K�i-�q�ݬbk,wnG��;�� ~�e�r͒���~'1`V⦫�-*[��L�K�'2@����仪��n���2�N� �ƶ�G���i/U��'E�@�`H��;J�������+J�n#���6ڴ�ĹG���N�G�'�Z!�����Wi��NJ�@���A��Z|�[��$q}i�ҷ�QbtTEC$��m��mo�L�D��;�%g�?w��ŷ���ovH0��a�5��*�ؒ��l͛�S�iy�r�O7����%L]��%���hk ����>v1�HB������d\�(eoIx�>3�6BS%���(
��f$�h�����eԎ���H���`ݶf{�Fo�Y���@00uMb�z-��XI$&�gf���7Ӵ�u|'K.�oP
P���F�.��o��9B<~. ����[����<٭�$�����{1�A��.�bKx�L������'�u8n5���e ,]�H����V��Ww�$�C�el��|zys��K�i-�q�ݬbk,wnG��;�� ~�e�r͒���~'1`V⦫�-*[��L�K�'2@����仪��n���2�N� �ƶ�G���i/U��'E�@�`H��;J�������+J�n#���6ڴ�ĹG���N�G�'�Z!�����Wi��NJ�@���A��Z|�[��$q}i�ҷ�QbtTEC$��m��mo�L�D��;�%g�?w��ŷ���ovH0��a�5��*�ؒ��l͛�S�iy�r�O7����%L]��%���hk ����>v1�HB������d\�(eoIx�>3�6BS%���(
��f$�h�����eԎ���H���`ݶf{�Fo�Y���@00uMb�z-��XI$&�gf���7Ӵ�u|'K.�oP
P���F�.��o��9B<~. ����[����<٭�$�����{1�A��.�bKx�L������'�u8n5���e ,]�H����V��Ww�$�C�el��|zys��K�i-�q�ݬbk,wnG��;�� ~�e�r͒���~'1`V⦫�-*[��L�K�'2@����仪��n���2�N� �ƶ�G���i/U��'E�@�`H��;J�������+J�n#���6ڴ�ĹG���N�G�'�Z!�����Wi��NJ�@���A��Z|�[��$q}i�ҷ�QbtTEC$��m��mo�L�D��;�%g�?w��ŷ���ovH0��a�5��*�ؒ��l͛�S�iy�r�O7����%L]��%���hk ����>v1�HB������d\�(eoIx�>3�6BS%���(
��f$�h�����eԎ���H���`ݶf{�Fo�Y���@00uMb�z-��XI$&�gf���7Ӵ�u|'K.�oP
P���F�.��o��9B<~. ����[����<٭�$�����{1�A��.�bKx�L������'�u8n5���e ,]�H����V��Ww�$�C�el��|zys��K�i-�q�ݬbk,wnG��;�� ~�e�r͒���~'1`V⦫�-*[��L�K�'2@����仪��n���2�N� �ƶ�G���i/U��'E�@�`H��;J�������+J�n#���6ڴ�ĹG���N�G�'�Z!�����Wi��NJ�@���A��Z|�[��$q}i�ҷ�QbtTEC$��m��mo�L�D��;�%g�?w��ŷ���ovH0��a�5��*�ؒ��l͛�S�iy�r�O7����%L]��%���hk ����>v1�HB������d\�(eoIx�>3�6BS%���(
��f$�h�����eԎ���H���`ݶf{�Fo�Y���@00uMb�z-��XI$&�gf���7Ӵ�u|'K.�oP
P���F�.��o��9B<~. ����[����<٭�$�����{1�A��.�bKx�L������'�u8n5���e ,]�H����V��Ww�$�C�el��|zys��K�i-�q�ݬbk,wnG��;�� ~�e�r͒���~'1`V⦫�-*[��L�K�'2@����仪��n���2�N� �ƶ�G���i/U��'E�@�`H��;J�������+J�n#���6ڴ�ĹG���N�G�'�Z!�����Wi��NJ�@���A��Z|�[��$q}i�ҷ�QbtTEC$��m��mo�L�D��;�%g�?w��ŷ���ovH0��a�5��*�ؒ��l͛�S�iy�r�O7����%L]��%���hk ����>v1�HB������d\�(eoIx�>3�6BS%���(
��f$�h�����eԎ���H���`ݶf{�Fo�Y���@00uMb�z-��XI$&�gf���7Ӵ�u|'K.�oP
P���F�.��o��9B<~. ����[����<٭�$�����{1�A��.�bKx�L������'�u8n5���e ,]�H����V��Ww�$�C�el��|zys��K�i-�q�ݬbk,wnG��;�� ~�e�r͒���~'1`V⦫�-*[��L�K�'2@����仪��n���2�N� �ƶ�G���i/U��'E�@�`H��;J�������+J�n#���6ڴ�ĹG���N�G�'�Z!�����Wi��NJ�@���A��Z|�[��$q}i�ҷ�QbtTEC$��m��mo�L�D��;�%g�?w��ŷ���ovH0��a�5��*�ؒ��l͛�S�iy�r�O7����%L]��%���hk ����>v1�HB������d\�(eoIx�>3�6BS%���(
��f$�h�����eԎ���H���`ݶf{�Fo�Y���@00uMb�z-��XI$&�gf���7Ӵ�u|'K.�oP
P���F�.��o��9B<~. ����[����<٭�$�����{1�A��.�bKx�L������'�u8n5���e ,]�H����V��Ww�$�C�el��|zys��K�i-�q�ݬbk,wnG��;�� ~�e�r͒���~'1`V⦫�-*[��L�K�'2@����仪��n���2�N� �ƶ�G���i/U��'E�@�`H��;J�������+J�n#���6ڴ�ĹG���N�G�'�Z!�����Wi��NJ�@���A��Z|�[��$q}i�ҷ�QbtTEC$��m��mo�L�D��;�%g�?w��ŷ���ovH0��a�5��*�ؒ��l͛�S�iy�r�O7����%L]��%���hk ����>v1�HB������d\�(eoIx�>3�6BS%���(
��f$�h�����eԎ���H���`ݶf{�Fo�Y���@00uMb�z-��XI$&�gf���7Ӵ�u|'K.�oP
P���F�.��o��9B<~. ����[����<٭�$�����{1�A��.�bKx�L������'�u8n5���e ,]�H����V��Ww�$�C�el��|zys��K�i-�q�ݬbk,wnG��;�� ~�e�r͒���~'1`V⦫�-*[��L�K�'2@����仪��n���2�N� �ƶ�G���i/U��'E�@�`H��;J�������+J�n#���6ڴ�ĹG���N�G�'�Z!�����Wi��NJ�@���A��Z|�[��$q}i�ҷ�QbtTEC$��m��mo�L�D��;�%g�?w��ŷ���ovH0��a�5��*�ؒ��l͛�S�iy�r�O7����%L]��%���hk ����>v1�HB������d\�(eoIx�>3�6BS%���(
��f$�h�����eԎ���H���`ݶf{�Fo�Y���@00uMb�z-��XI$&�gf���7Ӵ�u|'K.�oP
P���F�.��o��9B<~. ����[����<٭�$�����{1�A��.�bKx�L������'�u8n5���e ,]�H����V��Ww�$�C�el��|zys��K�i-�q�ݬbk,wnG��;�� ~�e�r͒���~'1`V⦫�-*[��L�K�'2@����仪��n���2�N� �ƶ�G���i/U��'E�@�`H��;J�������+J�n#���6ڴ�ĹG���N�G�'�Z!�����Wi��NJ�@���A��Z|�[��$q}i�ҷ�QbtTEC$��m��mo�L�D��;�%g�?w��ŷ���ovH0��a�5��*�ؒ��l͛�S�iy�r�O7����%L]��%���hk ����>v1�HB������d\�(eoIx�>3�6BS%���(
��f$�h�����eԎ���H���`ݶf{�Fo�Y���@00uMb�z-��XI$&�gf���7Ӵ�u|'K.�oP
P���F�.��o��9B<~. ����[����<٭�$�����{1�A��.�bKx�L������'�u8n5���e ,]�H����V��Ww�$�C�el��|zys��K�i-�q�ݬbk,wnG��;�� ~�e�r͒���~'1`V⦫�-*[��L�K�'2@����仪��n���2�N� �ƶ�G���i/U��'E�@�`H��;J�������+J�n#���6ڴ�ĹG���N�G�'�Z!�����Wi��NJ�@���A��Z|�[��$q}i�ҷ�QbtTEC$��m��mo�L�D��;�%g�?w��ŷ���ovH0��a�5��*�ؒ��l͛�S�iy�r�O7����%L]��%���hk ����>v1�HB������d\�(eoIx�>3�6BS%���(
��f$�h�����eԎ���H���`ݶf{�Fo�Y���@00uMb�z-��XI$&�gf���7Ӵ�u|'K.�oP
P���F�.��o��9B<~. ����[����<٭�$�����{1�A��.�bKx�L������'�u8n5���e ,]�H����V��Ww�$�C�el��|zys��K�i-�q�ݬbk,wnG��;�� ~�e�r͒���~'1`V⦫�-*[��L�K�'2@����仪��n���2�N� �ƶ�G���i/U��'E�@�`H��;J�������+J�n#���6ڴ�ĹG���N�G�'�Z!�����Wi��NJ�@���A��Z|�[��$q}i�ҷ�QbtTEC$��m��mo�L�D��;�%g�?w��ŷ���ovH0��a�5��*�ؒ��l͛�S�iy�r�O7����%L]��%���hk ����>v1�HB������d\�(eoIx�>3�6BS%���(
��f$�h�����eԎ���H���`ݶf{�Fo�Y���@00uMb�z-��XI$&�gf���7Ӵ�u|'K.�oP
P���F�.��o��9B<~. ����[����<٭�$�����{1�A��.�bKx�L������'�u8n5���e ,]�H����V��Ww�$�C�el��|zys��K�i-�q�ݬbk,wnG��;�� ~�e�r͒���~'1`V⦫�-*[��L�K�'2@����仪��n���2�N� �ƶ�G���i/U��'E�@�`H��;J�������+J�n#���6ڴ�ĹG���N�G�'�Z!�����Wi��NJ�@���A��Z|�[��$q}i�ҷ�QbtTEC$��m��mo�L�D��;�%g�?w��ŷ���ovH0��a�5��*�ؒ��l͛�S�iy�r�O7����%L]��%���hk ����>v1�HB������d\�(eoIx�>3�6BS%���(
��f$�h�����eԎ���H���`ݶf{�Fo�Y���@00uMb�z-��XI$&�gf���7Ӵ�u|'K.�oP
P���F�.��o��9B<~. ����[����<٭�$�����{1�A��.�bKx�L������'�u8n5���e ,]�H����V��Ww�$�C�el��|zys��K�i-�q�ݬbk,wnG��;�� ~�e�r͒���~'1`V⦫�-*[��L�K�'2@����仪��n���2�N� �ƶ�G���i/U��'E�@�`H��;J�������+J�n#���6ڴ�ĹG���N�G�'�Z!�����Wi��NJ�@���A��Z|�[��$q}i�ҷ�QbtTEC$��m��mo�L�D��;�%g�?w��ŷ���ovH0��a�5��*�ؒ��l͛�S�iy�r�O7����%L]��%���hk ����>v1�HB������d\�(eoIx�>3�6BS%���(
��f$�h�����eԎ���H���`ݶf{�Fo�Y���@00uMb�z-��XI$&�gf���7Ӵ�u|'K.�oP
P���F�.��o��9B<~. ����[����<٭�$�����{1�A��.�bKx�L������'�u8n5���e ,]�H����V��Ww�$�C�el��|zys��K�i-�q�ݬbk,wnG��;�� ~�e�r͒���~'1`V⦫�-*[��L�K�'2@����仪��n���2�N� �ƶ�G���i/U��'E�@�`H��;J�������+J�n#���6ڴ�ĹG���N�G�'�Z!�����Wi��NJ�@���A��Z|�[��$q}i�ҷ�QbtTEC$��m��mo�L�D��;�%g�?w��ŷ���ovH0��a�5��*�ؒ��l͛�S�iy�r�O7����%L]��%���hk ����>v1�HB������d\�(eoIx�>3�6BS%���(
��f$�h�����eԎ���H���`ݶf{�Fo�Y���@00uMb�z-��XI$&�gf���7Ӵ�u|'K.�oP
P���F�.��o��9B<~. ����[����<٭�$�����{1�A��.�bKx�L������'�u8n5���e ,]�H����V��Ww�$�C�el��|zys��K�i-�q�ݬbk,wnG��;�� ~�e�r͒���~'1`V⦫�-*[��L�K�'2@����仪��n���2�N� �ƶ�G���i/U��'E�@�`H��;J�������+J�n#���6ڴ�ĹG���N�G�'�Z!�����Wi��NJ�@���A��Z|�[��$q}i�ҷ�QbtTEC$��m��mo�L�D��;�%g�?w��ŷ���ovH0��a�5��*�ؒ��l͛�S�iy�r�O7����%L]��%���hk ����>v1�HB������d\�(eoIx�>3�6BS%���(
��f$�h�����eԎ���H���`ݶf{�Fo�Y���@00uMb�z-��XI$&�gf���7Ӵ�u|'K.�oP
P���F�.��o��9B<~. ����[����<٭�$�����{1�A��.�bKx�L������'�u8n5���e ,]�H����V��Ww�$�C�el��|zys��K�i-�q�ݬbk,wnG��;�� ~�e�r͒���~'1`V⦫�-*[��L�K�'2@����仪��n���2�N� �ƶ�G���i/U��'E�@�`H��;J�������+J�n#���6ڴ�ĹG���N�G�'�Z!�����Wi��NJ�@���A��Z|�[��$q}i�ҷ�QbtTEC$��m��mo�L�D��;�%g�?w��ŷ���ovH0��a�5��*�ؒ��l͛�S�iy�r�O7����%L]��%���hk ����>v1�HB������d\�(eoIx�>3�6BS%���(
��f$�h�����eԎ���H���`ݶf{�Fo�Y���@00uMb�z-��XI$&�gf���7Ӵ�u|'K.�oP
P���F�.��o��9B<~. ����[����<٭�$�����{1�A��.�bKx�L������'�u8n5���e ,]�H����V��Ww�$�C�el��|zys��K�i-�q�ݬbk,wnG��;�� ~�e�r͒���~'1`V⦫�-*[��L�K�'2@����仪��n���2�N� �ƶ�G���i/U��'E�@�`H��;J�������+J�n#���6ڴ�ĹG���N�G�'�Z!�����Wi��NJ�@���A��Z|�[��$q}i�ҷ�QbtTEC$��m��mo�L�D��;�%g�?w��ŷ���ovH0��a�5��*�ؒ��l͛�S�iy�r�O7����%L]��%���hk ����>v1�HB������d\�(eoIx�>3�6BS%���(
��f$�h�����eԎ���H���`ݶf{�Fo�Y���@00uMb�z-��XI$&�gf���7Ӵ�u|'K.�oP
P���F�.��o��9B<~. ����[����<٭�$�����{1�A��.�bKx�L������'�u8n5���e ,]�H����V��Ww�$�C�el��|zys��K�i-�q�ݬbk,wnG��;�� ~�e�r͒���~'1`V⦫�-*[��L�K�'2@����仪��n���2�N� �ƶ�G���i/U��'E�@�`H��;J�������+J�n#���6ڴ�ĹG���N�G�'�Z!�����Wi��NJ�@���A��Z|�[��$q}i�ҷ�QbtTEC$��m��mo�L�D��;�%g�?w��ŷ���ovH0��a�5��*�ؒ��l͛�S�iy�r�O7����%L]��%���hk ����>v1�HB������d\�(eoIx�>3�6BS%���(
��f$�h�����eԎ���H���`ݶf{�Fo�Y���@00uMb�z-��XI$&�gf���7Ӵ�u|'K.�oP
P���F�.��o��9B<~. ����[����<٭�$�����{1�A��.�bKx�L������'�u8n5���e ,]�H����V��Ww�$�C�el��|zys��K�i-�q�ݬbk,wnG��;�� ~�e�r͒���~'1`V⦫�-*[��L�K�'2@����仪��n���2�N� �ƶ�G���i/U��'E�@�`H��;J�������+J�n#���6ڴ�ĹG���N�G�'�Z!�����Wi��NJ�@���A��Z|�[��$q}i�ҷ�QbtTEC$��m��mo�L�D��;�%g�?w��ŷ���ovH0��a�5��*�ؒ��l͛�S�iy�r�O7����%L]��%���hk ����>v1�HB������d\�(eoIx�>3�6BS%���(
��f$�h�����eԎ���H���`ݶf{�Fo�Y���@00uMb�z-��XI$&�gf���7Ӵ�u|'K.�oP
P���F�.��o��9B<~. ����[����<٭�$�����{1�A��.�bKx�L������'�u8n5���e ,]�H����V��Ww�$�C�el��|zys��K�i-�q�ݬbk,wnG��;�� ~�e�r͒���~'1`V⦫�-*[��L�K�'2@����仪��n���2�N� �ƶ�G���i/U��'E�@�`H��;J�������+J�n#���6ڴ�ĹG���N�G�'�Z!�����Wi��NJ�@���A��Z|�[��$q}i�ҷ�QbtTEC$��m��mo�L�D��;�%g�?w��ŷ���ovH0��a�5��*�ؒ��l͛�S�iy�r�O7����%L]��%���hk ����>v1�HB������d\�(eoIx�>3�6BS%���(
��f$�h�����eԎ���H���`ݶf{�Fo�Y���@00uMb�z-��XI$&�gf���7Ӵ�u|'K.�oP
P���F�.��o��9B<~. ����[����<٭�$�����{1�A��.�bKx�L������'�u8n5���e ,]�H����V��Ww�$�C�el��|zys��K�i-�q�ݬbk,wnG��;�� ~�e�r͒���~'1`V⦫�-*[��L�K�'2@����仪��n���2�N� �ƶ�G���i/U��'E�@�`H��;J�������+J�n#���6ڴ�ĹG���N�G�'�Z!�����Wi��NJ�@���A��Z|�[��$q}i�ҷ�QbtTEC$��m��mo�L�D��;�%g�?w��ŷ���ovH0��a�5��*�ؒ��l͛�S�iy�r�O7����%L]��%���hk ����>v1�HB������d\�(eoIx�>3�6BS%���(
��f$�h�����eԎ���H���`ݶf{�Fo�Y���@00uMb�z-��XI$&�gf���7Ӵ�u|'K.�oP
P���F�.��o��9B<~. ����[����<٭�$�����{1�A��.�bKx�L������'�u8n5���e ,]�H����V��Ww�$�C�el��|zys��K�i-�q�ݬbk,wnG��;�� ~�e�r͒���~'1`V⦫�-*[��L�K�'2@����仪��n���2�N� �ƶ�G���i/U��'E�@�`H��;J�������+J�n#���6ڴ�ĹG���N�G�'�Z!�����Wi��NJ�@���A��Z|�[��$q}i�ҷ�QbtTEC$��m��mo�L�D��;�%g�?w��ŷ���ovH0��a�5��*�ؒ��l͛�S�iy�r�O7����%L]��%���hk ����>v1�HB������d\�(eoIx�>3�6BS%���(
��f$�h�����eԎ���H���`ݶf{�Fo�Y���@00uMb�z-��XI$&�gf���7Ӵ�u|'K.�oP
P���F�.��o��9B<~. ����[����<٭�$�����{1�A��.�bKx�L������'�u8n5���e ,]�H����V��Ww�$�C�el��|zys��K�i-�q�ݬbk,wnG��;�� ~�e�r͒���~'1`V⦫�-*[��L�K�'2@����仪��n���2�N� �ƶ�G���i/U��'E�@�`H��;J�������+J�n#���6ڴ�ĹG���N�G�'�Z!�����Wi��NJ�@���A��Z|�[��$q}i�ҷ�QbtTEC$��m��mo�L�D��;�%g�?w��ŷ���ovH0��a�5��*�ؒ��l͛�S�iy�r�O7����%L]��%���hk ����>v1�HB������d\�(eoIx�>3�6BS%���(
��f$�h�����eԎ���H���`ݶf{�Fo�Y���@00uMb�z-��XI$&�gf���7Ӵ�u|'K.�oP
P���F�.��o��9B<~. ����[����<٭�$�����{1�A��.�bKx�L������'�u8n5���e ,]�H����V��Ww�$�C�el��|zys��K�i-�q�ݬbk,wnG��;�� ~�e�r͒���~'1`V⦫�-*[��L�K�'2@����仪��n���2�N� �ƶ�G���i/U��'E�@�`H��;J�������+J�n#���6ڴ�ĹG���N�G�'�Z!�����Wi��NJ�@���A��Z|�[��$q}i�ҷ�QbtTEC$��m��mo�L�D��;�%g�?w��ŷ���ovH0��a�5��*�ؒ��l͛�S�iy�r�O7����%L]��%���hk ����>v1�HB������d\�(eoIx�>3�6BS%���(
��f$�h�����eԎ���H���`ݶf{�Fo�Y���@00uMb�z-��XI$&�gf���7Ӵ�u|'K.�oP
P���F�.��o��9B<~. ����[����<٭�$�����{1�A��.�bKx�L������'�u8n5���e ,]�H����V��Ww�$�C�el��|zys��K�i-�q�ݬbk,wnG��;�� ~�e�r͒���~'1`V⦫�-*[��L�K�'2@����仪��n���2�N� �ƶ�G���i/U��'E�@�`H��;J�������+J�n#���6ڴ�ĹG���N�G�'�Z!�����Wi��NJ�@���A��Z|�[��$q}i�ҷ�QbtTEC$��m��mo�L�D��;�%g�?w��ŷ���ovH0��a�5��*�ؒ��l͛�S�iy�r�O7����%L]��%���hk ����>v1�HB������d\�(eoIx�>3�6BS%���(
��f$�h�����eԎ���H���`ݶf{�Fo�Y���@00uMb�z-��XI$&�gf���7Ӵ�u|'K.�oP
P���F�.��o��9B<~. ����[����<٭�$�����{1�A��.�bKx�L������'�u8n5���e ,]�H����V��Ww�$�C�el��|zys��K�i-�q�ݬbk,wnG��;�� ~�e�r͒���~'1`V⦫�-*[��L�K�'2@����仪��n���2�N� �ƶ�G���i/U��'E�@�`H��;J�������+J�n#���6ڴ�ĹG���N�G�'�Z!�����Wi��NJ�@���A��Z|�[��$q}i�ҷ�QbtTEC$��m��mo�L�D��;�%g�?w��ŷ���ovH0��a�5��*�ؒ��l͛�S�iy�r�O7����%L]��%���hk ����>v1�HB������d\�(eoIx�>3�6BS%���(
��f$�h�����eԎ���H���`ݶf{�Fo�Y���@00uMb�z-��XI$&�gf���7Ӵ�u|'K.�oP
P���F�.��o��9B<~. ����[����<٭�$�����{1�A��.�bKx�L������'�u8n5���e ,]�H����V��Ww�$�C�el��|zys��K�i-�q�ݬbk,wnG��;�� ~�e�r͒���~'1`V⦫�-*[��L�K�'2@����仪��n���2�N� �ƶ�G���i/U��'E�@�`H��;J�������+J�n#���6ڴ�ĹG���N�G�'�Z!�����Wi��NJ�@���A��Z|�[��$q}i�ҷ�QbtTEC$��m��mo�L�D��;�%g�?w��ŷ���ovH0��a�5��*�ؒ��l͛�S�iy�r�O7����%L]��%���hk ����>v1�HB������d\�(eoIx�>3�6BS%���(
��f$�h�����eԎ���H���`ݶf{�Fo�Y���@00uMb�z-��XI$&�gf���7Ӵ�u|'K.�oP
P���F�.��o��9B<~. ����[����<٭�$�����{1�A��.�bKx�L������'�u8n5���e ,]�H����V��Ww�$�C�el��|zys��K�i-�q�ݬbk,wnG��;�� ~�e�r͒���~'1`V⦫�-*[��L�K�'2@����仪��n���2�N� �ƶ�G���i/U��'E�@�`H��;J�������+J�n#���6ڴ�ĹG���N�G�'�Z!�����Wi��NJ�@���A��Z|�[��$q}i�ҷ�QbtTEC$��m��mo�L�D��;�%g�?w��ŷ���ovH0��a�5��*�ؒ��l͛�S�iy�r�O7����%L]��%���hk ����>v1�HB������d\�(eoIx�>3�6BS%���(
��f$�h�����eԎ���H���`ݶf{�Fo�Y���@00uMb�z-��XI$&�gf���7Ӵ�u|'K.�oP
P���F�.��o��9B<~. ����[����<٭�$�����{1�A��.�bKx�L������'�u8n5���e ,]�H����V��Ww�$�C�el��|zys��K�i-�q�ݬbk,wnG��;�� ~�e�r͒���~'1`V⦫�-*[��L�K�'2@����仪��n���2�N� �ƶ�G���i/U��'E�@�`H��;J�������+J�n#���6ڴ�ĹG���N�G�'�Z!�����Wi��NJ�@���A��Z|�[��$q}i�ҷ�QbtTEC$��m��mo�L�D��;�%g�?w��ŷ���ovH0��a�5��*�ؒ��l͛�S�iy�r�O7����%L]��%���hk ����>v1�HB������d\�(eoIx�>3�6BS%���(
��f$�h�����eԎ���H���`ݶf{�Fo�Y���@00uMb�z-��XI$&�gf���7Ӵ�u|'K.�oP
P���F�.��o��9B<~. ����[����<٭�$�����{1�A��.�bKx�L������'�u8n5���e ,]�H����V��Ww�$�C�el��|zys��K�i-�q�ݬbk,wnG��;�� ~�e�r͒���~'1`V⦫�-*[��L�K�'2@����仪��n���2�N� �ƶ�G���i/U��'E�@�`H��;J�������+J�n#���6ڴ�ĹG���N�G�'�Z!�����Wi��NJ�@���A��Z|�[��$q}i�ҷ�QbtTEC$��m��mo�L�D��;�%g�?w��ŷ���ovH0��a�5��*�ؒ��l͛�S�iy�r�O7����%L]��%���hk ����>v1�HB������d\�(eoIx�>3�6BS%���(
��f$�h�����eԎ���H���`ݶf{�Fo�Y���@00uMb�z-��XI$&�gf���7Ӵ�u|'K.�oP
P���F�.��o��9B<~. ����[����<٭�$�����{1�A��.�bKx�L������'�u8n5���e ,]�H����V��Ww�$�C�el��|zys��K�i-�q�ݬbk,wnG��;�� ~�e�r͒���~'1`V⦫�-*[��L�K�'2@����仪��n���2�N� �ƶ�G���i/U��'E�@�`H��;J�������+J�n#���6ڴ�ĹG���N�G�'�Z!�����Wi��NJ�@���A��Z|�[��$q}i�ҷ�QbtTEC$��m��mo�L�D��;�%g�?w��ŷ���ovH0��a�5��*�ؒ��l͛�S�iy�r�O7����%L]��%���hk ����>v1�HB������d\�(eoIx�>3�6BS%���(
��f$�h�����eԎ���H���`ݶf{�Fo�Y���@00uMb�z-��XI$&�gf���7Ӵ�u|'K.�oP
P���F�.��o��9B<~. ����[����<٭�$�����{1�A��.�bKx�L������'�u8n5���e ,]�H����V��Ww�$�C�el��|zys��K�i-�q�ݬbk,wnG��;�� ~�e�r͒���~'1`V⦫�-*[��L�K�'2@����仪��n���2�N� �ƶ�G���i/U��'E�@�`H��;J�������+J�n#���6ڴ�ĹG���N�G�'�Z!�����Wi��NJ�@���A��Z|�[��$q}i�ҷ�QbtTEC$��m��mo�L�D��;�%g�?w��ŷ���ovH0��a�5��*�ؒ��l͛�S�iy�r�O7����%L]��%���hk ����>v1�HB������d\�(eoIx�>3�6BS%���(
��f$�h�����eԎ���H���`ݶf{�Fo�Y���@00uMb�z-��XI$&�gf���7Ӵ�u|'K.�oP
P���F�.��o��9B<~. ����[����<٭�$�����{1�A��.�bKx�L������'�u8n5���e ,]�H����V��Ww�$�C�el��|zys��K�i-�q�ݬbk,wnG��;�� ~�e�r͒���~'1`V⦫�-*[��L�K�'2@����仪��n���2�N� �ƶ�G���i/U��'E�@�`H��;J�������+J�n#���6ڴ�ĹG���N�G�'�Z!�����Wi��NJ�@���A��Z|�[��$q}i�ҷ�QbtTEC$��m��mo�L�D��;�%g�?w��ŷ���ovH0��a�5��*�ؒ��l͛�S�iy�r�O7����%L]��%���hk ����>v1�HB������d\�(eoIx�>3�6BS%���(
��f$�h�����eԎ���H���`ݶf{�Fo�Y���@00uMb�z-��XI$&�gf���7Ӵ�u|'K.�oP
P���F�.��o��9B<~. ����[����<٭�$�����{1�A��.�bKx�L������'�u8n5���e ,]�H����V��Ww�$�C�el��|zys��K�i-�q�ݬbk,wnG��;�� ~�e�r͒���~'1`V⦫�-*[��L�K�'2@����仪��n���2�N� �ƶ�G���i/U��'E�@�`H��;J�������+J�n#���6ڴ�ĹG���N�G�'�Z!�����Wi��NJ�@���A��Z|�[��$q}i�ҷ�QbtTEC$��m��mo�L�D��;�%g�?w��ŷ���ovH0��a�5��*�ؒ��l͛�S�iy�r�O7����%L]��%���hk ����>v1�HB������d\�(eoIx�>3�6BS%���(
��f$�h�����eԎ���H���`ݶf{�Fo�Y���@00uMb�z-��XI$&�gf���7Ӵ�u|'K.�oP
P���F�.��o��9B<~. ����[����<٭�$�����{1�A��.�bKx�L������'�u8n5���e ,]�H����V��Ww�$�C�el��|zys��K�i-�q�ݬbk,wnG��;�� ~�e�r͒���~'1`V⦫�-*[��L�K�'2@����仪��n���2�N� �ƶ�G���i/U��'E�@�`H��;J�������+J�n#���6ڴ�ĹG���N�G�'�Z!�����Wi��NJ�@���A��Z|�[��$q}i�ҷ�QbtTEC$��m��mo�L�D��;�%g�?w��ŷ���ovH0��a�5��*�ؒ��l͛�S�iy�r�O7����%L]��%���hk ����>v1�HB������d\�(eoIx�>3�6BS%���(
��f$�h�����eԎ���H���`ݶf{�Fo�Y���@00uMb�z-��XI$&�gf���7Ӵ�u|'K.�oP
P���F�.��o��9B<~. ����[����<٭�$�����{1�A��.�bKx�L������'�u8n5���e ,]�H����V��Ww�$�C�el��|zys��K�i-�q�ݬbk,wnG��;�� ~�e�r͒���~'1`V⦫�-*[��L�K�'2@����仪��n���2�N� �ƶ�G���i/U��'E�@�`H��;J�������+J�n#���6ڴ�ĹG���N�G�'�Z!�����Wi��NJ�@���A��Z|�[��$q}i�ҷ�QbtTEC$��m��mo�L�D��;�%g�?w��ŷ���ovH0��a�5��*�ؒ��l͛�S�iy�r�O7����%L]��%���hk ����>v1�HB������d\�(eoIx�>3�6BS%���(
��f$�h�����eԎ���H���`ݶf{�Fo�Y���@00uMb�z-��XI$&�gf���7Ӵ�u|'K.�oP
P���F�.��o��9B<~. ����[����<٭�$�����{1�A��.�bKx�L������'�u8n5���e ,]�H����V��Ww�$�C�el��|zys��K�i-�q�ݬbk,wnG��;�� ~�e�r͒���~'1`V⦫�-*[��L�K�'2@����仪��n���2�N� �ƶ�G���i/U��'E�@�`H��;J�������+J�n#���6ڴ�ĹG���N�G�'�Z!�����Wi��NJ�@���A��Z|�[��$q}i�ҷ�QbtTEC$��m��mo�L�D��;�%g�?w��ŷ���ovH0��a�5��*�ؒ��l͛�S�iy�r�O7����%L]��%���hk ����>v1�HB������d\�(eoIx�>3�6BS%���(
��f$�h�����eԎ���H���`ݶf{�Fo�Y���@00uMb�z-��XI$&�gf���7Ӵ�u|'K.�oP
P���F�.��o��9B<~. ����[����<٭�$�����{1�A��.�bKx�L������'�u8n5���e ,]�H����V��Ww�$�C�el��|zys��K�i-�q�ݬbk,wnG��;�� ~�e�r͒���~'1`V⦫�-*[��L�K�'2@����仪��n���2�N� �ƶ�G���i/U��'E�@�`H��;J�������+J�n#���6ڴ�ĹG���N�G�'�Z!�����Wi��NJ�@���A��Z|�[��$q}i�ҷ�QbtTEC$��m��mo�L�D��;�%g�?w��ŷ���ovH0��a�5��*�ؒ��l͛�S�iy�r�O7����%L]��%���hk ����>v1�HB������d\�(eoIx�>3�6BS%���(
��f$�h�����eԎ���H���`ݶf{�Fo�Y���@00uMb�z-��XI$&�gf���7Ӵ�u|'K.�oP
P���F�.��o��9B<~. ����[����<٭�$�����{1�A��.�bKx�L������'�u8n5���e ,]�H����V��Ww�$�C�el��|zys��K�i-�q�ݬbk,wnG��;�� ~�e�r͒���~'1`V⦫�-*[��L�K�'2@����仪��n���2�N� �ƶ�G���i/U��'E�@�`H��;J�������+J�n#���6ڴ�ĹG���N�G�'�Z!�����Wi��NJ�@���A��Z|�[��$q}i�ҷ�QbtTEC$��m��mo�L�D��;�%g�?w��ŷ���ovH0��a�5��*�ؒ��l͛�S�iy�r�O7����%L]��%���hk ����>v1�HB������d\�(eoIx�>3�6BS%���(
��f$�h�����eԎ���H���`ݶf{�Fo�Y���@00uMb�z-��XI$&�gf���7Ӵ�u|'K.�oP
P���F�.��o��9B<~. ����[����<٭�$�����{1�A��.�bKx�L������'�u8n5���e ,]�H����V��Ww�$�C�el��|zys��K�i-�q�ݬbk,wnG��;�� ~�e�r͒���~'1`V⦫�-*[��L�K�'2@����仪��n���2�N� �ƶ�G���i/U��'E�@�`H��;J�������+J�n#���6ڴ�ĹG���N�G�'�Z!�����Wi��NJ�@���A��Z|�[��$q}i�ҷ�QbtTEC$��m��mo�L�D��;�%g�?w��ŷ���ovH0��a�5��*�ؒ��l͛�S�iy�r�O7����%L]��%���hk ����>v1�HB������d\�(eoIx�>3�6BS%���(
��f$�h�����eԎ���H���`ݶf{�Fo�Y���@00uMb�z-��XI$&�gf���7Ӵ�u|'K.�oP
P���F�.��o��9B<~. ����[����<٭�$�����{1�A��.�bKx�L������'�u8n5���e ,]�H����V��Ww�$�C�el��|zys��K�i-�q�ݬbk,wnG��;�� ~�e�r͒���~'1`V⦫�-*[��L�K�'2@����仪��n���2�N� �ƶ�G���i/U��'E�@�`H��;J�������+J�n#���6ڴ�ĹG���N�G�'�Z!�����Wi��NJ�@���A��Z|�[��$q}i�ҷ�QbtTEC$��m��mo�L�D��;�%g�?w��ŷ���ovH0��a�5��*�ؒ��l͛�S�iy�r�O7����%L]��%���hk ����>v1�HB������d\�(eoIx�>3�6BS%���(
��f$�h�����eԎ���H���`ݶf{�Fo�Y���@00uMb�z-��XI$&�gf���7Ӵ�u|'K.�oP
P���F�.��o��9B<~. ����[����<٭�$�����{1�A��.�bKx�L������'�u8n5���e ,]�H����V��Ww�$�C�el��|zys��K�i-�q�ݬbk,wnG��;�� ~�e�r͒���~'1`V⦫�-*[��L�K�'2@����仪��n���2�N� �ƶ�G���i/U��'E�@�`H��;J�������+J�n#���6ڴ�ĹG���N�G�'�Z!�����Wi��NJ�@���A��Z|�[��$q}i�ҷ�QbtTEC$��m��mo�L�D��;�%g�?w��ŷ���ovH0��a�5��*�ؒ��l͛�S�iy�r�O7����%L]��%���hk ����>v1�HB������d\�(eoIx�>3�6BS%���(
��f$�h�����eԎ���H���`ݶf{�Fo�Y���@00uMb�z-��XI$&�gf���7Ӵ�u|'K.�oP
P���F�.��o��9B<~. ����[����<٭�$�����{1�A��.�bKx�L������'�u8n5���e ,]�H����V��Ww�$�C�el��|zys��K�i-�q�ݬbk,wnG��;�� ~�e�r͒���~'1`V⦫�-*[��L�K�'2@����仪��n���2�N� �ƶ�G���i/U��'E�@�`H��;J�������+J�n#���6ڴ�ĹG���N�G�'�Z!�����Wi��NJ�@���A��Z|�[��$q}i�ҷ�QbtTEC$��m��mo�L�D��;�%g�?w��ŷ���ovH0��a�5��*�ؒ��l͛�S�iy�r�O7����%L]��%���hk ����>v1�HB������d\�(eoIx�>3�6BS%���(
��f$�h�����eԎ���H���`ݶf{�Fo�Y���@00uMb�z-��XI$&�gf���7Ӵ�u|'K.�oP
P���F�.��o��9B<~. ����[����<٭�$�����{1�A��.�bKx�L������'�u8n5���e ,]�H����V��Ww�$�C�el��|zys��K�i-�q�ݬbk,wnG��;�� ~�e�r͒���~'1`V⦫�-*[��L�K�'2@����仪��n���2�N� �ƶ�G���i/U��'E�@�`H��;J�������+J�n#���6ڴ�ĹG���N�G�'�Z!�����Wi��NJ�@���A��Z|�[��$q}i�ҷ�QbtTEC$��m��mo�L�D��;�%g�?w��ŷ���ovH0��a�5��*�ؒ��l͛�S�iy�r�O7����%L]��%���hk ����>v1�HB������d\�(eoIx�>3�6BS%���(
��f$�h�����eԎ���H���`ݶf{�Fo�Y���@00uMb�z-��XI$&�gf���7Ӵ�u|'K.�oP
P���F�.��o��9B<~. ����[����<٭�$�����{1�A��.�bKx�L������'�u8n5���e ,]�H����V��Ww�$�C�el��|zys��K�i-�q�ݬbk,wnG��;�� ~�e�r͒���~'1`V⦫�-*[��L�K�'2@����仪��n���2�N� �ƶ�G���i/U��'E�@�`H��;J�������+J�n#���6ڴ�ĹG���N�G�'�Z!�����Wi��NJ�@���A��Z|�[��$q}i�ҷ�QbtTEC$��m��mo�L�D��;�%g�?w��ŷ���ovH0��a�5��*�ؒ��l͛�S�iy�r�O7����%L]��%���hk ����>v1�HB������d\�(eoIx�>3�6BS%���(
��f$�h�����eԎ���H���`ݶf{�Fo�Y���@00uMb�z-��XI$&�gf���7Ӵ�u|'K.�oP
P���F�.��o��9B<~. ����[����<٭�$�����{1�A��.�bKx�L������'�u8n5���e ,]�H����V��Ww�$�C�el��|zys��K�i-�q�ݬbk,wnG��;�� ~�e�r͒���~'1`V⦫�-*[��L�K�'2@����仪��n���2�N� �ƶ�G���i/U��'E�@�`H��;J�������+J�n#���6ڴ�ĹG���N�G�'�Z!�����Wi��NJ�@���A��Z|�[��$q}i�ҷ�QbtTEC$��m��mo�L�D��;�%g�?w��ŷ���ovH0��a�5��*�ؒ��l͛�S�iy�r�O7����%L]��%���hk ����>v1�HB������d\�(eoIx�>3�6BS%���(
��f$�h�����eԎ���H���`ݶf{�Fo�Y���@00uMb�z-��XI$&�gf���7Ӵ�u|'K.�oP
P���F�.��o��9B<~. ����[����<٭�$�����{1�A��.�bKx�L������'�u8n5���e ,]�H����V��Ww�$�C�el��|zys��K�i-�q�ݬbk,wnG��;�� ~�e�r͒���~'1`V⦫�-*[��L�K�'2@����仪��n���2�N� �ƶ�G���i/U��'E�@�`H��;J�������+J�n#���6ڴ�ĹG���N�G�'�Z!�����Wi��NJ�@���A��Z|�[��$q}i�ҷ�QbtTEC$��m��mo�L�D��;�%g�?w��ŷ���ovH0��a�5��*�ؒ��l͛�S�iy�r�O7����%L]��%���hk ����>v1�HB������d\�(eoIx�>3�6BS%���(
��f$�h�����eԎ���H���`ݶf{�Fo�Y���@00uMb�z-��XI$&�gf���7Ӵ�u|'K.�oP
P���F�.��o��9B<~. ����[����<٭�$�����{1�A��.�bKx�L������'�u8n5���e ,]�H����V��Ww�$�C�el��|zys��K�i-�q�ݬbk,wnG��;�� ~�e�r͒���~'1`V⦫�-*[��L�K�'2@����仪��n���2�N� �ƶ�G���i/U��'E�@�`H��;J�������+J�n#���6ڴ�ĹG���N�G�'�Z!�����Wi��NJ�@���A��Z|�[��$q}i�ҷ�QbtTEC$��m��mo�L�D��;�%g�?w��ŷ���ovH0��a�5��*�ؒ��l͛�S�iy�r�O7����%L]��%���hk ����>v1�HB������d\�(eoIx�>3�6BS%���(
��f$�h�����eԎ���H���`ݶf{�Fo�Y���@00uMb�z-��XI$&�gf���7Ӵ�u|'K.�oP
P���F�.��o��9B<~. ����[����<٭�$�����{1�A��.�bKx�L������'�u8n5���e ,]�H����V��Ww�$�C�el��|zys��K�i-�q�ݬbk,wnG��;�� ~�e�r͒���~'1`V⦫�-*[��L�K�'2@����仪��n���2�N� �ƶ�G���i/U��'E�@�`H��;J�������+J�n#���6ڴ�ĹG���N�G�'�Z!�����Wi��NJ�@���A��Z|�[��$q}i�ҷ�QbtTEC$��m��mo�L�D��;�%g�?w��ŷ���ovH0��a�5��*�ؒ��l͛�S�iy�r�O7����%L]��%���hk ����>v1�HB������d\�(eoIx�>3�6BS%���(
��f$�h�����eԎ���H���`ݶf{�Fo�Y���@00uMb�z-��XI$&�gf���7Ӵ�u|'K.�oP
P���F�.��o��9B<~. ����[����<٭�$�����{1�A��.�bKx�L������'�u8n5���e ,]�H����V��Ww�$�C�el��|zys��K�i-�q�ݬbk,wnG��;�� ~�e�r͒���~'1`V⦫�-*[��L�K�'2@����仪��n���2�N� �ƶ�G���i/U��'E�@�`H��;J�������+J�n#���6ڴ�ĹG���N�G�'�Z!�����Wi��NJ�@���A��Z|�[��$q}i�ҷ�QbtTEC$��m��mo�L�D��;�%g�?w��ŷ���ovH0��a�5��*�ؒ��l͛�S�iy�r�O7����%L]��%���hk ����>v1�HB������d\�(eoIx�>3�6BS%���(
��f$�h�����eԎ���H���`ݶf{�Fo�Y���@00uMb�z-��XI$&�gf���7Ӵ�u|'K.�oP
P���F�.��o��9B<~. ����[����<٭�$�����{1�A��.�bKx�L������'�u8n5���e ,]�H����V��Ww�$�C�el��|zys��K�i-�q�ݬbk,wnG��;�� ~�e�r͒���~'1`V⦫�-*[��L�K�'2@����仪��n���2�N� �ƶ�G���i/U��'E�@�`H��;J�������+J�n#���6ڴ�ĹG���N�G�'�Z!�����Wi��NJ�@���A��Z|�[��$q}i�ҷ�QbtTEC$��m��mo�L�D��;�%g�?w��ŷ���ovH0��a�5��*�ؒ��l͛�S�iy�r�O7����%L]��%���hk ����>v1�HB������d\�(eoIx�>3�6BS%���(
��f$�h�����eԎ���H���`ݶf{�Fo�Y���@00uMb�z-��XI$&�gf���7Ӵ�u|'K.�oP
P���F�.��o��9B<~. ����[����<٭�$�����{1�A��.�bKx�L������'�u8n5���e ,]�H����V��Ww�$�C�el��|zys��K�i-�q�ݬbk,wnG��;�� ~�e�r͒���~'1`V⦫�-*[��L�K�'2@����仪��n���2�N� �ƶ�G���i/U��'E�@�`H��;J�������+J�n#���6ڴ�ĹG���N�G�'�Z!�����Wi��NJ�@���A��Z|�[��$q}i�ҷ�QbtTEC$��m��mo�L�D��;�%g�?w��ŷ���ovH0��a�5��*�ؒ��l͛�S�iy�r�O7����%L]��%���hk ����>v1�HB������d\�(eoIx�>3�6BS%���(
��f$�h�����eԎ���H���`ݶf{�Fo�Y���@00uMb�z-��XI$&�gf���7Ӵ�u|'K.�oP
P���F�.��o��9B<~. ����[����<٭�$�����{1�A��.�bKx�L������'�u8n5���e ,]�H����V��Ww�$�C�el��|zys��K�i-�q�ݬbk,wnG��;�� ~�e�r͒���~'1`V⦫�-*[��L�K�'2@����仪��n���2�N� �ƶ�G���i/U��'E�@�`H��;J�������+J�n#���6ڴ�ĹG���N�G�'�Z!�����Wi��NJ�@���A��Z|�[��$q}i�ҷ�QbtTEC$��m��mo�L�D��;�%g�?w��ŷ���ovH0��a�5��*�ؒ��l͛�S�iy�r�O7����%L]��%���hk ����>v1�HB������d\�(eoIx�>3�6BS%���(
��f$�h�����eԎ���H���`ݶf{�Fo�Y���@00uMb�z-��XI$&�gf���7Ӵ�u|'K.�oP
P���F�.��o��9B<~. ����[����<٭�$�����{1�A��.�bKx�L������'�u8n5���e ,]�H����V��Ww�$�C�el��|zys��K�i-�q�ݬbk,wnG��;�� ~�e�r͒���~'1`V⦫�-*[��L�K�'2@����仪��n���2�N� �ƶ�G���i/U��'E�@�`H��;J�������+J�n#���6ڴ�ĹG���N�G�'�Z!�����Wi��NJ�@���A��Z|�[��$q}i�ҷ�QbtTEC$��m��mo�L�D��;�%g�?w��ŷ���ovH0��a�5��*�ؒ��l͛�S�iy�r�O7����%L]��%���hk ����>v1�HB������d\�(eoIx�>3�6BS%���(
��f$�h�����eԎ���H���`ݶf{�Fo�Y���@00uMb�z-��XI$&�gf���7Ӵ�u|'K.�oP
P���F�.��o��9B<~. ����[����<٭�$�����{1�A��.�bKx�L������'�u8n5���e ,]�H����V��Ww�$�C�el��|zys��K�i-�q�ݬbk,wnG��;�� ~�e�r͒���~'1`V⦫�-*[��L�K�'2@����仪��n���2�N� �ƶ�G���i/U��'E�@�`H��;J�������+J�n#���6ڴ�ĹG���N�G�'�Z!�����Wi��NJ�@���A��Z|�[��$q}i�ҷ�QbtTEC$��m��mo�L�D��;�%g�?w��ŷ���ovH0��a�5��*�ؒ��l͛�S�iy�r�O7����%L]��%���hk ����>v1�HB������d\�(eoIx�>3�6BS%���(
��f$�h�����eԎ���H���`ݶf{�Fo�Y���@00uMb�z-��XI$&�gf���7Ӵ�u|'K.�oP
P���F�.��o��9B<~. ����[����<٭�$�����{1�A��.�bKx�L������'�u8n5���e ,]�H����V��Ww�$�C�el��|zys��K�i-�q�ݬbk,wnG��;�� ~�e�r͒���~'1`V⦫�-*[��L�K�'2@����仪��n���2�N� �ƶ�G���i/U��'E�@�`H��;J�������+J�n#���6ڴ�ĹG���N�G�'�Z!�����Wi��NJ�@���A��Z|�[��$q}i�ҷ�QbtTEC$��m��mo�L�D��;�%g�?w��ŷ���ovH0��a�5��*�ؒ��l͛�S�iy�r�O7����%L]��%���hk ����>v1�HB������d\�(eoIx�>3�6BS%���(
��f$�h�����eԎ���H���`ݶf{�Fo�Y���@00uMb�z-��XI$&�gf���7Ӵ�u|'K.�oP
P���F�.��o��9B<~. ����[����<٭�$�����{1�A��.�bKx�L������'�u8n5���e ,]�H����V��Ww�$�C�el��|zys��K�i-�q�ݬbk,wnG��;�� ~�e�r͒���~'1`V⦫�-*[��L�K�'2@����仪��n���2�N� �ƶ�G���i/U��'E�@�`H��;J�������+J�n#���6ڴ�ĹG���N�G�'�Z!�����Wi��NJ�@���A��Z|�[��$q}i�ҷ�QbtTEC$��m��mo�L�D��;�%g�?w��ŷ���ovH0��a�5��*�ؒ��l͛�S�iy�r�O7����%L]��%���hk ����>v1�HB������d\�(eoIx�>3�6BS%���(
��f$�h�����eԎ���H���`ݶf{�Fo�Y���@00uMb�z-��XI$&�gf���7Ӵ�u|'K.�oP
P���F�.��o��9B<~. ����[����<٭�$�����{1�A��.�bKx�L������'�u8n5���e ,]�H����V��Ww�$�C�el��|zys��K�i-�q�ݬbk,wnG��;�� ~�e�r͒���~'1`V⦫�-*[��L�K�'2@����仪��n���2�N� �ƶ�G���i/U��'E�@�`H��;J�������+J�n#���6ڴ�ĹG���N�G�'�Z!�����Wi��NJ�@���A��Z|�[��$q}i�ҷ�QbtTEC$��m��mo�L�D��;�%g�?w��ŷ���ovH0��a�5��*�ؒ��l͛�S�iy�r�O7����%L]��%���hk ����>v1�HB������d\�(eoIx�>3�6BS%���(
��f$�h�����eԎ���H���`ݶf{�Fo�Y���@00uMb�z-��XI$&�gf���7Ӵ�u|'K.�oP
P���F�.��o��9B<~. ����[����<٭�$�����{1�A��.�bKx�L������'�u8n5���e ,]�H����V��Ww�$�C�el��|zys��K�i-�q�ݬbk,wnG��;�� ~�e�r͒���~'1`V⦫�-*[��L�K�'2@����仪��n���2�N� �ƶ�G���i/U��'E�@�`H��;J�������+J�n#���6ڴ�ĹG���N�G�'�Z!�����Wi��NJ�@���A��Z|�[��$q}i�ҷ�QbtTEC$��m��mo�L�D��;�%g�?w��ŷ���ovH0��a�5��*�ؒ��l͛�S�iy�r�O7����%L]��%���hk ����>v1�HB������d\�(eoIx�>3�6BS%���(
��f$�h�����eԎ���H���`ݶf{�Fo�Y���@00uMb�z-��XI$&�gf���7Ӵ�u|'K.�oP
P���F�.��o��9B<~. ����[����<٭�$�����{1�A��.�bKx�L������'�u8n5���e ,]�H����V��Ww�$�C�el��|zys��K�i-�q�ݬbk,wnG��;�� ~�e�r͒���~'1`V⦫�-*[��L�K�'2@����仪��n���2�N� �ƶ�G���i/U��'E�@�`H��;J�������+J�n#���6ڴ�ĹG���N�G�'�Z!�����Wi��NJ�@���A��Z|�[��$q}i�ҷ�QbtTEC$��m��mo�L�D��;�%g�?w��ŷ���ovH0��a�5��*�ؒ��l͛�S�iy�r�O7����%L]��%���hk ����>v1�HB������d\�(eoIx�>3�6BS%���(
��f$�h�����eԎ���H���`ݶf{�Fo�Y���@00uMb�z-��XI$&�gf���7Ӵ�u|'K.�oP
P���F�.��o��9B<~. ����[����<٭�$�����{1�A��.�bKx�L������'�u8n5���e ,]�H����V��Ww�$�C�el��|zys��K�i-�q�ݬbk,wnG��;�� ~�e�r͒���~'1`V⦫�-*[��L�K�'2@����仪��n���2�N� �ƶ�G���i/U��'E�@�`H��;J�������+J�n#���6ڴ�ĹG���N�G�'�Z!�����Wi��NJ�@���A��Z|�[��$q}i�ҷ�QbtTEC$��m��mo�L�D��;�%g�?w��ŷ���ovH0��a�5��*�ؒ��l͛�S�iy�r�O7����%L]��%���hk ����>v1�HB������d\�(eoIx�>3�6BS%���(
��f$�h�����eԎ���H���`ݶf{�Fo�Y���@00uMb�z-��XI$&�gf���7Ӵ�u|'K.�oP
P���F�.��o��9B<~. ����[����<٭�$�����{1�A��.�bKx�L������'�u8n5���e ,]�H����V��Ww�$�C�el��|zys��K�i-�q�ݬbk,wnG��;�� ~�e�r͒���~'1`V⦫�-*[��L�K�'2@����仪��n���2�N� �ƶ�G���i/U��'E�@�`H��;J�������+J�n#���6ڴ�ĹG���N�G�'�Z!�����Wi��NJ�@���A��Z|�[��$q}i�ҷ�QbtTEC$��m��mo�L�D��;�%g�?w��ŷ���ovH0��a�5��*�ؒ��l͛�S�iy�r�O7����%L]��%���hk ����>v1�HB������d\�(eoIx�>3�6BS%���(
��f$�h�����eԎ���H���`ݶf{�Fo�Y���@00uMb�z-��XI$&�gf���7Ӵ�u|'K.�oP
P���F�.��o��9B<~. ����[����<٭�$�����{1�A��.�bKx�L������'�u8n5���e ,]�H����V��Ww�$�C�el��|zys��K�i-�q�ݬbk,wnG��;�� ~�e�r͒���~'1`V⦫�-*[��L�K�'2@����仪��n���2�N� �ƶ�G���i/U��'E�@�`H��;J�������+J�n#���6ڴ�ĹG���N�G�'�Z!�����Wi��NJ�@���A��Z|�[��$q}i�ҷ�QbtTEC$��m��mo�L�D��;�%g�?w��ŷ���ovH0��a�5��*�ؒ��l͛�S�iy�r�O7����%L]��%���hk ����>v1�HB������d\�(eoIx�>3�6BS%���(
��f$�h�����eԎ���H���`ݶf{�Fo�Y���@00uMb�z-��XI$&�gf���7Ӵ�u|'K.�oP
P���F�.��o��9B<~. ����[����<٭�$�����{1�A��.�bKx�L������'�u8n5���e ,]�H����V��Ww�$�C�el��|zys��K�i-�q�ݬbk,wnG��;�� ~�e�r͒���~'1`V⦫�-*[��L�K�'2@����仪��n���2�N� �ƶ�G���i/U��'E�@�`H��;J�������+J�n#���6ڴ�ĹG���N�G�'�Z!�����Wi��NJ�@���A��Z|�[��$q}i�ҷ�QbtTEC$��m��mo�L�D��;�%g�?w��ŷ���ovH0��a�5��*�ؒ��l͛�S�iy�r�O7����%L]��%���hk ����>v1�HB������d\�(eoIx�>3�6BS%���(
��f$�h�����eԎ���H���`ݶf{�Fo�Y���@00uMb�z-��XI$&�gf���7Ӵ�u|'K.�oP
P���F�.��o��9B<~. ����[����<٭�$�����{1�A��.�bKx�L������'�u8n5���e ,]�H����V��Ww�$�C�el��|zys��K�i-�q�ݬbk,wnG��;�� ~�e�r͒���~'1`V⦫�-*[��L�K�'2@����仪��n���2�N� �ƶ�G���i/U��'E�@�`H��;J�������+J�n#���6ڴ�ĹG���N�G�'�Z!�����Wi��NJ�@���A��Z|�[��$q}i�ҷ�QbtTEC$��m��mo�L�D��;�%g�?w��ŷ���ovH0��a�5��*�ؒ��l͛�S�iy�r�O7����%L]��%���hk ����>v1�HB������d\�(eoIx�>3�6BS%���(
��f$�h�����eԎ���H���`ݶf{�Fo�Y���@00uMb�z-��XI$&�gf���7Ӵ�u|'K.�oP
P���F�.��o��9B<~. ����[����<٭�$�����{1�A��.�bKx�L������'�u8n5���e ,]�H����V��Ww�$�C�el��|zys��K�i-�q�ݬbk,wnG��;�� ~�e�r͒���~'1`V⦫�-*[��L�K�'2@����仪��n���2�N� �ƶ�G���i/U��'E�@�`H��;J�������+J�n#���6ڴ�ĹG���N�G�'�Z!�����Wi��NJ�@���A��Z|�[��$q}i�ҷ�QbtTEC$��m��mo�L�D��;�%g�?w��ŷ���ovH0��a�5��*�ؒ��l͛�S�iy�r�O7����%L]��%���hk ����>v1�HB������d\�(eoIx�>3�6BS%���(
��f$�h�����eԎ���H���`ݶf{�Fo�Y���@00uMb�z-��XI$&�gf���7Ӵ�u|'K.�oP
P���F�.��o��9B<~. ����[����<٭�$�����{1�A��.�bKx�L������'�u8n5���e ,]�H����V��Ww�$�C�el��|zys��K�i-�q�ݬbk,wnG��;�� ~�e�r͒���~'1`V⦫�-*[��L�K�'2@����仪��n���2�N� �ƶ�G���i/U��'E�@�`H��;J�������+J�n#���6ڴ�ĹG���N�G�'�Z!�����Wi��NJ�@���A��Z|�[��$q}i�ҷ�QbtTEC$��m��mo�L�D��;�%g�?w��ŷ���ovH0��a�5��*�ؒ��l͛�S�iy�r�O7����%L]��%���hk ����>v1�HB������d\�(eoIx�>3�6BS%���(
��f$�h�����eԎ���H���`ݶf{�Fo�Y���@00uMb�z-��XI$&�gf���7Ӵ�u|'K.�oP
P���F�.��o��9B<~. ����[����<٭�$�����{1�A��.�bKx�L������'�u8n5���e ,]�H����V��Ww�$�C�el��|zys��K�i-�q�ݬbk,wnG��;�� ~�e�r͒���~'1`V⦫�-*[��L�K�'2@����仪��n���2�N� �ƶ�G���i/U��'E�@�`H��;J�������+J�n#���6ڴ�ĹG���N�G�'�Z!�����Wi��NJ�@���A��Z|�[��$q}i�ҷ�QbtTEC$��m��mo�L�D��;�%g�?w��ŷ���ovH0��a�5��*�ؒ��l͛�S�iy�r�O7����%L]��%���hk ����>v1�HB������d\�(eoIx�>3�6BS%���(
��f$�h�����eԎ���H���`ݶf{�Fo�Y���@00uMb�z-��XI$&�gf���7Ӵ�u|'K.�oP
P���F�.��o��9B<~. ����[����<٭�$�����{1�A��.�bKx�L������'�u8n5���e ,]�H����V��Ww�$�C�el��|zys��K�i-�q�ݬbk,wnG��;�� ~�e�r͒���~'1`V⦫�-*[��L�K�'2@����仪��n���2�N� �ƶ�G���i/U��'E�@�`H��;J�������+J�n#���6ڴ�ĹG���N�G�'�Z!�����Wi��NJ�@���A��Z|�[��$q}i�ҷ�QbtTEC$��m��mo�L�D��;�%g�?w��ŷ���ovH0��a�5��*�ؒ��l͛�S�iy�r�O7����%L]��%���hk ����>v1�HB������d\�(eoIx�>3�6BS%���(
��f$�h�����eԎ���H���`ݶf{�Fo�Y���@00uMb�z-��XI$&�gf���7Ӵ�u|'K.�oP
P���F�.��o��9B<~. ����[����<٭�$�����{1�A��.�bKx�L������'�u8n5���e ,]�H����V��Ww�$�C�el��|zys��K�i-�q�ݬbk,wnG��;�� ~�e�r͒���~'1`V⦫�-*[��L�K�'2@����仪��n���2�N� �ƶ�G���i/U��'E�@�`H��;J�������+J�n#���6ڴ�ĹG���N�G�'�Z!�����Wi��NJ�@���A��Z|�[��$q}i�ҷ�QbtTEC$��m��mo�L�D��;�%g�?w��ŷ���ovH0��a�5��*�ؒ��l͛�S�iy�r�O7����%L]��%���hk ����>v1�HB������d\�(eoIx�>3�6BS%���(
��f$�h�����eԎ���H���`ݶf{�Fo�Y���@00uMb�z-��XI$&�gf���7Ӵ�u|'K.�oP
P���F�.��o��9B<~. ����[����<٭�$�����{1�A��.�bKx�L������'�u8n5���e ,]�H����V��Ww�$�C�el��|zys��K�i-�q�ݬbk,wnG��;�� ~�e�r͒���~'1`V⦫�-*[��L�K�'2@����仪��n���2�N� �ƶ�G���i/U��'E�@�`H��;J�������+J�n#���6ڴ�ĹG���N�G�'�Z!�����Wi��NJ�@���A��Z|�[��$q}i�ҷ�QbtTEC$��m��mo�L�D��;�%g�?w��ŷ���ovH0��a�5��*�ؒ��l͛�S�iy�r�O7����%L]��%���hk ����>v1�HB������d\�(eoIx�>3�6BS%���(
��f$�h�����eԎ���H���`ݶf{�Fo�Y���@00uMb�z-��XI$&�gf���7Ӵ�u|'K.�oP
P���F�.��o��9B<~. ����[����<٭�$�����{1�A��.�bKx�L������'�u8n5���e ,]�H����V��Ww�$�C�el��|zys��K�i-�q�ݬbk,wnG��;�� ~�e�r͒���~'1`V⦫�-*[��L�K�'2@����仪��n���2�N� �ƶ�G���i/U��'E�@�`H��;J�������+J�n#���6ڴ�ĹG���N�G�'�Z!�����Wi��NJ�@���A��Z|�[��$q}i�ҷ�QbtTEC$��m��mo�L�D��;�%g�?w��ŷ���ovH0��a�5��*�ؒ��l͛�S�iy�r�O7����%L]��%���hk ����>v1�HB������d\�(eoIx�>3�6BS%���(
��f$�h�����eԎ���H���`ݶf{�Fo�Y���@00uMb�z-��XI$&�gf���7Ӵ�u|'K.�oP
P���F�.��o��9B<~. ����[����<٭�$�����{1�A��.�bKx�L������'�u8n5���e ,]�H����V��Ww�$�C�el��|zys��K�i-�q�ݬbk,wnG��;�� ~�e�r͒���~'1`V⦫�-*[��L�K�'2@����仪��n���2�N� �ƶ�G���i/U��'E�@�`H��;J�������+J�n#���6ڴ�ĹG���N�G�'�Z!�����Wi��NJ�@���A��Z|�[��$q}i�ҷ�QbtTEC$��m��mo�L�D��;�%g�?w��ŷ���ovH0��a�5��*�ؒ��l͛�S�iy�r�O7����%L]��%���hk ����>v1�HB������d\�(eoIx�>3�6BS%���(
��f$�h�����eԎ���H���`ݶf{�Fo�Y���@00uMb�z-��XI$&�gf���7Ӵ�u|'K.�oP
P���F�.��o��9B<~. ����[����<٭�$�����{1�A��.�bKx�L������'�u8n5���e ,]�H����V��Ww�$�C�el��|zys��K�i-�q�ݬbk,wnG��;�� ~�e�r͒���~'1`V⦫�-*[��L�K�'2@����仪��n���2�N� �ƶ�G���i/U��'E�@�`H��;J�������+J�n#���6ڴ�ĹG���N�G�'�Z!�����Wi��NJ�@���A��Z|�[��$q}i�ҷ�QbtTEC$��m��mo�L�D��;�%g�?w��ŷ���ovH0��a�5��*�ؒ��l͛�S�iy�r�O7����%L]��%���hk ����>v1�HB������d\�(eoIx�>3�6BS%���(
��f$�h�����eԎ���H���`ݶf{�Fo�Y���@00uMb�z-��XI$&�gf���7Ӵ�u|'K.�oP
P���F�.��o��9B<~. ����[����<٭�$�����{1�A��.�bKx�L������'�u8n5���e ,]�H����V��Ww�$�C�el��|zys��K�i-�q�ݬbk,wnG��;�� ~�e�r͒���~'1`V⦫�-*[��L�K�'2@����仪��n���2�N� �ƶ�G���i/U��'E�@�`H��;J�������+J�n#���6ڴ�ĹG���N�G�'�Z!�����Wi��NJ�@���A��Z|�[��$q}i�ҷ�QbtTEC$��m��mo�L�D��;�%g�?w��ŷ���ovH0��a�5��*�ؒ��l͛�S�iy�r�O7����%L]��%���hk ����>v1�HB������d\�(eoIx�>3�6BS%���(
��f$�h�����eԎ���H���`ݶf{�Fo�Y���@00uMb�z-��XI$&�gf���7Ӵ�u|'K.�oP
P���F�.��o��9B<~. ����[����<٭�$�����{1�A��.�bKx�L������'�u8n5���e ,]�H����V��Ww�$�C�el��|zys��K�i-�q�ݬbk,wnG��;�� ~�e�r͒���~'1`V⦫�-*[��L�K�'2@����仪��n���2�N� �ƶ�G���i/U��'E�@�`H��;J�������+J�n#���6ڴ�ĹG���N�G�'�Z!�����Wi��NJ�@���A��Z|�[��$q}i�ҷ�QbtTEC$��m��mo�L�D��;�%g�?w��ŷ���ovH0��a�5��*�ؒ��l͛�S�iy�r�O7����%L]��%���hk ����>v1�HB������d\�(eoIx�>3�6BS%���(
��f$�h�����eԎ���H���`ݶf{�Fo�Y���@00uMb�z-��XI$&�gf���7Ӵ�u|'K.�oP
P���F�.��o��9B<~. ����[����<٭�$�����{1�A��.�bKx�L������'�u8n5���e ,]�H����V��Ww�$�C�el��|zys��K�i-�q�ݬbk,wnG��;�� ~�e�r͒���~'1`V⦫�-*[��L�K�'2@����仪��n���2�N� �ƶ�G���i/U��'E�@�`H��;J�������+J�n#���6ڴ�ĹG���N�G�'�Z!�����Wi��NJ�@���A��Z|�[��$q}i�ҷ�QbtTEC$��m��mo�L�D��;�%g�?w��ŷ���ovH0��a�5��*�ؒ��l͛�S�iy�r�O7����%L]��%���hk ����>v1�HB������d\�(eoIx�>3�6BS%���(
��f$�h�����eԎ���H���`ݶf{�Fo�Y���@00uMb�z-��XI$&�gf���7Ӵ�u|'K.�oP
P���F�.��o��9B<~. ����[����<٭�$�����{1�A��.�bKx�L������'�u8n5���e ,]�H����V��Ww�$�C�el��|zys��K�i-�q�ݬbk,wnG��;�� ~�e�r͒���~'1`V⦫�-*[��L�K�'2@����仪��n���2�N� �ƶ�G���i/U��'E�@�`H��;J�������+J�n#���6ڴ�ĹG���N�G�'�Z!�����Wi��NJ�@���A��Z|�[��$q}i�ҷ�QbtTEC$��m��mo�L�D��;�%g�?w��ŷ���ovH0��a�5��*�ؒ��l͛�S�iy�r�O7����%L]��%���hk ����>v1�HB������d\�(eoIx�>3�6BS%���(
��f$�h�����eԎ���H���`ݶf{�Fo�Y���@00uMb�z-��XI$&�gf���7Ӵ�u|'K.�oP
P���F�.��o��9B<~. ����[����<٭�$�����{1�A��.�bKx�L������'�u8n5���e ,]�H����V��Ww�$�C�el��|zys��K�i-�q�ݬbk,wnG��;�� ~�e�r͒���~'1`V⦫�-*[��L�K�'2@����仪��n���2�N� �ƶ�G���i/U��'E�@�`H��;J�������+J�n#���6ڴ�ĹG���N�G�'�Z!�����Wi��NJ�@���A��Z|�[��$q}i�ҷ�QbtTEC$��m��mo�L�D��;�%g�?w��ŷ���ovH0��a�5��*�ؒ��l͛�S�iy�r�O7����%L]��%���hk ����>v1�HB������d\�(eoIx�>3�6BS%���(
��f$�h�����eԎ���H���`ݶf{�Fo�Y���@00uMb�z-��XI$&�gf���7Ӵ�u|'K.�oP
P���F�.��o��9B<~. ����[����<٭�$�����{1�A��.�bKx�L������'�u8n5���e ,]�H����V��Ww�$�C�el��|zys��K�i-�q�ݬbk,wnG��;�� ~�e�r͒���~'1`V⦫�-*[��L�K�'2@����仪��n���2�N� �ƶ�G���i/U��'E�@�`H��;J�������+J�n#���6ڴ�ĹG���N�G�'�Z!�����Wi��NJ�@���A��Z|�[��$q}i�ҷ�QbtTEC$��m��mo�L�D��;�%g�?w��ŷ���ovH0��a�5��*�ؒ��l͛�S�iy�r�O7����%L]��%���hk ����>v1�HB������d\�(eoIx�>3�6BS%���(
��f$�h�����eԎ���H���`ݶf{�Fo�Y���@00uMb�z-��XI$&�gf���7Ӵ�u|'K.�oP
P���F�.��o��9B<~. ����[����<٭�$�����{1�A��.�bKx�L������'�u8n5���e ,]�H����V��Ww�$�C�el��|zys��K�i-�q�ݬbk,wnG��;�� ~�e�r͒���~'1`V⦫�-*[��L�K�'2@����仪��n���2�N� �ƶ�G���i/U��'E�@�`H��;J�������+J�n#���6ڴ�ĹG���N�G�'�Z!�����Wi��NJ�@���A��Z|�[��$q}i�ҷ�QbtTEC$��m��mo�L�D��;�%g�?w��ŷ���ovH0��a�5��*�ؒ��l͛�S�iy�r�O7����%L]��%���hk ����>v1�HB������d\�(eoIx�>3�6BS%���(
��f$�h�����eԎ���H���`ݶf{�Fo�Y���@00uMb�z-��XI$&�gf���7Ӵ�u|'K.�oP
P���F�.��o��9B<~. ����[����<٭�$�����{1�A��.�bKx�L������'�u8n5���e ,]�H����V��Ww�$�C�el��|zys��K�i-�q�ݬbk,wnG��;�� ~�e�r͒���~'1`V⦫�-*[��L�K�'2@����仪��n���2�N� �ƶ�G���i/U��'E�@�`H��;J�������+J�n#���6ڴ�ĹG���N�G�'�Z!�����Wi��NJ�@���A��Z|�[��$q}i�ҷ�QbtTEC$��m��mo�L�D��;�%g�?w��ŷ���ovH0��a�5��*�ؒ��l͛�S�iy�r�O7����%L]��%���hk ����>v1�HB������d\�(eoIx�>3�6BS%���(
��f$�h�����eԎ���H���`ݶf{�Fo�Y���@00uMb�z-��XI$&�gf���7Ӵ�u|'K.�oP
P���F�.��o��9B<~. ����[����<٭�$�����{1�A��.�bKx�L������'�u8n5���e ,]�H����V��Ww�$�C�el��|zys��K�i-�q�ݬbk,wnG��;�� ~�e�r͒���~'1`V⦫�-*[��L�K�'2@����仪��n���2�N� �ƶ�G���i/U��'E�@�`H��;J�������+J�n#���6ڴ�ĹG���N�G�'�Z!�����Wi��NJ�@���A��Z|�[��$q}i�ҷ�QbtTEC$��m��mo�L�D��;�%g�?w��ŷ���ovH0��a�5��*�ؒ��l͛�S�iy�r�O7����%L]��%���hk ����>v1�HB������d\�(eoIx�>3�6BS%���(
��f$�h�����eԎ���H���`ݶf{�Fo�Y���@00uMb�z-��XI$&�gf���7Ӵ�u|'K.�oP
P���F�.��o��9B<~. ����[����<٭�$�����{1�A��.�bKx�L������'�u8n5���e ,]�H����V��Ww�$�C�el��|zys��K�i-�q�ݬbk,wnG��;�� ~�e�r͒���~'1`V⦫�-*[��L�K�'2@����仪��n���2�N� �ƶ�G���i/U��'E�@�`H��;J�������+J�n#���6ڴ�ĹG���N�G�'�Z!�����Wi��NJ�@���A��Z|�[��$q}i�ҷ�QbtTEC$��m��mo�L�D��;�%g�?w��ŷ���ovH0��a�5��*�ؒ��l͛�S�iy�r�O7����%L]��%���hk ����>v1�HB������d\�(eoIx�>3�6BS%���(
��f$�h�����eԎ���H���`ݶf{�Fo�Y���@00uMb�z-��XI$&�gf���7Ӵ�u|'K.�oP
P���F�.��o��9B<~. ����[����<٭�$�����{1�A��.�bKx�L������'�u8n5���e ,]�H����V��Ww�$�C�el��|zys��K�i-�q�ݬbk,wnG��;�� ~�e�r͒���~'1`V⦫�-*[��L�K�'2@����仪��n���2�N� �ƶ�G���i/U��'E�@�`H��;J�������+J�n#���6ڴ�ĹG���N�G�'�Z!�����Wi��NJ�@���A��Z|�[��$q}i�ҷ�QbtTEC$��m��mo�L�D��;�%g�?w��ŷ���ovH0��a�5��*�ؒ��l͛�S�iy�r�O7����%L]��%���hk ����>v1�HB������d\�(eoIx�>3�6BS%���(
��f$�h�����eԎ���H���`ݶf{�Fo�Y���@00uMb�z-��XI$&�gf���7Ӵ�u|'K.�oP
P���F�.��o��9B<~. ����[����<٭�$�����{1�A��.�bKx�L������'�u8n5���e ,]�H����V��Ww�$�C�el��|zys��K�i-�q�ݬbk,wnG��;�� ~�e�r͒���~'1`V⦫�-*[��L�K�'2@����仪��n���2�N� �ƶ�G���i/U��'E�@�`H��;J�������+J�n#���6ڴ�ĹG���N�G�'�Z!�����Wi��NJ�@���A��Z|�[��$q}i�ҷ�QbtTEC$��m��mo�L�D��;�%g�?w��ŷ���ovH0��a�5��*�ؒ��l͛�S�iy�r�O7����%L]��%���hk ����>v1�HB������d\�(eoIx�>3�6BS%���(
��f$�h�����eԎ���H���`ݶf{�Fo�Y���@00uMb�z-��XI$&�gf���7Ӵ�u|'K.�oP
P���F�.��o��9B<~. ����[����<٭�$�����{1�A��.�bKx�L������'�u8n5���e ,]�H����V��Ww�$�C�el��|zys��K�i-�q�ݬbk,wnG��;�� ~�e�r͒���~'1`V⦫�-*[��L�K�'2@����仪��n���2�N� �ƶ�G���i/U��'E�@�`H��;J�������+J�n#���6ڴ�ĹG���N�G�'�Z!�����Wi��NJ�@���A��Z|�[��$q}i�ҷ�QbtTEC$��m��mo�L�D��;�%g�?w��ŷ���ovH0��a�5��*�ؒ��l͛�S�iy�r�O7����%L]��%���hk ����>v1�HB������d\�(eoIx�>3�6BS%���(
��f$�h�����eԎ���H���`ݶf{�Fo�Y���@00uMb�z-��XI$&�gf���7Ӵ�u|'K.�oP
P���F�.��o��9B<~. ����[����<٭�$�����{1�A��.�bKx�L������'�u8n5���e ,]�H����V��Ww�$�C�el��|zys��K�i-�q�ݬbk,wnG��;�� ~�e�r͒���~'1`V⦫�-*[��L�K�'2@����仪��n���2�N� �ƶ�G���i/U��'E�@�`H��;J�������+J�n#���6ڴ�ĹG���N�G�'�Z!�����Wi��NJ�@���A��Z|�[��$q}i�ҷ�QbtTEC$��m��mo�L�D��;�%g�?w��ŷ���ovH0��a�5��*�ؒ��l͛�S�iy�r�O7����%L]��%���hk ����>v1�HB������d\�(eoIx�>3�6BS%���(
��f$�h�����eԎ���H���`ݶf{�Fo�Y���@00uMb�z-��XI$&�gf���7Ӵ�u|'K.�oP
P���F�.��o��9B<~. ����[����<٭�$�����{1�A��.�bKx�L������'�u8n5���e ,]�H����V��Ww�$�C�el��|zys��K�i-�q�ݬbk,wnG��;�� ~�e�r͒���~'1`V⦫�-*[��L�K�'2@����仪��n���2�N� �ƶ�G���i/U��'E�@�`H��;J�������+J�n#���6ڴ�ĹG���N�G�'�Z!�����Wi��NJ�@���A��Z|�[��$q}i�ҷ�QbtTEC$��m��mo�L�D��;�%g�?w��ŷ���ovH0��a�5��*�ؒ��l͛�S�iy�r�O7����%L]��%���hk ����>v1�HB������d\�(eoIx�>3�6BS%���(
��f$�h�����eԎ���H���`ݶf{�Fo�Y���@00uMb�z-��XI$&�gf���7Ӵ�u|'K.�oP
P���F�.��o��9B<~. ����[����<٭�$�����{1�A��.�bKx�L������'�u8n5���e ,]�H����V��Ww�$�C�el��|zys��K�i-�q�ݬbk,wnG��;�� ~�e�r͒���~'1`V⦫�-*[��L�K�'2@����仪��n���2�N� �ƶ�G���i/U��'E�@�`H��;J�������+J�n#���6ڴ�ĹG���N�G�'�Z!�����Wi��NJ�@���A��Z|�[��$q}i�ҷ�QbtTEC$��m��mo�L�D��;�%g�?w��ŷ���ovH0��a�5��*�ؒ��l͛�S�iy�r�O7����%L]��%���hk ����>v1�HB������d\�(eoIx�>3�6BS%���(
��f$�h�����eԎ���H���`ݶf{�Fo�Y���@00uMb�z-��XI$&�gf���7Ӵ�u|'K.�oP
P���F�.��o��9B<~. ����[����<٭�$�����{1�A��.�bKx�L������'�u8n5���e ,]�H����V��Ww�$�C�el��|zys��K�i-�q�ݬbk,wnG��;�� ~�e�r͒���~'1`V⦫�-*[��L�K�'2@����仪��n���2�N� �ƶ�G���i/U��'E�@�`H��;J�������+J�n#���6ڴ�ĹG���N�G�'�Z!�����Wi��NJ�@���A��Z|�[��$q}i�ҷ�QbtTEC$��m��mo�L�D��;�%g�?w��ŷ���ovH0��a�5��*�ؒ��l͛�S�iy�r�O7����%L]��%���hk ����>v1�HB������d\�(eoIx�>3�6BS%���(
��f$�h�����eԎ���H���`ݶf{�Fo�Y���@00uMb�z-��XI$&�gf���7Ӵ�u|'K.�oP
P���F�.��o��9B<~. ����[����<٭�$�����{1�A��.�bKx�L������'�u8n5���e ,]�H����V��Ww�$�C�el��|zys��K�i-�q�ݬbk,wnG��;�� ~�e�r͒���~'1`V⦫�-*[��L�K�'2@����仪��n���2�N� �ƶ�G���i/U��'E�@�`H��;J�������+J�n#���6ڴ�ĹG���N�G�'�Z!�����Wi��NJ�@���A��Z|�[��$q}i�ҷ�QbtTEC$��m��mo�L�D��;�%g�?w��ŷ���ovH0��a�5��*�ؒ��l͛�S�iy�r�O7����%L]��%���hk ����>v1�HB������d\�(eoIx�>3�6BS%���(
��f$�h�����eԎ���H���`ݶf{�Fo�Y���@00uMb�z-��XI$&�gf���7Ӵ�u|'K.�oP
P���F�.��o��9B<~. ����[����<٭�$�����{1�A��.�bKx�L������'�u8n5���e ,]�H����V��Ww�$�C�el��|zys��K�i-�q�ݬbk,wnG��;�� ~�e�r͒���~'1`V⦫�-*[��L�K�'2@����仪��n���2�N� �ƶ�G���i/U��'E�@�`H��;J�������+J�n#���6ڴ�ĹG���N�G�'�Z!�����Wi��NJ�@���A��Z|�[��$q}i�ҷ�QbtTEC$��m��mo�L�D��;�%g�?w��ŷ���ovH0��a�5��*�ؒ��l͛�S�iy�r�O7����%L]��%���hk ����>v1�HB������d\�(eoIx�>3�6BS%���(
��f$�h�����eԎ���H���`ݶf{�Fo�Y���@00uMb�z-��XI$&�gf���7Ӵ�u|'K.�oP
P���F�.��o��9B<~. ����[����<٭�$�����{1�A��.�bKx�L������'�u8n5���e ,]�H����V��Ww�$�C�el��|zys��K�i-�q�ݬbk,wnG��;�� ~�e�r͒���~'1`V⦫�-*[��L�K�'2@����仪��n���2�N� �ƶ�G���i/U��'E�@�`H��;J�������+J�n#���6ڴ�ĹG���N�G�'�Z!�����Wi��NJ�@���A��Z|�[��$q}i�ҷ�QbtTEC$��m��mo�L�D��;�%g�?w��ŷ���ovH0��a�5��*�ؒ��l͛�S�iy�r�O7����%L]��%���hk ����>v1�HB������d\�(eoIx�>3�6BS%���(
��f$�h�����eԎ���H���`ݶf{�Fo�Y���@00uMb�z-��XI$&�gf���7Ӵ�u|'K.�oP
P���F�.��o��9B<~. ����[����<٭�$�����{1�A��.�bKx�L������'�u8n5���e ,]�H����V��Ww�$�C�el��|zys��K�i-�q�ݬbk,wnG��;�� ~�e�r͒���~'1`V⦫�-*[��L�K�'2@����仪��n���2�N� �ƶ�G���i/U��'E�@�`H��;J�������+J�n#���6ڴ�ĹG���N�G�'�Z!�����Wi��NJ�@���A��Z|�[��$q}i�ҷ�QbtTEC$��m��mo�L�D��;�%g�?w��ŷ���ovH0��a�5��*�ؒ��l͛�S�iy�r�O7����%L]��%���hk ����>v1�HB������d\�(eoIx�>3�6BS%���(
��f$�h�����eԎ���H���`ݶf{�Fo�Y���@00uMb�z-��XI$&�gf���7Ӵ�u|'K.�oP
P���F�.��o��9B<~. ����[����<٭�$�����{1�A��.�bKx�L������'�u8n5���e ,]�H����V��Ww�$�C�el��|zys��K�i-�q�ݬbk,wnG��;�� ~�e�r͒���~'1`V⦫�-*[��L�K�'2@����仪��n���2�N� �ƶ�G���i/U��'E�@�`H��;J�������+J�n#���6ڴ�ĹG���N�G�'�Z!�����Wi��NJ�@���A��Z|�[��$q}i�ҷ�QbtTEC$��m��mo�L�D��;�%g�?w��ŷ���ovH0��a�5��*�ؒ��l͛�S�iy�r�O7����%L]��%���hk ����>v1�HB������d\�(eoIx�>3�6BS%���(
��f$�h�����eԎ���H���`ݶf{�Fo�Y���@00uMb�z-��XI$&�gf���7Ӵ�u|'K.�oP
P���F�.��o��9B<~. ����[����<٭�$�����{1�A��.�bKx�L������'�u8n5���e ,]�H����V��Ww�$�C�el��|zys��K�i-�q�ݬbk,wnG��;�� ~�e�r͒���~'1`V⦫�-*[��L�K�'2@����仪��n���2�N� �ƶ�G���i/U��'E�@�`H��;J�������+J�n#���6ڴ�ĹG���N�G�'�Z!�����Wi��NJ�@���A��Z|�[��$q}i�ҷ�QbtTEC$��m��mo�L�D��;�%g�?w��ŷ���ovH0��a�5��*�ؒ��l͛�S�iy�r�O7����%L]��%���hk ����>v1�HB������d\�(eoIx�>3�6BS%���(
��f$�h�����eԎ���H���`ݶf{�Fo�Y���@00uMb�z-��XI$&�gf���7Ӵ�u|'K.�oP
P���F�.��o��9B<~. ����[����<٭�$�����{1�A��.�bKx�L������'�u8n5���e ,]�H����V��Ww�$�C�el��|zys��K�i-�q�ݬbk,wnG��;�� ~�e�r͒���~'1`V⦫�-*[��L�K�'2@����仪��n���2�N� �ƶ�G���i/U��'E�@�`H��;J�������+J�n#���6ڴ�ĹG���N�G�'�Z!�����Wi��NJ�@���A��Z|�[��$q}i�ҷ�QbtTEC$��m��mo�L�D��;�%g�?w��ŷ���ovH0��a�5��*�ؒ��l͛�S�iy�r�O7����%L]��%���hk ����>v1�HB������d\�(eoIx�>3�6BS%���(
��f$�h�����eԎ���H���`ݶf{�Fo�Y���@00uMb�z-��XI$&�gf���7Ӵ�u|'K.�oP
P���F�.��o��9B<~. ����[����<٭�$�����{1�A��.�bKx�L������'�u8n5���e ,]�H����V��Ww�$�C�el��|zys��K�i-�q�ݬbk,wnG��;�� ~�e�r͒���~'1`V⦫�-*[��L�K�'2@����仪��n���2�N� �ƶ�G���i/U��'E�@�`H��;J�������+J�n#���6ڴ�ĹG���N�G�'�Z!�����Wi��NJ�@���A��Z|�[��$q}i�ҷ�QbtTEC$��m��mo�L�D��;�%g�?w��ŷ���ovH0��a�5��*�ؒ��l͛�S�iy�r�O7����%L]��%���hk ����>v1�HB������d\�(eoIx�>3�6BS%���(
��f$�h�����eԎ���H���`ݶf{�Fo�Y���@00uMb�z-��XI$&�gf���7Ӵ�u|'K.�oP
P���F�.��o��9B<~. ����[����<٭�$�����{1�A��.�bKx�L������'�u8n5���e ,]�H����V��Ww�$�C�el��|zys��K�i-�q�ݬbk,wnG��;�� ~�e�r͒���~'1`V⦫�-*[��L�K�'2@����仪��n���2�N� �ƶ�G���i/U��'E�@�`H��;J�������+J�n#���6ڴ�ĹG���N�G�'�Z!�����Wi��NJ�@���A��Z|�[��$q}i�ҷ�QbtTEC$��m��mo�L�D��;�%g�?w��ŷ���ovH0��a�5��*�ؒ��l͛�S�iy�r�O7����%L]��%���hk ����>v1�HB������d\�(eoIx�>3�6BS%���(
��f$�h�����eԎ���H���`ݶf{�Fo�Y���@00uMb�z-��XI$&�gf���7Ӵ�u|'K.�oP
P���F�.��o��9B<~. ����[����<٭�$�����{1�A��.�bKx�L������'�u8n5���e ,]�H����V��Ww�$�C�el��|zys��K�i-�q�ݬbk,wnG��;�� ~�e�r͒���~'1`V⦫�-*[��L�K�'2@����仪��n���2�N� �ƶ�G���i/U��'E�@�`H��;J�������+J�n#���6ڴ�ĹG���N�G�'�Z!�����Wi��NJ�@���A��Z|�[��$q}i�ҷ�QbtTEC$��m��mo�L�D��;�%g�?w��ŷ���ovH0��a�5��*�ؒ��l͛�S�iy�r�O7����%L]��%���hk ����>v1�HB������d\�(eoIx�>3�6BS%���(
��f$�h�����eԎ���H���`ݶf{�Fo�Y���@00uMb�z-��XI$&�gf���7Ӵ�u|'K.�oP
P���F�.��o��9B<~. ����[����<٭�$�����{1�A��.�bKx�L������'�u8n5���e ,]�H����V��Ww�$�C�el��|zys��K�i-�q�ݬbk,wnG��;�� ~�e�r͒���~'1`V⦫�-*[��L�K�'2@����仪��n���2�N� �ƶ�G���i/U��'E�@�`H��;J�������+J�n#���6ڴ�ĹG���N�G�'�Z!�����Wi��NJ�@���A��Z|�[��$q}i�ҷ�QbtTEC$��m��mo�L�D��;�%g�?w��ŷ���ovH0��a�5��*�ؒ��l͛�S�iy�r�O7����%L]��%���hk ����>v1�HB������d\�(eoIx�>3�6BS%���(
��f$�h�����eԎ���H���`ݶf{�Fo�Y���@00uMb�z-��XI$&�gf���7Ӵ�u|'K.�oP
P���F�.��o��9B<~. ����[����<٭�$�����{1�A��.�bKx�L������'�u8n5���e ,]�H����V��Ww�$�C�el��|zys��K�i-�q�ݬbk,wnG��;�� ~�e�r͒���~'1`V⦫�-*[��L�K�'2@����仪��n���2�N� �ƶ�G���i/U��'E�@�`H��;J�������+J�n#���6ڴ�ĹG���N�G�'�Z!�����Wi��NJ�@���A��Z|�[��$q}i�ҷ�QbtTEC$��m��mo�L�D��;�%g�?w��ŷ���ovH0��a�5��*�ؒ��l͛�S�iy�r�O7����%L]��%���hk ����>v1�HB������d\�(eoIx�>3�6BS%���(
��f$�h�����eԎ���H���`ݶf{�Fo�Y���@00uMb�z-��XI$&�gf���7Ӵ�u|'K.�oP
P���F�.��o��9B<~. ����[����<٭�$�����{1�A��.�bKx�L������'�u8n5���e ,]�H����V��Ww�$�C�el��|zys��K�i-�q�ݬbk,wnG��;�� ~�e�r͒���~'1`V⦫�-*[��L�K�'2@����仪��n���2�N� �ƶ�G���i/U��'E�@�`H��;J�������+J�n#���6ڴ�ĹG���N�G�'�Z!�����Wi��NJ�@���A��Z|�[��$q}i�ҷ�QbtTEC$��m��mo�L�D��;�%g�?w��ŷ���ovH0��a�5��*�ؒ��l͛�S�iy�r�O7����%L]��%���hk ����>v1�HB������d\�(eoIx�>3�6BS%���(
��f$�h�����eԎ���H���`ݶf{�Fo�Y���@00uMb�z-��XI$&�gf���7Ӵ�u|'K.�oP
P���F�.��o��9B<~. ����[����<٭�$�����{1�A��.�bKx�L������'�u8n5���e ,]�H����V��Ww�$�C�el��|zys��K�i-�q�ݬbk,wnG��;�� ~�e�r͒���~'1`V⦫�-*[��L�K�'2@����仪��n���2�N� �ƶ�G���i/U��'E�@�`H��;J�������+J�n#���6ڴ�ĹG���N�G�'�Z!�����Wi��NJ�@���A��Z|�[��$q}i�ҷ�QbtTEC$��m��mo�L�D��;�%g�?w��ŷ���ovH0��a�5��*�ؒ��l͛�S�iy�r�O7����%L]��%���hk ����>v1�HB������d\�(eoIx�>3�6BS%���(
��f$�h�����eԎ���H���`ݶf{�Fo�Y���@00uMb�z-��XI$&�gf���7Ӵ�u|'K.�oP
P���F�.��o��9B<~. ����[����<٭�$�����{1�A��.�bKx�L������'�u8n5���e ,]�H����V��Ww�$�C�el��|zys��K�i-�q�ݬbk,wnG��;�� ~�e�r͒���~'1`V⦫�-*[��L�K�'2@����仪��n���2�N� �ƶ�G���i/U��'E�@�`H��;J�������+J�n#���6ڴ�ĹG���N�G�'�Z!�����Wi��NJ�@���A��Z|�[��$q}i�ҷ�QbtTEC$��m��mo�L�D��;�%g�?w��ŷ���ovH0��a�5��*�ؒ��l͛�S�iy�r�O7����%L]��%���hk ����>v1�HB������d\�(eoIx�>3�6BS%���(
��f$�h�����eԎ���H���`ݶf{�Fo�Y���@00uMb�z-��XI$&�gf���7Ӵ�u|'K.�oP
P���F�.��o��9B<~. ����[����<٭�$�����{1�A��.�bKx�L������'�u8n5���e ,]�H����V��Ww�$�C�el��|zys��K�i-�q�ݬbk,wnG��;�� ~�e�r͒���~'1`V⦫�-*[��L�K�'2@����仪��n���2�N� �ƶ�G���i/U��'E�@�`H��;J�������+J�n#���6ڴ�ĹG���N�G�'�Z!�����Wi��NJ�@���A��Z|�[��$q}i�ҷ�QbtTEC$��m��mo�L�D��;�%g�?w��ŷ���ovH0��a�5��*�ؒ��l͛�S�iy�r�O7����%L]��%���hk ����>v1�HB������d\�(eoIx�>3�6BS%���(
��f$�h�����eԎ���H���`ݶf{�Fo�Y���@00uMb�z-��XI$&�gf���7Ӵ�u|'K.�oP
P���F�.��o��9B<~. ����[����<٭�$�����{1�A��.�bKx�L������'�u8n5���e ,]�H����V��Ww�$�C�el��|zys��K�i-�q�ݬbk,wnG��;�� ~�e�r͒���~'1`V⦫�-*[��L�K�'2@����仪��n���2�N� �ƶ�G���i/U��'E�@�`H��;J�������+J�n#���6ڴ�ĹG���N�G�'�Z!�����Wi��NJ�@���A��Z|�[��$q}i�ҷ�QbtTEC$��m��mo�L�D��;�%g�?w��ŷ���ovH0��a�5��*�ؒ��l͛�S�iy�r�O7����%L]��%���hk ����>v1�HB������d\�(eoIx�>3�6BS%���(
��f$�h�����eԎ���H���`ݶf{�Fo�Y���@00uMb�z-��XI$&�gf���7Ӵ�u|'K.�oP
P���F�.��o��9B<~. ����[����<٭�$�����{1�A��.�bKx�L������'�u8n5���e ,]�H����V��Ww�$�C�el��|zys��K�i-�q�ݬbk,wnG��;�� ~�e�r͒���~'1`V⦫�-*[��L�K�'2@����仪��n���2�N� �ƶ�G���i/U��'E�@�`H��;J�������+J�n#���6ڴ�ĹG���N�G�'�Z!�����Wi��NJ�@���A��Z|�[��$q}i�ҷ�QbtTEC$��m��mo�L�D��;�%g�?w��ŷ���ovH0��a�5��*�ؒ��l͛�S�iy�r�O7����%L]��%���hk ����>v1�HB������d\�(eoIx�>3�6BS%���(
��f$�h�����eԎ���H���`ݶf{�Fo�Y���@00uMb�z-��XI$&�gf���7Ӵ�u|'K.�oP
P���F�.��o��9B<~. ����[����<٭�$�����{1�A��.�bKx�L������'�u8n5���e ,]�H����V��Ww�$�C�el��|zys��K�i-�q�ݬbk,wnG��;�� ~�e�r͒���~'1`V⦫�-*[��L�K�'2@����仪��n���2�N� �ƶ�G���i/U��'E�@�`H��;J�������+J�n#���6ڴ�ĹG���N�G�'�Z!�����Wi��NJ�@���A��Z|�[��$q}i�ҷ�QbtTEC$��m��mo�L�D��;�%g�?w��ŷ���ovH0��a�5��*�ؒ��l͛�S�iy�r�O7����%L]��%���hk ����>v1�HB������d\�(eoIx�>3�6BS%���(
��f$�h�����eԎ���H���`ݶf{�Fo�Y���@00uMb�z-��XI$&�gf���7Ӵ�u|'K.�oP
P���F�.��o��9B<~. ����[����<٭�$�����{1�A��.�bKx�L������'�u8n5���e ,]�H����V��Ww�$�C�el��|zys��K�i-�q�ݬbk,wnG��;�� ~�e�r͒���~'1`V⦫�-*[��L�K�'2@����仪��n���2�N� �ƶ�G���i/U��'E�@�`H��;J�������+J�n#���6ڴ�ĹG���N�G�'�Z!�����Wi��NJ�@���A��Z|�[��$q}i�ҷ�QbtTEC$��m��mo�L�D��;�%g�?w��ŷ���ovH0��a�5��*�ؒ��l͛�S�iy�r�O7����%L]��%���hk ����>v1�HB������d\�(eoIx�>3�6BS%���(
��f$�h�����eԎ���H���`ݶf{�Fo�Y���@00uMb�z-��XI$&�gf���7Ӵ�u|'K.�oP
P���F�.��o��9B<~. ����[����<٭�$�����{1�A��.�bKx�L������'�u8n5���e ,]�H����V��Ww�$�C�el��|zys��K�i-�q�ݬbk,wnG��;�� ~�e�r͒���~'1`V⦫�-*[��L�K�'2@����仪��n���2�N� �ƶ�G���i/U��'E�@�`H��;J�������+J�n#���6ڴ�ĹG���N�G�'�Z!�����Wi��NJ�@���A��Z|�[��$q}i�ҷ�QbtTEC$��m��mo�L�D��;�%g�?w��ŷ���ovH0��a�5��*�ؒ��l͛�S�iy�r�O7����%L]��%���hk ����>v1�HB������d\�(eoIx�>3�6BS%���(
��f$�h�����eԎ���H���`ݶf{�Fo�Y���@00uMb�z-��XI$&�gf���7Ӵ�u|'K.�oP
P���F�.��o��9B<~. ����[����<٭�$�����{1�A��.�bKx�L������'�u8n5���e ,]�H����V��Ww�$�C�el��|zys��K�i-�q�ݬbk,wnG��;�� ~�e�r͒���~'1`V⦫�-*[��L�K�'2@����仪��n���2�N� �ƶ�G���i/U��'E�@�`H��;J�������+J�n#���6ڴ�ĹG���N�G�'�Z!�����Wi��NJ�@���A��Z|�[��$q}i�ҷ�QbtTEC$��m��mo�L�D��;�%g�?w��ŷ���ovH0��a�5��*�ؒ��l͛�S�iy�r�O7����%L]��%���hk ����>v1�HB������d\�(eoIx�>3�6BS%���(
��f$�h�����eԎ���H���`ݶf{�Fo�Y���@00uMb�z-��XI$&�gf���7Ӵ�u|'K.�oP
P���F�.��o��9B<~. ����[����<٭�$�����{1�A��.�bKx�L������'�u8n5���e ,]�H����V��Ww�$�C�el��|zys��K�i-�q�ݬbk,wnG��;�� ~�e�r͒���~'1`V⦫�-*[��L�K�'2@����仪��n���2�N� �ƶ�G���i/U��'E�@�`H��;J�������+J�n#���6ڴ�ĹG���N�G�'�Z!�����Wi��NJ�@���A��Z|�[��$q}i�ҷ�QbtTEC$��m��mo�L�D��;�%g�?w��ŷ���ovH0��a�5��*�ؒ��l͛�S�iy�r�O7����%L]��%���hk ����>v1�HB������d\�(eoIx�>3�6BS%���(
��f$�h�����eԎ���H���`ݶf{�Fo�Y���@00uMb�z-��XI$&�gf���7Ӵ�u|'K.�oP
P���F�.��o��9B<~. ����[����<٭�$�����{1�A��.�bKx�L������'�u8n5���e ,]�H����V��Ww�$�C�el��|zys��K�i-�q�ݬbk,wnG��;�� ~�e�r͒���~'1`V⦫�-*[��L�K�'2@����仪��n���2�N� �ƶ�G���i/U��'E�@�`H��;J�������+J�n#���6ڴ�ĹG���N�G�'�Z!�����Wi��NJ�@���A��Z|�[��$q}i�ҷ�QbtTEC$��m��mo�L�D��;�%g�?w��ŷ���ovH0��a�5��*�ؒ��l͛�S�iy�r�O7����%L]��%���hk ����>v1�HB������d\�(eoIx�>3�6BS%���(
��f$�h�����eԎ���H���`ݶf{�Fo�Y���@00uMb�z-��XI$&�gf���7Ӵ�u|'K.�oP
P���F�.��o��9B<~. ����[����<٭�$�����{1�A��.�bKx�L������'�u8n5���e ,]�H����V��Ww�$�C�el��|zys��K�i-�q�ݬbk,wnG��;�� ~�e�r͒���~'1`V⦫�-*[��L�K�'2@����仪��n���2�N� �ƶ�G���i/U��'E�@�`H��;J�������+J�n#���6ڴ�ĹG���N�G�'�Z!�����Wi��NJ�@���A��Z|�[��$q}i�ҷ�QbtTEC$��m��mo�L�D��;�%g�?w��ŷ���ovH0��a�5��*�ؒ��l͛�S�iy�r�O7����%L]��%���hk ����>v1�HB������d\�(eoIx�>3�6BS%���(
��f$�h�����eԎ���H���`ݶf{�Fo�Y���@00uMb�z-��XI$&�gf���7Ӵ�u|'K.�oP
P���F�.��o��9B<~. ����[����<٭�$�����{1�A��.�bKx�L������'�u8n5���e ,]�H����V��Ww�$�C�el��|zys��K�i-�q�ݬbk,wnG��;�� ~�e�r͒���~'1`V⦫�-*[��L�K�'2@����仪��n���2�N� �ƶ�G���i/U��'E�@�`H��;J�������+J�n#���6ڴ�ĹG���N�G�'�Z!�����Wi��NJ�@���A��Z|�[��$q}i�ҷ�QbtTEC$��m��mo�L�D��;�%g�?w��ŷ���ovH0��a�5��*�ؒ��l͛�S�iy�r�O7����%L]��%���hk ����>v1�HB������d\�(eoIx�>3�6BS%���(
��f$�h�����eԎ���H���`ݶf{�Fo�Y���@00uMb�z-��XI$&�gf���7Ӵ�u|'K.�oP
P���F�.��o��9B<~. ����[����<٭�$�����{1�A��.�bKx�L������'�u8n5���e ,]�H����V��Ww�$�C�el��|zys��K�i-�q�ݬbk,wnG��;�� ~�e�r͒���~'1`V⦫�-*[��L�K�'2@����仪��n���2�N� �ƶ�G���i/U��'E�@�`H��;J�������+J�n#���6ڴ�ĹG���N�G�'�Z!�����Wi��NJ�@���A��Z|�[��$q}i�ҷ�QbtTEC$��m��mo�L�D��;�%g�?w��ŷ���ovH0��a�5��*�ؒ��l͛�S�iy�r�O7����%L]��%���hk ����>v1�HB������d\�(eoIx�>3�6BS%���(
��f$�h�����eԎ���H���`ݶf{�Fo�Y���@00uMb�z-��XI$&�gf���7Ӵ�u|'K.�oP
P���F�.��o��9B<~. ����[����<٭�$�����{1�A��.�bKx�L������'�u8n5���e ,]�H����V��Ww�$�C�el��|zys��K�i-�q�ݬbk,wnG��;�� ~�e�r͒���~'1`V⦫�-*[��L�K�'2@����仪��n���2�N� �ƶ�G���i/U��'E�@�`H��;J�������+J�n#���6ڴ�ĹG���N�G�'�Z!�����Wi��NJ�@���A��Z|�[��$q}i�ҷ�QbtTEC$��m��mo�L�D��;�%g�?w��ŷ���ovH0��a�5��*�ؒ��l͛�S�iy�r�O7����%L]��%���hk ����>v1�HB������d\�(eoIx�>3�6BS%���(
��f$�h�����eԎ���H���`ݶf{�Fo�Y���@00uMb�z-��XI$&�gf���7Ӵ�u|'K.�oP
P���F�.��o��9B<~. ����[����<٭�$�����{1�A��.�bKx�L������'�u8n5���e ,]�H����V��Ww�$�C�el��|zys��K�i-�q�ݬbk,wnG��;�� ~�e�r͒���~'1`V⦫�-*[��L�K�'2@����仪��n���2�N� �ƶ�G���i/U��'E�@�`H��;J�������+J�n#���6ڴ�ĹG���N�G�'�Z!�����Wi��NJ�@���A��Z|�[��$q}i�ҷ�QbtTEC$��m��mo�L�D��;�%g�?w��ŷ���ovH0��a�5��*�ؒ��l͛�S�iy�r�O7����%L]��%���hk ����>v1�HB������d\�(eoIx�>3�6BS%���(
��f$�h�����eԎ���H���`ݶf{�Fo�Y���@00uMb�z-��XI$&�gf���7Ӵ�u|'K.�oP
P���F�.��o��9B<~. ����[����<٭�$�����{1�A��.�bKx�L������'�u8n5���e ,]�H����V��Ww�$�C�el��|zys��K�i-�q�ݬbk,wnG��;�� ~�e�r͒���~'1`V⦫�-*[��L�K�'2@����仪��n���2�N� �ƶ�G���i/U��'E�@�`H��;J�������+J�n#���6ڴ�ĹG���N�G�'�Z!�����Wi��NJ�@���A��Z|�[��$q}i�ҷ�QbtTEC$��m��mo�L�D��;�%g�?w��ŷ���ovH0��a�5��*�ؒ��l͛�S�iy�r�O7����%L]��%���hk ����>v1�HB������d\�(eoIx�>3�6BS%���(
��f$�h�����eԎ���H���`ݶf{�Fo�Y���@00uMb�z-��XI$&�gf���7Ӵ�u|'K.�oP
P���F�.��o��9B<~. ����[����<٭�$�����{1�A��.�bKx�L������'�u8n5���e ,]�H����V��Ww�$�C�el��|zys��K�i-�q�ݬbk,wnG��;�� ~�e�r͒���~'1`V⦫�-*[��L�K�'2@����仪��n���2�N� �ƶ�G���i/U��'E�@�`H��;J�������+J�n#���6ڴ�ĹG���N�G�'�Z!�����Wi��NJ�@���A��Z|�[��$q}i�ҷ�QbtTEC$��m��mo�L�D��;�%g�?w��ŷ���ovH0��a�5��*�ؒ��l͛�S�iy�r�O7����%L]��%���hk ����>v1�HB������d\�(eoIx�>3�6BS%���(
��f$�h�����eԎ���H���`ݶf{�Fo�Y���@00uMb�z-��XI$&�gf���7Ӵ�u|'K.�oP
P���F�.��o��9B<~. ����[����<٭�$�����{1�A��.�bKx�L������'�u8n5���e ,]�H����V��Ww�$�C�el��|zys��K�i-�q�ݬbk,wnG��;�� ~�e�r͒���~'1`V⦫�-*[��L�K�'2@����仪��n���2�N� �ƶ�G���i/U��'E�@�`H��;J�������+J�n#���6ڴ�ĹG���N�G�'�Z!�����Wi��NJ�@���A��Z|�[��$q}i�ҷ�QbtTEC$��m��mo�L�D��;�%g�?w��ŷ���ovH0��a�5��*�ؒ��l͛�S�iy�r�O7����%L]��%���hk ����>v1�HB������d\�(eoIx�>3�6BS%���(
��f$�h�����eԎ���H���`ݶf{�Fo�Y���@00uMb�z-��XI$&�gf���7Ӵ�u|'K.�oP
P���F�.��o��9B<~. ����[����<٭�$�����{1�A��.�bKx�L������'�u8n5���e ,]�H����V��Ww�$�C�el��|zys��K�i-�q�ݬbk,wnG��;�� ~�e�r͒���~'1`V⦫�-*[��L�K�'2@����仪��n���2�N� �ƶ�G���i/U��'E�@�`H��;J�������+J�n#���6ڴ�ĹG���N�G�'�Z!�����Wi��NJ�@���A��Z|�[��$q}i�ҷ�QbtTEC$��m��mo�L�D��;�%g�?w��ŷ���ovH0��a�5��*�ؒ��l͛�S�iy�r�O7����%L]��%���hk ����>v1�HB������d\�(eoIx�>3�6BS%���(
��f$�h�����eԎ���H���`ݶf{�Fo�Y���@00uMb�z-��XI$&�gf���7Ӵ�u|'K.�oP
P���F�.��o��9B<~. ����[����<٭�$�����{1�A��.�bKx�L������'�u8n5���e ,]�H����V��Ww�$�C�el��|zys��K�i-�q�ݬbk,wnG��;�� ~�e�r͒���~'1`V⦫�-*[��L�K�'2@����仪��n���2�N� �ƶ�G���i/U��'E�@�`H��;J�������+J�n#���6ڴ�ĹG���N�G�'�Z!�����Wi��NJ�@���A��Z|�[��$q}i�ҷ�QbtTEC$��m��mo�L�D��;�%g�?w��ŷ���ovH0��a�5��*�ؒ��l͛�S�iy�r�O7����%L]��%���hk ����>v1�HB������d\�(eoIx�>3�6BS%���(
��f$�h�����eԎ���H���`ݶf{�Fo�Y���@00uMb�z-��XI$&�gf���7Ӵ�u|'K.�oP
P���F�.��o��9B<~. ����[����<٭�$�����{1�A��.�bKx�L������'�u8n5���e ,]�H����V��Ww�$�C�el��|zys��K�i-�q�ݬbk,wnG��;�� ~�e�r͒���~'1`V⦫�-*[��L�K�'2@����仪��n���2�N� �ƶ�G���i/U��'E�@�`H��;J�������+J�n#���6ڴ�ĹG���N�G�'�Z!�����Wi��NJ�@���A��Z|�[��$q}i�ҷ�QbtTEC$��m��mo�L�D��;�%g�?w��ŷ���ovH0��a�5��*�ؒ��l͛�S�iy�r�O7����%L]��%���hk ����>v1�HB������d\�(eoIx�>3�6BS%���(
��f$�h�����eԎ���H���`ݶf{�Fo�Y���@00uMb�z-��XI$&�gf���7Ӵ�u|'K.�oP
P���F�.��o��9B<~. ����[����<٭�$�����{1�A��.�bKx�L������'�u8n5���e ,]�H����V��Ww�$�C�el��|zys��K�i-�q�ݬbk,wnG��;�� ~�e�r͒���~'1`V⦫�-*[��L�K�'2@����仪��n���2�N� �ƶ�G���i/U��'E�@�`H��;J�������+J�n#���6ڴ�ĹG���N�G�'�Z!�����Wi��NJ�@���A��Z|�[��$q}i�ҷ�QbtTEC$��m��mo�L�D��;�%g�?w��ŷ���ovH0��a�5��*�ؒ��l͛�S�iy�r�O7����%L]��%���hk ����>v1�HB������d\�(eoIx�>3�6BS%���(
��f$�h�����eԎ���H���`ݶf{�Fo�Y���@00uMb�z-��XI$&�gf���7Ӵ�u|'K.�oP
P���F�.��o��9B<~. ����[����<٭�$�����{1�A��.�bKx�L������'�u8n5���e ,]�H����V��Ww�$�C�el��|zys��K�i-�q�ݬbk,wnG��;�� ~�e�r͒���~'1`V⦫�-*[��L�K�'2@����仪��n���2�N� �ƶ�G���i/U��'E�@�`H��;J�������+J�n#���6ڴ�ĹG���N�G�'�Z!�����Wi��NJ�@���A��Z|�[��$q}i�ҷ�QbtTEC$��m��mo�L�D��;�%g�?w��ŷ���ovH0��a�5��*�ؒ��l͛�S�iy�r�O7����%L]��%���hk ����>v1�HB������d\�(eoIx�>3�6BS%���(
��f$�h�����eԎ���H���`ݶf{�Fo�Y���@00uMb�z-��XI$&�gf���7Ӵ�u|'K.�oP
P���F�.��o��9B<~. ����[����<٭�$�����{1�A��.�bKx�L������'�u8n5���e ,]�H����V��Ww�$�C�el��|zys��K�i-�q�ݬbk,wnG��;�� ~�e�r͒���~'1`V⦫�-*[��L�K�'2@����仪��n���2�N� �ƶ�G���i/U��'E�@�`H��;J�������+J�n#���6ڴ�ĹG���N�G�'�Z!�����Wi��NJ�@���A��Z|�[��$q}i�ҷ�QbtTEC$��m��mo�L�D��;�%g�?w��ŷ���ovH0��a�5��*�ؒ��l͛�S�iy�r�O7����%L]��%���hk ����>v1�HB������d\�(eoIx�>3�6BS%���(
��f$�h�����eԎ���H���`ݶf{�Fo�Y���@00uMb�z-��XI$&�gf���7Ӵ�u|'K.�oP
P���F�.��o��9B<~. ����[����<٭�$�����{1�A��.�bKx�L������'�u8n5���e ,]�H����V��Ww�$�C�el��|zys��K�i-�q�ݬbk,wnG��;�� ~�e�r͒���~'1`V⦫�-*[��L�K�'2@����仪��n���2�N� �ƶ�G���i/U��'E�@�`H��;J�������+J�n#���6ڴ�ĹG���N�G�'�Z!�����Wi��NJ�@���A��Z|�[��$q}i�ҷ�QbtTEC$��m��mo�L�D��;�%g�?w��ŷ���ovH0��a�5��*�ؒ��l͛�S�iy�r�O7����%L]��%���hk ����>v1�HB������d\�(eoIx�>3�6BS%���(
��f$�h�����eԎ���H���`ݶf{�Fo�Y���@00uMb�z-��XI$&�gf���7Ӵ�u|'K.�oP
P���F�.��o��9B<~. ����[����<٭�$�����{1�A��.�bKx�L������'�u8n5���e ,]�H����V��Ww�$�C�el��|zys��K�i-�q�ݬbk,wnG��;�� ~�e�r͒���~'1`V⦫�-*[��L�K�'2@����仪��n���2�N� �ƶ�G���i/U��'E�@�`H��;J�������+J�n#���6ڴ�ĹG���N�G�'�Z!�����Wi��NJ�@���A��Z|�[��$q}i�ҷ�QbtTEC$��m��mo�L�D��;�%g�?w��ŷ���ovH0��a�5��*�ؒ��l͛�S�iy�r�O7����%L]��%���hk ����>v1�HB������d\�(eoIx�>3�6BS%���(
��f$�h�����eԎ���H���`ݶf{�Fo�Y���@00uMb�z-��XI$&�gf���7Ӵ�u|'K.�oP
P���F�.��o��9B<~. ����[����<٭�$�����{1�A��.�bKx�L������'�u8n5���e ,]�H����V��Ww�$�C�el��|zys��K�i-�q�ݬbk,wnG��;�� ~�e�r͒���~'1`V⦫�-*[��L�K�'2@����仪��n���2�N� �ƶ�G���i/U��'E�@�`H��;J�������+J�n#���6ڴ�ĹG���N�G�'�Z!�����Wi��NJ�@���A��Z|�[��$q}i�ҷ�QbtTEC$��m��mo�L�D��;�%g�?w��ŷ���ovH0��a�5��*�ؒ��l͛�S�iy�r�O7����%L]��%���hk ����>v1�HB������d\�(eoIx�>3�6BS%���(
��f$�h�����eԎ���H���`ݶf{�Fo�Y���@00uMb�z-��XI$&�gf���7Ӵ�u|'K.�oP
P���F�.��o��9B<~. ����[����<٭�$�����{1�A��.�bKx�L������'�u8n5���e ,]�H����V��Ww�$�C�el��|zys��K�i-�q�ݬbk,wnG��;�� ~�e�r͒���~'1`V⦫�-*[��L�K�'2@����仪��n���2�N� �ƶ�G���i/U��'E�@�`H��;J�������+J�n#���6ڴ�ĹG���N�G�'�Z!�����Wi��NJ�@���A��Z|�[��$q}i�ҷ�QbtTEC$��m��mo�L�D��;�%g�?w��ŷ���ovH0��a�5��*�ؒ��l͛�S�iy�r�O7����%L]��%���hk ����>v1�HB������d\�(eoIx�>3�6BS%���(
��f$�h�����eԎ���H���`ݶf{�Fo�Y���@00uMb�z-��XI$&�gf���7Ӵ�u|'K.�oP
P���F�.��o��9B<~. ����[����<٭�$�����{1�A��.�bKx�L������'�u8n5���e ,]�H����V��Ww�$�C�el��|zys��K�i-�q�ݬbk,wnG��;�� ~�e�r͒���~'1`V⦫�-*[��L�K�'2@����仪��n���2�N� �ƶ�G���i/U��'E�@�`H��;J�������+J�n#���6ڴ�ĹG���N�G�'�Z!�����Wi��NJ�@���A��Z|�[��$q}i�ҷ�QbtTEC$��m��mo�L�D��;�%g�?w��ŷ���ovH0��a�5��*�ؒ��l͛�S�iy�r�O7����%L]��%���hk ����>v1�HB������d\�(eoIx�>3�6BS%���(
��f$�h�����eԎ���H���`ݶf{�Fo�Y���@00uMb�z-��XI$&�gf���7Ӵ�u|'K.�oP
P���F�.��o��9B<~. ����[����<٭�$�����{1�A��.�bKx�L������'�u8n5���e ,]�H����V��Ww�$�C�el��|zys��K�i-�q�ݬbk,wnG��;�� ~�e�r͒���~'1`V⦫�-*[��L�K�'2@����仪��n���2�N� �ƶ�G���i/U��'E�@�`H��;J�������+J�n#���6ڴ�ĹG���N�G�'�Z!�����Wi��NJ�@���A��Z|�[��$q}i�ҷ�QbtTEC$��m��mo�L�D��;�%g�?w��ŷ���ovH0��a�5��*�ؒ��l͛�S�iy�r�O7����%L]��%���hk ����>v1�HB������d\�(eoIx�>3�6BS%���(
��f$�h�����eԎ���H���`ݶf{�Fo�Y���@00uMb�z-��XI$&�gf���7Ӵ�u|'K.�oP
P���F�.��o��9B<~. ����[����<٭�$�����{1�A��.�bKx�L������'�u8n5���e ,]�H����V��Ww�$�C�el��|zys��K�i-�q�ݬbk,wnG��;�� ~�e�r͒���~'1`V⦫�-*[��L�K�'2@����仪��n���2�N� �ƶ�G���i/U��'E�@�`H��;J�������+J�n#���6ڴ�ĹG���N�G�'�Z!�����Wi��NJ�@���A��Z|�[��$q}i�ҷ�QbtTEC$��m��mo�L�D��;�%g�?w��ŷ���ovH0��a�5��*�ؒ��l͛�S�iy�r�O7����%L]��%���hk ����>v1�HB������d\�(eoIx�>3�6BS%���(
��f$�h�����eԎ���H���`ݶf{�Fo�Y���@00uMb�z-��XI$&�gf���7Ӵ�u|'K.�oP
P���F�.��o��9B<~. ����[����<٭�$�����{1�A��.�bKx�L������'�u8n5���e ,]�H����V��Ww�$�C�el��|zys��K�i-�q�ݬbk,wnG��;�� ~�e�r͒���~'1`V⦫�-*[��L�K�'2@����仪��n���2�N� �ƶ�G���i/U��'E�@�`H��;J�������+J�n#���6ڴ�ĹG���N�G�'�Z!�����Wi��NJ�@���A��Z|�[��$q}i�ҷ�QbtTEC$��m��mo�L�D��;�%g�?w��ŷ���ovH0��a�5��*�ؒ��l͛�S�iy�r�O7����%L]��%���hk ����>v1�HB������d\�(eoIx�>3�6BS%���(
��f$�h�����eԎ���H���`ݶf{�Fo�Y���@00uMb�z-��XI$&�gf���7Ӵ�u|'K.�oP
P���F�.��o��9B<~. ����[����<٭�$�����{1�A��.�bKx�L������'�u8n5���e ,]�H����V��Ww�$�C�el��|zys��K�i-�q�ݬbk,wnG��;�� ~�e�r͒���~'1`V⦫�-*[��L�K�'2@����仪��n���2�N� �ƶ�G���i/U��'E�@�`H��;J�������+J�n#���6ڴ�ĹG���N�G�'�Z!�����Wi��NJ�@���A��Z|�[��$q}i�ҷ�QbtTEC$��m��mo�L�D��;�%g�?w��ŷ���ovH0��a�5��*�ؒ��l͛�S�iy�r�O7����%L]��%���hk ����>v1�HB������d\�(eoIx�>3�6BS%���(
��f$�h�����eԎ���H���`ݶf{�Fo�Y���@00uMb�z-��XI$&�gf���7Ӵ�u|'K.�oP
P���F�.��o��9B<~. ����[����<٭�$�����{1�A��.�bKx�L������'�u8n5���e ,]�H����V��Ww�$�C�el��|zys��K�i-�q�ݬbk,wnG��;�� ~�e�r͒���~'1`V⦫�-*[��L�K�'2@����仪��n���2�N� �ƶ�G���i/U��'E�@�`H��;J�������+J�n#���6ڴ�ĹG���N�G�'�Z!�����Wi��NJ�@���A��Z|�[��$q}i�ҷ�QbtTEC$��m��mo�L�D��;�%g�?w��ŷ���ovH0��a�5��*�ؒ��l͛�S�iy�r�O7����%L]��%���hk ����>v1�HB������d\�(eoIx�>3�6BS%���(
��f$�h�����eԎ���H���`ݶf{�Fo�Y���@00uMb�z-��XI$&�gf���7Ӵ�u|'K.�oP
P���F�.��o��9B<~. ����[����<٭�$�����{1�A��.�bKx�L������'�u8n5���e ,]�H����V��Ww�$�C�el��|zys��K�i-�q�ݬbk,wnG��;�� ~�e�r͒���~'1`V⦫�-*[��L�K�'2@����仪��n���2�N� �ƶ�G���i/U��'E�@�`H��;J�������+J�n#���6ڴ�ĹG���N�G�'�Z!�����Wi��NJ�@���A��Z|�[��$q}i�ҷ�QbtTEC$��m��mo�L�D��;�%g�?w��ŷ���ovH0��a�5��*�ؒ��l͛�S�iy�r�O7����%L]��%���hk ����>v1�HB������d\�(eoIx�>3�6BS%���(
��f$�h�����eԎ���H���`ݶf{�Fo�Y���@00uMb�z-��XI$&�gf���7Ӵ�u|'K.�oP
P���F�.��o��9B<~. ����[����<٭�$�����{1�A��.�bKx�L������'�u8n5���e ,]�H����V��Ww�$�C�el��|zys��K�i-�q�ݬbk,wnG��;�� ~�e�r͒���~'1`V⦫�-*[��L�K�'2@����仪��n���2�N� �ƶ�G���i/U��'E�@�`H��;J�������+J�n#���6ڴ�ĹG���N�G�'�Z!�����Wi��NJ�@���A��Z|�[��$q}i�ҷ�QbtTEC$��m��mo�L�D��;�%g�?w��ŷ���ovH0��a�5��*�ؒ��l͛�S�iy�r�O7����%L]��%���hk ����>v1�HB������d\�(eoIx�>3�6BS%���(
��f$�h�����eԎ���H���`ݶf{�Fo�Y���@00uMb�z-��XI$&�gf���7Ӵ�u|'K.�oP
P���F�.��o��9B<~. ����[����<٭�$�����{1�A��.�bKx�L������'�u8n5���e ,]�H����V��Ww�$�C�el��|zys��K�i-�q�ݬbk,wnG��;�� ~�e�r͒���~'1`V⦫�-*[��L�K�'2@����仪��n���2�N� �ƶ�G���i/U��'E�@�`H��;J�������+J�n#���6ڴ�ĹG���N�G�'�Z!�����Wi��NJ�@���A��Z|�[��$q}i�ҷ�QbtTEC$��m��mo�L�D��;�%g�?w��ŷ���ovH0��a�5��*�ؒ��l͛�S�iy�r�O7����%L]��%���hk ����>v1�HB������d\�(eoIx�>3�6BS%���(
��f$�h�����eԎ���H���`ݶf{�Fo�Y���@00uMb�z-��XI$&�gf���7Ӵ�u|'K.�oP
P���F�.��o��9B<~. ����[����<٭�$�����{1�A��.�bKx�L������'�u8n5���e ,]�H����V��Ww�$�C�el��|zys��K�i-�q�ݬbk,wnG��;�� ~�e�r͒���~'1`V⦫�-*[��L�K�'2@����仪��n���2�N� �ƶ�G���i/U��'E�@�`H��;J�������+J�n#���6ڴ�ĹG���N�G�'�Z!�����Wi��NJ�@���A��Z|�[��$q}i�ҷ�QbtTEC$��m��mo�L�D��;�%g�?w��ŷ���ovH0��a�5��*�ؒ��l͛�S�iy�r�O7����%L]��%���hk ����>v1�HB������d\�(eoIx�>3�6BS%���(
��f$�h�����eԎ���H���`ݶf{�Fo�Y���@00uMb�z-��XI$&�gf���7Ӵ�u|'K.�oP
P���F�.��o��9B<~. ����[����<٭�$�����{1�A��.�bKx�L������'�u8n5���e ,]�H����V��Ww�$�C�el��|zys��K�i-�q�ݬbk,wnG��;�� ~�e�r͒���~'1`V⦫�-*[��L�K�'2@����仪��n���2�N� �ƶ�G���i/U��'E�@�`H��;J�������+J�n#���6ڴ�ĹG���N�G�'�Z!�����Wi��NJ�@���A��Z|�[��$q}i�ҷ�QbtTEC$��m��mo�L�D��;�%g�?w��ŷ���ovH0��a�5��*�ؒ��l͛�S�iy�r�O7����%L]��%���hk ����>v1�HB������d\�(eoIx�>3�6BS%���(
��f$�h�����eԎ���H���`ݶf{�Fo�Y���@00uMb�z-��XI$&�gf���7Ӵ�u|'K.�oP
P���F�.��o��9B<~. ����[����<٭�$�����{1�A��.�bKx�L������'�u8n5���e ,]�H����V��Ww�$�C�el��|zys��K�i-�q�ݬbk,wnG��;�� ~�e�r͒���~'1`V⦫�-*[��L�K�'2@����仪��n���2�N� �ƶ�G���i/U��'E�@�`H��;J�������+J�n#���6ڴ�ĹG���N�G�'�Z!�����Wi��NJ�@���A��Z|�[��$q}i�ҷ�QbtTEC$��m��mo�L�D��;�%g�?w��ŷ���ovH0��a�5��*�ؒ��l͛�S�iy�r�O7����%L]��%���hk ����>v1�HB������d\�(eoIx�>3�6BS%���(
��f$�h�����eԎ���H���`ݶf{�Fo�Y���@00uMb�z-��XI$&�gf���7Ӵ�u|'K.�oP
P���F�.��o��9B<~. ����[����<٭�$�����{1�A��.�bKx�L������'�u8n5���e ,]�H����V��Ww�$�C�el��|zys��K�i-�q�ݬbk,wnG��;�� ~�e�r͒���~'1`V⦫�-*[��L�K�'2@����仪��n���2�N� �ƶ�G���i/U��'E�@�`H��;J�������+J�n#���6ڴ�ĹG���N�G�'�Z!�����Wi��NJ�@���A��Z|�[��$q}i�ҷ�QbtTEC$��m��mo�L�D��;�%g�?w��ŷ���ovH0��a�5��*�ؒ��l͛�S�iy�r�O7����%L]��%���hk ����>v1�HB������d\�(eoIx�>3�6BS%���(
��f$�h�����eԎ���H���`ݶf{�Fo�Y���@00uMb�z-��XI$&�gf���7Ӵ�u|'K.�oP
P���F�.��o��9B<~. ����[����<٭�$�����{1�A��.�bKx�L������'�u8n5���e ,]�H����V��Ww�$�C�el��|zys��K�i-�q�ݬbk,wnG��;�� ~�e�r͒���~'1`V⦫�-*[��L�K�'2@����仪��n���2�N� �ƶ�G���i/U��'E�@�`H��;J�������+J�n#���6ڴ�ĹG���N�G�'�Z!�����Wi��NJ�@���A��Z|�[��$q}i�ҷ�QbtTEC$��m��mo�L�D��;�%g�?w��ŷ���ovH0��a�5��*�ؒ��l͛�S�iy�r�O7����%L]��%���hk ����>v1�HB������d\�(eoIx�>3�6BS%���(
��f$�h�����eԎ���H���`ݶf{�Fo�Y���@00uMb�z-��XI$&�gf���7Ӵ�u|'K.�oP
P���F�.��o��9B<~. ����[����<٭�$�����{1�A��.�bKx�L������'�u8n5���e ,]�H����V��Ww�$�C�el��|zys��K�i-�q�ݬbk,wnG��;�� ~�e�r͒���~'1`V⦫�-*[��L�K�'2@����仪��n���2�N� �ƶ�G���i/U��'E�@�`H��;J�������+J�n#���6ڴ�ĹG���N�G�'�Z!�����Wi��NJ�@���A��Z|�[��$q}i�ҷ�QbtTEC$��m��mo�L�D��;�%g�?w��ŷ���ovH0��a�5��*�ؒ��l͛�S�iy�r�O7����%L]��%���hk ����>v1�HB������d\�(eoIx�>3�6BS%���(
��f$�h�����eԎ���H���`ݶf{�Fo�Y���@00uMb�z-��XI$&�gf���7Ӵ�u|'K.�oP
P���F�.��o��9B<~. ����[����<٭�$�����{1�A��.�bKx�L������'�u8n5���e ,]�H����V��Ww�$�C�el��|zys��K�i-�q�ݬbk,wnG��;�� ~�e�r͒���~'1`V⦫�-*[��L�K�'2@����仪��n���2�N� �ƶ�G���i/U��'E�@�`H��;J�������+J�n#���6ڴ�ĹG���N�G�'�Z!�����Wi��NJ�@���A��Z|�[��$q}i�ҷ�QbtTEC$��m��mo�L�D��;�%g�?w��ŷ���ovH0��a�5��*�ؒ��l͛�S�iy�r�O7����%L]��%���hk ����>v1�HB������d\�(eoIx�>3�6BS%���(
��f$�h�����eԎ���H���`ݶf{�Fo�Y���@00uMb�z-��XI$&�gf���7Ӵ�u|'K.�oP
P���F�.��o��9B<~. ����[����<٭�$�����{1�A��.�bKx�L������'�u8n5���e ,]�H����V��Ww�$�C�el��|zys��K�i-�q�ݬbk,wnG��;�� ~�e�r͒���~'1`V⦫�-*[��L�K�'2@����仪��n���2�N� �ƶ�G���i/U��'E�@�`H��;J�������+J�n#���6ڴ�ĹG���N�G�'�Z!�����Wi��NJ�@���A��Z|�[��$q}i�ҷ�QbtTEC$��m��mo�L�D��;�%g�?w��ŷ���ovH0��a�5��*�ؒ��l͛�S�iy�r�O7����%L]��%���hk ����>v1�HB������d\�(eoIx�>3�6BS%���(
��f$�h�����eԎ���H���`ݶf{�Fo�Y���@00uMb�z-��XI$&�gf���7Ӵ�u|'K.�oP
P���F�.��o��9B<~. ����[����<٭�$�����{1�A��.�bKx�L������'�u8n5���e ,]�H����V��Ww�$�C�el��|zys��K�i-�q�ݬbk,wnG��;�� ~�e�r͒���~'1`V⦫�-*[��L�K�'2@����仪��n���2�N� �ƶ�G���i/U��'E�@�`H��;J�������+J�n#���6ڴ�ĹG���N�G�'�Z!�����Wi��NJ�@���A��Z|�[��$q}i�ҷ�QbtTEC$��m��mo�L�D��;�%g�?w��ŷ���ovH0��a�5��*�ؒ��l͛�S�iy�r�O7����%L]��%���hk ����>v1�HB������d\�(eoIx�>3�6BS%���(
��f$�h�����eԎ���H���`ݶf{�Fo�Y���@00uMb�z-��XI$&�gf���7Ӵ�u|'K.�oP
P���F�.��o��9B<~. ����[����<٭�$�����{1�A��.�bKx�L������'�u8n5���e ,]�H����V��Ww�$�C�el��|zys��K�i-�q�ݬbk,wnG��;�� ~�e�r͒���~'1`V⦫�-*[��L�K�'2@����仪��n���2�N� �ƶ�G���i/U��'E�@�`H��;J�������+J�n#���6ڴ�ĹG���N�G�'�Z!�����Wi��NJ�@���A��Z|�[��$q}i�ҷ�QbtTEC$��m��mo�L�D��;�%g�?w��ŷ���ovH0��a�5��*�ؒ��l͛�S�iy�r�O7����%L]��%���hk ����>v1�HB������d\�(eoIx�>3�6BS%���(
��f$�h�����eԎ���H���`ݶf{�Fo�Y���@00uMb�z-��XI$&�gf���7Ӵ�u|'K.�oP
P���F�.��o��9B<~. ����[����<٭�$�����{1�A��.�bKx�L������'�u8n5���e ,]�H����V��Ww�$�C�el��|zys��K�i-�q�ݬbk,wnG��;�� ~�e�r͒���~'1`V⦫�-*[��L�K�'2@����仪��n���2�N� �ƶ�G���i/U��'E�@�`H��;J�������+J�n#���6ڴ�ĹG���N�G�'�Z!�����Wi��NJ�@���A��Z|�[��$q}i�ҷ�QbtTEC$��m��mo�L�D��;�%g�?w��ŷ���ovH0��a�5��*�ؒ��l͛�S�iy�r�O7����%L]��%���hk ����>v1�HB������d\�(eoIx�>3�6BS%���(
��f$�h�����eԎ���H���`ݶf{�Fo�Y���@00uMb�z-��XI$&�gf���7Ӵ�u|'K.�oP
P���F�.��o��9B<~. ����[����<٭�$�����{1�A��.�bKx�L������'�u8n5���e ,]�H����V��Ww�$�C�el��|zys��K�i-�q�ݬbk,wnG��;�� ~�e�r͒���~'1`V⦫�-*[��L�K�'2@����仪��n���2�N� �ƶ�G���i/U��'E�@�`H��;J�������+J�n#���6ڴ�ĹG���N�G�'�Z!�����Wi��NJ�@���A��Z|�[��$q}i�ҷ�QbtTEC$��m��mo�L�D��;�%g�?w��ŷ���ovH0��a�5��*�ؒ��l͛�S�iy�r�O7����%L]��%���hk ����>v1�HB������d\�(eoIx�>3�6BS%���(
��f$�h�����eԎ���H���`ݶf{�Fo�Y���@00uMb�z-��XI$&�gf���7Ӵ�u|'K.�oP
P���F�.��o��9B<~. ����[����<٭�$�����{1�A��.�bKx�L������'�u8n5���e ,]�H����V��Ww�$�C�el��|zys��K�i-�q�ݬbk,wnG��;�� ~�e�r͒���~'1`V⦫�-*[��L�K�'2@����仪��n���2�N� �ƶ�G���i/U��'E�@�`H��;J�������+J�n#���6ڴ�ĹG���N�G�'�Z!�����Wi��NJ�@���A��Z|�[��$q}i�ҷ�QbtTEC$��m��mo�L�D��;�%g�?w��ŷ���ovH0��a�5��*�ؒ��l͛�S�iy�r�O7����%L]��%���hk ����>v1�HB������d\�(eoIx�>3�6BS%���(
��f$�h�����eԎ���H���`ݶf{�Fo�Y���@00uMb�z-��XI$&�gf���7Ӵ�u|'K.�oP
P���F�.��o��9B<~. ����[����<٭�$�����{1�A��.�bKx�L������'�u8n5���e ,]�H����V��Ww�$�C�el��|zys��K�i-�q�ݬbk,wnG��;�� ~�e�r͒���~'1`V⦫�-*[��L�K�'2@����仪��n���2�N� �ƶ�G���i/U��'E�@�`H��;J�������+J�n#���6ڴ�ĹG���N�G�'�Z!�����Wi��NJ�@���A��Z|�[��$q}i�ҷ�QbtTEC$��m��mo�L�D��;�%g�?w��ŷ���ovH0��a�5��*�ؒ��l͛�S�iy�r�O7����%L]��%���hk ����>v1�HB������d\�(eoIx�>3�6BS%���(
��f$�h�����eԎ���H���`ݶf{�Fo�Y���@00uMb�z-��XI$&�gf���7Ӵ�u|'K.�oP
P���F�.��o��9B<~. ����[����<٭�$�����{1�A��.�bKx�L������'�u8n5���e ,]�H����V��Ww�$�C�el��|zys��K�i-�q�ݬbk,wnG��;�� ~�e�r͒���~'1`V⦫�-*[��L�K�'2@����仪��n���2�N� �ƶ�G���i/U��'E�@�`H��;J�������+J�n#���6ڴ�ĹG���N�G�'�Z!�����Wi��NJ�@���A��Z|�[��$q}i�ҷ�QbtTEC$��m��mo�L�D��;�%g�?w��ŷ���ovH0��a�5��*�ؒ��l͛�S�iy�r�O7����%L]��%���hk ����>v1�HB������d\�(eoIx�>3�6BS%���(
��f$�h�����eԎ���H���`ݶf{�Fo�Y���@00uMb�z-��XI$&�gf���7Ӵ�u|'K.�oP
P���F�.��o��9B<~. ����[����<٭�$�����{1�A��.�bKx�L������'�u8n5���e ,]�H����V��Ww�$�C�el��|zys��K�i-�q�ݬbk,wnG��;�� ~�e�r͒���~'1`V⦫�-*[��L�K�'2@����仪��n���2�N� �ƶ�G���i/U��'E�@�`H��;J�������+J�n#���6ڴ�ĹG���N�G�'�Z!�����Wi��NJ�@���A��Z|�[��$q}i�ҷ�QbtTEC$��m��mo�L�D��;�%g�?w��ŷ���ovH0��a�5��*�ؒ��l͛�S�iy�r�O7����%L]��%���hk ����>v1�HB������d\�(eoIx�>3�6BS%���(
��f$�h�����eԎ���H���`ݶf{�Fo�Y���@00uMb�z-��XI$&�gf���7Ӵ�u|'K.�oP
P���F�.��o��9B<~. ����[����<٭�$�����{1�A��.�bKx�L������'�u8n5���e ,]�H����V��Ww�$�C�el��|zys��K�i-�q�ݬbk,wnG��;�� ~�e�r͒���~'1`V⦫�-*[��L�K�'2@����仪��n���2�N� �ƶ�G���i/U��'E�@�`H��;J�������+J�n#���6ڴ�ĹG���N�G�'�Z!�����Wi��NJ�@���A��Z|�[��$q}i�ҷ�QbtTEC$��m��mo�L�D��;�%g�?w��ŷ���ovH0��a�5��*�ؒ��l͛�S�iy�r�O7����%L]��%���hk ����>v1�HB������d\�(eoIx�>3�6BS%���(
��f$�h�����eԎ���H���`ݶf{�Fo�Y���@00uMb�z-��XI$&�gf���7Ӵ�u|'K.�oP
P���F�.��o��9B<~. ����[����<٭�$�����{1�A��.�bKx�L������'�u8n5���e ,]�H����V��Ww�$�C�el��|zys��K�i-�q�ݬbk,wnG��;�� ~�e�r͒���~'1`V⦫�-*[��L�K�'2@����仪��n���2�N� �ƶ�G���i/U��'E�@�`H��;J�������+J�n#���6ڴ�ĹG���N�G�'�Z!�����Wi��NJ�@���A��Z|�[��$q}i�ҷ�QbtTEC$��m��mo�L�D��;�%g�?w��ŷ���ovH0��a�5��*�ؒ��l͛�S�iy�r�O7����%L]��%���hk ����>v1�HB������d\�(eoIx�>3�6BS%���(
��f$�h�����eԎ���H���`ݶf{�Fo�Y���@00uMb�z-��XI$&�gf���7Ӵ�u|'K.�oP
P���F�.��o��9B<~. ����[����<٭�$�����{1�A��.�bKx�L������'�u8n5���e ,]�H����V��Ww�$�C�el��|zys��K�i-�q�ݬbk,wnG��;�� ~�e�r͒���~'1`V⦫�-*[��L�K�'2@����仪��n���2�N� �ƶ�G���i/U��'E�@�`H��;J�������+J�n#���6ڴ�ĹG���N�G�'�Z!�����Wi��NJ�@���A��Z|�[��$q}i�ҷ�QbtTEC$��m��mo�L�D��;�%g�?w��ŷ���ovH0��a�5��*�ؒ��l͛�S�iy�r�O7����%L]��%���hk ����>v1�HB������d\�(eoIx�>3�6BS%���(
��f$�h�����eԎ���H���`ݶf{�Fo�Y���@00uMb�z-��XI$&�gf���7Ӵ�u|'K.�oP
P���F�.��o��9B<~. ����[����<٭�$�����{1�A��.�bKx�L������'�u8n5���e ,]�H����V��Ww�$�C�el��|zys��K�i-�q�ݬbk,wnG��;�� ~�e�r͒���~'1`V⦫�-*[��L�K�'2@����仪��n���2�N� �ƶ�G���i/U��'E�@�`H��;J�������+J�n#���6ڴ�ĹG���N�G�'�Z!�����Wi��NJ�@���A��Z|�[��$q}i�ҷ�QbtTEC$��m��mo�L�D��;�%g�?w��ŷ���ovH0��a�5��*�ؒ��l͛�S�iy�r�O7����%L]��%���hk ����>v1�HB������d\�(eoIx�>3�6BS%���(
��f$�h�����eԎ���H���`ݶf{�Fo�Y���@00uMb�z-��XI$&�gf���7Ӵ�u|'K.�oP
P���F�.��o��9B<~. ����[����<٭�$�����{1�A��.�bKx�L������'�u8n5���e ,]�H����V��Ww�$�C�el��|zys��K�i-�q�ݬbk,wnG��;�� ~�e�r͒���~'1`V⦫�-*[��L�K�'2@����仪��n���2�N� �ƶ�G���i/U��'E�@�`H��;J�������+J�n#���6ڴ�ĹG���N�G�'�Z!�����Wi��NJ�@���A��Z|�[��$q}i�ҷ�QbtTEC$��m��mo�L�D��;�%g�?w��ŷ���ovH0��a�5��*�ؒ��l͛�S�iy�r�O7����%L]��%���hk ����>v1�HB������d\�(eoIx�>3�6BS%���(
��f$�h�����eԎ���H���`ݶf{�Fo�Y���@00uMb�z-��XI$&�gf���7Ӵ�u|'K.�oP
P���F�.��o��9B<~. ����[����<٭�$�����{1�A��.�bKx�L������'�u8n5���e ,]�H����V��Ww�$�C�el��|zys��K�i-�q�ݬbk,wnG��;�� ~�e�r͒���~'1`V⦫�-*[��L�K�'2@����仪��n���2�N� �ƶ�G���i/U��'E�@�`H��;J�������+J�n#���6ڴ�ĹG���N�G�'�Z!�����Wi��NJ�@���A��Z|�[��$q}i�ҷ�QbtTEC$��m��mo�L�D��;�%g�?w��ŷ���ovH0��a�5��*�ؒ��l͛�S�iy�r�O7����%L]��%���hk ����>v1�HB������d\�(eoIx�>3�6BS%���(
��f$�h�����eԎ���H���`ݶf{�Fo�Y���@00uMb�z-��XI$&�gf���7Ӵ�u|'K.�oP
P���F�.��o��9B<~. ����[����<٭�$�����{1�A��.�bKx�L������'�u8n5���e ,]�H����V��Ww�$�C�el��|zys��K�i-�q�ݬbk,wnG��;�� ~�e�r͒���~'1`V⦫�-*[��L�K�'2@����仪��n���2�N� �ƶ�G���i/U��'E�@�`H��;J�������+J�n#���6ڴ�ĹG���N�G�'�Z!�����Wi��NJ�@���A��Z|�[��$q}i�ҷ�QbtTEC$��m��mo�L�D��;�%g�?w��ŷ���ovH0��a�5��*�ؒ��l͛�S�iy�r�O7����%L]��%���hk ����>v1�HB������d\�(eoIx�>3�6BS%���(
��f$�h�����eԎ���H���`ݶf{�Fo�Y���@00uMb�z-��XI$&�gf���7Ӵ�u|'K.�oP
P���F�.��o��9B<~. ����[����<٭�$�����{1�A��.�bKx�L������'�u8n5���e ,]�H����V��Ww�$�C�el��|zys��K�i-�q�ݬbk,wnG��;�� ~�e�r͒���~'1`V⦫�-*[��L�K�'2@����仪��n���2�N� �ƶ�G���i/U��'E�@�`H��;J�������+J�n#���6ڴ�ĹG���N�G�'�Z!�����Wi��NJ�@���A��Z|�[��$q}i�ҷ�QbtTEC$��m��mo�L�D��;�%g�?w��ŷ���ovH0��a�5��*�ؒ��l͛�S�iy�r�O7����%L]��%���hk ����>v1�HB������d\�(eoIx�>3�6BS%���(
��f$�h�����eԎ���H���`ݶf{�Fo�Y���@00uMb�z-��XI$&�gf���7Ӵ�u|'K.�oP
P���F�.��o��9B<~. ����[����<٭�$�����{1�A��.�bKx�L������'�u8n5���e ,]�H����V��Ww�$�C�el��|zys��K�i-�q�ݬbk,wnG��;�� ~�e�r͒���~'1`V⦫�-*[��L�K�'2@����仪��n���2�N� �ƶ�G���i/U��'E�@�`H��;J�������+J�n#���6ڴ�ĹG���N�G�'�Z!�����Wi��NJ�@���A��Z|�[��$q}i�ҷ�QbtTEC$��m��mo�L�D��;�%g�?w��ŷ���ovH0��a�5��*�ؒ��l͛�S�iy�r�O7����%L]��%���hk ����>v1�HB������d\�(eoIx�>3�6BS%���(
��f$�h�����eԎ���H���`ݶf{�Fo�Y���@00uMb�z-��XI$&�gf���7Ӵ�u|'K.�oP
P���F�.��o��9B<~. ����[����<٭�$�����{1�A��.�bKx�L������'�u8n5���e ,]�H����V��Ww�$�C�el��|zys��K�i-�q�ݬbk,wnG��;�� ~�e�r͒���~'1`V⦫�-*[��L�K�'2@����仪��n���2�N� �ƶ�G���i/U��'E�@�`H��;J�������+J�n#���6ڴ�ĹG���N�G�'�Z!�����Wi��NJ�@���A��Z|�[��$q}i�ҷ�QbtTEC$��m��mo�L�D��;�%g�?w��ŷ���ovH0��a�5��*�ؒ��l͛�S�iy�r�O7����%L]��%���hk ����>v1�HB������d\�(eoIx�>3�6BS%���(
��f$�h�����eԎ���H���`ݶf{�Fo�Y���@00uMb�z-��XI$&�gf���7Ӵ�u|'K.�oP
P���F�.��o��9B<~. ����[����<٭�$�����{1�A��.�bKx�L������'�u8n5���e ,]�H����V��Ww�$�C�el��|zys��K�i-�q�ݬbk,wnG��;�� ~�e�r͒���~'1`V⦫�-*[��L�K�'2@����仪��n���2�N� �ƶ�G���i/U��'E�@�`H��;J�������+J�n#���6ڴ�ĹG���N�G�'�Z!�����Wi��NJ�@���A��Z|�[��$q}i�ҷ�QbtTEC$��m��mo�L�D��;�%g�?w��ŷ���ovH0��a�5��*�ؒ��l͛�S�iy�r�O7����%L]��%���hk ����>v1�HB������d\�(eoIx�>3�6BS%���(
��f$�h�����eԎ���H���`ݶf{�Fo�Y���@00uMb�z-��XI$&�gf���7Ӵ�u|'K.�oP
P���F�.��o��9B<~. ����[����<٭�$�����{1�A��.�bKx�L������'�u8n5���e ,]�H����V��Ww�$�C�el��|zys��K�i-�q�ݬbk,wnG��;�� ~�e�r͒���~'1`V⦫�-*[��L�K�'2@����仪��n���2�N� �ƶ�G���i/U��'E�@�`H��;J�������+J�n#���6ڴ�ĹG���N�G�'�Z!�����Wi��NJ�@���A��Z|�[��$q}i�ҷ�QbtTEC$��m��mo�L�D��;�%g�?w��ŷ���ovH0��a�5��*�ؒ��l͛�S�iy�r�O7����%L]��%���hk ����>v1�HB������d\�(eoIx�>3�6BS%���(
��f$�h�����eԎ���H���`ݶf{�Fo�Y���@00uMb�z-��XI$&�gf���7Ӵ�u|'K.�oP
P���F�.��o��9B<~. ����[����<٭�$�����{1�A��.�bKx�L������'�u8n5���e ,]�H����V��Ww�$�C�el��|zys��K�i-�q�ݬbk,wnG��;�� ~�e�r͒���~'1`V⦫�-*[��L�K�'2@����仪��n���2�N� �ƶ�G���i/U��'E�@�`H��;J�������+J�n#���6ڴ�ĹG���N�G�'�Z!�����Wi��NJ�@���A��Z|�[��$q}i�ҷ�QbtTEC$��m��mo�L�D��;�%g�?w��ŷ���ovH0��a�5��*�ؒ��l͛�S�iy�r�O7����%L]��%���hk ����>v1�HB������d\�(eoIx�>3�6BS%���(
��f$�h�����eԎ���H���`ݶf{�Fo�Y���@00uMb�z-��XI$&�gf���7Ӵ�u|'K.�oP
P���F�.��o��9B<~. ����[����<٭�$�����{1�A��.�bKx�L������'�u8n5���e ,]�H����V��Ww�$�C�el��|zys��K�i-�q�ݬbk,wnG��;�� ~�e�r͒���~'1`V⦫�-*[��L�K�'2@����仪��n���2�N� �ƶ�G���i/U��'E�@�`H��;J�������+J�n#���6ڴ�ĹG���N�G�'�Z!�����Wi��NJ�@���A��Z|�[��$q}i�ҷ�QbtTEC$��m��mo�L�D��;�%g�?w��ŷ���ovH0��a�5��*�ؒ��l͛�S�iy�r�O7����%L]��%���hk ����>v1�HB������d\�(eoIx�>3�6BS%���(
��f$�h�����eԎ���H���`ݶf{�Fo�Y���@00uMb�z-��XI$&�gf���7Ӵ�u|'K.�oP
P���F�.��o��9B<~. ����[����<٭�$�����{1�A��.�bKx�L������'�u8n5���e ,]�H����V��Ww�$�C�el��|zys��K�i-�q�ݬbk,wnG��;�� ~�e�r͒���~'1`V⦫�-*[��L�K�'2@����仪��n���2�N� �ƶ�G���i/U��'E�@�`H��;J�������+J�n#���6ڴ�ĹG���N�G�'�Z!�����Wi��NJ�@���A��Z|�[��$q}i�ҷ�QbtTEC$��m��mo�L�D��;�%g�?w��ŷ���ovH0��a�5��*�ؒ��l͛�S�iy�r�O7����%L]��%���hk ����>v1�HB������d\�(eoIx�>3�6BS%���(
��f$�h�����eԎ���H���`ݶf{�Fo�Y���@00uMb�z-��XI$&�gf���7Ӵ�u|'K.�oP
P���F�.��o��9B<~. ����[����<٭�$�����{1�A��.�bKx�L������'�u8n5���e ,]�H����V��Ww�$�C�el��|zys��K�i-�q�ݬbk,wnG��;�� ~�e�r͒���~'1`V⦫�-*[��L�K�'2@����仪��n���2�N� �ƶ�G���i/U��'E�@�`H��;J�������+J�n#���6ڴ�ĹG���N�G�'�Z!�����Wi��NJ�@���A��Z|�[��$q}i�ҷ�QbtTEC$��m��mo�L�D��;�%g�?w��ŷ���ovH0��a�5��*�ؒ��l͛�S�iy�r�O7����%L]��%���hk ����>v1�HB������d\�(eoIx�>3�6BS%���(
��f$�h�����eԎ���H���`ݶf{�Fo�Y���@00uMb�z-��XI$&�gf���7Ӵ�u|'K.�oP
P���F�.��o��9B<~. ����[����<٭�$�����{1�A��.�bKx�L������'�u8n5���e ,]�H����V��Ww�$�C�el��|zys��K�i-�q�ݬbk,wnG��;�� ~�e�r͒���~'1`V⦫�-*[��L�K�'2@����仪��n���2�N� �ƶ�G���i/U��'E�@�`H��;J�������+J�n#���6ڴ�ĹG���N�G�'�Z!�����Wi��NJ�@���A��Z|�[��$q}i�ҷ�QbtTEC$��m��mo�L�D��;�%g�?w��ŷ���ovH0��a�5��*�ؒ��l͛�S�iy�r�O7����%L]��%���hk ����>v1�HB������d\�(eoIx�>3�6BS%���(
��f$�h�����eԎ���H���`ݶf{�Fo�Y���@00uMb�z-��XI$&�gf���7Ӵ�u|'K.�oP
P���F�.��o��9B<~. ����[����<٭�$�����{1�A��.�bKx�L������'�u8n5���e ,]�H����V��Ww�$�C�el��|zys��K�i-�q�ݬbk,wnG��;�� ~�e�r͒���~'1`V⦫�-*[��L�K�'2@����仪��n���2�N� �ƶ�G���i/U��'E�@�`H��;J�������+J�n#���6ڴ�ĹG���N�G�'�Z!�����Wi��NJ�@���A��Z|�[��$q}i�ҷ�QbtTEC$��m��mo�L�D��;�%g�?w��ŷ���ovH0��a�5��*�ؒ��l͛�S�iy�r�O7����%L]��%���hk ����>v1�HB������d\�(eoIx�>3�6BS%���(
��f$�h�����eԎ���H���`ݶf{�Fo�Y���@00uMb�z-��XI$&�gf���7Ӵ�u|'K.�oP
P���F�.��o��9B<~. ����[����<٭�$�����{1�A��.�bKx�L������'�u8n5���e ,]�H����V��Ww�$�C�el��|zys��K�i-�q�ݬbk,wnG��;�� ~�e�r͒���~'1`V⦫�-*[��L�K�'2@����仪��n���2�N� �ƶ�G���i/U��'E�@�`H��;J�������+J�n#���6ڴ�ĹG���N�G�'�Z!�����Wi��NJ�@���A��Z|�[��$q}i�ҷ�QbtTEC$��m��mo�L�D��;�%g�?w��ŷ���ovH0��a�5��*�ؒ��l͛�S�iy�r�O7����%L]��%���hk ����>v1�HB������d\�(eoIx�>3�6BS%���(
��f$�h�����eԎ���H���`ݶf{�Fo�Y���@00uMb�z-��XI$&�gf���7Ӵ�u|'K.�oP
P���F�.��o��9B<~. ����[����<٭�$�����{1�A��.�bKx�L������'�u8n5���e ,]�H����V��Ww�$�C�el��|zys��K�i-�q�ݬbk,wnG��;�� ~�e�r͒���~'1`V⦫�-*[��L�K�'2@����仪��n���2�N� �ƶ�G���i/U��'E�@�`H��;J�������+J�n#���6ڴ�ĹG���N�G�'�Z!�����Wi��NJ�@���A��Z|�[��$q}i�ҷ�QbtTEC$��m��mo�L�D��;�%g�?w��ŷ���ovH0��a�5��*�ؒ��l͛�S�iy�r�O7����%L]��%���hk ����>v1�HB������d\�(eoIx�>3�6BS%���(
��f$�h�����eԎ���H���`ݶf{�Fo�Y���@00uMb�z-��XI$&�gf���7Ӵ�u|'K.�oP
P���F�.��o��9B<~. ����[����<٭�$�����{1�A��.�bKx�L������'�u8n5���e ,]�H����V��Ww�$�C�el��|zys��K�i-�q�ݬbk,wnG��;�� ~�e�r͒���~'1`V⦫�-*[��L�K�'2@����仪��n���2�N� �ƶ�G���i/U��'E�@�`H��;J�������+J�n#���6ڴ�ĹG���N�G�'�Z!�����Wi��NJ�@���A��Z|�[��$q}i�ҷ�QbtTEC$��m��mo�L�D��;�%g�?w��ŷ���ovH0��a�5��*�ؒ��l͛�S�iy�r�O7����%L]��%���hk ����>v1�HB������d\�(eoIx�>3�6BS%���(
��f$�h�����eԎ���H���`ݶf{�Fo�Y���@00uMb�z-��XI$&�gf���7Ӵ�u|'K.�oP
P���F�.��o��9B<~. ����[����<٭�$�����{1�A��.�bKx�L������'�u8n5���e ,]�H����V��Ww�$�C�el��|zys��K�i-�q�ݬbk,wnG��;�� ~�e�r͒���~'1`V⦫�-*[��L�K�'2@����仪��n���2�N� �ƶ�G���i/U��'E�@�`H��;J�������+J�n#���6ڴ�ĹG���N�G�'�Z!�����Wi��NJ�@���A��Z|�[��$q}i�ҷ�QbtTEC$��m��mo�L�D��;�%g�?w��ŷ���ovH0��a�5��*�ؒ��l͛�S�iy�r�O7����%L]��%���hk ����>v1�HB������d\�(eoIx�>3�6BS%���(
��f$�h�����eԎ���H���`ݶf{�Fo�Y���@00uMb�z-��XI$&�gf���7Ӵ�u|'K.�oP
P���F�.��o��9B<~. ����[����<٭�$�����{1�A��.�bKx�L������'�u8n5���e ,]�H����V��Ww�$�C�el��|zys��K�i-�q�ݬbk,wnG��;�� ~�e�r͒���~'1`V⦫�-*[��L�K�'2@����仪��n���2�N� �ƶ�G���i/U��'E�@�`H��;J�������+J�n#���6ڴ�ĹG���N�G�'�Z!�����Wi��NJ�@���A��Z|�[��$q}i�ҷ�QbtTEC$��m��mo�L�D��;�%g�?w��ŷ���ovH0��a�5��*�ؒ��l͛�S�iy�r�O7����%L]��%���hk ����>v1�HB������d\�(eoIx�>3�6BS%���(
��f$�h�����eԎ���H���`ݶf{�Fo�Y���@00uMb�z-��XI$&�gf���7Ӵ�u|'K.�oP
P���F�.��o��9B<~. ����[����<٭�$�����{1�A��.�bKx�L������'�u8n5���e ,]�H����V��Ww�$�C�el��|zys��K�i-�q�ݬbk,wnG��;�� ~�e�r͒���~'1`V⦫�-*[��L�K�'2@����仪��n���2�N� �ƶ�G���i/U��'E�@�`H��;J�������+J�n#���6ڴ�ĹG���N�G�'�Z!�����Wi��NJ�@���A��Z|�[��$q}i�ҷ�QbtTEC$��m��mo�L�D��;�%g�?w��ŷ���ovH0��a�5��*�ؒ��l͛�S�iy�r�O7����%L]��%���hk ����>v1�HB������d\�(eoIx�>3�6BS%���(
��f$�h�����eԎ���H���`ݶf{�Fo�Y���@00uMb�z-��XI$&�gf���7Ӵ�u|'K.�oP
P���F�.��o��9B<~. ����[����<٭�$�����{1�A��.�bKx�L������'�u8n5���e ,]�H����V��Ww�$�C�el��|zys��K�i-�q�ݬbk,wnG��;�� ~�e�r͒���~'1`V⦫�-*[��L�K�'2@����仪��n���2�N� �ƶ�G���i/U��'E�@�`H��;J�������+J�n#���6ڴ�ĹG���N�G�'�Z!�����Wi��NJ�@���A��Z|�[��$q}i�ҷ�QbtTEC$��m��mo�L�D��;�%g�?w��ŷ���ovH0��a�5��*�ؒ��l͛�S�iy�r�O7����%L]��%���hk ����>v1�HB������d\�(eoIx�>3�6BS%���(
��f$�h�����eԎ���H���`ݶf{�Fo�Y���@00uMb�z-��XI$&�gf���7Ӵ�u|'K.�oP
P���F�.��o��9B<~. ����[����<٭�$�����{1�A��.�bKx�L������'�u8n5���e ,]�H����V��Ww�$�C�el��|zys��K�i-�q�ݬbk,wnG��;�� ~�e�r͒���~'1`V⦫�-*[��L�K�'2@����仪��n���2�N� �ƶ�G���i/U��'E�@�`H��;J�������+J�n#���6ڴ�ĹG���N�G�'�Z!�����Wi��NJ�@���A��Z|�[��$q}i�ҷ�QbtTEC$��m��mo�L�D��;�%g�?w��ŷ���ovH0��a�5��*�ؒ��l͛�S�iy�r�O7����%L]��%���hk ����>v1�HB������d\�(eoIx�>3�6BS%���(
��f$�h�����eԎ���H���`ݶf{�Fo�Y���@00uMb�z-��XI$&�gf���7Ӵ�u|'K.�oP
P���F�.��o��9B<~. ����[����<٭�$�����{1�A��.�bKx�L������'�u8n5���e ,]�H����V��Ww�$�C�el��|zys��K�i-�q�ݬbk,wnG��;�� ~�e�r͒���~'1`V⦫�-*[��L�K�'2@����仪��n���2�N� �ƶ�G���i/U��'E�@�`H��;J�������+J�n#���6ڴ�ĹG���N�G�'�Z!�����Wi��NJ�@���A��Z|�[��$q}i�ҷ�QbtTEC$��m��mo�L�D��;�%g�?w��ŷ���ovH0��a�5��*�ؒ��l͛�S�iy�r�O7����%L]��%���hk ����>v1�HB������d\�(eoIx�>3�6BS%���(
��f$�h�����eԎ���H���`ݶf{�Fo�Y���@00uMb�z-��XI$&�gf���7Ӵ�u|'K.�oP
P���F�.��o��9B<~. ����[����<٭�$�����{1�A��.�bKx�L������'�u8n5���e ,]�H����V��Ww�$�C�el��|zys��K�i-�q�ݬbk,wnG��;�� ~�e�r͒���~'1`V⦫�-*[��L�K�'2@����仪��n���2�N� �ƶ�G���i/U��'E�@�`H��;J�������+J�n#���6ڴ�ĹG���N�G�'�Z!�����Wi��NJ�@���A��Z|�[��$q}i�ҷ�QbtTEC$��m��mo�L�D��;�%g�?w��ŷ���ovH0��a�5��*�ؒ��l͛�S�iy�r�O7����%L]��%���hk ����>v1�HB������d\�(eoIx�>3�6BS%���(
��f$�h�����eԎ���H���`ݶf{�Fo�Y���@00uMb�z-��XI$&�gf���7Ӵ�u|'K.�oP
P���F�.��o��9B<~. ����[����<٭�$�����{1�A��.�bKx�L������'�u8n5���e ,]�H����V��Ww�$�C�el��|zys��K�i-�q�ݬbk,wnG��;�� ~�e�r͒���~'1`V⦫�-*[��L�K�'2@����仪��n���2�N� �ƶ�G���i/U��'E�@�`H��;J�������+J�n#���6ڴ�ĹG���N�G�'�Z!�����Wi��NJ�@���A��Z|�[��$q}i�ҷ�QbtTEC$��m��mo�L�D��;�%g�?w��ŷ���ovH0��a�5��*�ؒ��l͛�S�iy�r�O7����%L]��%���hk ����>v1�HB������d\�(eoIx�>3�6BS%���(
��f$�h�����eԎ���H���`ݶf{�Fo�Y���@00uMb�z-��XI$&�gf���7Ӵ�u|'K.�oP
P���F�.��o��9B<~. ����[����<٭�$�����{1�A��.�bKx�L������'�u8n5���e ,]�H����V��Ww�$�C�el��|zys��K�i-�q�ݬbk,wnG��;�� ~�e�r͒���~'1`V⦫�-*[��L�K�'2@����仪��n���2�N� �ƶ�G���i/U��'E�@�`H��;J�������+J�n#���6ڴ�ĹG���N�G�'�Z!�����Wi��NJ�@���A��Z|�[��$q}i�ҷ�QbtTEC$��m��mo�L�D��;�%g�?w��ŷ���ovH0��a�5��*�ؒ��l͛�S�iy�r�O7����%L]��%���hk ����>v1�HB������d\�(eoIx�>3�6BS%���(
��f$�h�����eԎ���H���`ݶf{�Fo�Y���@00uMb�z-��XI$&�gf���7Ӵ�u|'K.�oP
P���F�.��o��9B<~. ����[����<٭�$�����{1�A��.�bKx�L������'�u8n5���e ,]�H����V��Ww�$�C�el��|zys��K�i-�q�ݬbk,wnG��;�� ~�e�r͒���~'1`V⦫�-*[��L�K�'2@����仪��n���2�N� �ƶ�G���i/U��'E�@�`H��;J�������+J�n#���6ڴ�ĹG���N�G�'�Z!�����Wi��NJ�@���A��Z|�[��$q}i�ҷ�QbtTEC$��m��mo�L�D��;�%g�?w��ŷ���ovH0��a�5��*�ؒ��l͛�S�iy�r�O7����%L]��%���hk ����>v1�HB������d\�(eoIx�>3�6BS%���(
��f$�h�����eԎ���H���`ݶf{�Fo�Y���@00uMb�z-��XI$&�gf���7Ӵ�u|'K.�oP
P���F�.��o��9B<~. ����[����<٭�$�����{1�A��.�bKx�L������'�u8n5���e ,]�H����V��Ww�$�C�el��|zys��K�i-�q�ݬbk,wnG��;�� ~�e�r͒���~'1`V⦫�-*[��L�K�'2@����仪��n���2�N� �ƶ�G���i/U��'E�@�`H��;J�������+J�n#���6ڴ�ĹG���N�G�'�Z!�����Wi��NJ�@���A��Z|�[��$q}i�ҷ�QbtTEC$��m��mo�L�D��;�%g�?w��ŷ���ovH0��a�5��*�ؒ��l͛�S�iy�r�O7����%L]��%���hk ����>v1�HB������d\�(eoIx�>3�6BS%���(
��f$�h�����eԎ���H���`ݶf{�Fo�Y���@00uMb�z-��XI$&�gf���7Ӵ�u|'K.�oP
P���F�.��o��9B<~. ����[����<٭�$�����{1�A��.�bKx�L������'�u8n5���e ,]�H����V��Ww�$�C�el��|zys��K�i-�q�ݬbk,wnG��;�� ~�e�r͒���~'1`V⦫�-*[��L�K�'2@����仪��n���2�N� �ƶ�G���i/U��'E�@�`H��;J�������+J�n#���6ڴ�ĹG���N�G�'�Z!�����Wi��NJ�@���A��Z|�[��$q}i�ҷ�QbtTEC$��m��mo�L�D��;�%g�?w��ŷ���ovH0��a�5��*�ؒ��l͛�S�iy�r�O7����%L]��%���hk ����>v1�HB������d\�(eoIx�>3�6BS%���(
��f$�h�����eԎ���H���`ݶf{�Fo�Y���@00uMb�z-��XI$&�gf���7Ӵ�u|'K.�oP
P���F�.��o��9B<~. ����[����<٭�$�����{1�A��.�bKx�L������'�u8n5���e ,]�H����V��Ww�$�C�el��|zys��K�i-�q�ݬbk,wnG��;�� ~�e�r͒���~'1`V⦫�-*[��L�K�'2@����仪��n���2�N� �ƶ�G���i/U��'E�@�`H��;J�������+J�n#���6ڴ�ĹG���N�G�'�Z!�����Wi��NJ�@���A��Z|�[��$q}i�ҷ�QbtTEC$��m��mo�L�D��;�%g�?w��ŷ���ovH0��a�5��*�ؒ��l͛�S�iy�r�O7����%L]��%���hk ����>v1�HB������d\�(eoIx�>3�6BS%���(
��f$�h�����eԎ���H���`ݶf{�Fo�Y���@00uMb�z-��XI$&�gf���7Ӵ�u|'K.�oP
P���F�.��o��9B<~. ����[����<٭�$�����{1�A��.�bKx�L������'�u8n5���e ,]�H����V��Ww�$�C�el��|zys��K�i-�q�ݬbk,wnG��;�� ~�e�r͒���~'1`V⦫�-*[��L�K�'2@����仪��n���2�N� �ƶ�G���i/U��'E�@�`H��;J�������+J�n#���6ڴ�ĹG���N�G�'�Z!�����Wi��NJ�@���A��Z|�[��$q}i�ҷ�QbtTEC$��m��mo�L�D��;�%g�?w��ŷ���ovH0��a�5��*�ؒ��l͛�S�iy�r�O7����%L]��%���hk ����>v1�HB������d\�(eoIx�>3�6BS%���(
��f$�h�����eԎ���H���`ݶf{�Fo�Y���@00uMb�z-��XI$&�gf���7Ӵ�u|'K.�oP
P���F�.��o��9B<~. ����[����<٭�$�����{1�A��.�bKx�L������'�u8n5���e ,]�H����V��Ww�$�C�el��|zys��K�i-�q�ݬbk,wnG��;�� ~�e�r͒���~'1`V⦫�-*[��L�K�'2@����仪��n���2�N� �ƶ�G���i/U��'E�@�`H��;J�������+J�n#���6ڴ�ĹG���N�G�'�Z!�����Wi��NJ�@���A��Z|�[��$q}i�ҷ�QbtTEC$��m��mo�L�D��;�%g�?w��ŷ���ovH0��a�5��*�ؒ��l͛�S�iy�r�O7����%L]��%���hk ����>v1�HB������d\�(eoIx�>3�6BS%���(
��f$�h�����eԎ���H���`ݶf{�Fo�Y���@00uMb�z-��XI$&�gf���7Ӵ�u|'K.�oP
P���F�.��o��9B<~. ����[����<٭�$�����{1�A��.�bKx�L������'�u8n5���e ,]�H����V��Ww�$�C�el��|zys��K�i-�q�ݬbk,wnG��;�� ~�e�r͒���~'1`V⦫�-*[��L�K�'2@����仪��n���2�N� �ƶ�G���i/U��'E�@�`H��;J�������+J�n#���6ڴ�ĹG���N�G�'�Z!�����Wi��NJ�@���A��Z|�[��$q}i�ҷ�QbtTEC$��m��mo�L�D��;�%g�?w��ŷ���ovH0��a�5��*�ؒ��l͛�S�iy�r�O7����%L]��%���hk ����>v1�HB������d\�(eoIx�>3�6BS%���(
��f$�h�����eԎ���H���`ݶf{�Fo�Y���@00uMb�z-��XI$&�gf���7Ӵ�u|'K.�oP
P���F�.��o��9B<~. ����[����<٭�$�����{1�A��.�bKx�L������'�u8n5���e ,]�H����V��Ww�$�C�el��|zys��K�i-�q�ݬbk,wnG��;�� ~�e�r͒���~'1`V⦫�-*[��L�K�'2@����仪��n���2�N� �ƶ�G���i/U��'E�@�`H��;J�������+J�n#���6ڴ�ĹG���N�G�'�Z!�����Wi��NJ�@���A��Z|�[��$q}i�ҷ�QbtTEC$��m��mo�L�D��;�%g�?w��ŷ���ovH0��a�5��*�ؒ��l͛�S�iy�r�O7����%L]��%���hk ����>v1�HB������d\�(eoIx�>3�6BS%���(
��f$�h�����eԎ���H���`ݶf{�Fo�Y���@00uMb�z-��XI$&�gf���7Ӵ�u|'K.�oP
P���F�.��o��9B<~. ����[����<٭�$�����{1�A��.�bKx�L������'�u8n5���e ,]�H����V��Ww�$�C�el��|zys��K�i-�q�ݬbk,wnG��;�� ~�e�r͒���~'1`V⦫�-*[��L�K�'2@����仪��n���2�N� �ƶ�G���i/U��'E�@�`H��;J�������+J�n#���6ڴ�ĹG���N�G�'�Z!�����Wi��NJ�@���A��Z|�[��$q}i�ҷ�QbtTEC$��m��mo�L�D��;�%g�?w��ŷ���ovH0��a�5��*�ؒ��l͛�S�iy�r�O7����%L]��%���hk ����>v1�HB������d\�(eoIx�>3�6BS%���(
��f$�h�����eԎ���H���`ݶf{�Fo�Y���@00uMb�z-��XI$&�gf���7Ӵ�u|'K.�oP
P���F�.��o��9B<~. ����[����<٭�$�����{1�A��.�bKx�L������'�u8n5���e ,]�H����V��Ww�$�C�el��|zys��K�i-�q�ݬbk,wnG��;�� ~�e�r͒���~'1`V⦫�-*[��L�K�'2@����仪��n���2�N� �ƶ�G���i/U��'E�@�`H��;J�������+J�n#���6ڴ�ĹG���N�G�'�Z!�����Wi��NJ�@���A��Z|�[��$q}i�ҷ�QbtTEC$��m��mo�L�D��;�%g�?w��ŷ���ovH0��a�5��*�ؒ��l͛�S�iy�r�O7����%L]��%���hk ����>v1�HB������d\�(eoIx�>3�6BS%���(
��f$�h�����eԎ���H���`ݶf{�Fo�Y���@00uMb�z-��XI$&�gf���7Ӵ�u|'K.�oP
P���F�.��o��9B<~. ����[����<٭�$�����{1�A��.�bKx�L������'�u8n5���e ,]�H����V��Ww�$�C�el��|zys��K�i-�q�ݬbk,wnG��;�� ~�e�r͒���~'1`V⦫�-*[��L�K�'2@����仪��n���2�N� �ƶ�G���i/U��'E�@�`H��;J�������+J�n#���6ڴ�ĹG���N�G�'�Z!�����Wi��NJ�@���A��Z|�[��$q}i�ҷ�QbtTEC$��m��mo�L�D��;�%g�?w��ŷ���ovH0��a�5��*�ؒ��l͛�S�iy�r�O7����%L]��%���hk ����>v1�HB������d\�(eoIx�>3�6BS%���(
��f$�h�����eԎ���H���`ݶf{�Fo�Y���@00uMb�z-��XI$&�gf���7Ӵ�u|'K.�oP
P���F�.��o��9B<~. ����[����<٭�$�����{1�A��.�bKx�L������'�u8n5���e ,]�H����V��Ww�$�C�el��|zys��K�i-�q�ݬbk,wnG��;�� ~�e�r͒���~'1`V⦫�-*[��L�K�'2@����仪��n���2�N� �ƶ�G���i/U��'E�@�`H��;J�������+J�n#���6ڴ�ĹG���N�G�'�Z!�����Wi��NJ�@���A��Z|�[��$q}i�ҷ�QbtTEC$��m��mo�L�D��;�%g�?w��ŷ���ovH0��a�5��*�ؒ��l͛�S�iy�r�O7����%L]��%���hk ����>v1�HB������d\�(eoIx�>3�6BS%���(
��f$�h�����eԎ���H���`ݶf{�Fo�Y���@00uMb�z-��XI$&�gf���7Ӵ�u|'K.�oP
P���F�.��o��9B<~. ����[����<٭�$�����{1�A��.�bKx�L������'�u8n5���e ,]�H����V��Ww�$�C�el��|zys��K�i-�q�ݬbk,wnG��;�� ~�e�r͒���~'1`V⦫�-*[��L�K�'2@����仪��n���2�N� �ƶ�G���i/U��'E�@�`H��;J�������+J�n#���6ڴ�ĹG���N�G�'�Z!�����Wi��NJ�@���A��Z|�[��$q}i�ҷ�QbtTEC$��m��mo�L�D��;�%g�?w��ŷ���ovH0��a�5��*�ؒ��l͛�S�iy�r�O7����%L]��%���hk ����>v1�HB������d\�(eoIx�>3�6BS%���(
��f$�h�����eԎ���H���`ݶf{�Fo�Y���@00uMb�z-��XI$&�gf���7Ӵ�u|'K.�oP
P���F�.��o��9B<~. ����[����<٭�$�����{1�A��.�bKx�L������'�u8n5���e ,]�H����V��Ww�$�C�el��|zys��K�i-�q�ݬbk,wnG��;�� ~�e�r͒���~'1`V⦫�-*[��L�K�'2@����仪��n���2�N� �ƶ�G���i/U��'E�@�`H��;J�������+J�n#���6ڴ�ĹG���N�G�'�Z!�����Wi��NJ�@���A��Z|�[��$q}i�ҷ�QbtTEC$��m��mo�L�D��;�%g�?w��ŷ���ovH0��a�5��*�ؒ��l͛�S�iy�r�O7����%L]��%���hk ����>v1�HB������d\�(eoIx�>3�6BS%���(
��f$�h�����eԎ���H���`ݶf{�Fo�Y���@00uMb�z-��XI$&�gf���7Ӵ�u|'K.�oP
P���F�.��o��9B<~. ����[����<٭�$�����{1�A��.�bKx�L������'�u8n5���e ,]�H����V��Ww�$�C�el��|zys��K�i-�q�ݬbk,wnG��;�� ~�e�r͒���~'1`V⦫�-*[��L�K�'2@����仪��n���2�N� �ƶ�G���i/U��'E�@�`H��;J�������+J�n#���6ڴ�ĹG���N�G�'�Z!�����Wi��NJ�@���A��Z|�[��$q}i�ҷ�QbtTEC$��m��mo�L�D��;�%g�?w��ŷ���ovH0��a�5��*�ؒ��l͛�S�iy�r�O7����%L]��%���hk ����>v1�HB������d\�(eoIx�>3�6BS%���(
��f$�h�����eԎ���H���`ݶf{�Fo�Y���@00uMb�z-��XI$&�gf���7Ӵ�u|'K.�oP
P���F�.��o��9B<~. ����[����<٭�$�����{1�A��.�bKx�L������'�u8n5���e ,]�H����V��Ww�$�C�el��|zys��K�i-�q�ݬbk,wnG��;�� ~�e�r͒���~'1`V⦫�-*[��L�K�'2@����仪��n���2�N� �ƶ�G���i/U��'E�@�`H��;J�������+J�n#���6ڴ�ĹG���N�G�'�Z!�����Wi��NJ�@���A��Z|�[��$q}i�ҷ�QbtTEC$��m��mo�L�D��;�%g�?w��ŷ���ovH0��a�5��*�ؒ��l͛�S�iy�r�O7����%L]��%���hk ����>v1�HB������d\�(eoIx�>3�6BS%���(
��f$�h�����eԎ���H���`ݶf{�Fo�Y���@00uMb�z-��XI$&�gf���7Ӵ�u|'K.�oP
P���F�.��o��9B<~. ����[����<٭�$�����{1�A��.�bKx�L������'�u8n5���e ,]�H����V��Ww�$�C�el��|zys��K�i-�q�ݬbk,wnG��;�� ~�e�r͒���~'1`V⦫�-*[��L�K�'2@����仪��n���2�N� �ƶ�G���i/U��'E�@�`H��;J�������+J�n#���6ڴ�ĹG���N�G�'�Z!�����Wi��NJ�@���A��Z|�[��$q}i�ҷ�QbtTEC$��m��mo�L�D��;�%g�?w��ŷ���ovH0��a�5��*�ؒ��l͛�S�iy�r�O7����%L]��%���hk ����>v1�HB������d\�(eoIx�>3�6BS%���(
��f$�h�����eԎ���H���`ݶf{�Fo�Y���@00uMb�z-��XI$&�gf���7Ӵ�u|'K.�oP
P���F�.��o��9B<~. ����[����<٭�$�����{1�A��.�bKx�L������'�u8n5���e ,]�H����V��Ww�$�C�el��|zys��K�i-�q�ݬbk,wnG��;�� ~�e�r͒���~'1`V⦫�-*[��L�K�'2@����仪��n���2�N� �ƶ�G���i/U��'E�@�`H��;J�������+J�n#���6ڴ�ĹG���N�G�'�Z!�����Wi��NJ�@���A��Z|�[��$q}i�ҷ�QbtTEC$��m��mo�L�D��;�%g�?w��ŷ���ovH0��a�5��*�ؒ��l͛�S�iy�r�O7����%L]��%���hk ����>v1�HB������d\�(eoIx�>3�6BS%���(
��f$�h�����eԎ���H���`ݶf{�Fo�Y���@00uMb�z-��XI$&�gf���7Ӵ�u|'K.�oP
P���F�.��o��9B<~. ����[����<٭�$�����{1�A��.�bKx�L������'�u8n5���e ,]�H����V��Ww�$�C�el��|zys��K�i-�q�ݬbk,wnG��;�� ~�e�r͒���~'1`V⦫�-*[��L�K�'2@����仪��n���2�N� �ƶ�G���i/U��'E�@�`H��;J�������+J�n#���6ڴ�ĹG���N�G�'�Z!�����Wi��NJ�@���A��Z|�[��$q}i�ҷ�QbtTEC$��m��mo�L�D��;�%g�?w��ŷ���ovH0��a�5��*�ؒ��l͛�S�iy�r�O7����%L]��%���hk ����>v1�HB������d\�(eoIx�>3�6BS%���(
��f$�h�����eԎ���H���`ݶf{�Fo�Y���@00uMb�z-��XI$&�gf���7Ӵ�u|'K.�oP
P���F�.��o��9B<~. ����[����<٭�$�����{1�A��.�bKx�L������'�u8n5���e ,]�H����V��Ww�$�C�el��|zys��K�i-�q�ݬbk,wnG��;�� ~�e�r͒���~'1`V⦫�-*[��L�K�'2@����仪��n���2�N� �ƶ�G���i/U��'E�@�`H��;J�������+J�n#���6ڴ�ĹG���N�G�'�Z!�����Wi��NJ�@���A��Z|�[��$q}i�ҷ�QbtTEC$��m��mo�L�D��;�%g�?w��ŷ���ovH0��a�5��*�ؒ��l͛�S�iy�r�O7����%L]��%���hk ����>v1�HB������d\�(eoIx�>3�6BS%���(
��f$�h�����eԎ���H���`ݶf{�Fo�Y���@00uMb�z-��XI$&�gf���7Ӵ�u|'K.�oP
P���F�.��o��9B<~. ����[����<٭�$�����{1�A��.�bKx�L������'�u8n5���e ,]�H����V��Ww�$�C�el��|zys��K�i-�q�ݬbk,wnG��;�� ~�e�r͒���~'1`V⦫�-*[��L�K�'2@����仪��n���2�N� �ƶ�G���i/U��'E�@�`H��;J�������+J�n#���6ڴ�ĹG���N�G�'�Z!�����Wi��NJ�@���A��Z|�[��$q}i�ҷ�QbtTEC$��m��mo�L�D��;�%g�?w��ŷ���ovH0��a�5��*�ؒ��l͛�S�iy�r�O7����%L]��%���hk ����>v1�HB������d\�(eoIx�>3�6BS%���(
��f$�h�����eԎ���H���`ݶf{�Fo�Y���@00uMb�z-��XI$&�gf���7Ӵ�u|'K.�oP
P���F�.��o��9B<~. ����[����<٭�$�����{1�A��.�bKx�L������'�u8n5���e ,]�H����V��Ww�$�C�el��|zys��K�i-�q�ݬbk,wnG��;�� ~�e�r͒���~'1`V⦫�-*[��L�K�'2@����仪��n���2�N� �ƶ�G���i/U��'E�@�`H��;J�������+J�n#���6ڴ�ĹG���N�G�'�Z!�����Wi��NJ�@���A��Z|�[��$q}i�ҷ�QbtTEC$��m��mo�L�D��;�%g�?w��ŷ���ovH0��a�5��*�ؒ��l͛�S�iy�r�O7����%L]��%���hk ����>v1�HB������d\�(eoIx�>3�6BS%���(
��f$�h�����eԎ���H���`ݶf{�Fo�Y���@00uMb�z-��XI$&�gf���7Ӵ�u|'K.�oP
P���F�.��o��9B<~. ����[����<٭�$�����{1�A��.�bKx�L������'�u8n5���e ,]�H����V��Ww�$�C�el��|zys��K�i-�q�ݬbk,wnG��;�� ~�e�r͒���~'1`V⦫�-*[��L�K�'2@����仪��n���2�N� �ƶ�G���i/U��'E�@�`H��;J�������+J�n#���6ڴ�ĹG���N�G�'�Z!�����Wi��NJ�@���A��Z|�[��$q}i�ҷ�QbtTEC$��m��mo�L�D��;�%g�?w��ŷ���ovH0��a�5��*�ؒ��l͛�S�iy�r�O7����%L]��%���hk ����>v1�HB������d\�(eoIx�>3�6BS%���(
��f$�h�����eԎ���H���`ݶf{�Fo�Y���@00uMb�z-��XI$&�gf���7Ӵ�u|'K.�oP
P���F�.��o��9B<~. ����[����<٭�$�����{1�A��.�bKx�L������'�u8n5���e ,]�H����V��Ww�$�C�el��|zys��K�i-�q�ݬbk,wnG��;�� ~�e�r͒���~'1`V⦫�-*[��L�K�'2@����仪��n���2�N� �ƶ�G���i/U��'E�@�`H��;J�������+J�n#���6ڴ�ĹG���N�G�'�Z!�����Wi��NJ�@���A��Z|�[��$q}i�ҷ�QbtTEC$��m��mo�L�D��;�%g�?w��ŷ���ovH0��a�5��*�ؒ��l͛�S�iy�r�O7����%L]��%���hk ����>v1�HB������d\�(eoIx�>3�6BS%���(
��f$�h�����eԎ���H���`ݶf{�Fo�Y���@00uMb�z-��XI$&�gf���7Ӵ�u|'K.�oP
P���F�.��o��9B<~. ����[����<٭�$�����{1�A��.�bKx�L������'�u8n5���e ,]�H����V��Ww�$�C�el��|zys��K�i-�q�ݬbk,wnG��;�� ~�e�r͒���~'1`V⦫�-*[��L�K�'2@����仪��n���2�N� �ƶ�G���i/U��'E�@�`H��;J�������+J�n#���6ڴ�ĹG���N�G�'�Z!�����Wi��NJ�@���A��Z|�[��$q}i�ҷ�QbtTEC$��m��mo�L�D��;�%g�?w��ŷ���ovH0��a�5��*�ؒ��l͛�S�iy�r�O7����%L]��%���hk ����>v1�HB������d\�(eoIx�>3�6BS%���(
��f$�h�����eԎ���H���`ݶf{�Fo�Y���@00uMb�z-��XI$&�gf���7Ӵ�u|'K.�oP
P���F�.��o��9B<~. ����[����<٭�$�����{1�A��.�bKx�L������'�u8n5���e ,]�H����V��Ww�$�C�el��|zys��K�i-�q�ݬbk,wnG��;�� ~�e�r͒���~'1`V⦫�-*[��L�K�'2@����仪��n���2�N� �ƶ�G���i/U��'E�@�`H��;J�������+J�n#���6ڴ�ĹG���N�G�'�Z!�����Wi��NJ�@���A��Z|�[��$q}i�ҷ�QbtTEC$��m��mo�L�D��;�%g�?w��ŷ���ovH0��a�5��*�ؒ��l͛�S�iy�r�O7����%L]��%���hk ����>v1�HB������d\�(eoIx�>3�6BS%���(
��f$�h�����eԎ���H���`ݶf{�Fo�Y���@00uMb�z-��XI$&�gf���7Ӵ�u|'K.�oP
P���F�.��o��9B<~. ����[����<٭�$�����{1�A��.�bKx�L������'�u8n5���e ,]�H����V��Ww�$�C�el��|zys��K�i-�q�ݬbk,wnG��;�� ~�e�r͒���~'1`V⦫�-*[��L�K�'2@����仪��n���2�N� �ƶ�G���i/U��'E�@�`H��;J�������+J�n#���6ڴ�ĹG���N�G�'�Z!�����Wi��NJ�@���A��Z|�[��$q}i�ҷ�QbtTEC$��m��mo�L�D��;�%g�?w��ŷ���ovH0��a�5��*�ؒ��l͛�S�iy�r�O7����%L]��%���hk ����>v1�HB������d\�(eoIx�>3�6BS%���(
��f$�h�����eԎ���H���`ݶf{�Fo�Y���@00uMb�z-��XI$&�gf���7Ӵ�u|'K.�oP
P���F�.��o��9B<~. ����[����<٭�$�����{1�A��.�bKx�L������'�u8n5���e ,]�H����V��Ww�$�C�el��|zys��K�i-�q�ݬbk,wnG��;�� ~�e�r͒���~'1`V⦫�-*[��L�K�'2@����仪��n���2�N� �ƶ�G���i/U��'E�@�`H��;J�������+J�n#���6ڴ�ĹG���N�G�'�Z!�����Wi��NJ�@���A��Z|�[��$q}i�ҷ�QbtTEC$��m��mo�L�D��;�%g�?w��ŷ���ovH0��a�5��*�ؒ��l͛�S�iy�r�O7����%L]��%���hk ����>v1�HB������d\�(eoIx�>3�6BS%���(
��f$�h�����eԎ���H���`ݶf{�Fo�Y���@00uMb�z-��XI$&�gf���7Ӵ�u|'K.�oP
P���F�.��o��9B<~. ����[����<٭�$�����{1�A��.�bKx�L������'�u8n5���e ,]�H����V��Ww�$�C�el��|zys��K�i-�q�ݬbk,wnG��;�� ~�e�r͒���~'1`V⦫�-*[��L�K�'2@����仪��n���2�N� �ƶ�G���i/U��'E�@�`H��;J�������+J�n#���6ڴ�ĹG���N�G�'�Z!�����Wi��NJ�@���A��Z|�[��$q}i�ҷ�QbtTEC$��m��mo�L�D��;�%g�?w��ŷ���ovH0��a�5��*�ؒ��l͛�S�iy�r�O7����%L]��%���hk ����>v1�HB������d\�(eoIx�>3�6BS%���(
��f$�h�����eԎ���H���`ݶf{�Fo�Y���@00uMb�z-��XI$&�gf���7Ӵ�u|'K.�oP
P���F�.��o��9B<~. ����[����<٭�$�����{1�A��.�bKx�L������'�u8n5���e ,]�H����V��Ww�$�C�el��|zys��K�i-�q�ݬbk,wnG��;�� ~�e�r͒���~'1`V⦫�-*[��L�K�'2@����仪��n���2�N� �ƶ�G���i/U��'E�@�`H��;J�������+J�n#���6ڴ�ĹG���N�G�'�Z!�����Wi��NJ�@���A��Z|�[��$q}i�ҷ�QbtTEC$��m��mo�L�D��;�%g�?w��ŷ���ovH0��a�5��*�ؒ��l͛�S�iy�r�O7����%L]��%���hk ����>v1�HB������d\�(eoIx�>3�6BS%���(
��f$�h�����eԎ���H���`ݶf{�Fo�Y���@00uMb�z-��XI$&�gf���7Ӵ�u|'K.�oP
P���F�.��o��9B<~. ����[����<٭�$�����{1�A��.�bKx�L������'�u8n5���e ,]�H����V��Ww�$�C�el��|zys��K�i-�q�ݬbk,wnG��;�� ~�e�r͒���~'1`V⦫�-*[��L�K�'2@����仪��n���2�N� �ƶ�G���i/U��'E�@�`H��;J�������+J�n#���6ڴ�ĹG���N�G�'�Z!�����Wi��NJ�@���A��Z|�[��$q}i�ҷ�QbtTEC$��m��mo�L�D��;�%g�?w��ŷ���ovH0��a�5��*�ؒ��l͛�S�iy�r�O7����%L]��%���hk ����>v1�HB������d\�(eoIx�>3�6BS%���(
��f$�h�����eԎ���H���`ݶf{�Fo�Y���@00uMb�z-��XI$&�gf���7Ӵ�u|'K.�oP
P���F�.��o��9B<~. ����[����<٭�$�����{1�A��.�bKx�L������'�u8n5���e ,]�H����V��Ww�$�C�el��|zys��K�i-�q�ݬbk,wnG��;�� ~�e�r͒���~'1`V⦫�-*[��L�K�'2@����仪��n���2�N� �ƶ�G���i/U��'E�@�`H��;J�������+J�n#���6ڴ�ĹG���N�G�'�Z!�����Wi��NJ�@���A��Z|�[��$q}i�ҷ�QbtTEC$��m��mo�L�D��;�%g�?w��ŷ���ovH0��a�5��*�ؒ��l͛�S�iy�r�O7����%L]��%���hk ����>v1�HB������d\�(eoIx�>3�6BS%���(
��f$�h�����eԎ���H���`ݶf{�Fo�Y���@00uMb�z-��XI$&�gf���7Ӵ�u|'K.�oP
P���F�.��o��9B<~. ����[����<٭�$�����{1�A��.�bKx�L������'�u8n5���e ,]�H����V��Ww�$�C�el��|zys��K�i-�q�ݬbk,wnG��;�� ~�e�r͒���~'1`V⦫�-*[��L�K�'2@����仪��n���2�N� �ƶ�G���i/U��'E�@�`H��;J�������+J�n#���6ڴ�ĹG���N�G�'�Z!�����Wi��NJ�@���A��Z|�[��$q}i�ҷ�QbtTEC$��m��mo�L�D��;�%g�?w��ŷ���ovH0��a�5��*�ؒ��l͛�S�iy�r�O7����%L]��%���hk ����>v1�HB������d\�(eoIx�>3�6BS%���(
��f$�h�����eԎ���H���`ݶf{�Fo�Y���@00uMb�z-��XI$&�gf���7Ӵ�u|'K.�oP
P���F�.��o��9B<~. ����[����<٭�$�����{1�A��.�bKx�L������'�u8n5���e ,]�H����V��Ww�$�C�el��|zys��K�i-�q�ݬbk,wnG��;�� ~�e�r͒���~'1`V⦫�-*[��L�K�'2@����仪��n���2�N� �ƶ�G���i/U��'E�@�`H��;J�������+J�n#���6ڴ�ĹG���N�G�'�Z!�����Wi��NJ�@���A��Z|�[��$q}i�ҷ�QbtTEC$��m��mo�L�D��;�%g�?w��ŷ���ovH0��a�5��*�ؒ��l͛�S�iy�r�O7����%L]��%���hk ����>v1�HB������d\�(eoIx�>3�6BS%���(
��f$�h�����eԎ���H���`ݶf{�Fo�Y���@00uMb�z-��XI$&�gf���7Ӵ�u|'K.�oP
P���F�.��o��9B<~. ����[����<٭�$�����{1�A��.�bKx�L������'�u8n5���e ,]�H����V��Ww�$�C�el��|zys��K�i-�q�ݬbk,wnG��;�� ~�e�r͒���~'1`V⦫�-*[��L�K�'2@����仪��n���2�N� �ƶ�G���i/U��'E�@�`H��;J�������+J�n#���6ڴ�ĹG���N�G�'�Z!�����Wi��NJ�@���A��Z|�[��$q}i�ҷ�QbtTEC$��m��mo�L�D��;�%g�?w��ŷ���ovH0��a�5��*�ؒ��l͛�S�iy�r�O7����%L]��%���hk ����>v1�HB������d\�(eoIx�>3�6BS%���(
��f$�h�����eԎ���H���`ݶf{�Fo�Y���@00uMb�z-��XI$&�gf���7Ӵ�u|'K.�oP
P���F�.��o��9B<~. ����[����<٭�$�����{1�A��.�bKx�L������'�u8n5���e ,]�H����V��Ww�$�C�el��|zys��K�i-�q�ݬbk,wnG��;�� ~�e�r͒���~'1`V⦫�-*[��L�K�'2@����仪��n���2�N� �ƶ�G���i/U��'E�@�`H��;J�������+J�n#���6ڴ�ĹG���N�G�'�Z!�����Wi��NJ�@���A��Z|�[��$q}i�ҷ�QbtTEC$��m��mo�L�D��;�%g�?w��ŷ���ovH0��a�5��*�ؒ��l͛�S�iy�r�O7����%L]��%���hk ����>v1�HB������d\�(eoIx�>3�6BS%���(
��f$�h�����eԎ���H���`ݶf{�Fo�Y���@00uMb�z-��XI$&�gf���7Ӵ�u|'K.�oP
P���F�.��o��9B<~. ����[����<٭�$�����{1�A��.�bKx�L������'�u8n5���e ,]�H����V��Ww�$�C�el��|zys��K�i-�q�ݬbk,wnG��;�� ~�e�r͒���~'1`V⦫�-*[��L�K�'2@����仪��n���2�N� �ƶ�G���i/U��'E�@�`H��;J�������+J�n#���6ڴ�ĹG���N�G�'�Z!�����Wi��NJ�@���A��Z|�[��$q}i�ҷ�QbtTEC$��m��mo�L�D��;�%g�?w��ŷ���ovH0��a�5��*�ؒ��l͛�S�iy�r�O7����%L]��%���hk ����>v1�HB������d\�(eoIx�>3�6BS%���(
��f$�h�����eԎ���H���`ݶf{�Fo�Y���@00uMb�z-��XI$&�gf���7Ӵ�u|'K.�oP
P���F�.��o��9B<~. ����[����<٭�$�����{1�A��.�bKx�L������'�u8n5���e ,]�H����V��Ww�$�C�el��|zys��K�i-�q�ݬbk,wnG��;�� ~�e�r͒���~'1`V⦫�-*[��L�K�'2@����仪��n���2�N� �ƶ�G���i/U��'E�@�`H��;J�������+J�n#���6ڴ�ĹG���N�G�'�Z!�����Wi��NJ�@���A��Z|�[��$q}i�ҷ�QbtTEC$��m��mo�L�D��;�%g�?w��ŷ���ovH0��a�5��*�ؒ��l͛�S�iy�r�O7����%L]��%���hk ����>v1�HB������d\�(eoIx�>3�6BS%���(
��f$�h�����eԎ���H���`ݶf{�Fo�Y���@00uMb�z-��XI$&�gf���7Ӵ�u|'K.�oP
P���F�.��o��9B<~. ����[����<٭�$�����{1�A��.�bKx�L������'�u8n5���e ,]�H����V��Ww�$�C�el��|zys��K�i-�q�ݬbk,wnG��;�� ~�e�r͒���~'1`V⦫�-*[��L�K�'2@����仪��n���2�N� �ƶ�G���i/U��'E�@�`H��;J�������+J�n#���6ڴ�ĹG���N�G�'�Z!�����Wi��NJ�@���A��Z|�[��$q}i�ҷ�QbtTEC$��m��mo�L�D��;�%g�?w��ŷ���ovH0��a�5��*�ؒ��l͛�S�iy�r�O7����%L]��%���hk ����>v1�HB������d\�(eoIx�>3�6BS%���(
��f$�h�����eԎ���H���`ݶf{�Fo�Y���@00uMb�z-��XI$&�gf���7Ӵ�u|'K.�oP
P���F�.��o��9B<~. ����[����<٭�$�����{1�A��.�bKx�L������'�u8n5���e ,]�H����V��Ww�$�C�el��|zys��K�i-�q�ݬbk,wnG��;�� ~�e�r͒���~'1`V⦫�-*[��L�K�'2@����仪��n���2�N� �ƶ�G���i/U��'E�@�`H��;J�������+J�n#���6ڴ�ĹG���N�G�'�Z!�����Wi��NJ�@���A��Z|�[��$q}i�ҷ�QbtTEC$��m��mo�L�D��;�%g�?w��ŷ���ovH0��a�5��*�ؒ��l͛�S�iy�r�O7����%L]��%���hk ����>v1�HB������d\�(eoIx�>3�6BS%���(
��f$�h�����eԎ���H���`ݶf{�Fo�Y���@00uMb�z-��XI$&�gf���7Ӵ�u|'K.�oP
P���F�.��o��9B<~. ����[����<٭�$�����{1�A��.�bKx�L������'�u8n5���e ,]�H����V��Ww�$�C�el��|zys��K�i-�q�ݬbk,wnG��;�� ~�e�r͒���~'1`V⦫�-*[��L�K�'2@����仪��n���2�N� �ƶ�G���i/U��'E�@�`H��;J�������+J�n#���6ڴ�ĹG���N�G�'�Z!�����Wi��NJ�@���A��Z|�[��$q}i�ҷ�QbtTEC$��m��mo�L�D��;�%g�?w��ŷ���ovH0��a�5��*�ؒ��l͛�S�iy�r�O7����%L]��%���hk ����>v1�HB������d\�(eoIx�>3�6BS%���(
��f$�h�����eԎ���H���`ݶf{�Fo�Y���@00uMb�z-��XI$&�gf���7Ӵ�u|'K.�oP
P���F�.��o��9B<~. ����[����<٭�$�����{1�A��.�bKx�L������'�u8n5���e ,]�H����V��Ww�$�C�el��|zys��K�i-�q�ݬbk,wnG��;�� ~�e�r͒���~'1`V⦫�-*[��L�K�'2@����仪��n���2�N� �ƶ�G���i/U��'E�@�`H��;J�������+J�n#���6ڴ�ĹG���N�G�'�Z!�����Wi��NJ�@���A��Z|�[��$q}i�ҷ�QbtTEC$��m��mo�L�D��;�%g�?w��ŷ���ovH0��a�5��*�ؒ��l͛�S�iy�r�O7����%L]��%���hk ����>v1�HB������d\�(eoIx�>3�6BS%���(
��f$�h�����eԎ���H���`ݶf{�Fo�Y���@00uMb�z-��XI$&�gf���7Ӵ�u|'K.�oP
P���F�.��o��9B<~. ����[����<٭�$�����{1�A��.�bKx�L������'�u8n5���e ,]�H����V��Ww�$�C�el��|zys��K�i-�q�ݬbk,wnG��;�� ~�e�r͒���~'1`V⦫�-*[��L�K�'2@����仪��n���2�N� �ƶ�G���i/U��'E�@�`H��;J�������+J�n#���6ڴ�ĹG���N�G�'�Z!�����Wi��NJ�@���A��Z|�[��$q}i�ҷ�QbtTEC$��m��mo�L�D��;�%g�?w��ŷ���ovH0��a�5��*�ؒ��l͛�S�iy�r�O7����%L]��%���hk ����>v1�HB������d\�(eoIx�>3�6BS%���(
��f$�h�����eԎ���H���`ݶf{�Fo�Y���@00uMb�z-��XI$&�gf���7Ӵ�u|'K.�oP
P���F�.��o��9B<~. ����[����<٭�$�����{1�A��.�bKx�L������'�u8n5���e ,]�H����V��Ww�$�C�el��|zys��K�i-�q�ݬbk,wnG��;�� ~�e�r͒���~'1`V⦫�-*[��L�K�'2@����仪��n���2�N� �ƶ�G���i/U��'E�@�`H��;J�������+J�n#���6ڴ�ĹG���N�G�'�Z!�����Wi��NJ�@���A��Z|�[��$q}i�ҷ�QbtTEC$��m��mo�L�D��;�%g�?w��ŷ���ovH0��a�5��*�ؒ��l͛�S�iy�r�O7����%L]��%���hk ����>v1�HB������d\�(eoIx�>3�6BS%���(
��f$�h�����eԎ���H���`ݶf{�Fo�Y���@00uMb�z-��XI$&�gf���7Ӵ�u|'K.�oP
P���F�.��o��9B<~. ����[����<٭�$�����{1�A��.�bKx�L������'�u8n5���e ,]�H����V��Ww�$�C�el��|zys��K�i-�q�ݬbk,wnG��;�� ~�e�r͒���~'1`V⦫�-*[��L�K�'2@����仪��n���2�N� �ƶ�G���i/U��'E�@�`H��;J�������+J�n#���6ڴ�ĹG���N�G�'�Z!�����Wi��NJ�@���A��Z|�[��$q}i�ҷ�QbtTEC$��m��mo�L�D��;�%g�?w��ŷ���ovH0��a�5��*�ؒ��l͛�S�iy�r�O7����%L]��%���hk ����>v1�HB������d\�(eoIx�>3�6BS%���(
��f$�h�����eԎ���H���`ݶf{�Fo�Y���@00uMb�z-��XI$&�gf���7Ӵ�u|'K.�oP
P���F�.��o��9B<~. ����[����<٭�$�����{1�A��.�bKx�L������'�u8n5���e ,]�H����V��Ww�$�C�el��|zys��K�i-�q�ݬbk,wnG��;�� ~�e�r͒���~'1`V⦫�-*[��L�K�'2@����仪��n���2�N� �ƶ�G���i/U��'E�@�`H��;J�������+J�n#���6ڴ�ĹG���N�G�'�Z!�����Wi��NJ�@���A��Z|�[��$q}i�ҷ�QbtTEC$��m��mo�L�D��;�%g�?w��ŷ���ovH0��a�5��*�ؒ��l͛�S�iy�r�O7����%L]��%���hk ����>v1�HB������d\�(eoIx�>3�6BS%���(
��f$�h�����eԎ���H���`ݶf{�Fo�Y���@00uMb�z-��XI$&�gf���7Ӵ�u|'K.�oP
P���F�.��o��9B<~. ����[����<٭�$�����{1�A��.�bKx�L������'�u8n5���e ,]�H����V��Ww�$�C�el��|zys��K�i-�q�ݬbk,wnG��;�� ~�e�r͒���~'1`V⦫�-*[��L�K�'2@����仪��n���2�N� �ƶ�G���i/U��'E�@�`H��;J�������+J�n#���6ڴ�ĹG���N�G�'�Z!�����Wi��NJ�@���A��Z|�[��$q}i�ҷ�QbtTEC$��m��mo�L�D��;�%g�?w��ŷ���ovH0��a�5��*�ؒ��l͛�S�iy�r�O7����%L]��%���hk ����>v1�HB������d\�(eoIx�>3�6BS%���(
��f$�h�����eԎ���H���`ݶf{�Fo�Y���@00uMb�z-��XI$&�gf���7Ӵ�u|'K.�oP
P���F�.��o��9B<~. ����[����<٭�$�����{1�A��.�bKx�L������'�u8n5���e ,]�H����V��Ww�$�C�el��|zys��K�i-�q�ݬbk,wnG��;�� ~�e�r͒���~'1`V⦫�-*[��L�K�'2@����仪��n���2�N� �ƶ�G���i/U��'E�@�`H��;J�������+J�n#���6ڴ�ĹG���N�G�'�Z!�����Wi��NJ�@���A��Z|�[��$q}i�ҷ�QbtTEC$��m��mo�L�D��;�%g�?w��ŷ���ovH0��a�5��*�ؒ��l͛�S�iy�r�O7����%L]��%���hk ����>v1�HB������d\�(eoIx�>3�6BS%���(
��f$�h�����eԎ���H���`ݶf{�Fo�Y���@00uMb�z-��XI$&�gf���7Ӵ�u|'K.�oP
P���F�.��o��9B<~. ����[����<٭�$�����{1�A��.�bKx�L������'�u8n5���e ,]�H����V��Ww�$�C�el��|zys��K�i-�q�ݬbk,wnG��;�� ~�e�r͒���~'1`V⦫�-*[��L�K�'2@����仪��n���2�N� �ƶ�G���i/U��'E�@�`H��;J�������+J�n#���6ڴ�ĹG���N�G�'�Z!�����Wi��NJ�@���A��Z|�[��$q}i�ҷ�QbtTEC$��m��mo�L�D��;�%g�?w��ŷ���ovH0��a�5��*�ؒ��l͛�S�iy�r�O7����%L]��%���hk ����>v1�HB������d\�(eoIx�>3�6BS%���(
��f$�h�����eԎ���H���`ݶf{�Fo�Y���@00uMb�z-��XI$&�gf���7Ӵ�u|'K.�oP
P���F�.��o��9B<~. ����[����<٭�$�����{1�A��.�bKx�L������'�u8n5���e ,]�H����V��Ww�$�C�el��|zys��K�i-�q�ݬbk,wnG��;�� ~�e�r͒���~'1`V⦫�-*[��L�K�'2@����仪��n���2�N� �ƶ�G���i/U��'E�@�`H��;J�������+J�n#���6ڴ�ĹG���N�G�'�Z!�����Wi��NJ�@���A��Z|�[��$q}i�ҷ�QbtTEC$��m��mo�L�D��;�%g�?w��ŷ���ovH0��a�5��*�ؒ��l͛�S�iy�r�O7����%L]��%���hk ����>v1�HB������d\�(eoIx�>3�6BS%���(
��f$�h�����eԎ���H���`ݶf{�Fo�Y���@00uMb�z-��XI$&�gf���7Ӵ�u|'K.�oP
P���F�.��o��9B<~. ����[����<٭�$�����{1�A��.�bKx�L������'�u8n5���e ,]�H����V��Ww�$�C�el��|zys��K�i-�q�ݬbk,wnG��;�� ~�e�r͒���~'1`V⦫�-*[��L�K�'2@����仪��n���2�N� �ƶ�G���i/U��'E�@�`H��;J�������+J�n#���6ڴ�ĹG���N�G�'�Z!�����Wi��NJ�@���A��Z|�[��$q}i�ҷ�QbtTEC$��m��mo�L�D��;�%g�?w��ŷ���ovH0��a�5��*�ؒ��l͛�S�iy�r�O7����%L]��%���hk ����>v1�HB������d\�(eoIx�>3�6BS%���(
��f$�h�����eԎ���H���`ݶf{�Fo�Y���@00uMb�z-��XI$&�gf���7Ӵ�u|'K.�oP
P���F�.��o��9B<~. ����[����<٭�$�����{1�A��.�bKx�L������'�u8n5���e ,]�H����V��Ww�$�C�el��|zys��K�i-�q�ݬbk,wnG��;�� ~�e�r͒���~'1`V⦫�-*[��L�K�'2@����仪��n���2�N� �ƶ�G���i/U��'E�@�`H��;J�������+J�n#���6ڴ�ĹG���N�G�'�Z!�����Wi��NJ�@���A��Z|�[��$q}i�ҷ�QbtTEC$��m��mo�L�D��;�%g�?w��ŷ���ovH0��a�5��*�ؒ��l͛�S�iy�r�O7����%L]��%���hk ����>v1�HB������d\�(eoIx�>3�6BS%���(
��f$�h�����eԎ���H���`ݶf{�Fo�Y���@00uMb�z-��XI$&�gf���7Ӵ�u|'K.�oP
P���F�.��o��9B<~. ����[����<٭�$�����{1�A��.�bKx�L������'�u8n5���e ,]�H����V��Ww�$�C�el��|zys��K�i-�q�ݬbk,wnG��;�� ~�e�r͒���~'1`V⦫�-*[��L�K�'2@����仪��n���2�N� �ƶ�G���i/U��'E�@�`H��;J�������+J�n#���6ڴ�ĹG���N�G�'�Z!�����Wi��NJ�@���A��Z|�[��$q}i�ҷ�QbtTEC$��m��mo�L�D��;�%g�?w��ŷ���ovH0��a�5��*�ؒ��l͛�S�iy�r�O7����%L]��%���hk ����>v1�HB������d\�(eoIx�>3�6BS%���(
��f$�h�����eԎ���H���`ݶf{�Fo�Y���@00uMb�z-��XI$&�gf���7Ӵ�u|'K.�oP
P���F�.��o��9B<~. ����[����<٭�$�����{1�A��.�bKx�L������'�u8n5���e ,]�H����V��Ww�$�C�el��|zys��K�i-�q�ݬbk,wnG��;�� ~�e�r͒���~'1`V⦫�-*[��L�K�'2@����仪��n���2�N� �ƶ�G���i/U��'E�@�`H��;J�������+J�n#���6ڴ�ĹG���N�G�'�Z!�����Wi��NJ�@���A��Z|�[��$q}i�ҷ�QbtTEC$��m��mo�L�D��;�%g�?w��ŷ���ovH0��a�5��*�ؒ��l͛�S�iy�r�O7����%L]��%���hk ����>v1�HB������d\�(eoIx�>3�6BS%���(
��f$�h�����eԎ���H���`ݶf{�Fo�Y���@00uMb�z-��XI$&�gf���7Ӵ�u|'K.�oP
P���F�.��o��9B<~. ����[����<٭�$�����{1�A��.�bKx�L������'�u8n5���e ,]�H����V��Ww�$�C�el��|zys��K�i-�q�ݬbk,wnG��;�� ~�e�r͒���~'1`V⦫�-*[��L�K�'2@����仪��n���2�N� �ƶ�G���i/U��'E�@�`H��;J�������+J�n#���6ڴ�ĹG���N�G�'�Z!�����Wi��NJ�@���A��Z|�[��$q}i�ҷ�QbtTEC$��m��mo�L�D��;�%g�?w��ŷ���ovH0��a�5��*�ؒ��l͛�S�iy�r�O7����%L]��%���hk ����>v1�HB������d\�(eoIx�>3�6BS%���(
��f$�h�����eԎ���H���`ݶf{�Fo�Y���@00uMb�z-��XI$&�gf���7Ӵ�u|'K.�oP
P���F�.��o��9B<~. ����[����<٭�$�����{1�A��.�bKx�L������'�u8n5���e ,]�H����V��Ww�$�C�el��|zys��K�i-�q�ݬbk,wnG��;�� ~�e�r͒���~'1`V⦫�-*[��L�K�'2@����仪��n���2�N� �ƶ�G���i/U��'E�@�`H��;J�������+J�n#���6ڴ�ĹG���N�G�'�Z!�����Wi��NJ�@���A��Z|�[��$q}i�ҷ�QbtTEC$��m��mo�L�D��;�%g�?w��ŷ���ovH0��a�5��*�ؒ��l͛�S�iy�r�O7����%L]��%���hk ����>v1�HB������d\�(eoIx�>3�6BS%���(
��f$�h�����eԎ���H���`ݶf{�Fo�Y���@00uMb�z-��XI$&�gf���7Ӵ�u|'K.�oP
P���F�.��o��9B<~. ����[����<٭�$�����{1�A��.�bKx�L������'�u8n5���e ,]�H����V��Ww�$�C�el��|zys��K�i-�q�ݬbk,wnG��;�� ~�e�r͒���~'1`V⦫�-*[��L�K�'2@����仪��n���2�N� �ƶ�G���i/U��'E�@�`H��;J�������+J�n#���6ڴ�ĹG���N�G�'�Z!�����Wi��NJ�@���A��Z|�[��$q}i�ҷ�QbtTEC$��m��mo�L�D��;�%g�?w��ŷ���ovH0��a�5��*�ؒ��l͛�S�iy�r�O7����%L]��%���hk ����>v1�HB������d\�(eoIx�>3�6BS%���(
��f$�h�����eԎ���H���`ݶf{�Fo�Y���@00uMb�z-��XI$&�gf���7Ӵ�u|'K.�oP
P���F�.��o��9B<~. ����[����<٭�$�����{1�A��.�bKx�L������'�u8n5���e ,]�H����V��Ww�$�C�el��|zys��K�i-�q�ݬbk,wnG��;�� ~�e�r͒���~'1`V⦫�-*[��L�K�'2@����仪��n���2�N� �ƶ�G���i/U��'E�@�`H��;J�������+J�n#���6ڴ�ĹG���N�G�'�Z!�����Wi��NJ�@���A��Z|�[��$q}i�ҷ�QbtTEC$��m��mo�L�D��;�%g�?w��ŷ���ovH0��a�5��*�ؒ��l͛�S�iy�r�O7����%L]��%���hk ����>v1�HB������d\�(eoIx�>3�6BS%���(
��f$�h�����eԎ���H���`ݶf{�Fo�Y���@00uMb�z-��XI$&�gf���7Ӵ�u|'K.�oP
P���F�.��o��9B<~. ����[����<٭�$�����{1�A��.�bKx�L������'�u8n5���e ,]�H����V��Ww�$�C�el��|zys��K�i-�q�ݬbk,wnG��;�� ~�e�r͒���~'1`V⦫�-*[��L�K�'2@����仪��n���2�N� �ƶ�G���i/U��'E�@�`H��;J�������+J�n#���6ڴ�ĹG���N�G�'�Z!�����Wi��NJ�@���A��Z|�[��$q}i�ҷ�QbtTEC$��m��mo�L�D��;�%g�?w��ŷ���ovH0��a�5��*�ؒ��l͛�S�iy�r�O7����%L]��%���hk ����>v1�HB������d\�(eoIx�>3�6BS%���(
��f$�h�����eԎ���H���`ݶf{�Fo�Y���@00uMb�z-��XI$&�gf���7Ӵ�u|'K.�oP
P���F�.��o��9B<~. ����[����<٭�$�����{1�A��.�bKx�L������'�u8n5���e ,]�H����V��Ww�$�C�el��|zys��K�i-�q�ݬbk,wnG��;�� ~�e�r͒���~'1`V⦫�-*[��L�K�'2@����仪��n���2�N� �ƶ�G���i/U��'E�@�`H��;J�������+J�n#���6ڴ�ĹG���N�G�'�Z!�����Wi��NJ�@���A��Z|�[��$q}i�ҷ�QbtTEC$��m��mo�L�D��;�%g�?w��ŷ���ovH0��a�5��*�ؒ��l͛�S�iy�r�O7����%L]��%���hk ����>v1�HB������d\�(eoIx�>3�6BS%���(
��f$�h�����eԎ���H���`ݶf{�Fo�Y���@00uMb�z-��XI$&�gf���7Ӵ�u|'K.�oP
P���F�.��o��9B<~. ����[����<٭�$�����{1�A��.�bKx�L������'�u8n5���e ,]�H����V��Ww�$�C�el��|zys��K�i-�q�ݬbk,wnG��;�� ~�e�r͒���~'1`V⦫�-*[��L�K�'2@����仪��n���2�N� �ƶ�G���i/U��'E�@�`H��;J�������+J�n#���6ڴ�ĹG���N�G�'�Z!�����Wi��NJ�@���A��Z|�[��$q}i�ҷ�QbtTEC$��m��mo�L�D��;�%g�?w��ŷ���ovH0��a�5��*�ؒ��l͛�S�iy�r�O7����%L]��%���hk ����>v1�HB������d\�(eoIx�>3�6BS%���(
��f$�h�����eԎ���H���`ݶf{�Fo�Y���@00uMb�z-��XI$&�gf���7Ӵ�u|'K.�oP
P���F�.��o��9B<~. ����[����<٭�$�����{1�A��.�bKx�L������'�u8n5���e ,]�H����V��Ww�$�C�el��|zys��K�i-�q�ݬbk,wnG��;�� ~�e�r͒���~'1`V⦫�-*[��L�K�'2@����仪��n���2�N� �ƶ�G���i/U��'E�@�`H��;J�������+J�n#���6ڴ�ĹG���N�G�'�Z!�����Wi��NJ�@���A��Z|�[��$q}i�ҷ�QbtTEC$��m��mo�L�D��;�%g�?w��ŷ���ovH0��a�5��*�ؒ��l͛�S�iy�r�O7����%L]��%���hk ����>v1�HB������d\�(eoIx�>3�6BS%���(
��f$�h�����eԎ���H���`ݶf{�Fo�Y���@00uMb�z-��XI$&�gf���7Ӵ�u|'K.�oP
P���F�.��o��9B<~. ����[����<٭�$�����{1�A��.�bKx�L������'�u8n5���e ,]�H����V��Ww�$�C�el��|zys��K�i-�q�ݬbk,wnG��;�� ~�e�r͒���~'1`V⦫�-*[��L�K�'2@����仪��n���2�N� �ƶ�G���i/U��'E�@�`H��;J�������+J�n#���6ڴ�ĹG���N�G�'�Z!�����Wi��NJ�@���A��Z|�[��$q}i�ҷ�QbtTEC$��m��mo�L�D��;�%g�?w��ŷ���ovH0��a�5��*�ؒ��l͛�S�iy�r�O7����%L]��%���hk ����>v1�HB������d\�(eoIx�>3�6BS%���(
��f$�h�����eԎ���H���`ݶf{�Fo�Y���@00uMb�z-��XI$&�gf���7Ӵ�u|'K.�oP
P���F�.��o��9B<~. ����[����<٭�$�����{1�A��.�bKx�L������'�u8n5���e ,]�H����V��Ww�$�C�el��|zys��K�i-�q�ݬbk,wnG��;�� ~�e�r͒���~'1`V⦫�-*[��L�K�'2@����仪��n���2�N� �ƶ�G���i/U��'E�@�`H��;J�������+J�n#���6ڴ�ĹG���N�G�'�Z!�����Wi��NJ�@���A��Z|�[��$q}i�ҷ�QbtTEC$��m��mo�L�D��;�%g�?w��ŷ���ovH0��a�5��*�ؒ��l͛�S�iy�r�O7����%L]��%���hk ����>v1�HB������d\�(eoIx�>3�6BS%���(
��f$�h�����eԎ���H���`ݶf{�Fo�Y���@00uMb�z-��XI$&�gf���7Ӵ�u|'K.�oP
P���F�.��o��9B<~. ����[����<٭�$�����{1�A��.�bKx�L������'�u8n5���e ,]�H����V��Ww�$�C�el��|zys��K�i-�q�ݬbk,wnG��;�� ~�e�r͒���~'1`V⦫�-*[��L�K�'2@����仪��n���2�N� �ƶ�G���i/U��'E�@�`H��;J�������+J�n#���6ڴ�ĹG���N�G�'�Z!�����Wi��NJ�@���A��Z|�[��$q}i�ҷ�QbtTEC$��m��mo�L�D��;�%g�?w��ŷ���ovH0��a�5��*�ؒ��l͛�S�iy�r�O7����%L]��%���hk ����>v1�HB������d\�(eoIx�>3�6BS%���(
��f$�h�����eԎ���H���`ݶf{�Fo�Y���@00uMb�z-��XI$&�gf���7Ӵ�u|'K.�oP
P���F�.��o��9B<~. ����[����<٭�$�����{1�A��.�bKx�L������'�u8n5���e ,]�H����V��Ww�$�C�el��|zys��K�i-�q�ݬbk,wnG��;�� ~�e�r͒���~'1`V⦫�-*[��L�K�'2@����仪��n���2�N� �ƶ�G���i/U��'E�@�`H��;J�������+J�n#���6ڴ�ĹG���N�G�'�Z!�����Wi��NJ�@���A��Z|�[��$q}i�ҷ�QbtTEC$��m��mo�L�D��;�%g�?w��ŷ���ovH0��a�5��*�ؒ��l͛�S�iy�r�O7����%L]��%���hk ����>v1�HB������d\�(eoIx�>3�6BS%���(
��f$�h�����eԎ���H���`ݶf{�Fo�Y���@00uMb�z-��XI$&�gf���7Ӵ�u|'K.�oP
P���F�.��o��9B<~. ����[����<٭�$�����{1�A��.�bKx�L������'�u8n5���e ,]�H����V��Ww�$�C�el��|zys��K�i-�q�ݬbk,wnG��;�� ~�e�r͒���~'1`V⦫�-*[��L�K�'2@����仪��n���2�N� �ƶ�G���i/U��'E�@�`H��;J�������+J�n#���6ڴ�ĹG���N�G�'�Z!�����Wi��NJ�@���A��Z|�[��$q}i�ҷ�QbtTEC$��m��mo�L�D��;�%g�?w��ŷ���ovH0��a�5��*�ؒ��l͛�S�iy�r�O7����%L]��%���hk ����>v1�HB������d\�(eoIx�>3�6BS%���(
��f$�h�����eԎ���H���`ݶf{�Fo�Y���@00uMb�z-��XI$&�gf���7Ӵ�u|'K.�oP
P���F�.��o��9B<~. ����[����<٭�$�����{1�A��.�bKx�L������'�u8n5���e ,]�H����V��Ww�$�C�el��|zys��K�i-�q�ݬbk,wnG��;�� ~�e�r͒���~'1`V⦫�-*[��L�K�'2@����仪��n���2�N� �ƶ�G���i/U��'E�@�`H��;J�������+J�n#���6ڴ�ĹG���N�G�'�Z!�����Wi��NJ�@���A��Z|�[��$q}i�ҷ�QbtTEC$��m��mo�L�D��;�%g�?w��ŷ���ovH0��a�5��*�ؒ��l͛�S�iy�r�O7����%L]��%���hk ����>v1�HB������d\�(eoIx�>3�6BS%���(
��f$�h�����eԎ���H���`ݶf{�Fo�Y���@00uMb�z-��XI$&�gf���7Ӵ�u|'K.�oP
P���F�.��o��9B<~. ����[����<٭�$�����{1�A��.�bKx�L������'�u8n5���e ,]�H����V��Ww�$�C�el��|zys��K�i-�q�ݬbk,wnG��;�� ~�e�r͒���~'1`V⦫�-*[��L�K�'2@����仪��n���2�N� �ƶ�G���i/U��'E�@�`H��;J�������+J�n#���6ڴ�ĹG���N�G�'�Z!�����Wi��NJ�@���A��Z|�[��$q}i�ҷ�QbtTEC$��m��mo�L�D��;�%g�?w��ŷ���ovH0��a�5��*�ؒ��l͛�S�iy�r�O7����%L]��%���hk ����>v1�HB������d\�(eoIx�>3�6BS%���(
��f$�h�����eԎ���H���`ݶf{�Fo�Y���@00uMb�z-��XI$&�gf���7Ӵ�u|'K.�oP
P���F�.��o��9B<~. ����[����<٭�$�����{1�A��.�bKx�L������'�u8n5���e ,]�H����V��Ww�$�C�el��|zys��K�i-�q�ݬbk,wnG��;�� ~�e�r͒���~'1`V⦫�-*[��L�K�'2@����仪��n���2�N� �ƶ�G���i/U��'E�@�`H��;J�������+J�n#���6ڴ�ĹG���N�G�'�Z!�����Wi��NJ�@���A��Z|�[��$q}i�ҷ�QbtTEC$��m��mo�L�D��;�%g�?w��ŷ���ovH0��a�5��*�ؒ��l͛�S�iy�r�O7����%L]��%���hk ����>v1�HB������d\�(eoIx�>3�6BS%���(
��f$�h�����eԎ���H���`ݶf{�Fo�Y���@00uMb�z-��XI$&�gf���7Ӵ�u|'K.�oP
P���F�.��o��9B<~. ����[����<٭�$�����{1�A��.�bKx�L������'�u8n5���e ,]�H����V��Ww�$�C�el��|zys��K�i-�q�ݬbk,wnG��;�� ~�e�r͒���~'1`V⦫�-*[��L�K�'2@����仪��n���2�N� �ƶ�G���i/U��'E�@�`H��;J�������+J�n#���6ڴ�ĹG���N�G�'�Z!�����Wi��NJ�@���A��Z|�[��$q}i�ҷ�QbtTEC$��m��mo�L�D��;�%g�?w��ŷ���ovH0��a�5��*�ؒ��l͛�S�iy�r�O7����%L]��%���hk ����>v1�HB������d\�(eoIx�>3�6BS%���(
��f$�h�����eԎ���H���`ݶf{�Fo�Y���@00uMb�z-��XI$&�gf���7Ӵ�u|'K.�oP
P���F�.��o��9B<~. ����[����<٭�$�����{1�A��.�bKx�L������'�u8n5���e ,]�H����V��Ww�$�C�el��|zys��K�i-�q�ݬbk,wnG��;�� ~�e�r͒���~'1`V⦫�-*[��L�K�'2@����仪��n���2�N� �ƶ�G���i/U��'E�@�`H��;J�������+J�n#���6ڴ�ĹG���N�G�'�Z!�����Wi��NJ�@���A��Z|�[��$q}i�ҷ�QbtTEC$��m��mo�L�D��;�%g�?w��ŷ���ovH0��a�5��*�ؒ��l͛�S�iy�r�O7����%L]��%���hk ����>v1�HB������d\�(eoIx�>3�6BS%���(
��f$�h�����eԎ���H���`ݶf{�Fo�Y���@00uMb�z-��XI$&�gf���7Ӵ�u|'K.�oP
P���F�.��o��9B<~. ����[����<٭�$�����{1�A��.�bKx�L������'�u8n5���e ,]�H����V��Ww�$�C�el��|zys��K�i-�q�ݬbk,wnG��;�� ~�e�r͒���~'1`V⦫�-*[��L�K�'2@����仪��n���2�N� �ƶ�G���i/U��'E�@�`H��;J�������+J�n#���6ڴ�ĹG���N�G�'�Z!�����Wi��NJ�@���A��Z|�[��$q}i�ҷ�QbtTEC$��m��mo�L�D��;�%g�?w��ŷ���ovH0��a�5��*�ؒ��l͛�S�iy�r�O7����%L]��%���hk ����>v1�HB������d\�(eoIx�>3�6BS%���(
��f$�h�����eԎ���H���`ݶf{�Fo�Y���@00uMb�z-��XI$&�gf���7Ӵ�u|'K.�oP
P���F�.��o��9B<~. ����[����<٭�$�����{1�A��.�bKx�L������'�u8n5���e ,]�H����V��Ww�$�C�el��|zys��K�i-�q�ݬbk,wnG��;�� ~�e�r͒���~'1`V⦫�-*[��L�K�'2@����仪��n���2�N� �ƶ�G���i/U��'E�@�`H��;J�������+J�n#���6ڴ�ĹG���N�G�'�Z!�����Wi��NJ�@���A��Z|�[��$q}i�ҷ�QbtTEC$��m��mo�L�D��;�%g�?w��ŷ���ovH0��a�5��*�ؒ��l͛�S�iy�r�O7����%L]��%���hk ����>v1�HB������d\�(eoIx�>3�6BS%���(
��f$�h�����eԎ���H���`ݶf{�Fo�Y���@00uMb�z-��XI$&�gf���7Ӵ�u|'K.�oP
P���F�.��o��9B<~. ����[����<٭�$�����{1�A��.�bKx�L������'�u8n5���e ,]�H����V��Ww�$�C�el��|zys��K�i-�q�ݬbk,wnG��;�� ~�e�r͒���~'1`V⦫�-*[��L�K�'2@����仪��n���2�N� �ƶ�G���i/U��'E�@�`H��;J�������+J�n#���6ڴ�ĹG���N�G�'�Z!�����Wi��NJ�@���A��Z|�[��$q}i�ҷ�QbtTEC$��m��mo�L�D��;�%g�?w��ŷ���ovH0��a�5��*�ؒ��l͛�S�iy�r�O7����%L]��%���hk ����>v1�HB������d\�(eoIx�>3�6BS%���(
��f$�h�����eԎ���H���`ݶf{�Fo�Y���@00uMb�z-��XI$&�gf���7Ӵ�u|'K.�oP
P���F�.��o��9B<~. ����[����<٭�$�����{1�A��.�bKx�L������'�u8n5���e ,]�H����V��Ww�$�C�el��|zys��K�i-�q�ݬbk,wnG��;�� ~�e�r͒���~'1`V⦫�-*[��L�K�'2@����仪��n���2�N� �ƶ�G���i/U��'E�@�`H��;J�������+J�n#���6ڴ�ĹG���N�G�'�Z!�����Wi��NJ�@���A��Z|�[��$q}i�ҷ�QbtTEC$��m��mo�L�D��;�%g�?w��ŷ���ovH0��a�5��*�ؒ��l͛�S�iy�r�O7����%L]��%���hk ����>v1�HB������d\�(eoIx�>3�6BS%���(
��f$�h�����eԎ���H���`ݶf{�Fo�Y���@00uMb�z-��XI$&�gf���7Ӵ�u|'K.�oP
P���F�.��o��9B<~. ����[����<٭�$�����{1�A��.�bKx�L������'�u8n5���e ,]�H����V��Ww�$�C�el��|zys��K�i-�q�ݬbk,wnG��;�� ~�e�r͒���~'1`V⦫�-*[��L�K�'2@����仪��n���2�N� �ƶ�G���i/U��'E�@�`H��;J�������+J�n#���6ڴ�ĹG���N�G�'�Z!�����Wi��NJ�@���A��Z|�[��$q}i�ҷ�QbtTEC$��m��mo�L�D��;�%g�?w��ŷ���ovH0��a�5��*�ؒ��l͛�S�iy�r�O7����%L]��%���hk ����>v1�HB������d\�(eoIx�>3�6BS%���(
��f$�h�����eԎ���H���`ݶf{�Fo�Y���@00uMb�z-��XI$&�gf���7Ӵ�u|'K.�oP
P���F�.��o��9B<~. ����[����<٭�$�����{1�A��.�bKx�L������'�u8n5���e ,]�H����V��Ww�$�C�el��|zys��K�i-�q�ݬbk,wnG��;�� ~�e�r͒���~'1`V⦫�-*[��L�K�'2@����仪��n���2�N� �ƶ�G���i/U��'E�@�`H��;J�������+J�n#���6ڴ�ĹG���N�G�'�Z!�����Wi��NJ�@���A��Z|�[��$q}i�ҷ�QbtTEC$��m��mo�L�D��;�%g�?w��ŷ���ovH0��a�5��*�ؒ��l͛�S�iy�r�O7����%L]��%���hk ����>v1�HB������d\�(eoIx�>3�6BS%���(
��f$�h�����eԎ���H���`ݶf{�Fo�Y���@00uMb�z-��XI$&�gf���7Ӵ�u|'K.�oP
P���F�.��o��9B<~. ����[����<٭�$�����{1�A��.�bKx�L������'�u8n5���e ,]�H����V��Ww�$�C�el��|zys��K�i-�q�ݬbk,wnG��;�� ~�e�r͒���~'1`V⦫�-*[��L�K�'2@����仪��n���2�N� �ƶ�G���i/U��'E�@�`H��;J�������+J�n#���6ڴ�ĹG���N�G�'�Z!�����Wi��NJ�@���A��Z|�[��$q}i�ҷ�QbtTEC$��m��mo�L�D��;�%g�?w��ŷ���ovH0��a�5��*�ؒ��l͛�S�iy�r�O7����%L]��%���hk ����>v1�HB������d\�(eoIx�>3�6BS%���(
��f$�h�����eԎ���H���`ݶf{�Fo�Y���@00uMb�z-��XI$&�gf���7Ӵ�u|'K.�oP
P���F�.��o��9B<~. ����[����<٭�$�����{1�A��.�bKx�L������'�u8n5���e ,]�H����V��Ww�$�C�el��|zys��K�i-�q�ݬbk,wnG��;�� ~�e�r͒���~'1`V⦫�-*[��L�K�'2@����仪��n���2�N� �ƶ�G���i/U��'E�@�`H��;J�������+J�n#���6ڴ�ĹG���N�G�'�Z!�����Wi��NJ�@���A��Z|�[��$q}i�ҷ�QbtTEC$��m��mo�L�D��;�%g�?w��ŷ���ovH0��a�5��*�ؒ��l͛�S�iy�r�O7����%L]��%���hk ����>v1�HB������d\�(eoIx�>3�6BS%���(
��f$�h�����eԎ���H���`ݶf{�Fo�Y���@00uMb�z-��XI$&�gf���7Ӵ�u|'K.�oP
P���F�.��o��9B<~. ����[����<٭�$�����{1�A��.�bKx�L������'�u8n5���e ,]�H����V��Ww�$�C�el��|zys��K�i-�q�ݬbk,wnG��;�� ~�e�r͒���~'1`V⦫�-*[��L�K�'2@����仪��n���2�N� �ƶ�G���i/U��'E�@�`H��;J�������+J�n#���6ڴ�ĹG���N�G�'�Z!�����Wi��NJ�@���A��Z|�[��$q}i�ҷ�QbtTEC$��m��mo�L�D��;�%g�?w��ŷ���ovH0��a�5��*�ؒ��l͛�S�iy�r�O7����%L]��%���hk ����>v1�HB������d\�(eoIx�>3�6BS%���(
��f$�h�����eԎ���H���`ݶf{�Fo�Y���@00uMb�z-��XI$&�gf���7Ӵ�u|'K.�oP
P���F�.��o��9B<~. ����[����<٭�$�����{1�A��.�bKx�L������'�u8n5���e ,]�H����V��Ww�$�C�el��|zys��K�i-�q�ݬbk,wnG��;�� ~�e�r͒���~'1`V⦫�-*[��L�K�'2@����仪��n���2�N� �ƶ�G���i/U��'E�@�`H��;J�������+J�n#���6ڴ�ĹG���N�G�'�Z!�����Wi��NJ�@���A��Z|�[��$q}i�ҷ�QbtTEC$��m��mo�L�D��;�%g�?w��ŷ���ovH0��a�5��*�ؒ��l͛�S�iy�r�O7����%L]��%���hk ����>v1�HB������d\�(eoIx�>3�6BS%���(
��f$�h�����eԎ���H���`ݶf{�Fo�Y���@00uMb�z-��XI$&�gf���7Ӵ�u|'K.�oP
P���F�.��o��9B<~. ����[����<٭�$�����{1�A��.�bKx�L������'�u8n5���e ,]�H����V��Ww�$�C�el��|zys��K�i-�q�ݬbk,wnG��;�� ~�e�r͒���~'1`V⦫�-*[��L�K�'2@����仪��n���2�N� �ƶ�G���i/U��'E�@�`H��;J�������+J�n#���6ڴ�ĹG���N�G�'�Z!�����Wi��NJ�@���A��Z|�[��$q}i�ҷ�QbtTEC$��m��mo�L�D��;�%g�?w��ŷ���ovH0��a�5��*�ؒ��l͛�S�iy�r�O7����%L]��%���hk ����>v1�HB������d\�(eoIx�>3�6BS%���(
��f$�h�����eԎ���H���`ݶf{�Fo�Y���@00uMb�z-��XI$&�gf���7Ӵ�u|'K.�oP
P���F�.��o��9B<~. ����[����<٭�$�����{1�A��.�bKx�L������'�u8n5���e ,]�H����V��Ww�$�C�el��|zys��K�i-�q�ݬbk,wnG��;�� ~�e�r͒���~'1`V⦫�-*[��L�K�'2@����仪��n���2�N� �ƶ�G���i/U��'E�@�`H��;J�������+J�n#���6ڴ�ĹG���N�G�'�Z!�����Wi��NJ�@���A��Z|�[��$q}i�ҷ�QbtTEC$��m��mo�L�D��;�%g�?w��ŷ���ovH0��a�5��*�ؒ��l͛�S�iy�r�O7����%L]��%���hk ����>v1�HB������d\�(eoIx�>3�6BS%���(
��f$�h�����eԎ���H���`ݶf{�Fo�Y���@00uMb�z-��XI$&�gf���7Ӵ�u|'K.�oP
P���F�.��o��9B